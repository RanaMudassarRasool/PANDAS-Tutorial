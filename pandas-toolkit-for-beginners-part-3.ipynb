{
 "cells": [
  {
   "cell_type": "markdown",
   "id": "d7002458",
   "metadata": {
    "papermill": {
     "duration": 0.013933,
     "end_time": "2025-02-28T13:35:26.166021",
     "exception": false,
     "start_time": "2025-02-28T13:35:26.152088",
     "status": "completed"
    },
    "tags": []
   },
   "source": [
    "<div style=\"color:white;background-color:GREEN ;padding:3%;border-radius:150px 150px;font-size:2.5em;text-align:center\">Pandas toolkit Part 3</div>"
   ]
  },
  {
   "cell_type": "code",
   "execution_count": 1,
   "id": "39722635",
   "metadata": {
    "execution": {
     "iopub.execute_input": "2025-02-28T13:35:26.194206Z",
     "iopub.status.busy": "2025-02-28T13:35:26.193927Z",
     "iopub.status.idle": "2025-02-28T13:35:26.908265Z",
     "shell.execute_reply": "2025-02-28T13:35:26.907491Z"
    },
    "papermill": {
     "duration": 0.730429,
     "end_time": "2025-02-28T13:35:26.909742",
     "exception": false,
     "start_time": "2025-02-28T13:35:26.179313",
     "status": "completed"
    },
    "tags": []
   },
   "outputs": [],
   "source": [
    "import pandas as pd \n",
    "import numpy as np "
   ]
  },
  {
   "cell_type": "code",
   "execution_count": 2,
   "id": "71d95b18",
   "metadata": {
    "execution": {
     "iopub.execute_input": "2025-02-28T13:35:26.936953Z",
     "iopub.status.busy": "2025-02-28T13:35:26.936501Z",
     "iopub.status.idle": "2025-02-28T13:35:26.966820Z",
     "shell.execute_reply": "2025-02-28T13:35:26.966083Z"
    },
    "papermill": {
     "duration": 0.044943,
     "end_time": "2025-02-28T13:35:26.968045",
     "exception": false,
     "start_time": "2025-02-28T13:35:26.923102",
     "status": "completed"
    },
    "tags": []
   },
   "outputs": [
    {
     "data": {
      "text/html": [
       "<div>\n",
       "<style scoped>\n",
       "    .dataframe tbody tr th:only-of-type {\n",
       "        vertical-align: middle;\n",
       "    }\n",
       "\n",
       "    .dataframe tbody tr th {\n",
       "        vertical-align: top;\n",
       "    }\n",
       "\n",
       "    .dataframe thead th {\n",
       "        text-align: right;\n",
       "    }\n",
       "</style>\n",
       "<table border=\"1\" class=\"dataframe\">\n",
       "  <thead>\n",
       "    <tr style=\"text-align: right;\">\n",
       "      <th></th>\n",
       "      <th>b</th>\n",
       "    </tr>\n",
       "  </thead>\n",
       "  <tbody>\n",
       "    <tr>\n",
       "      <th>count</th>\n",
       "      <td>4.000000</td>\n",
       "    </tr>\n",
       "    <tr>\n",
       "      <th>mean</th>\n",
       "      <td>1.500000</td>\n",
       "    </tr>\n",
       "    <tr>\n",
       "      <th>std</th>\n",
       "      <td>1.290994</td>\n",
       "    </tr>\n",
       "    <tr>\n",
       "      <th>min</th>\n",
       "      <td>0.000000</td>\n",
       "    </tr>\n",
       "    <tr>\n",
       "      <th>25%</th>\n",
       "      <td>0.750000</td>\n",
       "    </tr>\n",
       "    <tr>\n",
       "      <th>50%</th>\n",
       "      <td>1.500000</td>\n",
       "    </tr>\n",
       "    <tr>\n",
       "      <th>75%</th>\n",
       "      <td>2.250000</td>\n",
       "    </tr>\n",
       "    <tr>\n",
       "      <th>max</th>\n",
       "      <td>3.000000</td>\n",
       "    </tr>\n",
       "  </tbody>\n",
       "</table>\n",
       "</div>"
      ],
      "text/plain": [
       "              b\n",
       "count  4.000000\n",
       "mean   1.500000\n",
       "std    1.290994\n",
       "min    0.000000\n",
       "25%    0.750000\n",
       "50%    1.500000\n",
       "75%    2.250000\n",
       "max    3.000000"
      ]
     },
     "execution_count": 2,
     "metadata": {},
     "output_type": "execute_result"
    }
   ],
   "source": [
    "frame = pd.DataFrame({\"a\": [\"Yes\", \"Yes\", \"No\", \"No\"], \"b\": range(4)})\n",
    "frame.describe()"
   ]
  },
  {
   "cell_type": "code",
   "execution_count": 3,
   "id": "c0844ca7",
   "metadata": {
    "execution": {
     "iopub.execute_input": "2025-02-28T13:35:26.998094Z",
     "iopub.status.busy": "2025-02-28T13:35:26.997774Z",
     "iopub.status.idle": "2025-02-28T13:35:27.010539Z",
     "shell.execute_reply": "2025-02-28T13:35:27.009639Z"
    },
    "papermill": {
     "duration": 0.030073,
     "end_time": "2025-02-28T13:35:27.011976",
     "exception": false,
     "start_time": "2025-02-28T13:35:26.981903",
     "status": "completed"
    },
    "tags": []
   },
   "outputs": [
    {
     "data": {
      "text/html": [
       "<div>\n",
       "<style scoped>\n",
       "    .dataframe tbody tr th:only-of-type {\n",
       "        vertical-align: middle;\n",
       "    }\n",
       "\n",
       "    .dataframe tbody tr th {\n",
       "        vertical-align: top;\n",
       "    }\n",
       "\n",
       "    .dataframe thead th {\n",
       "        text-align: right;\n",
       "    }\n",
       "</style>\n",
       "<table border=\"1\" class=\"dataframe\">\n",
       "  <thead>\n",
       "    <tr style=\"text-align: right;\">\n",
       "      <th></th>\n",
       "      <th>a</th>\n",
       "    </tr>\n",
       "  </thead>\n",
       "  <tbody>\n",
       "    <tr>\n",
       "      <th>count</th>\n",
       "      <td>4</td>\n",
       "    </tr>\n",
       "    <tr>\n",
       "      <th>unique</th>\n",
       "      <td>2</td>\n",
       "    </tr>\n",
       "    <tr>\n",
       "      <th>top</th>\n",
       "      <td>Yes</td>\n",
       "    </tr>\n",
       "    <tr>\n",
       "      <th>freq</th>\n",
       "      <td>2</td>\n",
       "    </tr>\n",
       "  </tbody>\n",
       "</table>\n",
       "</div>"
      ],
      "text/plain": [
       "          a\n",
       "count     4\n",
       "unique    2\n",
       "top     Yes\n",
       "freq      2"
      ]
     },
     "execution_count": 3,
     "metadata": {},
     "output_type": "execute_result"
    }
   ],
   "source": [
    "frame.describe(include=[\"object\"])"
   ]
  },
  {
   "cell_type": "code",
   "execution_count": 4,
   "id": "e786f840",
   "metadata": {
    "execution": {
     "iopub.execute_input": "2025-02-28T13:35:27.040568Z",
     "iopub.status.busy": "2025-02-28T13:35:27.040301Z",
     "iopub.status.idle": "2025-02-28T13:35:27.048777Z",
     "shell.execute_reply": "2025-02-28T13:35:27.048141Z"
    },
    "papermill": {
     "duration": 0.024418,
     "end_time": "2025-02-28T13:35:27.050054",
     "exception": false,
     "start_time": "2025-02-28T13:35:27.025636",
     "status": "completed"
    },
    "tags": []
   },
   "outputs": [
    {
     "data": {
      "text/html": [
       "<div>\n",
       "<style scoped>\n",
       "    .dataframe tbody tr th:only-of-type {\n",
       "        vertical-align: middle;\n",
       "    }\n",
       "\n",
       "    .dataframe tbody tr th {\n",
       "        vertical-align: top;\n",
       "    }\n",
       "\n",
       "    .dataframe thead th {\n",
       "        text-align: right;\n",
       "    }\n",
       "</style>\n",
       "<table border=\"1\" class=\"dataframe\">\n",
       "  <thead>\n",
       "    <tr style=\"text-align: right;\">\n",
       "      <th></th>\n",
       "      <th>b</th>\n",
       "    </tr>\n",
       "  </thead>\n",
       "  <tbody>\n",
       "    <tr>\n",
       "      <th>count</th>\n",
       "      <td>4.000000</td>\n",
       "    </tr>\n",
       "    <tr>\n",
       "      <th>mean</th>\n",
       "      <td>1.500000</td>\n",
       "    </tr>\n",
       "    <tr>\n",
       "      <th>std</th>\n",
       "      <td>1.290994</td>\n",
       "    </tr>\n",
       "    <tr>\n",
       "      <th>min</th>\n",
       "      <td>0.000000</td>\n",
       "    </tr>\n",
       "    <tr>\n",
       "      <th>25%</th>\n",
       "      <td>0.750000</td>\n",
       "    </tr>\n",
       "    <tr>\n",
       "      <th>50%</th>\n",
       "      <td>1.500000</td>\n",
       "    </tr>\n",
       "    <tr>\n",
       "      <th>75%</th>\n",
       "      <td>2.250000</td>\n",
       "    </tr>\n",
       "    <tr>\n",
       "      <th>max</th>\n",
       "      <td>3.000000</td>\n",
       "    </tr>\n",
       "  </tbody>\n",
       "</table>\n",
       "</div>"
      ],
      "text/plain": [
       "              b\n",
       "count  4.000000\n",
       "mean   1.500000\n",
       "std    1.290994\n",
       "min    0.000000\n",
       "25%    0.750000\n",
       "50%    1.500000\n",
       "75%    2.250000\n",
       "max    3.000000"
      ]
     },
     "execution_count": 4,
     "metadata": {},
     "output_type": "execute_result"
    }
   ],
   "source": [
    "frame.describe(include=[\"number\"])"
   ]
  },
  {
   "cell_type": "code",
   "execution_count": 5,
   "id": "22a9c79d",
   "metadata": {
    "execution": {
     "iopub.execute_input": "2025-02-28T13:35:27.081973Z",
     "iopub.status.busy": "2025-02-28T13:35:27.081666Z",
     "iopub.status.idle": "2025-02-28T13:35:27.088119Z",
     "shell.execute_reply": "2025-02-28T13:35:27.087047Z"
    },
    "papermill": {
     "duration": 0.026176,
     "end_time": "2025-02-28T13:35:27.090221",
     "exception": false,
     "start_time": "2025-02-28T13:35:27.064045",
     "status": "completed"
    },
    "tags": []
   },
   "outputs": [
    {
     "data": {
      "text/plain": [
       "0   -0.413573\n",
       "1   -1.144454\n",
       "2    1.203706\n",
       "3   -1.752942\n",
       "4    0.870870\n",
       "dtype: float64"
      ]
     },
     "execution_count": 5,
     "metadata": {},
     "output_type": "execute_result"
    }
   ],
   "source": [
    "s1 = pd.Series(np.random.randn(5))\n",
    "s1"
   ]
  },
  {
   "cell_type": "code",
   "execution_count": 6,
   "id": "345e7acc",
   "metadata": {
    "execution": {
     "iopub.execute_input": "2025-02-28T13:35:27.127824Z",
     "iopub.status.busy": "2025-02-28T13:35:27.127505Z",
     "iopub.status.idle": "2025-02-28T13:35:27.132757Z",
     "shell.execute_reply": "2025-02-28T13:35:27.131927Z"
    },
    "papermill": {
     "duration": 0.023115,
     "end_time": "2025-02-28T13:35:27.134347",
     "exception": false,
     "start_time": "2025-02-28T13:35:27.111232",
     "status": "completed"
    },
    "tags": []
   },
   "outputs": [
    {
     "data": {
      "text/plain": [
       "(3, 2)"
      ]
     },
     "execution_count": 6,
     "metadata": {},
     "output_type": "execute_result"
    }
   ],
   "source": [
    "s1.idxmin(), s1.idxmax()"
   ]
  },
  {
   "cell_type": "code",
   "execution_count": 7,
   "id": "a38ae78b",
   "metadata": {
    "execution": {
     "iopub.execute_input": "2025-02-28T13:35:27.165718Z",
     "iopub.status.busy": "2025-02-28T13:35:27.165407Z",
     "iopub.status.idle": "2025-02-28T13:35:27.173435Z",
     "shell.execute_reply": "2025-02-28T13:35:27.172645Z"
    },
    "papermill": {
     "duration": 0.02318,
     "end_time": "2025-02-28T13:35:27.174601",
     "exception": false,
     "start_time": "2025-02-28T13:35:27.151421",
     "status": "completed"
    },
    "tags": []
   },
   "outputs": [
    {
     "data": {
      "text/html": [
       "<div>\n",
       "<style scoped>\n",
       "    .dataframe tbody tr th:only-of-type {\n",
       "        vertical-align: middle;\n",
       "    }\n",
       "\n",
       "    .dataframe tbody tr th {\n",
       "        vertical-align: top;\n",
       "    }\n",
       "\n",
       "    .dataframe thead th {\n",
       "        text-align: right;\n",
       "    }\n",
       "</style>\n",
       "<table border=\"1\" class=\"dataframe\">\n",
       "  <thead>\n",
       "    <tr style=\"text-align: right;\">\n",
       "      <th></th>\n",
       "      <th>A</th>\n",
       "      <th>B</th>\n",
       "      <th>C</th>\n",
       "    </tr>\n",
       "  </thead>\n",
       "  <tbody>\n",
       "    <tr>\n",
       "      <th>0</th>\n",
       "      <td>0.365765</td>\n",
       "      <td>-0.613480</td>\n",
       "      <td>0.776063</td>\n",
       "    </tr>\n",
       "    <tr>\n",
       "      <th>1</th>\n",
       "      <td>0.600188</td>\n",
       "      <td>-0.948364</td>\n",
       "      <td>0.385314</td>\n",
       "    </tr>\n",
       "    <tr>\n",
       "      <th>2</th>\n",
       "      <td>0.064208</td>\n",
       "      <td>0.503004</td>\n",
       "      <td>0.701378</td>\n",
       "    </tr>\n",
       "    <tr>\n",
       "      <th>3</th>\n",
       "      <td>0.017740</td>\n",
       "      <td>-3.149624</td>\n",
       "      <td>-0.179682</td>\n",
       "    </tr>\n",
       "    <tr>\n",
       "      <th>4</th>\n",
       "      <td>-1.650215</td>\n",
       "      <td>0.095637</td>\n",
       "      <td>-1.973293</td>\n",
       "    </tr>\n",
       "  </tbody>\n",
       "</table>\n",
       "</div>"
      ],
      "text/plain": [
       "          A         B         C\n",
       "0  0.365765 -0.613480  0.776063\n",
       "1  0.600188 -0.948364  0.385314\n",
       "2  0.064208  0.503004  0.701378\n",
       "3  0.017740 -3.149624 -0.179682\n",
       "4 -1.650215  0.095637 -1.973293"
      ]
     },
     "execution_count": 7,
     "metadata": {},
     "output_type": "execute_result"
    }
   ],
   "source": [
    "df1 = pd.DataFrame(np.random.randn(5, 3), columns=[\"A\", \"B\", \"C\"])\n",
    "df1"
   ]
  },
  {
   "cell_type": "code",
   "execution_count": 8,
   "id": "b6cdd575",
   "metadata": {
    "execution": {
     "iopub.execute_input": "2025-02-28T13:35:27.202546Z",
     "iopub.status.busy": "2025-02-28T13:35:27.202260Z",
     "iopub.status.idle": "2025-02-28T13:35:27.210557Z",
     "shell.execute_reply": "2025-02-28T13:35:27.209833Z"
    },
    "papermill": {
     "duration": 0.023242,
     "end_time": "2025-02-28T13:35:27.211744",
     "exception": false,
     "start_time": "2025-02-28T13:35:27.188502",
     "status": "completed"
    },
    "tags": []
   },
   "outputs": [
    {
     "data": {
      "text/plain": [
       "A    4\n",
       "B    3\n",
       "C    4\n",
       "dtype: int64"
      ]
     },
     "execution_count": 8,
     "metadata": {},
     "output_type": "execute_result"
    }
   ],
   "source": [
    "df1.idxmin(axis=0)"
   ]
  },
  {
   "cell_type": "code",
   "execution_count": 9,
   "id": "40e8e772",
   "metadata": {
    "execution": {
     "iopub.execute_input": "2025-02-28T13:35:27.239643Z",
     "iopub.status.busy": "2025-02-28T13:35:27.239435Z",
     "iopub.status.idle": "2025-02-28T13:35:27.245499Z",
     "shell.execute_reply": "2025-02-28T13:35:27.244706Z"
    },
    "papermill": {
     "duration": 0.02059,
     "end_time": "2025-02-28T13:35:27.246571",
     "exception": false,
     "start_time": "2025-02-28T13:35:27.225981",
     "status": "completed"
    },
    "tags": []
   },
   "outputs": [
    {
     "data": {
      "text/plain": [
       "0    C\n",
       "1    A\n",
       "2    C\n",
       "3    A\n",
       "4    B\n",
       "dtype: object"
      ]
     },
     "execution_count": 9,
     "metadata": {},
     "output_type": "execute_result"
    }
   ],
   "source": [
    "df1.idxmax(axis=1)"
   ]
  },
  {
   "cell_type": "code",
   "execution_count": 10,
   "id": "e3bab8c1",
   "metadata": {
    "execution": {
     "iopub.execute_input": "2025-02-28T13:35:27.274137Z",
     "iopub.status.busy": "2025-02-28T13:35:27.273811Z",
     "iopub.status.idle": "2025-02-28T13:35:27.284446Z",
     "shell.execute_reply": "2025-02-28T13:35:27.283430Z"
    },
    "papermill": {
     "duration": 0.025955,
     "end_time": "2025-02-28T13:35:27.285943",
     "exception": false,
     "start_time": "2025-02-28T13:35:27.259988",
     "status": "completed"
    },
    "tags": []
   },
   "outputs": [
    {
     "name": "stderr",
     "output_type": "stream",
     "text": [
      "/usr/local/lib/python3.10/dist-packages/pandas/io/formats/format.py:1458: RuntimeWarning: invalid value encountered in greater\n",
      "  has_large_values = (abs_vals > 1e6).any()\n",
      "/usr/local/lib/python3.10/dist-packages/pandas/io/formats/format.py:1459: RuntimeWarning: invalid value encountered in less\n",
      "  has_small_values = ((abs_vals < 10 ** (-self.digits)) & (abs_vals > 0)).any()\n",
      "/usr/local/lib/python3.10/dist-packages/pandas/io/formats/format.py:1459: RuntimeWarning: invalid value encountered in greater\n",
      "  has_small_values = ((abs_vals < 10 ** (-self.digits)) & (abs_vals > 0)).any()\n"
     ]
    },
    {
     "data": {
      "text/html": [
       "<div>\n",
       "<style scoped>\n",
       "    .dataframe tbody tr th:only-of-type {\n",
       "        vertical-align: middle;\n",
       "    }\n",
       "\n",
       "    .dataframe tbody tr th {\n",
       "        vertical-align: top;\n",
       "    }\n",
       "\n",
       "    .dataframe thead th {\n",
       "        text-align: right;\n",
       "    }\n",
       "</style>\n",
       "<table border=\"1\" class=\"dataframe\">\n",
       "  <thead>\n",
       "    <tr style=\"text-align: right;\">\n",
       "      <th></th>\n",
       "      <th>A</th>\n",
       "    </tr>\n",
       "  </thead>\n",
       "  <tbody>\n",
       "    <tr>\n",
       "      <th>e</th>\n",
       "      <td>2.0</td>\n",
       "    </tr>\n",
       "    <tr>\n",
       "      <th>d</th>\n",
       "      <td>1.0</td>\n",
       "    </tr>\n",
       "    <tr>\n",
       "      <th>c</th>\n",
       "      <td>1.0</td>\n",
       "    </tr>\n",
       "    <tr>\n",
       "      <th>b</th>\n",
       "      <td>3.0</td>\n",
       "    </tr>\n",
       "    <tr>\n",
       "      <th>a</th>\n",
       "      <td>NaN</td>\n",
       "    </tr>\n",
       "  </tbody>\n",
       "</table>\n",
       "</div>"
      ],
      "text/plain": [
       "     A\n",
       "e  2.0\n",
       "d  1.0\n",
       "c  1.0\n",
       "b  3.0\n",
       "a  NaN"
      ]
     },
     "execution_count": 10,
     "metadata": {},
     "output_type": "execute_result"
    }
   ],
   "source": [
    "df3 = pd.DataFrame([2, 1, 1, 3, np.nan], columns=[\"A\"], index=list(\"edcba\"))\n",
    "df3"
   ]
  },
  {
   "cell_type": "code",
   "execution_count": 11,
   "id": "86b46bbd",
   "metadata": {
    "execution": {
     "iopub.execute_input": "2025-02-28T13:35:27.314982Z",
     "iopub.status.busy": "2025-02-28T13:35:27.314678Z",
     "iopub.status.idle": "2025-02-28T13:35:27.319467Z",
     "shell.execute_reply": "2025-02-28T13:35:27.318739Z"
    },
    "papermill": {
     "duration": 0.020498,
     "end_time": "2025-02-28T13:35:27.320988",
     "exception": false,
     "start_time": "2025-02-28T13:35:27.300490",
     "status": "completed"
    },
    "tags": []
   },
   "outputs": [
    {
     "data": {
      "text/plain": [
       "array([5, 6, 3, 1, 2, 0, 4, 1, 2, 0, 2, 5, 2, 4, 3, 1, 4, 0, 1, 0, 0, 5,\n",
       "       3, 3, 2, 2, 6, 3, 0, 6, 5, 3, 1, 2, 0, 4, 2, 1, 1, 4, 0, 6, 2, 0,\n",
       "       4, 3, 4, 6, 0, 3])"
      ]
     },
     "execution_count": 11,
     "metadata": {},
     "output_type": "execute_result"
    }
   ],
   "source": [
    "data = np.random.randint(0, 7, size=50)\n",
    "data"
   ]
  },
  {
   "cell_type": "code",
   "execution_count": 12,
   "id": "519d96b5",
   "metadata": {
    "execution": {
     "iopub.execute_input": "2025-02-28T13:35:27.350139Z",
     "iopub.status.busy": "2025-02-28T13:35:27.349758Z",
     "iopub.status.idle": "2025-02-28T13:35:27.357167Z",
     "shell.execute_reply": "2025-02-28T13:35:27.356444Z"
    },
    "papermill": {
     "duration": 0.022716,
     "end_time": "2025-02-28T13:35:27.358210",
     "exception": false,
     "start_time": "2025-02-28T13:35:27.335494",
     "status": "completed"
    },
    "tags": []
   },
   "outputs": [
    {
     "data": {
      "text/plain": [
       "0    10\n",
       "2     9\n",
       "3     8\n",
       "1     7\n",
       "4     7\n",
       "6     5\n",
       "5     4\n",
       "Name: count, dtype: int64"
      ]
     },
     "execution_count": 12,
     "metadata": {},
     "output_type": "execute_result"
    }
   ],
   "source": [
    "s = pd.Series(data)\n",
    "s.value_counts()"
   ]
  },
  {
   "cell_type": "code",
   "execution_count": 13,
   "id": "81fe4fba",
   "metadata": {
    "execution": {
     "iopub.execute_input": "2025-02-28T13:35:27.390139Z",
     "iopub.status.busy": "2025-02-28T13:35:27.389845Z",
     "iopub.status.idle": "2025-02-28T13:35:27.400162Z",
     "shell.execute_reply": "2025-02-28T13:35:27.399412Z"
    },
    "papermill": {
     "duration": 0.027352,
     "end_time": "2025-02-28T13:35:27.401295",
     "exception": false,
     "start_time": "2025-02-28T13:35:27.373943",
     "status": "completed"
    },
    "tags": []
   },
   "outputs": [
    {
     "data": {
      "text/plain": [
       "a  b\n",
       "1  x    1\n",
       "2  x    1\n",
       "3  y    1\n",
       "4  y    1\n",
       "Name: count, dtype: int64"
      ]
     },
     "execution_count": 13,
     "metadata": {},
     "output_type": "execute_result"
    }
   ],
   "source": [
    "data = {\"a\": [1, 2, 3, 4], \"b\": [\"x\", \"x\", \"y\", \"y\"]}\n",
    "frame = pd.DataFrame(data)\n",
    "frame.value_counts()"
   ]
  },
  {
   "cell_type": "code",
   "execution_count": 14,
   "id": "18a4dbf2",
   "metadata": {
    "execution": {
     "iopub.execute_input": "2025-02-28T13:35:27.430728Z",
     "iopub.status.busy": "2025-02-28T13:35:27.430480Z",
     "iopub.status.idle": "2025-02-28T13:35:27.436073Z",
     "shell.execute_reply": "2025-02-28T13:35:27.435296Z"
    },
    "papermill": {
     "duration": 0.021529,
     "end_time": "2025-02-28T13:35:27.437550",
     "exception": false,
     "start_time": "2025-02-28T13:35:27.416021",
     "status": "completed"
    },
    "tags": []
   },
   "outputs": [
    {
     "data": {
      "text/plain": [
       "0    3\n",
       "1    7\n",
       "dtype: int64"
      ]
     },
     "execution_count": 14,
     "metadata": {},
     "output_type": "execute_result"
    }
   ],
   "source": [
    "s5 = pd.Series([1, 1, 3, 3, 3, 5, 5, 7, 7, 7])\n",
    "s5.mode()"
   ]
  },
  {
   "cell_type": "code",
   "execution_count": 15,
   "id": "0e642a07",
   "metadata": {
    "execution": {
     "iopub.execute_input": "2025-02-28T13:35:27.500128Z",
     "iopub.status.busy": "2025-02-28T13:35:27.499769Z",
     "iopub.status.idle": "2025-02-28T13:35:27.508161Z",
     "shell.execute_reply": "2025-02-28T13:35:27.507364Z"
    },
    "papermill": {
     "duration": 0.023988,
     "end_time": "2025-02-28T13:35:27.509231",
     "exception": false,
     "start_time": "2025-02-28T13:35:27.485243",
     "status": "completed"
    },
    "tags": []
   },
   "outputs": [
    {
     "data": {
      "text/html": [
       "<div>\n",
       "<style scoped>\n",
       "    .dataframe tbody tr th:only-of-type {\n",
       "        vertical-align: middle;\n",
       "    }\n",
       "\n",
       "    .dataframe tbody tr th {\n",
       "        vertical-align: top;\n",
       "    }\n",
       "\n",
       "    .dataframe thead th {\n",
       "        text-align: right;\n",
       "    }\n",
       "</style>\n",
       "<table border=\"1\" class=\"dataframe\">\n",
       "  <thead>\n",
       "    <tr style=\"text-align: right;\">\n",
       "      <th></th>\n",
       "      <th>A</th>\n",
       "      <th>B</th>\n",
       "    </tr>\n",
       "  </thead>\n",
       "  <tbody>\n",
       "    <tr>\n",
       "      <th>0</th>\n",
       "      <td>5</td>\n",
       "      <td>13</td>\n",
       "    </tr>\n",
       "  </tbody>\n",
       "</table>\n",
       "</div>"
      ],
      "text/plain": [
       "   A   B\n",
       "0  5  13"
      ]
     },
     "execution_count": 15,
     "metadata": {},
     "output_type": "execute_result"
    }
   ],
   "source": [
    "df5 = pd.DataFrame({\n",
    "\"A\": np.random.randint(0, 7, size=50),\n",
    "\"B\": np.random.randint(-10, 15, size=50),\n",
    "})\n",
    "df5.mode()"
   ]
  },
  {
   "cell_type": "code",
   "execution_count": 16,
   "id": "4f826106",
   "metadata": {
    "execution": {
     "iopub.execute_input": "2025-02-28T13:35:27.537139Z",
     "iopub.status.busy": "2025-02-28T13:35:27.536813Z",
     "iopub.status.idle": "2025-02-28T13:35:27.552768Z",
     "shell.execute_reply": "2025-02-28T13:35:27.552061Z"
    },
    "papermill": {
     "duration": 0.031125,
     "end_time": "2025-02-28T13:35:27.553933",
     "exception": false,
     "start_time": "2025-02-28T13:35:27.522808",
     "status": "completed"
    },
    "tags": []
   },
   "outputs": [
    {
     "data": {
      "text/plain": [
       "[(0.704, 1.445], (-1.523, -0.779], (-0.779, -0.0377], (-1.523, -0.779], (-0.779, -0.0377], ..., (-1.523, -0.779], (-0.779, -0.0377], (-0.779, -0.0377], (-1.523, -0.779], (-1.523, -0.779]]\n",
       "Length: 20\n",
       "Categories (4, interval[float64, right]): [(-1.523, -0.779] < (-0.779, -0.0377] < (-0.0377, 0.704] < (0.704, 1.445]]"
      ]
     },
     "execution_count": 16,
     "metadata": {},
     "output_type": "execute_result"
    }
   ],
   "source": [
    "arr = np.random.randn(20)\n",
    "factor = pd.cut(arr, 4)\n",
    "factor"
   ]
  },
  {
   "cell_type": "code",
   "execution_count": 17,
   "id": "622680d6",
   "metadata": {
    "execution": {
     "iopub.execute_input": "2025-02-28T13:35:27.582562Z",
     "iopub.status.busy": "2025-02-28T13:35:27.582292Z",
     "iopub.status.idle": "2025-02-28T13:35:27.590379Z",
     "shell.execute_reply": "2025-02-28T13:35:27.589665Z"
    },
    "papermill": {
     "duration": 0.023359,
     "end_time": "2025-02-28T13:35:27.591365",
     "exception": false,
     "start_time": "2025-02-28T13:35:27.568006",
     "status": "completed"
    },
    "tags": []
   },
   "outputs": [
    {
     "data": {
      "text/plain": [
       "[(1, 5], (-5, -1], (-1, 0], (-5, -1], (-1, 0], ..., (-5, -1], (-1, 0], (-1, 0], (-5, -1], (-5, -1]]\n",
       "Length: 20\n",
       "Categories (4, interval[int64, right]): [(-5, -1] < (-1, 0] < (0, 1] < (1, 5]]"
      ]
     },
     "execution_count": 17,
     "metadata": {},
     "output_type": "execute_result"
    }
   ],
   "source": [
    "factor = pd.cut(arr, [-5, -1, 0, 1, 5])\n",
    "factor"
   ]
  },
  {
   "cell_type": "code",
   "execution_count": 18,
   "id": "3db1f584",
   "metadata": {
    "execution": {
     "iopub.execute_input": "2025-02-28T13:35:27.619805Z",
     "iopub.status.busy": "2025-02-28T13:35:27.619523Z",
     "iopub.status.idle": "2025-02-28T13:35:27.628266Z",
     "shell.execute_reply": "2025-02-28T13:35:27.627348Z"
    },
    "papermill": {
     "duration": 0.024788,
     "end_time": "2025-02-28T13:35:27.630017",
     "exception": false,
     "start_time": "2025-02-28T13:35:27.605229",
     "status": "completed"
    },
    "tags": []
   },
   "outputs": [
    {
     "data": {
      "text/plain": [
       "[(0.806, 2.323], (0.806, 2.323], (0.806, 2.323], (-1.591, -0.603], (-0.603, 0.0624], ..., (0.806, 2.323], (-1.591, -0.603], (0.0624, 0.806], (0.0624, 0.806], (-0.603, 0.0624]]\n",
       "Length: 30\n",
       "Categories (4, interval[float64, right]): [(-1.591, -0.603] < (-0.603, 0.0624] < (0.0624, 0.806] < (0.806, 2.323]]"
      ]
     },
     "execution_count": 18,
     "metadata": {},
     "output_type": "execute_result"
    }
   ],
   "source": [
    "arr = np.random.randn(30)\n",
    "factor = pd.qcut(arr, [0, 0.25, 0.5, 0.75, 1])\n",
    "factor"
   ]
  },
  {
   "cell_type": "code",
   "execution_count": 19,
   "id": "4b7aa814",
   "metadata": {
    "execution": {
     "iopub.execute_input": "2025-02-28T13:35:27.658999Z",
     "iopub.status.busy": "2025-02-28T13:35:27.658767Z",
     "iopub.status.idle": "2025-02-28T13:35:27.664790Z",
     "shell.execute_reply": "2025-02-28T13:35:27.664127Z"
    },
    "papermill": {
     "duration": 0.021763,
     "end_time": "2025-02-28T13:35:27.666012",
     "exception": false,
     "start_time": "2025-02-28T13:35:27.644249",
     "status": "completed"
    },
    "tags": []
   },
   "outputs": [
    {
     "data": {
      "text/plain": [
       "[(0.0, inf], (-inf, 0.0], (-inf, 0.0], (0.0, inf], (-inf, 0.0], ..., (-inf, 0.0], (-inf, 0.0], (0.0, inf], (-inf, 0.0], (0.0, inf]]\n",
       "Length: 20\n",
       "Categories (2, interval[float64, right]): [(-inf, 0.0] < (0.0, inf]]"
      ]
     },
     "execution_count": 19,
     "metadata": {},
     "output_type": "execute_result"
    }
   ],
   "source": [
    "arr = np.random.randn(20)\n",
    "factor = pd.cut(arr, [-np.inf, 0, np.inf])\n",
    "factor"
   ]
  },
  {
   "cell_type": "code",
   "execution_count": 20,
   "id": "34a74a38",
   "metadata": {
    "execution": {
     "iopub.execute_input": "2025-02-28T13:35:27.695638Z",
     "iopub.status.busy": "2025-02-28T13:35:27.695294Z",
     "iopub.status.idle": "2025-02-28T13:35:27.704612Z",
     "shell.execute_reply": "2025-02-28T13:35:27.703793Z"
    },
    "papermill": {
     "duration": 0.025426,
     "end_time": "2025-02-28T13:35:27.705719",
     "exception": false,
     "start_time": "2025-02-28T13:35:27.680293",
     "status": "completed"
    },
    "tags": []
   },
   "outputs": [
    {
     "data": {
      "text/html": [
       "<div>\n",
       "<style scoped>\n",
       "    .dataframe tbody tr th:only-of-type {\n",
       "        vertical-align: middle;\n",
       "    }\n",
       "\n",
       "    .dataframe tbody tr th {\n",
       "        vertical-align: top;\n",
       "    }\n",
       "\n",
       "    .dataframe thead th {\n",
       "        text-align: right;\n",
       "    }\n",
       "</style>\n",
       "<table border=\"1\" class=\"dataframe\">\n",
       "  <thead>\n",
       "    <tr style=\"text-align: right;\">\n",
       "      <th></th>\n",
       "      <th>city_and_code</th>\n",
       "      <th>city_name</th>\n",
       "      <th>city_and_country</th>\n",
       "    </tr>\n",
       "  </thead>\n",
       "  <tbody>\n",
       "    <tr>\n",
       "      <th>0</th>\n",
       "      <td>Chicago, IL</td>\n",
       "      <td>Chicago</td>\n",
       "      <td>ChicagoUS</td>\n",
       "    </tr>\n",
       "  </tbody>\n",
       "</table>\n",
       "</div>"
      ],
      "text/plain": [
       "  city_and_code city_name city_and_country\n",
       "0   Chicago, IL   Chicago        ChicagoUS"
      ]
     },
     "execution_count": 20,
     "metadata": {},
     "output_type": "execute_result"
    }
   ],
   "source": [
    "def extract_city_name(df):\n",
    "    df[\"city_name\"] = df[\"city_and_code\"].str.split(\",\").str.get(0)\n",
    "    return df\n",
    "def add_country_name(df, country_name=None):\n",
    "    col = \"city_name\"\n",
    "    df[\"city_and_country\"] = df[col] + country_name\n",
    "    return df\n",
    "df_p = pd.DataFrame({\"city_and_code\": [\"Chicago, IL\"]})\n",
    "\n",
    "\n",
    "add_country_name(extract_city_name(df_p), country_name=\"US\")\n"
   ]
  },
  {
   "cell_type": "code",
   "execution_count": 21,
   "id": "d2560472",
   "metadata": {
    "execution": {
     "iopub.execute_input": "2025-02-28T13:35:27.737651Z",
     "iopub.status.busy": "2025-02-28T13:35:27.737362Z",
     "iopub.status.idle": "2025-02-28T13:35:27.744450Z",
     "shell.execute_reply": "2025-02-28T13:35:27.743818Z"
    },
    "papermill": {
     "duration": 0.024394,
     "end_time": "2025-02-28T13:35:27.745483",
     "exception": false,
     "start_time": "2025-02-28T13:35:27.721089",
     "status": "completed"
    },
    "tags": []
   },
   "outputs": [
    {
     "data": {
      "text/html": [
       "<div>\n",
       "<style scoped>\n",
       "    .dataframe tbody tr th:only-of-type {\n",
       "        vertical-align: middle;\n",
       "    }\n",
       "\n",
       "    .dataframe tbody tr th {\n",
       "        vertical-align: top;\n",
       "    }\n",
       "\n",
       "    .dataframe thead th {\n",
       "        text-align: right;\n",
       "    }\n",
       "</style>\n",
       "<table border=\"1\" class=\"dataframe\">\n",
       "  <thead>\n",
       "    <tr style=\"text-align: right;\">\n",
       "      <th></th>\n",
       "      <th>city_and_code</th>\n",
       "      <th>city_name</th>\n",
       "      <th>city_and_country</th>\n",
       "    </tr>\n",
       "  </thead>\n",
       "  <tbody>\n",
       "    <tr>\n",
       "      <th>0</th>\n",
       "      <td>Chicago, IL</td>\n",
       "      <td>Chicago</td>\n",
       "      <td>ChicagoUS</td>\n",
       "    </tr>\n",
       "  </tbody>\n",
       "</table>\n",
       "</div>"
      ],
      "text/plain": [
       "  city_and_code city_name city_and_country\n",
       "0   Chicago, IL   Chicago        ChicagoUS"
      ]
     },
     "execution_count": 21,
     "metadata": {},
     "output_type": "execute_result"
    }
   ],
   "source": [
    "df_p.pipe(extract_city_name).pipe(add_country_name, country_name=\"US\")"
   ]
  },
  {
   "cell_type": "code",
   "execution_count": 22,
   "id": "a539c9ef",
   "metadata": {
    "execution": {
     "iopub.execute_input": "2025-02-28T13:35:27.775711Z",
     "iopub.status.busy": "2025-02-28T13:35:27.775505Z",
     "iopub.status.idle": "2025-02-28T13:35:27.780601Z",
     "shell.execute_reply": "2025-02-28T13:35:27.779919Z"
    },
    "papermill": {
     "duration": 0.020961,
     "end_time": "2025-02-28T13:35:27.781711",
     "exception": false,
     "start_time": "2025-02-28T13:35:27.760750",
     "status": "completed"
    },
    "tags": []
   },
   "outputs": [
    {
     "data": {
      "text/plain": [
       "A    3.06\n",
       "B    2.56\n",
       "dtype: float64"
      ]
     },
     "execution_count": 22,
     "metadata": {},
     "output_type": "execute_result"
    }
   ],
   "source": [
    "df5.apply(np.mean)"
   ]
  },
  {
   "cell_type": "code",
   "execution_count": 23,
   "id": "5f849390",
   "metadata": {
    "execution": {
     "iopub.execute_input": "2025-02-28T13:35:27.812227Z",
     "iopub.status.busy": "2025-02-28T13:35:27.812005Z",
     "iopub.status.idle": "2025-02-28T13:35:27.819559Z",
     "shell.execute_reply": "2025-02-28T13:35:27.818912Z"
    },
    "papermill": {
     "duration": 0.023582,
     "end_time": "2025-02-28T13:35:27.820617",
     "exception": false,
     "start_time": "2025-02-28T13:35:27.797035",
     "status": "completed"
    },
    "tags": []
   },
   "outputs": [
    {
     "data": {
      "text/plain": [
       "0     2.0\n",
       "1    -0.5\n",
       "2     2.5\n",
       "3    -5.0\n",
       "4     9.5\n",
       "5     3.0\n",
       "6     9.0\n",
       "7    -3.0\n",
       "8    -2.0\n",
       "9     6.5\n",
       "10    7.0\n",
       "11   -4.5\n",
       "12    3.0\n",
       "13    2.0\n",
       "14    1.5\n",
       "15    0.0\n",
       "16    5.0\n",
       "17    9.0\n",
       "18    8.5\n",
       "19    0.5\n",
       "20   -2.5\n",
       "21    5.0\n",
       "22    2.0\n",
       "23   -0.5\n",
       "24    6.0\n",
       "25   -3.0\n",
       "26    1.5\n",
       "27    7.0\n",
       "28   -2.0\n",
       "29    7.0\n",
       "30   -3.5\n",
       "31    2.5\n",
       "32    3.0\n",
       "33    2.0\n",
       "34    7.5\n",
       "35    6.0\n",
       "36    5.5\n",
       "37   -3.5\n",
       "38    8.5\n",
       "39    5.5\n",
       "40    3.5\n",
       "41    3.5\n",
       "42    5.5\n",
       "43    3.0\n",
       "44    8.5\n",
       "45   -1.5\n",
       "46   -1.0\n",
       "47    6.0\n",
       "48    6.5\n",
       "49   -1.5\n",
       "dtype: float64"
      ]
     },
     "execution_count": 23,
     "metadata": {},
     "output_type": "execute_result"
    }
   ],
   "source": [
    "df5.apply(np.mean, axis=1)"
   ]
  },
  {
   "cell_type": "code",
   "execution_count": 24,
   "id": "bd0e7347",
   "metadata": {
    "execution": {
     "iopub.execute_input": "2025-02-28T13:35:27.853458Z",
     "iopub.status.busy": "2025-02-28T13:35:27.853262Z",
     "iopub.status.idle": "2025-02-28T13:35:27.859451Z",
     "shell.execute_reply": "2025-02-28T13:35:27.858532Z"
    },
    "papermill": {
     "duration": 0.023325,
     "end_time": "2025-02-28T13:35:27.860425",
     "exception": false,
     "start_time": "2025-02-28T13:35:27.837100",
     "status": "completed"
    },
    "tags": []
   },
   "outputs": [
    {
     "data": {
      "text/plain": [
       "A     6\n",
       "B    24\n",
       "dtype: int64"
      ]
     },
     "execution_count": 24,
     "metadata": {},
     "output_type": "execute_result"
    }
   ],
   "source": [
    "df5.apply(lambda x: x.max() - x.min())"
   ]
  },
  {
   "cell_type": "code",
   "execution_count": 25,
   "id": "63eb4b66",
   "metadata": {
    "execution": {
     "iopub.execute_input": "2025-02-28T13:35:27.891314Z",
     "iopub.status.busy": "2025-02-28T13:35:27.891041Z",
     "iopub.status.idle": "2025-02-28T13:35:27.898674Z",
     "shell.execute_reply": "2025-02-28T13:35:27.897907Z"
    },
    "papermill": {
     "duration": 0.023928,
     "end_time": "2025-02-28T13:35:27.899757",
     "exception": false,
     "start_time": "2025-02-28T13:35:27.875829",
     "status": "completed"
    },
    "tags": []
   },
   "outputs": [
    {
     "data": {
      "text/html": [
       "<div>\n",
       "<style scoped>\n",
       "    .dataframe tbody tr th:only-of-type {\n",
       "        vertical-align: middle;\n",
       "    }\n",
       "\n",
       "    .dataframe tbody tr th {\n",
       "        vertical-align: top;\n",
       "    }\n",
       "\n",
       "    .dataframe thead th {\n",
       "        text-align: right;\n",
       "    }\n",
       "</style>\n",
       "<table border=\"1\" class=\"dataframe\">\n",
       "  <thead>\n",
       "    <tr style=\"text-align: right;\">\n",
       "      <th></th>\n",
       "      <th>A</th>\n",
       "      <th>B</th>\n",
       "    </tr>\n",
       "  </thead>\n",
       "  <tbody>\n",
       "    <tr>\n",
       "      <th>0</th>\n",
       "      <td>2</td>\n",
       "      <td>2</td>\n",
       "    </tr>\n",
       "    <tr>\n",
       "      <th>1</th>\n",
       "      <td>4</td>\n",
       "      <td>-1</td>\n",
       "    </tr>\n",
       "    <tr>\n",
       "      <th>2</th>\n",
       "      <td>8</td>\n",
       "      <td>0</td>\n",
       "    </tr>\n",
       "    <tr>\n",
       "      <th>3</th>\n",
       "      <td>8</td>\n",
       "      <td>-10</td>\n",
       "    </tr>\n",
       "    <tr>\n",
       "      <th>4</th>\n",
       "      <td>13</td>\n",
       "      <td>4</td>\n",
       "    </tr>\n",
       "    <tr>\n",
       "      <th>5</th>\n",
       "      <td>17</td>\n",
       "      <td>6</td>\n",
       "    </tr>\n",
       "    <tr>\n",
       "      <th>6</th>\n",
       "      <td>22</td>\n",
       "      <td>19</td>\n",
       "    </tr>\n",
       "    <tr>\n",
       "      <th>7</th>\n",
       "      <td>22</td>\n",
       "      <td>13</td>\n",
       "    </tr>\n",
       "    <tr>\n",
       "      <th>8</th>\n",
       "      <td>26</td>\n",
       "      <td>5</td>\n",
       "    </tr>\n",
       "    <tr>\n",
       "      <th>9</th>\n",
       "      <td>30</td>\n",
       "      <td>14</td>\n",
       "    </tr>\n",
       "    <tr>\n",
       "      <th>10</th>\n",
       "      <td>36</td>\n",
       "      <td>22</td>\n",
       "    </tr>\n",
       "    <tr>\n",
       "      <th>11</th>\n",
       "      <td>37</td>\n",
       "      <td>12</td>\n",
       "    </tr>\n",
       "    <tr>\n",
       "      <th>12</th>\n",
       "      <td>43</td>\n",
       "      <td>12</td>\n",
       "    </tr>\n",
       "    <tr>\n",
       "      <th>13</th>\n",
       "      <td>48</td>\n",
       "      <td>11</td>\n",
       "    </tr>\n",
       "    <tr>\n",
       "      <th>14</th>\n",
       "      <td>52</td>\n",
       "      <td>10</td>\n",
       "    </tr>\n",
       "    <tr>\n",
       "      <th>15</th>\n",
       "      <td>52</td>\n",
       "      <td>10</td>\n",
       "    </tr>\n",
       "    <tr>\n",
       "      <th>16</th>\n",
       "      <td>57</td>\n",
       "      <td>15</td>\n",
       "    </tr>\n",
       "    <tr>\n",
       "      <th>17</th>\n",
       "      <td>62</td>\n",
       "      <td>28</td>\n",
       "    </tr>\n",
       "    <tr>\n",
       "      <th>18</th>\n",
       "      <td>66</td>\n",
       "      <td>41</td>\n",
       "    </tr>\n",
       "    <tr>\n",
       "      <th>19</th>\n",
       "      <td>72</td>\n",
       "      <td>36</td>\n",
       "    </tr>\n",
       "    <tr>\n",
       "      <th>20</th>\n",
       "      <td>72</td>\n",
       "      <td>31</td>\n",
       "    </tr>\n",
       "    <tr>\n",
       "      <th>21</th>\n",
       "      <td>72</td>\n",
       "      <td>41</td>\n",
       "    </tr>\n",
       "    <tr>\n",
       "      <th>22</th>\n",
       "      <td>75</td>\n",
       "      <td>42</td>\n",
       "    </tr>\n",
       "    <tr>\n",
       "      <th>23</th>\n",
       "      <td>77</td>\n",
       "      <td>39</td>\n",
       "    </tr>\n",
       "    <tr>\n",
       "      <th>24</th>\n",
       "      <td>82</td>\n",
       "      <td>46</td>\n",
       "    </tr>\n",
       "    <tr>\n",
       "      <th>25</th>\n",
       "      <td>83</td>\n",
       "      <td>39</td>\n",
       "    </tr>\n",
       "    <tr>\n",
       "      <th>26</th>\n",
       "      <td>85</td>\n",
       "      <td>40</td>\n",
       "    </tr>\n",
       "    <tr>\n",
       "      <th>27</th>\n",
       "      <td>91</td>\n",
       "      <td>48</td>\n",
       "    </tr>\n",
       "    <tr>\n",
       "      <th>28</th>\n",
       "      <td>92</td>\n",
       "      <td>43</td>\n",
       "    </tr>\n",
       "    <tr>\n",
       "      <th>29</th>\n",
       "      <td>94</td>\n",
       "      <td>55</td>\n",
       "    </tr>\n",
       "    <tr>\n",
       "      <th>30</th>\n",
       "      <td>96</td>\n",
       "      <td>46</td>\n",
       "    </tr>\n",
       "    <tr>\n",
       "      <th>31</th>\n",
       "      <td>101</td>\n",
       "      <td>46</td>\n",
       "    </tr>\n",
       "    <tr>\n",
       "      <th>32</th>\n",
       "      <td>104</td>\n",
       "      <td>49</td>\n",
       "    </tr>\n",
       "    <tr>\n",
       "      <th>33</th>\n",
       "      <td>109</td>\n",
       "      <td>48</td>\n",
       "    </tr>\n",
       "    <tr>\n",
       "      <th>34</th>\n",
       "      <td>112</td>\n",
       "      <td>60</td>\n",
       "    </tr>\n",
       "    <tr>\n",
       "      <th>35</th>\n",
       "      <td>117</td>\n",
       "      <td>67</td>\n",
       "    </tr>\n",
       "    <tr>\n",
       "      <th>36</th>\n",
       "      <td>122</td>\n",
       "      <td>73</td>\n",
       "    </tr>\n",
       "    <tr>\n",
       "      <th>37</th>\n",
       "      <td>122</td>\n",
       "      <td>66</td>\n",
       "    </tr>\n",
       "    <tr>\n",
       "      <th>38</th>\n",
       "      <td>126</td>\n",
       "      <td>79</td>\n",
       "    </tr>\n",
       "    <tr>\n",
       "      <th>39</th>\n",
       "      <td>128</td>\n",
       "      <td>88</td>\n",
       "    </tr>\n",
       "    <tr>\n",
       "      <th>40</th>\n",
       "      <td>134</td>\n",
       "      <td>89</td>\n",
       "    </tr>\n",
       "    <tr>\n",
       "      <th>41</th>\n",
       "      <td>137</td>\n",
       "      <td>93</td>\n",
       "    </tr>\n",
       "    <tr>\n",
       "      <th>42</th>\n",
       "      <td>139</td>\n",
       "      <td>102</td>\n",
       "    </tr>\n",
       "    <tr>\n",
       "      <th>43</th>\n",
       "      <td>140</td>\n",
       "      <td>107</td>\n",
       "    </tr>\n",
       "    <tr>\n",
       "      <th>44</th>\n",
       "      <td>145</td>\n",
       "      <td>119</td>\n",
       "    </tr>\n",
       "    <tr>\n",
       "      <th>45</th>\n",
       "      <td>145</td>\n",
       "      <td>116</td>\n",
       "    </tr>\n",
       "    <tr>\n",
       "      <th>46</th>\n",
       "      <td>146</td>\n",
       "      <td>113</td>\n",
       "    </tr>\n",
       "    <tr>\n",
       "      <th>47</th>\n",
       "      <td>151</td>\n",
       "      <td>120</td>\n",
       "    </tr>\n",
       "    <tr>\n",
       "      <th>48</th>\n",
       "      <td>151</td>\n",
       "      <td>133</td>\n",
       "    </tr>\n",
       "    <tr>\n",
       "      <th>49</th>\n",
       "      <td>153</td>\n",
       "      <td>128</td>\n",
       "    </tr>\n",
       "  </tbody>\n",
       "</table>\n",
       "</div>"
      ],
      "text/plain": [
       "      A    B\n",
       "0     2    2\n",
       "1     4   -1\n",
       "2     8    0\n",
       "3     8  -10\n",
       "4    13    4\n",
       "5    17    6\n",
       "6    22   19\n",
       "7    22   13\n",
       "8    26    5\n",
       "9    30   14\n",
       "10   36   22\n",
       "11   37   12\n",
       "12   43   12\n",
       "13   48   11\n",
       "14   52   10\n",
       "15   52   10\n",
       "16   57   15\n",
       "17   62   28\n",
       "18   66   41\n",
       "19   72   36\n",
       "20   72   31\n",
       "21   72   41\n",
       "22   75   42\n",
       "23   77   39\n",
       "24   82   46\n",
       "25   83   39\n",
       "26   85   40\n",
       "27   91   48\n",
       "28   92   43\n",
       "29   94   55\n",
       "30   96   46\n",
       "31  101   46\n",
       "32  104   49\n",
       "33  109   48\n",
       "34  112   60\n",
       "35  117   67\n",
       "36  122   73\n",
       "37  122   66\n",
       "38  126   79\n",
       "39  128   88\n",
       "40  134   89\n",
       "41  137   93\n",
       "42  139  102\n",
       "43  140  107\n",
       "44  145  119\n",
       "45  145  116\n",
       "46  146  113\n",
       "47  151  120\n",
       "48  151  133\n",
       "49  153  128"
      ]
     },
     "execution_count": 25,
     "metadata": {},
     "output_type": "execute_result"
    }
   ],
   "source": [
    "df5.apply(np.cumsum)"
   ]
  },
  {
   "cell_type": "code",
   "execution_count": 26,
   "id": "13a8fffe",
   "metadata": {
    "execution": {
     "iopub.execute_input": "2025-02-28T13:35:27.931162Z",
     "iopub.status.busy": "2025-02-28T13:35:27.930898Z",
     "iopub.status.idle": "2025-02-28T13:35:27.940356Z",
     "shell.execute_reply": "2025-02-28T13:35:27.939593Z"
    },
    "papermill": {
     "duration": 0.026015,
     "end_time": "2025-02-28T13:35:27.941620",
     "exception": false,
     "start_time": "2025-02-28T13:35:27.915605",
     "status": "completed"
    },
    "tags": []
   },
   "outputs": [
    {
     "data": {
      "text/html": [
       "<div>\n",
       "<style scoped>\n",
       "    .dataframe tbody tr th:only-of-type {\n",
       "        vertical-align: middle;\n",
       "    }\n",
       "\n",
       "    .dataframe tbody tr th {\n",
       "        vertical-align: top;\n",
       "    }\n",
       "\n",
       "    .dataframe thead th {\n",
       "        text-align: right;\n",
       "    }\n",
       "</style>\n",
       "<table border=\"1\" class=\"dataframe\">\n",
       "  <thead>\n",
       "    <tr style=\"text-align: right;\">\n",
       "      <th></th>\n",
       "      <th>A</th>\n",
       "      <th>B</th>\n",
       "    </tr>\n",
       "  </thead>\n",
       "  <tbody>\n",
       "    <tr>\n",
       "      <th>0</th>\n",
       "      <td>7.389056</td>\n",
       "      <td>7.389056e+00</td>\n",
       "    </tr>\n",
       "    <tr>\n",
       "      <th>1</th>\n",
       "      <td>7.389056</td>\n",
       "      <td>4.978707e-02</td>\n",
       "    </tr>\n",
       "    <tr>\n",
       "      <th>2</th>\n",
       "      <td>54.598150</td>\n",
       "      <td>2.718282e+00</td>\n",
       "    </tr>\n",
       "    <tr>\n",
       "      <th>3</th>\n",
       "      <td>1.000000</td>\n",
       "      <td>4.539993e-05</td>\n",
       "    </tr>\n",
       "    <tr>\n",
       "      <th>4</th>\n",
       "      <td>148.413159</td>\n",
       "      <td>1.202604e+06</td>\n",
       "    </tr>\n",
       "    <tr>\n",
       "      <th>5</th>\n",
       "      <td>54.598150</td>\n",
       "      <td>7.389056e+00</td>\n",
       "    </tr>\n",
       "    <tr>\n",
       "      <th>6</th>\n",
       "      <td>148.413159</td>\n",
       "      <td>4.424134e+05</td>\n",
       "    </tr>\n",
       "    <tr>\n",
       "      <th>7</th>\n",
       "      <td>1.000000</td>\n",
       "      <td>2.478752e-03</td>\n",
       "    </tr>\n",
       "    <tr>\n",
       "      <th>8</th>\n",
       "      <td>54.598150</td>\n",
       "      <td>3.354626e-04</td>\n",
       "    </tr>\n",
       "    <tr>\n",
       "      <th>9</th>\n",
       "      <td>54.598150</td>\n",
       "      <td>8.103084e+03</td>\n",
       "    </tr>\n",
       "    <tr>\n",
       "      <th>10</th>\n",
       "      <td>403.428793</td>\n",
       "      <td>2.980958e+03</td>\n",
       "    </tr>\n",
       "    <tr>\n",
       "      <th>11</th>\n",
       "      <td>2.718282</td>\n",
       "      <td>4.539993e-05</td>\n",
       "    </tr>\n",
       "    <tr>\n",
       "      <th>12</th>\n",
       "      <td>403.428793</td>\n",
       "      <td>1.000000e+00</td>\n",
       "    </tr>\n",
       "    <tr>\n",
       "      <th>13</th>\n",
       "      <td>148.413159</td>\n",
       "      <td>3.678794e-01</td>\n",
       "    </tr>\n",
       "    <tr>\n",
       "      <th>14</th>\n",
       "      <td>54.598150</td>\n",
       "      <td>3.678794e-01</td>\n",
       "    </tr>\n",
       "    <tr>\n",
       "      <th>15</th>\n",
       "      <td>1.000000</td>\n",
       "      <td>1.000000e+00</td>\n",
       "    </tr>\n",
       "    <tr>\n",
       "      <th>16</th>\n",
       "      <td>148.413159</td>\n",
       "      <td>1.484132e+02</td>\n",
       "    </tr>\n",
       "    <tr>\n",
       "      <th>17</th>\n",
       "      <td>148.413159</td>\n",
       "      <td>4.424134e+05</td>\n",
       "    </tr>\n",
       "    <tr>\n",
       "      <th>18</th>\n",
       "      <td>54.598150</td>\n",
       "      <td>4.424134e+05</td>\n",
       "    </tr>\n",
       "    <tr>\n",
       "      <th>19</th>\n",
       "      <td>403.428793</td>\n",
       "      <td>6.737947e-03</td>\n",
       "    </tr>\n",
       "    <tr>\n",
       "      <th>20</th>\n",
       "      <td>1.000000</td>\n",
       "      <td>6.737947e-03</td>\n",
       "    </tr>\n",
       "    <tr>\n",
       "      <th>21</th>\n",
       "      <td>1.000000</td>\n",
       "      <td>2.202647e+04</td>\n",
       "    </tr>\n",
       "    <tr>\n",
       "      <th>22</th>\n",
       "      <td>20.085537</td>\n",
       "      <td>2.718282e+00</td>\n",
       "    </tr>\n",
       "    <tr>\n",
       "      <th>23</th>\n",
       "      <td>7.389056</td>\n",
       "      <td>4.978707e-02</td>\n",
       "    </tr>\n",
       "    <tr>\n",
       "      <th>24</th>\n",
       "      <td>148.413159</td>\n",
       "      <td>1.096633e+03</td>\n",
       "    </tr>\n",
       "    <tr>\n",
       "      <th>25</th>\n",
       "      <td>2.718282</td>\n",
       "      <td>9.118820e-04</td>\n",
       "    </tr>\n",
       "    <tr>\n",
       "      <th>26</th>\n",
       "      <td>7.389056</td>\n",
       "      <td>2.718282e+00</td>\n",
       "    </tr>\n",
       "    <tr>\n",
       "      <th>27</th>\n",
       "      <td>403.428793</td>\n",
       "      <td>2.980958e+03</td>\n",
       "    </tr>\n",
       "    <tr>\n",
       "      <th>28</th>\n",
       "      <td>2.718282</td>\n",
       "      <td>6.737947e-03</td>\n",
       "    </tr>\n",
       "    <tr>\n",
       "      <th>29</th>\n",
       "      <td>7.389056</td>\n",
       "      <td>1.627548e+05</td>\n",
       "    </tr>\n",
       "    <tr>\n",
       "      <th>30</th>\n",
       "      <td>7.389056</td>\n",
       "      <td>1.234098e-04</td>\n",
       "    </tr>\n",
       "    <tr>\n",
       "      <th>31</th>\n",
       "      <td>148.413159</td>\n",
       "      <td>1.000000e+00</td>\n",
       "    </tr>\n",
       "    <tr>\n",
       "      <th>32</th>\n",
       "      <td>20.085537</td>\n",
       "      <td>2.008554e+01</td>\n",
       "    </tr>\n",
       "    <tr>\n",
       "      <th>33</th>\n",
       "      <td>148.413159</td>\n",
       "      <td>3.678794e-01</td>\n",
       "    </tr>\n",
       "    <tr>\n",
       "      <th>34</th>\n",
       "      <td>20.085537</td>\n",
       "      <td>1.627548e+05</td>\n",
       "    </tr>\n",
       "    <tr>\n",
       "      <th>35</th>\n",
       "      <td>148.413159</td>\n",
       "      <td>1.096633e+03</td>\n",
       "    </tr>\n",
       "    <tr>\n",
       "      <th>36</th>\n",
       "      <td>148.413159</td>\n",
       "      <td>4.034288e+02</td>\n",
       "    </tr>\n",
       "    <tr>\n",
       "      <th>37</th>\n",
       "      <td>1.000000</td>\n",
       "      <td>9.118820e-04</td>\n",
       "    </tr>\n",
       "    <tr>\n",
       "      <th>38</th>\n",
       "      <td>54.598150</td>\n",
       "      <td>4.424134e+05</td>\n",
       "    </tr>\n",
       "    <tr>\n",
       "      <th>39</th>\n",
       "      <td>7.389056</td>\n",
       "      <td>8.103084e+03</td>\n",
       "    </tr>\n",
       "    <tr>\n",
       "      <th>40</th>\n",
       "      <td>403.428793</td>\n",
       "      <td>2.718282e+00</td>\n",
       "    </tr>\n",
       "    <tr>\n",
       "      <th>41</th>\n",
       "      <td>20.085537</td>\n",
       "      <td>5.459815e+01</td>\n",
       "    </tr>\n",
       "    <tr>\n",
       "      <th>42</th>\n",
       "      <td>7.389056</td>\n",
       "      <td>8.103084e+03</td>\n",
       "    </tr>\n",
       "    <tr>\n",
       "      <th>43</th>\n",
       "      <td>2.718282</td>\n",
       "      <td>1.484132e+02</td>\n",
       "    </tr>\n",
       "    <tr>\n",
       "      <th>44</th>\n",
       "      <td>148.413159</td>\n",
       "      <td>1.627548e+05</td>\n",
       "    </tr>\n",
       "    <tr>\n",
       "      <th>45</th>\n",
       "      <td>1.000000</td>\n",
       "      <td>4.978707e-02</td>\n",
       "    </tr>\n",
       "    <tr>\n",
       "      <th>46</th>\n",
       "      <td>2.718282</td>\n",
       "      <td>4.978707e-02</td>\n",
       "    </tr>\n",
       "    <tr>\n",
       "      <th>47</th>\n",
       "      <td>148.413159</td>\n",
       "      <td>1.096633e+03</td>\n",
       "    </tr>\n",
       "    <tr>\n",
       "      <th>48</th>\n",
       "      <td>1.000000</td>\n",
       "      <td>4.424134e+05</td>\n",
       "    </tr>\n",
       "    <tr>\n",
       "      <th>49</th>\n",
       "      <td>7.389056</td>\n",
       "      <td>6.737947e-03</td>\n",
       "    </tr>\n",
       "  </tbody>\n",
       "</table>\n",
       "</div>"
      ],
      "text/plain": [
       "             A             B\n",
       "0     7.389056  7.389056e+00\n",
       "1     7.389056  4.978707e-02\n",
       "2    54.598150  2.718282e+00\n",
       "3     1.000000  4.539993e-05\n",
       "4   148.413159  1.202604e+06\n",
       "5    54.598150  7.389056e+00\n",
       "6   148.413159  4.424134e+05\n",
       "7     1.000000  2.478752e-03\n",
       "8    54.598150  3.354626e-04\n",
       "9    54.598150  8.103084e+03\n",
       "10  403.428793  2.980958e+03\n",
       "11    2.718282  4.539993e-05\n",
       "12  403.428793  1.000000e+00\n",
       "13  148.413159  3.678794e-01\n",
       "14   54.598150  3.678794e-01\n",
       "15    1.000000  1.000000e+00\n",
       "16  148.413159  1.484132e+02\n",
       "17  148.413159  4.424134e+05\n",
       "18   54.598150  4.424134e+05\n",
       "19  403.428793  6.737947e-03\n",
       "20    1.000000  6.737947e-03\n",
       "21    1.000000  2.202647e+04\n",
       "22   20.085537  2.718282e+00\n",
       "23    7.389056  4.978707e-02\n",
       "24  148.413159  1.096633e+03\n",
       "25    2.718282  9.118820e-04\n",
       "26    7.389056  2.718282e+00\n",
       "27  403.428793  2.980958e+03\n",
       "28    2.718282  6.737947e-03\n",
       "29    7.389056  1.627548e+05\n",
       "30    7.389056  1.234098e-04\n",
       "31  148.413159  1.000000e+00\n",
       "32   20.085537  2.008554e+01\n",
       "33  148.413159  3.678794e-01\n",
       "34   20.085537  1.627548e+05\n",
       "35  148.413159  1.096633e+03\n",
       "36  148.413159  4.034288e+02\n",
       "37    1.000000  9.118820e-04\n",
       "38   54.598150  4.424134e+05\n",
       "39    7.389056  8.103084e+03\n",
       "40  403.428793  2.718282e+00\n",
       "41   20.085537  5.459815e+01\n",
       "42    7.389056  8.103084e+03\n",
       "43    2.718282  1.484132e+02\n",
       "44  148.413159  1.627548e+05\n",
       "45    1.000000  4.978707e-02\n",
       "46    2.718282  4.978707e-02\n",
       "47  148.413159  1.096633e+03\n",
       "48    1.000000  4.424134e+05\n",
       "49    7.389056  6.737947e-03"
      ]
     },
     "execution_count": 26,
     "metadata": {},
     "output_type": "execute_result"
    }
   ],
   "source": [
    "df5.apply(np.exp)"
   ]
  },
  {
   "cell_type": "code",
   "execution_count": 27,
   "id": "f457680c",
   "metadata": {
    "execution": {
     "iopub.execute_input": "2025-02-28T13:35:27.975736Z",
     "iopub.status.busy": "2025-02-28T13:35:27.975440Z",
     "iopub.status.idle": "2025-02-28T13:35:27.981672Z",
     "shell.execute_reply": "2025-02-28T13:35:27.980810Z"
    },
    "papermill": {
     "duration": 0.026117,
     "end_time": "2025-02-28T13:35:27.983044",
     "exception": false,
     "start_time": "2025-02-28T13:35:27.956927",
     "status": "completed"
    },
    "tags": []
   },
   "outputs": [
    {
     "data": {
      "text/plain": [
       "A    3.06\n",
       "B    2.56\n",
       "dtype: float64"
      ]
     },
     "execution_count": 27,
     "metadata": {},
     "output_type": "execute_result"
    }
   ],
   "source": [
    "df5.apply(\"mean\")"
   ]
  },
  {
   "cell_type": "code",
   "execution_count": 28,
   "id": "fb440bff",
   "metadata": {
    "execution": {
     "iopub.execute_input": "2025-02-28T13:35:28.014638Z",
     "iopub.status.busy": "2025-02-28T13:35:28.014389Z",
     "iopub.status.idle": "2025-02-28T13:35:28.020961Z",
     "shell.execute_reply": "2025-02-28T13:35:28.020263Z"
    },
    "papermill": {
     "duration": 0.023197,
     "end_time": "2025-02-28T13:35:28.022036",
     "exception": false,
     "start_time": "2025-02-28T13:35:27.998839",
     "status": "completed"
    },
    "tags": []
   },
   "outputs": [
    {
     "data": {
      "text/plain": [
       "0     2.0\n",
       "1    -0.5\n",
       "2     2.5\n",
       "3    -5.0\n",
       "4     9.5\n",
       "5     3.0\n",
       "6     9.0\n",
       "7    -3.0\n",
       "8    -2.0\n",
       "9     6.5\n",
       "10    7.0\n",
       "11   -4.5\n",
       "12    3.0\n",
       "13    2.0\n",
       "14    1.5\n",
       "15    0.0\n",
       "16    5.0\n",
       "17    9.0\n",
       "18    8.5\n",
       "19    0.5\n",
       "20   -2.5\n",
       "21    5.0\n",
       "22    2.0\n",
       "23   -0.5\n",
       "24    6.0\n",
       "25   -3.0\n",
       "26    1.5\n",
       "27    7.0\n",
       "28   -2.0\n",
       "29    7.0\n",
       "30   -3.5\n",
       "31    2.5\n",
       "32    3.0\n",
       "33    2.0\n",
       "34    7.5\n",
       "35    6.0\n",
       "36    5.5\n",
       "37   -3.5\n",
       "38    8.5\n",
       "39    5.5\n",
       "40    3.5\n",
       "41    3.5\n",
       "42    5.5\n",
       "43    3.0\n",
       "44    8.5\n",
       "45   -1.5\n",
       "46   -1.0\n",
       "47    6.0\n",
       "48    6.5\n",
       "49   -1.5\n",
       "dtype: float64"
      ]
     },
     "execution_count": 28,
     "metadata": {},
     "output_type": "execute_result"
    }
   ],
   "source": [
    "df5.apply(\"mean\", axis=1)"
   ]
  },
  {
   "cell_type": "code",
   "execution_count": 29,
   "id": "bdfb7153",
   "metadata": {
    "execution": {
     "iopub.execute_input": "2025-02-28T13:35:28.053404Z",
     "iopub.status.busy": "2025-02-28T13:35:28.053176Z",
     "iopub.status.idle": "2025-02-28T13:35:28.062786Z",
     "shell.execute_reply": "2025-02-28T13:35:28.061943Z"
    },
    "papermill": {
     "duration": 0.026541,
     "end_time": "2025-02-28T13:35:28.063931",
     "exception": false,
     "start_time": "2025-02-28T13:35:28.037390",
     "status": "completed"
    },
    "tags": []
   },
   "outputs": [
    {
     "data": {
      "text/html": [
       "<div>\n",
       "<style scoped>\n",
       "    .dataframe tbody tr th:only-of-type {\n",
       "        vertical-align: middle;\n",
       "    }\n",
       "\n",
       "    .dataframe tbody tr th {\n",
       "        vertical-align: top;\n",
       "    }\n",
       "\n",
       "    .dataframe thead th {\n",
       "        text-align: right;\n",
       "    }\n",
       "</style>\n",
       "<table border=\"1\" class=\"dataframe\">\n",
       "  <thead>\n",
       "    <tr style=\"text-align: right;\">\n",
       "      <th></th>\n",
       "      <th>A</th>\n",
       "      <th>B</th>\n",
       "    </tr>\n",
       "  </thead>\n",
       "  <tbody>\n",
       "    <tr>\n",
       "      <th>0</th>\n",
       "      <td>-1.000000</td>\n",
       "      <td>-1.000000</td>\n",
       "    </tr>\n",
       "    <tr>\n",
       "      <th>1</th>\n",
       "      <td>-1.000000</td>\n",
       "      <td>-2.666667</td>\n",
       "    </tr>\n",
       "    <tr>\n",
       "      <th>2</th>\n",
       "      <td>-0.333333</td>\n",
       "      <td>-1.333333</td>\n",
       "    </tr>\n",
       "    <tr>\n",
       "      <th>3</th>\n",
       "      <td>-1.666667</td>\n",
       "      <td>-5.000000</td>\n",
       "    </tr>\n",
       "    <tr>\n",
       "      <th>4</th>\n",
       "      <td>0.000000</td>\n",
       "      <td>3.000000</td>\n",
       "    </tr>\n",
       "    <tr>\n",
       "      <th>5</th>\n",
       "      <td>-0.333333</td>\n",
       "      <td>-1.000000</td>\n",
       "    </tr>\n",
       "    <tr>\n",
       "      <th>6</th>\n",
       "      <td>0.000000</td>\n",
       "      <td>2.666667</td>\n",
       "    </tr>\n",
       "    <tr>\n",
       "      <th>7</th>\n",
       "      <td>-1.666667</td>\n",
       "      <td>-3.666667</td>\n",
       "    </tr>\n",
       "    <tr>\n",
       "      <th>8</th>\n",
       "      <td>-0.333333</td>\n",
       "      <td>-4.333333</td>\n",
       "    </tr>\n",
       "    <tr>\n",
       "      <th>9</th>\n",
       "      <td>-0.333333</td>\n",
       "      <td>1.333333</td>\n",
       "    </tr>\n",
       "    <tr>\n",
       "      <th>10</th>\n",
       "      <td>0.333333</td>\n",
       "      <td>1.000000</td>\n",
       "    </tr>\n",
       "    <tr>\n",
       "      <th>11</th>\n",
       "      <td>-1.333333</td>\n",
       "      <td>-5.000000</td>\n",
       "    </tr>\n",
       "    <tr>\n",
       "      <th>12</th>\n",
       "      <td>0.333333</td>\n",
       "      <td>-1.666667</td>\n",
       "    </tr>\n",
       "    <tr>\n",
       "      <th>13</th>\n",
       "      <td>0.000000</td>\n",
       "      <td>-2.000000</td>\n",
       "    </tr>\n",
       "    <tr>\n",
       "      <th>14</th>\n",
       "      <td>-0.333333</td>\n",
       "      <td>-2.000000</td>\n",
       "    </tr>\n",
       "    <tr>\n",
       "      <th>15</th>\n",
       "      <td>-1.666667</td>\n",
       "      <td>-1.666667</td>\n",
       "    </tr>\n",
       "    <tr>\n",
       "      <th>16</th>\n",
       "      <td>0.000000</td>\n",
       "      <td>0.000000</td>\n",
       "    </tr>\n",
       "    <tr>\n",
       "      <th>17</th>\n",
       "      <td>0.000000</td>\n",
       "      <td>2.666667</td>\n",
       "    </tr>\n",
       "    <tr>\n",
       "      <th>18</th>\n",
       "      <td>-0.333333</td>\n",
       "      <td>2.666667</td>\n",
       "    </tr>\n",
       "    <tr>\n",
       "      <th>19</th>\n",
       "      <td>0.333333</td>\n",
       "      <td>-3.333333</td>\n",
       "    </tr>\n",
       "    <tr>\n",
       "      <th>20</th>\n",
       "      <td>-1.666667</td>\n",
       "      <td>-3.333333</td>\n",
       "    </tr>\n",
       "    <tr>\n",
       "      <th>21</th>\n",
       "      <td>-1.666667</td>\n",
       "      <td>1.666667</td>\n",
       "    </tr>\n",
       "    <tr>\n",
       "      <th>22</th>\n",
       "      <td>-0.666667</td>\n",
       "      <td>-1.333333</td>\n",
       "    </tr>\n",
       "    <tr>\n",
       "      <th>23</th>\n",
       "      <td>-1.000000</td>\n",
       "      <td>-2.666667</td>\n",
       "    </tr>\n",
       "    <tr>\n",
       "      <th>24</th>\n",
       "      <td>0.000000</td>\n",
       "      <td>0.666667</td>\n",
       "    </tr>\n",
       "    <tr>\n",
       "      <th>25</th>\n",
       "      <td>-1.333333</td>\n",
       "      <td>-4.000000</td>\n",
       "    </tr>\n",
       "    <tr>\n",
       "      <th>26</th>\n",
       "      <td>-1.000000</td>\n",
       "      <td>-1.333333</td>\n",
       "    </tr>\n",
       "    <tr>\n",
       "      <th>27</th>\n",
       "      <td>0.333333</td>\n",
       "      <td>1.000000</td>\n",
       "    </tr>\n",
       "    <tr>\n",
       "      <th>28</th>\n",
       "      <td>-1.333333</td>\n",
       "      <td>-3.333333</td>\n",
       "    </tr>\n",
       "    <tr>\n",
       "      <th>29</th>\n",
       "      <td>-1.000000</td>\n",
       "      <td>2.333333</td>\n",
       "    </tr>\n",
       "    <tr>\n",
       "      <th>30</th>\n",
       "      <td>-1.000000</td>\n",
       "      <td>-4.666667</td>\n",
       "    </tr>\n",
       "    <tr>\n",
       "      <th>31</th>\n",
       "      <td>0.000000</td>\n",
       "      <td>-1.666667</td>\n",
       "    </tr>\n",
       "    <tr>\n",
       "      <th>32</th>\n",
       "      <td>-0.666667</td>\n",
       "      <td>-0.666667</td>\n",
       "    </tr>\n",
       "    <tr>\n",
       "      <th>33</th>\n",
       "      <td>0.000000</td>\n",
       "      <td>-2.000000</td>\n",
       "    </tr>\n",
       "    <tr>\n",
       "      <th>34</th>\n",
       "      <td>-0.666667</td>\n",
       "      <td>2.333333</td>\n",
       "    </tr>\n",
       "    <tr>\n",
       "      <th>35</th>\n",
       "      <td>0.000000</td>\n",
       "      <td>0.666667</td>\n",
       "    </tr>\n",
       "    <tr>\n",
       "      <th>36</th>\n",
       "      <td>0.000000</td>\n",
       "      <td>0.333333</td>\n",
       "    </tr>\n",
       "    <tr>\n",
       "      <th>37</th>\n",
       "      <td>-1.666667</td>\n",
       "      <td>-4.000000</td>\n",
       "    </tr>\n",
       "    <tr>\n",
       "      <th>38</th>\n",
       "      <td>-0.333333</td>\n",
       "      <td>2.666667</td>\n",
       "    </tr>\n",
       "    <tr>\n",
       "      <th>39</th>\n",
       "      <td>-1.000000</td>\n",
       "      <td>1.333333</td>\n",
       "    </tr>\n",
       "    <tr>\n",
       "      <th>40</th>\n",
       "      <td>0.333333</td>\n",
       "      <td>-1.333333</td>\n",
       "    </tr>\n",
       "    <tr>\n",
       "      <th>41</th>\n",
       "      <td>-0.666667</td>\n",
       "      <td>-0.333333</td>\n",
       "    </tr>\n",
       "    <tr>\n",
       "      <th>42</th>\n",
       "      <td>-1.000000</td>\n",
       "      <td>1.333333</td>\n",
       "    </tr>\n",
       "    <tr>\n",
       "      <th>43</th>\n",
       "      <td>-1.333333</td>\n",
       "      <td>0.000000</td>\n",
       "    </tr>\n",
       "    <tr>\n",
       "      <th>44</th>\n",
       "      <td>0.000000</td>\n",
       "      <td>2.333333</td>\n",
       "    </tr>\n",
       "    <tr>\n",
       "      <th>45</th>\n",
       "      <td>-1.666667</td>\n",
       "      <td>-2.666667</td>\n",
       "    </tr>\n",
       "    <tr>\n",
       "      <th>46</th>\n",
       "      <td>-1.333333</td>\n",
       "      <td>-2.666667</td>\n",
       "    </tr>\n",
       "    <tr>\n",
       "      <th>47</th>\n",
       "      <td>0.000000</td>\n",
       "      <td>0.666667</td>\n",
       "    </tr>\n",
       "    <tr>\n",
       "      <th>48</th>\n",
       "      <td>-1.666667</td>\n",
       "      <td>2.666667</td>\n",
       "    </tr>\n",
       "    <tr>\n",
       "      <th>49</th>\n",
       "      <td>-1.000000</td>\n",
       "      <td>-3.333333</td>\n",
       "    </tr>\n",
       "  </tbody>\n",
       "</table>\n",
       "</div>"
      ],
      "text/plain": [
       "           A         B\n",
       "0  -1.000000 -1.000000\n",
       "1  -1.000000 -2.666667\n",
       "2  -0.333333 -1.333333\n",
       "3  -1.666667 -5.000000\n",
       "4   0.000000  3.000000\n",
       "5  -0.333333 -1.000000\n",
       "6   0.000000  2.666667\n",
       "7  -1.666667 -3.666667\n",
       "8  -0.333333 -4.333333\n",
       "9  -0.333333  1.333333\n",
       "10  0.333333  1.000000\n",
       "11 -1.333333 -5.000000\n",
       "12  0.333333 -1.666667\n",
       "13  0.000000 -2.000000\n",
       "14 -0.333333 -2.000000\n",
       "15 -1.666667 -1.666667\n",
       "16  0.000000  0.000000\n",
       "17  0.000000  2.666667\n",
       "18 -0.333333  2.666667\n",
       "19  0.333333 -3.333333\n",
       "20 -1.666667 -3.333333\n",
       "21 -1.666667  1.666667\n",
       "22 -0.666667 -1.333333\n",
       "23 -1.000000 -2.666667\n",
       "24  0.000000  0.666667\n",
       "25 -1.333333 -4.000000\n",
       "26 -1.000000 -1.333333\n",
       "27  0.333333  1.000000\n",
       "28 -1.333333 -3.333333\n",
       "29 -1.000000  2.333333\n",
       "30 -1.000000 -4.666667\n",
       "31  0.000000 -1.666667\n",
       "32 -0.666667 -0.666667\n",
       "33  0.000000 -2.000000\n",
       "34 -0.666667  2.333333\n",
       "35  0.000000  0.666667\n",
       "36  0.000000  0.333333\n",
       "37 -1.666667 -4.000000\n",
       "38 -0.333333  2.666667\n",
       "39 -1.000000  1.333333\n",
       "40  0.333333 -1.333333\n",
       "41 -0.666667 -0.333333\n",
       "42 -1.000000  1.333333\n",
       "43 -1.333333  0.000000\n",
       "44  0.000000  2.333333\n",
       "45 -1.666667 -2.666667\n",
       "46 -1.333333 -2.666667\n",
       "47  0.000000  0.666667\n",
       "48 -1.666667  2.666667\n",
       "49 -1.000000 -3.333333"
      ]
     },
     "execution_count": 29,
     "metadata": {},
     "output_type": "execute_result"
    }
   ],
   "source": [
    "def subtract_and_divide(x, sub, divide=1):\n",
    "    return (x - sub) / divide\n",
    "\n",
    "df5.apply(subtract_and_divide, args=(5,), divide=3)"
   ]
  },
  {
   "cell_type": "code",
   "execution_count": 30,
   "id": "5a3f72b6",
   "metadata": {
    "execution": {
     "iopub.execute_input": "2025-02-28T13:35:28.097403Z",
     "iopub.status.busy": "2025-02-28T13:35:28.097147Z",
     "iopub.status.idle": "2025-02-28T13:35:28.112667Z",
     "shell.execute_reply": "2025-02-28T13:35:28.111936Z"
    },
    "papermill": {
     "duration": 0.034553,
     "end_time": "2025-02-28T13:35:28.113952",
     "exception": false,
     "start_time": "2025-02-28T13:35:28.079399",
     "status": "completed"
    },
    "tags": []
   },
   "outputs": [
    {
     "name": "stderr",
     "output_type": "stream",
     "text": [
      "/usr/local/lib/python3.10/dist-packages/pandas/io/formats/format.py:1458: RuntimeWarning: invalid value encountered in greater\n",
      "  has_large_values = (abs_vals > 1e6).any()\n",
      "/usr/local/lib/python3.10/dist-packages/pandas/io/formats/format.py:1459: RuntimeWarning: invalid value encountered in less\n",
      "  has_small_values = ((abs_vals < 10 ** (-self.digits)) & (abs_vals > 0)).any()\n",
      "/usr/local/lib/python3.10/dist-packages/pandas/io/formats/format.py:1459: RuntimeWarning: invalid value encountered in greater\n",
      "  has_small_values = ((abs_vals < 10 ** (-self.digits)) & (abs_vals > 0)).any()\n"
     ]
    },
    {
     "data": {
      "text/html": [
       "<div>\n",
       "<style scoped>\n",
       "    .dataframe tbody tr th:only-of-type {\n",
       "        vertical-align: middle;\n",
       "    }\n",
       "\n",
       "    .dataframe tbody tr th {\n",
       "        vertical-align: top;\n",
       "    }\n",
       "\n",
       "    .dataframe thead th {\n",
       "        text-align: right;\n",
       "    }\n",
       "</style>\n",
       "<table border=\"1\" class=\"dataframe\">\n",
       "  <thead>\n",
       "    <tr style=\"text-align: right;\">\n",
       "      <th></th>\n",
       "      <th>A</th>\n",
       "      <th>B</th>\n",
       "      <th>C</th>\n",
       "    </tr>\n",
       "  </thead>\n",
       "  <tbody>\n",
       "    <tr>\n",
       "      <th>2000-01-01</th>\n",
       "      <td>1.583250</td>\n",
       "      <td>-0.431848</td>\n",
       "      <td>0.003071</td>\n",
       "    </tr>\n",
       "    <tr>\n",
       "      <th>2000-01-02</th>\n",
       "      <td>2.248574</td>\n",
       "      <td>-0.246248</td>\n",
       "      <td>0.149419</td>\n",
       "    </tr>\n",
       "    <tr>\n",
       "      <th>2000-01-03</th>\n",
       "      <td>0.100828</td>\n",
       "      <td>-1.328737</td>\n",
       "      <td>0.059948</td>\n",
       "    </tr>\n",
       "    <tr>\n",
       "      <th>2000-01-04</th>\n",
       "      <td>NaN</td>\n",
       "      <td>NaN</td>\n",
       "      <td>NaN</td>\n",
       "    </tr>\n",
       "    <tr>\n",
       "      <th>2000-01-05</th>\n",
       "      <td>NaN</td>\n",
       "      <td>NaN</td>\n",
       "      <td>NaN</td>\n",
       "    </tr>\n",
       "    <tr>\n",
       "      <th>2000-01-06</th>\n",
       "      <td>NaN</td>\n",
       "      <td>NaN</td>\n",
       "      <td>NaN</td>\n",
       "    </tr>\n",
       "    <tr>\n",
       "      <th>2000-01-07</th>\n",
       "      <td>NaN</td>\n",
       "      <td>NaN</td>\n",
       "      <td>NaN</td>\n",
       "    </tr>\n",
       "    <tr>\n",
       "      <th>2000-01-08</th>\n",
       "      <td>-0.570313</td>\n",
       "      <td>-1.632301</td>\n",
       "      <td>1.181294</td>\n",
       "    </tr>\n",
       "    <tr>\n",
       "      <th>2000-01-09</th>\n",
       "      <td>-0.100979</td>\n",
       "      <td>-0.178890</td>\n",
       "      <td>0.301657</td>\n",
       "    </tr>\n",
       "    <tr>\n",
       "      <th>2000-01-10</th>\n",
       "      <td>0.174477</td>\n",
       "      <td>-0.447904</td>\n",
       "      <td>0.503176</td>\n",
       "    </tr>\n",
       "  </tbody>\n",
       "</table>\n",
       "</div>"
      ],
      "text/plain": [
       "                   A         B         C\n",
       "2000-01-01  1.583250 -0.431848  0.003071\n",
       "2000-01-02  2.248574 -0.246248  0.149419\n",
       "2000-01-03  0.100828 -1.328737  0.059948\n",
       "2000-01-04       NaN       NaN       NaN\n",
       "2000-01-05       NaN       NaN       NaN\n",
       "2000-01-06       NaN       NaN       NaN\n",
       "2000-01-07       NaN       NaN       NaN\n",
       "2000-01-08 -0.570313 -1.632301  1.181294\n",
       "2000-01-09 -0.100979 -0.178890  0.301657\n",
       "2000-01-10  0.174477 -0.447904  0.503176"
      ]
     },
     "execution_count": 30,
     "metadata": {},
     "output_type": "execute_result"
    }
   ],
   "source": [
    "tsdf = pd.DataFrame(\n",
    "np.random.randn(10, 3),\n",
    "columns=[\"A\", \"B\", \"C\"],\n",
    "index=pd.date_range(\"1/1/2000\", periods=10),\n",
    ")\n",
    "\n",
    "tsdf.iloc[3:7] = np.nan\n",
    "tsdf"
   ]
  },
  {
   "cell_type": "code",
   "execution_count": 31,
   "id": "7537c7d5",
   "metadata": {
    "execution": {
     "iopub.execute_input": "2025-02-28T13:35:28.145867Z",
     "iopub.status.busy": "2025-02-28T13:35:28.145590Z",
     "iopub.status.idle": "2025-02-28T13:35:28.151779Z",
     "shell.execute_reply": "2025-02-28T13:35:28.150832Z"
    },
    "papermill": {
     "duration": 0.023019,
     "end_time": "2025-02-28T13:35:28.152966",
     "exception": false,
     "start_time": "2025-02-28T13:35:28.129947",
     "status": "completed"
    },
    "tags": []
   },
   "outputs": [
    {
     "name": "stderr",
     "output_type": "stream",
     "text": [
      "<ipython-input-31-b7faa8cdef41>:1: FutureWarning: The provided callable <function sum at 0x7897702377f0> is currently using DataFrame.sum. In a future version of pandas, the provided callable will be used directly. To keep current behavior pass the string \"sum\" instead.\n",
      "  tsdf.agg(np.sum)\n"
     ]
    },
    {
     "data": {
      "text/plain": [
       "A    3.435838\n",
       "B   -4.265927\n",
       "C    2.198564\n",
       "dtype: float64"
      ]
     },
     "execution_count": 31,
     "metadata": {},
     "output_type": "execute_result"
    }
   ],
   "source": [
    "tsdf.agg(np.sum)"
   ]
  },
  {
   "cell_type": "code",
   "execution_count": 32,
   "id": "926f7a22",
   "metadata": {
    "execution": {
     "iopub.execute_input": "2025-02-28T13:35:28.184699Z",
     "iopub.status.busy": "2025-02-28T13:35:28.184396Z",
     "iopub.status.idle": "2025-02-28T13:35:28.190074Z",
     "shell.execute_reply": "2025-02-28T13:35:28.189280Z"
    },
    "papermill": {
     "duration": 0.022907,
     "end_time": "2025-02-28T13:35:28.191177",
     "exception": false,
     "start_time": "2025-02-28T13:35:28.168270",
     "status": "completed"
    },
    "tags": []
   },
   "outputs": [
    {
     "data": {
      "text/plain": [
       "A    3.435838\n",
       "B   -4.265927\n",
       "C    2.198564\n",
       "dtype: float64"
      ]
     },
     "execution_count": 32,
     "metadata": {},
     "output_type": "execute_result"
    }
   ],
   "source": [
    "tsdf.agg(\"sum\")"
   ]
  },
  {
   "cell_type": "code",
   "execution_count": 33,
   "id": "1811b495",
   "metadata": {
    "execution": {
     "iopub.execute_input": "2025-02-28T13:35:28.223243Z",
     "iopub.status.busy": "2025-02-28T13:35:28.222975Z",
     "iopub.status.idle": "2025-02-28T13:35:28.228434Z",
     "shell.execute_reply": "2025-02-28T13:35:28.227767Z"
    },
    "papermill": {
     "duration": 0.022642,
     "end_time": "2025-02-28T13:35:28.229534",
     "exception": false,
     "start_time": "2025-02-28T13:35:28.206892",
     "status": "completed"
    },
    "tags": []
   },
   "outputs": [
    {
     "data": {
      "text/plain": [
       "A    3.435838\n",
       "B   -4.265927\n",
       "C    2.198564\n",
       "dtype: float64"
      ]
     },
     "execution_count": 33,
     "metadata": {},
     "output_type": "execute_result"
    }
   ],
   "source": [
    "tsdf.sum()"
   ]
  },
  {
   "cell_type": "code",
   "execution_count": 34,
   "id": "5fa1b188",
   "metadata": {
    "execution": {
     "iopub.execute_input": "2025-02-28T13:35:28.261548Z",
     "iopub.status.busy": "2025-02-28T13:35:28.261263Z",
     "iopub.status.idle": "2025-02-28T13:35:28.266133Z",
     "shell.execute_reply": "2025-02-28T13:35:28.265460Z"
    },
    "papermill": {
     "duration": 0.021915,
     "end_time": "2025-02-28T13:35:28.267163",
     "exception": false,
     "start_time": "2025-02-28T13:35:28.245248",
     "status": "completed"
    },
    "tags": []
   },
   "outputs": [
    {
     "data": {
      "text/plain": [
       "3.435837520980709"
      ]
     },
     "execution_count": 34,
     "metadata": {},
     "output_type": "execute_result"
    }
   ],
   "source": [
    "tsdf[\"A\"].agg(\"sum\")"
   ]
  },
  {
   "cell_type": "code",
   "execution_count": 35,
   "id": "19f850b9",
   "metadata": {
    "execution": {
     "iopub.execute_input": "2025-02-28T13:35:28.299983Z",
     "iopub.status.busy": "2025-02-28T13:35:28.299718Z",
     "iopub.status.idle": "2025-02-28T13:35:28.308403Z",
     "shell.execute_reply": "2025-02-28T13:35:28.307789Z"
    },
    "papermill": {
     "duration": 0.026812,
     "end_time": "2025-02-28T13:35:28.310062",
     "exception": false,
     "start_time": "2025-02-28T13:35:28.283250",
     "status": "completed"
    },
    "tags": []
   },
   "outputs": [
    {
     "data": {
      "text/html": [
       "<div>\n",
       "<style scoped>\n",
       "    .dataframe tbody tr th:only-of-type {\n",
       "        vertical-align: middle;\n",
       "    }\n",
       "\n",
       "    .dataframe tbody tr th {\n",
       "        vertical-align: top;\n",
       "    }\n",
       "\n",
       "    .dataframe thead th {\n",
       "        text-align: right;\n",
       "    }\n",
       "</style>\n",
       "<table border=\"1\" class=\"dataframe\">\n",
       "  <thead>\n",
       "    <tr style=\"text-align: right;\">\n",
       "      <th></th>\n",
       "      <th>A</th>\n",
       "      <th>B</th>\n",
       "      <th>C</th>\n",
       "    </tr>\n",
       "  </thead>\n",
       "  <tbody>\n",
       "    <tr>\n",
       "      <th>sum</th>\n",
       "      <td>3.435838</td>\n",
       "      <td>-4.265927</td>\n",
       "      <td>2.198564</td>\n",
       "    </tr>\n",
       "    <tr>\n",
       "      <th>mean</th>\n",
       "      <td>0.572640</td>\n",
       "      <td>-0.710988</td>\n",
       "      <td>0.366427</td>\n",
       "    </tr>\n",
       "  </tbody>\n",
       "</table>\n",
       "</div>"
      ],
      "text/plain": [
       "             A         B         C\n",
       "sum   3.435838 -4.265927  2.198564\n",
       "mean  0.572640 -0.710988  0.366427"
      ]
     },
     "execution_count": 35,
     "metadata": {},
     "output_type": "execute_result"
    }
   ],
   "source": [
    "tsdf.agg([\"sum\", \"mean\"])"
   ]
  },
  {
   "cell_type": "code",
   "execution_count": 36,
   "id": "49fb8821",
   "metadata": {
    "execution": {
     "iopub.execute_input": "2025-02-28T13:35:28.345358Z",
     "iopub.status.busy": "2025-02-28T13:35:28.345073Z",
     "iopub.status.idle": "2025-02-28T13:35:28.351399Z",
     "shell.execute_reply": "2025-02-28T13:35:28.350651Z"
    },
    "papermill": {
     "duration": 0.02466,
     "end_time": "2025-02-28T13:35:28.352419",
     "exception": false,
     "start_time": "2025-02-28T13:35:28.327759",
     "status": "completed"
    },
    "tags": []
   },
   "outputs": [
    {
     "data": {
      "text/plain": [
       "sum     3.435838\n",
       "mean    0.572640\n",
       "Name: A, dtype: float64"
      ]
     },
     "execution_count": 36,
     "metadata": {},
     "output_type": "execute_result"
    }
   ],
   "source": [
    "tsdf[\"A\"].agg([\"sum\", \"mean\"])"
   ]
  },
  {
   "cell_type": "code",
   "execution_count": 37,
   "id": "b8ab2a33",
   "metadata": {
    "execution": {
     "iopub.execute_input": "2025-02-28T13:35:28.386351Z",
     "iopub.status.busy": "2025-02-28T13:35:28.386055Z",
     "iopub.status.idle": "2025-02-28T13:35:28.391906Z",
     "shell.execute_reply": "2025-02-28T13:35:28.391201Z"
    },
    "papermill": {
     "duration": 0.023656,
     "end_time": "2025-02-28T13:35:28.393076",
     "exception": false,
     "start_time": "2025-02-28T13:35:28.369420",
     "status": "completed"
    },
    "tags": []
   },
   "outputs": [
    {
     "data": {
      "text/plain": [
       "sum         3.435838\n",
       "<lambda>    0.572640\n",
       "Name: A, dtype: float64"
      ]
     },
     "execution_count": 37,
     "metadata": {},
     "output_type": "execute_result"
    }
   ],
   "source": [
    "tsdf[\"A\"].agg([\"sum\", lambda x: x.mean()])"
   ]
  },
  {
   "cell_type": "code",
   "execution_count": 38,
   "id": "707a1a3f",
   "metadata": {
    "execution": {
     "iopub.execute_input": "2025-02-28T13:35:28.426555Z",
     "iopub.status.busy": "2025-02-28T13:35:28.426245Z",
     "iopub.status.idle": "2025-02-28T13:35:28.432406Z",
     "shell.execute_reply": "2025-02-28T13:35:28.431694Z"
    },
    "papermill": {
     "duration": 0.024189,
     "end_time": "2025-02-28T13:35:28.433537",
     "exception": false,
     "start_time": "2025-02-28T13:35:28.409348",
     "status": "completed"
    },
    "tags": []
   },
   "outputs": [
    {
     "data": {
      "text/plain": [
       "sum       3.435838\n",
       "mymean    0.572640\n",
       "Name: A, dtype: float64"
      ]
     },
     "execution_count": 38,
     "metadata": {},
     "output_type": "execute_result"
    }
   ],
   "source": [
    "def mymean(x):\n",
    "    return x.mean()\n",
    "\n",
    "tsdf[\"A\"].agg([\"sum\", mymean])"
   ]
  },
  {
   "cell_type": "code",
   "execution_count": 39,
   "id": "78502ec2",
   "metadata": {
    "execution": {
     "iopub.execute_input": "2025-02-28T13:35:28.468051Z",
     "iopub.status.busy": "2025-02-28T13:35:28.467717Z",
     "iopub.status.idle": "2025-02-28T13:35:28.474056Z",
     "shell.execute_reply": "2025-02-28T13:35:28.473352Z"
    },
    "papermill": {
     "duration": 0.024468,
     "end_time": "2025-02-28T13:35:28.475254",
     "exception": false,
     "start_time": "2025-02-28T13:35:28.450786",
     "status": "completed"
    },
    "tags": []
   },
   "outputs": [
    {
     "data": {
      "text/plain": [
       "A    0.572640\n",
       "B   -4.265927\n",
       "dtype: float64"
      ]
     },
     "execution_count": 39,
     "metadata": {},
     "output_type": "execute_result"
    }
   ],
   "source": [
    "tsdf.agg({\"A\": \"mean\", \"B\": \"sum\"})"
   ]
  },
  {
   "cell_type": "code",
   "execution_count": 40,
   "id": "fd497414",
   "metadata": {
    "execution": {
     "iopub.execute_input": "2025-02-28T13:35:28.510645Z",
     "iopub.status.busy": "2025-02-28T13:35:28.510409Z",
     "iopub.status.idle": "2025-02-28T13:35:28.519087Z",
     "shell.execute_reply": "2025-02-28T13:35:28.518374Z"
    },
    "papermill": {
     "duration": 0.027331,
     "end_time": "2025-02-28T13:35:28.520531",
     "exception": false,
     "start_time": "2025-02-28T13:35:28.493200",
     "status": "completed"
    },
    "tags": []
   },
   "outputs": [
    {
     "name": "stderr",
     "output_type": "stream",
     "text": [
      "/usr/local/lib/python3.10/dist-packages/pandas/io/formats/format.py:1458: RuntimeWarning: invalid value encountered in greater\n",
      "  has_large_values = (abs_vals > 1e6).any()\n",
      "/usr/local/lib/python3.10/dist-packages/pandas/io/formats/format.py:1459: RuntimeWarning: invalid value encountered in less\n",
      "  has_small_values = ((abs_vals < 10 ** (-self.digits)) & (abs_vals > 0)).any()\n",
      "/usr/local/lib/python3.10/dist-packages/pandas/io/formats/format.py:1459: RuntimeWarning: invalid value encountered in greater\n",
      "  has_small_values = ((abs_vals < 10 ** (-self.digits)) & (abs_vals > 0)).any()\n"
     ]
    },
    {
     "data": {
      "text/html": [
       "<div>\n",
       "<style scoped>\n",
       "    .dataframe tbody tr th:only-of-type {\n",
       "        vertical-align: middle;\n",
       "    }\n",
       "\n",
       "    .dataframe tbody tr th {\n",
       "        vertical-align: top;\n",
       "    }\n",
       "\n",
       "    .dataframe thead th {\n",
       "        text-align: right;\n",
       "    }\n",
       "</style>\n",
       "<table border=\"1\" class=\"dataframe\">\n",
       "  <thead>\n",
       "    <tr style=\"text-align: right;\">\n",
       "      <th></th>\n",
       "      <th>A</th>\n",
       "      <th>B</th>\n",
       "    </tr>\n",
       "  </thead>\n",
       "  <tbody>\n",
       "    <tr>\n",
       "      <th>mean</th>\n",
       "      <td>0.572640</td>\n",
       "      <td>NaN</td>\n",
       "    </tr>\n",
       "    <tr>\n",
       "      <th>min</th>\n",
       "      <td>-0.570313</td>\n",
       "      <td>NaN</td>\n",
       "    </tr>\n",
       "    <tr>\n",
       "      <th>sum</th>\n",
       "      <td>NaN</td>\n",
       "      <td>-4.265927</td>\n",
       "    </tr>\n",
       "  </tbody>\n",
       "</table>\n",
       "</div>"
      ],
      "text/plain": [
       "             A         B\n",
       "mean  0.572640       NaN\n",
       "min  -0.570313       NaN\n",
       "sum        NaN -4.265927"
      ]
     },
     "execution_count": 40,
     "metadata": {},
     "output_type": "execute_result"
    }
   ],
   "source": [
    "tsdf.agg({\"A\": [\"mean\", \"min\"], \"B\": \"sum\"})"
   ]
  },
  {
   "cell_type": "code",
   "execution_count": 41,
   "id": "675cfc78",
   "metadata": {
    "execution": {
     "iopub.execute_input": "2025-02-28T13:35:28.555198Z",
     "iopub.status.busy": "2025-02-28T13:35:28.554962Z",
     "iopub.status.idle": "2025-02-28T13:35:28.559244Z",
     "shell.execute_reply": "2025-02-28T13:35:28.558568Z"
    },
    "papermill": {
     "duration": 0.022512,
     "end_time": "2025-02-28T13:35:28.560263",
     "exception": false,
     "start_time": "2025-02-28T13:35:28.537751",
     "status": "completed"
    },
    "tags": []
   },
   "outputs": [],
   "source": [
    "mdf = pd.DataFrame({\n",
    "\"A\": [1, 2, 3],\n",
    "\"B\": [1.0, 2.0, 3.0],\n",
    "\"C\": [\"foo\", \"bar\", \"baz\"],\n",
    "\"D\": pd.date_range(\"20130101\", periods=3),\n",
    "})"
   ]
  },
  {
   "cell_type": "code",
   "execution_count": 42,
   "id": "d6d96604",
   "metadata": {
    "execution": {
     "iopub.execute_input": "2025-02-28T13:35:28.593976Z",
     "iopub.status.busy": "2025-02-28T13:35:28.593725Z",
     "iopub.status.idle": "2025-02-28T13:35:28.607532Z",
     "shell.execute_reply": "2025-02-28T13:35:28.606904Z"
    },
    "papermill": {
     "duration": 0.031219,
     "end_time": "2025-02-28T13:35:28.608512",
     "exception": false,
     "start_time": "2025-02-28T13:35:28.577293",
     "status": "completed"
    },
    "tags": []
   },
   "outputs": [
    {
     "data": {
      "text/html": [
       "<div>\n",
       "<style scoped>\n",
       "    .dataframe tbody tr th:only-of-type {\n",
       "        vertical-align: middle;\n",
       "    }\n",
       "\n",
       "    .dataframe tbody tr th {\n",
       "        vertical-align: top;\n",
       "    }\n",
       "\n",
       "    .dataframe thead th {\n",
       "        text-align: right;\n",
       "    }\n",
       "</style>\n",
       "<table border=\"1\" class=\"dataframe\">\n",
       "  <thead>\n",
       "    <tr style=\"text-align: right;\">\n",
       "      <th></th>\n",
       "      <th>A</th>\n",
       "      <th>B</th>\n",
       "      <th>C</th>\n",
       "    </tr>\n",
       "  </thead>\n",
       "  <tbody>\n",
       "    <tr>\n",
       "      <th>count</th>\n",
       "      <td>6.000000</td>\n",
       "      <td>6.000000</td>\n",
       "      <td>6.000000</td>\n",
       "    </tr>\n",
       "    <tr>\n",
       "      <th>mean</th>\n",
       "      <td>0.572640</td>\n",
       "      <td>-0.710988</td>\n",
       "      <td>0.366427</td>\n",
       "    </tr>\n",
       "    <tr>\n",
       "      <th>std</th>\n",
       "      <td>1.092825</td>\n",
       "      <td>0.612646</td>\n",
       "      <td>0.438167</td>\n",
       "    </tr>\n",
       "    <tr>\n",
       "      <th>min</th>\n",
       "      <td>-0.570313</td>\n",
       "      <td>-1.632301</td>\n",
       "      <td>0.003071</td>\n",
       "    </tr>\n",
       "    <tr>\n",
       "      <th>25%</th>\n",
       "      <td>-0.050527</td>\n",
       "      <td>-1.108529</td>\n",
       "      <td>0.082316</td>\n",
       "    </tr>\n",
       "    <tr>\n",
       "      <th>median</th>\n",
       "      <td>0.137653</td>\n",
       "      <td>-0.439876</td>\n",
       "      <td>0.225538</td>\n",
       "    </tr>\n",
       "    <tr>\n",
       "      <th>75%</th>\n",
       "      <td>1.231057</td>\n",
       "      <td>-0.292648</td>\n",
       "      <td>0.452796</td>\n",
       "    </tr>\n",
       "    <tr>\n",
       "      <th>max</th>\n",
       "      <td>2.248574</td>\n",
       "      <td>-0.178890</td>\n",
       "      <td>1.181294</td>\n",
       "    </tr>\n",
       "  </tbody>\n",
       "</table>\n",
       "</div>"
      ],
      "text/plain": [
       "               A         B         C\n",
       "count   6.000000  6.000000  6.000000\n",
       "mean    0.572640 -0.710988  0.366427\n",
       "std     1.092825  0.612646  0.438167\n",
       "min    -0.570313 -1.632301  0.003071\n",
       "25%    -0.050527 -1.108529  0.082316\n",
       "median  0.137653 -0.439876  0.225538\n",
       "75%     1.231057 -0.292648  0.452796\n",
       "max     2.248574 -0.178890  1.181294"
      ]
     },
     "execution_count": 42,
     "metadata": {},
     "output_type": "execute_result"
    }
   ],
   "source": [
    "# Custom describe\n",
    "\n",
    "from functools import partial\n",
    "q_25 = partial(pd.Series.quantile, q=0.25)\n",
    "q_25.__name__ = \"25%\"\n",
    "q_75 = partial(pd.Series.quantile, q=0.75)\n",
    "q_75.__name__ = \"75%\"\n",
    "tsdf.agg([\"count\", \"mean\", \"std\", \"min\", q_25, \"median\", q_75, \"max\"])"
   ]
  },
  {
   "cell_type": "code",
   "execution_count": 43,
   "id": "ea59e57f",
   "metadata": {
    "execution": {
     "iopub.execute_input": "2025-02-28T13:35:28.643805Z",
     "iopub.status.busy": "2025-02-28T13:35:28.643466Z",
     "iopub.status.idle": "2025-02-28T13:35:28.653550Z",
     "shell.execute_reply": "2025-02-28T13:35:28.652802Z"
    },
    "papermill": {
     "duration": 0.029762,
     "end_time": "2025-02-28T13:35:28.654669",
     "exception": false,
     "start_time": "2025-02-28T13:35:28.624907",
     "status": "completed"
    },
    "tags": []
   },
   "outputs": [
    {
     "name": "stderr",
     "output_type": "stream",
     "text": [
      "/usr/local/lib/python3.10/dist-packages/pandas/io/formats/format.py:1458: RuntimeWarning: invalid value encountered in greater\n",
      "  has_large_values = (abs_vals > 1e6).any()\n",
      "/usr/local/lib/python3.10/dist-packages/pandas/io/formats/format.py:1459: RuntimeWarning: invalid value encountered in less\n",
      "  has_small_values = ((abs_vals < 10 ** (-self.digits)) & (abs_vals > 0)).any()\n",
      "/usr/local/lib/python3.10/dist-packages/pandas/io/formats/format.py:1459: RuntimeWarning: invalid value encountered in greater\n",
      "  has_small_values = ((abs_vals < 10 ** (-self.digits)) & (abs_vals > 0)).any()\n"
     ]
    },
    {
     "data": {
      "text/html": [
       "<div>\n",
       "<style scoped>\n",
       "    .dataframe tbody tr th:only-of-type {\n",
       "        vertical-align: middle;\n",
       "    }\n",
       "\n",
       "    .dataframe tbody tr th {\n",
       "        vertical-align: top;\n",
       "    }\n",
       "\n",
       "    .dataframe thead th {\n",
       "        text-align: right;\n",
       "    }\n",
       "</style>\n",
       "<table border=\"1\" class=\"dataframe\">\n",
       "  <thead>\n",
       "    <tr style=\"text-align: right;\">\n",
       "      <th></th>\n",
       "      <th>A</th>\n",
       "      <th>B</th>\n",
       "      <th>C</th>\n",
       "    </tr>\n",
       "  </thead>\n",
       "  <tbody>\n",
       "    <tr>\n",
       "      <th>2000-01-01</th>\n",
       "      <td>-1.019591</td>\n",
       "      <td>0.936447</td>\n",
       "      <td>-0.048555</td>\n",
       "    </tr>\n",
       "    <tr>\n",
       "      <th>2000-01-02</th>\n",
       "      <td>1.036692</td>\n",
       "      <td>0.461386</td>\n",
       "      <td>-2.170076</td>\n",
       "    </tr>\n",
       "    <tr>\n",
       "      <th>2000-01-03</th>\n",
       "      <td>-0.940336</td>\n",
       "      <td>-0.576746</td>\n",
       "      <td>1.264413</td>\n",
       "    </tr>\n",
       "    <tr>\n",
       "      <th>2000-01-04</th>\n",
       "      <td>NaN</td>\n",
       "      <td>NaN</td>\n",
       "      <td>NaN</td>\n",
       "    </tr>\n",
       "    <tr>\n",
       "      <th>2000-01-05</th>\n",
       "      <td>NaN</td>\n",
       "      <td>NaN</td>\n",
       "      <td>NaN</td>\n",
       "    </tr>\n",
       "    <tr>\n",
       "      <th>2000-01-06</th>\n",
       "      <td>NaN</td>\n",
       "      <td>NaN</td>\n",
       "      <td>NaN</td>\n",
       "    </tr>\n",
       "    <tr>\n",
       "      <th>2000-01-07</th>\n",
       "      <td>NaN</td>\n",
       "      <td>NaN</td>\n",
       "      <td>NaN</td>\n",
       "    </tr>\n",
       "    <tr>\n",
       "      <th>2000-01-08</th>\n",
       "      <td>0.318631</td>\n",
       "      <td>-0.177405</td>\n",
       "      <td>-1.481361</td>\n",
       "    </tr>\n",
       "    <tr>\n",
       "      <th>2000-01-09</th>\n",
       "      <td>-0.301121</td>\n",
       "      <td>1.213045</td>\n",
       "      <td>-0.330745</td>\n",
       "    </tr>\n",
       "    <tr>\n",
       "      <th>2000-01-10</th>\n",
       "      <td>-0.905338</td>\n",
       "      <td>-0.102909</td>\n",
       "      <td>-0.554350</td>\n",
       "    </tr>\n",
       "  </tbody>\n",
       "</table>\n",
       "</div>"
      ],
      "text/plain": [
       "                   A         B         C\n",
       "2000-01-01 -1.019591  0.936447 -0.048555\n",
       "2000-01-02  1.036692  0.461386 -2.170076\n",
       "2000-01-03 -0.940336 -0.576746  1.264413\n",
       "2000-01-04       NaN       NaN       NaN\n",
       "2000-01-05       NaN       NaN       NaN\n",
       "2000-01-06       NaN       NaN       NaN\n",
       "2000-01-07       NaN       NaN       NaN\n",
       "2000-01-08  0.318631 -0.177405 -1.481361\n",
       "2000-01-09 -0.301121  1.213045 -0.330745\n",
       "2000-01-10 -0.905338 -0.102909 -0.554350"
      ]
     },
     "execution_count": 43,
     "metadata": {},
     "output_type": "execute_result"
    }
   ],
   "source": [
    "tsdf = pd.DataFrame(\n",
    "np.random.randn(10, 3),\n",
    "columns=[\"A\", \"B\", \"C\"],\n",
    "index=pd.date_range(\"1/1/2000\", periods=10),\n",
    ")\n",
    "\n",
    "tsdf.iloc[3:7] = np.nan\n",
    "tsdf"
   ]
  },
  {
   "cell_type": "code",
   "execution_count": 44,
   "id": "30e2c04a",
   "metadata": {
    "execution": {
     "iopub.execute_input": "2025-02-28T13:35:28.690549Z",
     "iopub.status.busy": "2025-02-28T13:35:28.690243Z",
     "iopub.status.idle": "2025-02-28T13:35:28.700290Z",
     "shell.execute_reply": "2025-02-28T13:35:28.699059Z"
    },
    "papermill": {
     "duration": 0.029458,
     "end_time": "2025-02-28T13:35:28.701921",
     "exception": false,
     "start_time": "2025-02-28T13:35:28.672463",
     "status": "completed"
    },
    "tags": []
   },
   "outputs": [
    {
     "name": "stderr",
     "output_type": "stream",
     "text": [
      "/usr/local/lib/python3.10/dist-packages/pandas/io/formats/format.py:1458: RuntimeWarning: invalid value encountered in greater\n",
      "  has_large_values = (abs_vals > 1e6).any()\n",
      "/usr/local/lib/python3.10/dist-packages/pandas/io/formats/format.py:1459: RuntimeWarning: invalid value encountered in less\n",
      "  has_small_values = ((abs_vals < 10 ** (-self.digits)) & (abs_vals > 0)).any()\n",
      "/usr/local/lib/python3.10/dist-packages/pandas/io/formats/format.py:1459: RuntimeWarning: invalid value encountered in greater\n",
      "  has_small_values = ((abs_vals < 10 ** (-self.digits)) & (abs_vals > 0)).any()\n"
     ]
    },
    {
     "data": {
      "text/html": [
       "<div>\n",
       "<style scoped>\n",
       "    .dataframe tbody tr th:only-of-type {\n",
       "        vertical-align: middle;\n",
       "    }\n",
       "\n",
       "    .dataframe tbody tr th {\n",
       "        vertical-align: top;\n",
       "    }\n",
       "\n",
       "    .dataframe thead th {\n",
       "        text-align: right;\n",
       "    }\n",
       "</style>\n",
       "<table border=\"1\" class=\"dataframe\">\n",
       "  <thead>\n",
       "    <tr style=\"text-align: right;\">\n",
       "      <th></th>\n",
       "      <th>A</th>\n",
       "      <th>B</th>\n",
       "      <th>C</th>\n",
       "    </tr>\n",
       "  </thead>\n",
       "  <tbody>\n",
       "    <tr>\n",
       "      <th>2000-01-01</th>\n",
       "      <td>1.019591</td>\n",
       "      <td>0.936447</td>\n",
       "      <td>0.048555</td>\n",
       "    </tr>\n",
       "    <tr>\n",
       "      <th>2000-01-02</th>\n",
       "      <td>1.036692</td>\n",
       "      <td>0.461386</td>\n",
       "      <td>2.170076</td>\n",
       "    </tr>\n",
       "    <tr>\n",
       "      <th>2000-01-03</th>\n",
       "      <td>0.940336</td>\n",
       "      <td>0.576746</td>\n",
       "      <td>1.264413</td>\n",
       "    </tr>\n",
       "    <tr>\n",
       "      <th>2000-01-04</th>\n",
       "      <td>NaN</td>\n",
       "      <td>NaN</td>\n",
       "      <td>NaN</td>\n",
       "    </tr>\n",
       "    <tr>\n",
       "      <th>2000-01-05</th>\n",
       "      <td>NaN</td>\n",
       "      <td>NaN</td>\n",
       "      <td>NaN</td>\n",
       "    </tr>\n",
       "    <tr>\n",
       "      <th>2000-01-06</th>\n",
       "      <td>NaN</td>\n",
       "      <td>NaN</td>\n",
       "      <td>NaN</td>\n",
       "    </tr>\n",
       "    <tr>\n",
       "      <th>2000-01-07</th>\n",
       "      <td>NaN</td>\n",
       "      <td>NaN</td>\n",
       "      <td>NaN</td>\n",
       "    </tr>\n",
       "    <tr>\n",
       "      <th>2000-01-08</th>\n",
       "      <td>0.318631</td>\n",
       "      <td>0.177405</td>\n",
       "      <td>1.481361</td>\n",
       "    </tr>\n",
       "    <tr>\n",
       "      <th>2000-01-09</th>\n",
       "      <td>0.301121</td>\n",
       "      <td>1.213045</td>\n",
       "      <td>0.330745</td>\n",
       "    </tr>\n",
       "    <tr>\n",
       "      <th>2000-01-10</th>\n",
       "      <td>0.905338</td>\n",
       "      <td>0.102909</td>\n",
       "      <td>0.554350</td>\n",
       "    </tr>\n",
       "  </tbody>\n",
       "</table>\n",
       "</div>"
      ],
      "text/plain": [
       "                   A         B         C\n",
       "2000-01-01  1.019591  0.936447  0.048555\n",
       "2000-01-02  1.036692  0.461386  2.170076\n",
       "2000-01-03  0.940336  0.576746  1.264413\n",
       "2000-01-04       NaN       NaN       NaN\n",
       "2000-01-05       NaN       NaN       NaN\n",
       "2000-01-06       NaN       NaN       NaN\n",
       "2000-01-07       NaN       NaN       NaN\n",
       "2000-01-08  0.318631  0.177405  1.481361\n",
       "2000-01-09  0.301121  1.213045  0.330745\n",
       "2000-01-10  0.905338  0.102909  0.554350"
      ]
     },
     "execution_count": 44,
     "metadata": {},
     "output_type": "execute_result"
    }
   ],
   "source": [
    "tsdf.transform(np.abs)"
   ]
  },
  {
   "cell_type": "code",
   "execution_count": 45,
   "id": "8eb12b37",
   "metadata": {
    "execution": {
     "iopub.execute_input": "2025-02-28T13:35:28.738891Z",
     "iopub.status.busy": "2025-02-28T13:35:28.738582Z",
     "iopub.status.idle": "2025-02-28T13:35:28.747341Z",
     "shell.execute_reply": "2025-02-28T13:35:28.746494Z"
    },
    "papermill": {
     "duration": 0.027889,
     "end_time": "2025-02-28T13:35:28.748393",
     "exception": false,
     "start_time": "2025-02-28T13:35:28.720504",
     "status": "completed"
    },
    "tags": []
   },
   "outputs": [
    {
     "name": "stderr",
     "output_type": "stream",
     "text": [
      "/usr/local/lib/python3.10/dist-packages/pandas/io/formats/format.py:1458: RuntimeWarning: invalid value encountered in greater\n",
      "  has_large_values = (abs_vals > 1e6).any()\n",
      "/usr/local/lib/python3.10/dist-packages/pandas/io/formats/format.py:1459: RuntimeWarning: invalid value encountered in less\n",
      "  has_small_values = ((abs_vals < 10 ** (-self.digits)) & (abs_vals > 0)).any()\n",
      "/usr/local/lib/python3.10/dist-packages/pandas/io/formats/format.py:1459: RuntimeWarning: invalid value encountered in greater\n",
      "  has_small_values = ((abs_vals < 10 ** (-self.digits)) & (abs_vals > 0)).any()\n"
     ]
    },
    {
     "data": {
      "text/html": [
       "<div>\n",
       "<style scoped>\n",
       "    .dataframe tbody tr th:only-of-type {\n",
       "        vertical-align: middle;\n",
       "    }\n",
       "\n",
       "    .dataframe tbody tr th {\n",
       "        vertical-align: top;\n",
       "    }\n",
       "\n",
       "    .dataframe thead th {\n",
       "        text-align: right;\n",
       "    }\n",
       "</style>\n",
       "<table border=\"1\" class=\"dataframe\">\n",
       "  <thead>\n",
       "    <tr style=\"text-align: right;\">\n",
       "      <th></th>\n",
       "      <th>A</th>\n",
       "      <th>B</th>\n",
       "      <th>C</th>\n",
       "    </tr>\n",
       "  </thead>\n",
       "  <tbody>\n",
       "    <tr>\n",
       "      <th>2000-01-01</th>\n",
       "      <td>1.019591</td>\n",
       "      <td>0.936447</td>\n",
       "      <td>0.048555</td>\n",
       "    </tr>\n",
       "    <tr>\n",
       "      <th>2000-01-02</th>\n",
       "      <td>1.036692</td>\n",
       "      <td>0.461386</td>\n",
       "      <td>2.170076</td>\n",
       "    </tr>\n",
       "    <tr>\n",
       "      <th>2000-01-03</th>\n",
       "      <td>0.940336</td>\n",
       "      <td>0.576746</td>\n",
       "      <td>1.264413</td>\n",
       "    </tr>\n",
       "    <tr>\n",
       "      <th>2000-01-04</th>\n",
       "      <td>NaN</td>\n",
       "      <td>NaN</td>\n",
       "      <td>NaN</td>\n",
       "    </tr>\n",
       "    <tr>\n",
       "      <th>2000-01-05</th>\n",
       "      <td>NaN</td>\n",
       "      <td>NaN</td>\n",
       "      <td>NaN</td>\n",
       "    </tr>\n",
       "    <tr>\n",
       "      <th>2000-01-06</th>\n",
       "      <td>NaN</td>\n",
       "      <td>NaN</td>\n",
       "      <td>NaN</td>\n",
       "    </tr>\n",
       "    <tr>\n",
       "      <th>2000-01-07</th>\n",
       "      <td>NaN</td>\n",
       "      <td>NaN</td>\n",
       "      <td>NaN</td>\n",
       "    </tr>\n",
       "    <tr>\n",
       "      <th>2000-01-08</th>\n",
       "      <td>0.318631</td>\n",
       "      <td>0.177405</td>\n",
       "      <td>1.481361</td>\n",
       "    </tr>\n",
       "    <tr>\n",
       "      <th>2000-01-09</th>\n",
       "      <td>0.301121</td>\n",
       "      <td>1.213045</td>\n",
       "      <td>0.330745</td>\n",
       "    </tr>\n",
       "    <tr>\n",
       "      <th>2000-01-10</th>\n",
       "      <td>0.905338</td>\n",
       "      <td>0.102909</td>\n",
       "      <td>0.554350</td>\n",
       "    </tr>\n",
       "  </tbody>\n",
       "</table>\n",
       "</div>"
      ],
      "text/plain": [
       "                   A         B         C\n",
       "2000-01-01  1.019591  0.936447  0.048555\n",
       "2000-01-02  1.036692  0.461386  2.170076\n",
       "2000-01-03  0.940336  0.576746  1.264413\n",
       "2000-01-04       NaN       NaN       NaN\n",
       "2000-01-05       NaN       NaN       NaN\n",
       "2000-01-06       NaN       NaN       NaN\n",
       "2000-01-07       NaN       NaN       NaN\n",
       "2000-01-08  0.318631  0.177405  1.481361\n",
       "2000-01-09  0.301121  1.213045  0.330745\n",
       "2000-01-10  0.905338  0.102909  0.554350"
      ]
     },
     "execution_count": 45,
     "metadata": {},
     "output_type": "execute_result"
    }
   ],
   "source": [
    "tsdf.transform(\"abs\")"
   ]
  },
  {
   "cell_type": "code",
   "execution_count": 46,
   "id": "9f717236",
   "metadata": {
    "execution": {
     "iopub.execute_input": "2025-02-28T13:35:28.784969Z",
     "iopub.status.busy": "2025-02-28T13:35:28.784686Z",
     "iopub.status.idle": "2025-02-28T13:35:28.793741Z",
     "shell.execute_reply": "2025-02-28T13:35:28.792879Z"
    },
    "papermill": {
     "duration": 0.028486,
     "end_time": "2025-02-28T13:35:28.794957",
     "exception": false,
     "start_time": "2025-02-28T13:35:28.766471",
     "status": "completed"
    },
    "tags": []
   },
   "outputs": [
    {
     "name": "stderr",
     "output_type": "stream",
     "text": [
      "/usr/local/lib/python3.10/dist-packages/pandas/io/formats/format.py:1458: RuntimeWarning: invalid value encountered in greater\n",
      "  has_large_values = (abs_vals > 1e6).any()\n",
      "/usr/local/lib/python3.10/dist-packages/pandas/io/formats/format.py:1459: RuntimeWarning: invalid value encountered in less\n",
      "  has_small_values = ((abs_vals < 10 ** (-self.digits)) & (abs_vals > 0)).any()\n",
      "/usr/local/lib/python3.10/dist-packages/pandas/io/formats/format.py:1459: RuntimeWarning: invalid value encountered in greater\n",
      "  has_small_values = ((abs_vals < 10 ** (-self.digits)) & (abs_vals > 0)).any()\n"
     ]
    },
    {
     "data": {
      "text/html": [
       "<div>\n",
       "<style scoped>\n",
       "    .dataframe tbody tr th:only-of-type {\n",
       "        vertical-align: middle;\n",
       "    }\n",
       "\n",
       "    .dataframe tbody tr th {\n",
       "        vertical-align: top;\n",
       "    }\n",
       "\n",
       "    .dataframe thead th {\n",
       "        text-align: right;\n",
       "    }\n",
       "</style>\n",
       "<table border=\"1\" class=\"dataframe\">\n",
       "  <thead>\n",
       "    <tr style=\"text-align: right;\">\n",
       "      <th></th>\n",
       "      <th>A</th>\n",
       "      <th>B</th>\n",
       "      <th>C</th>\n",
       "    </tr>\n",
       "  </thead>\n",
       "  <tbody>\n",
       "    <tr>\n",
       "      <th>2000-01-01</th>\n",
       "      <td>1.019591</td>\n",
       "      <td>0.936447</td>\n",
       "      <td>0.048555</td>\n",
       "    </tr>\n",
       "    <tr>\n",
       "      <th>2000-01-02</th>\n",
       "      <td>1.036692</td>\n",
       "      <td>0.461386</td>\n",
       "      <td>2.170076</td>\n",
       "    </tr>\n",
       "    <tr>\n",
       "      <th>2000-01-03</th>\n",
       "      <td>0.940336</td>\n",
       "      <td>0.576746</td>\n",
       "      <td>1.264413</td>\n",
       "    </tr>\n",
       "    <tr>\n",
       "      <th>2000-01-04</th>\n",
       "      <td>NaN</td>\n",
       "      <td>NaN</td>\n",
       "      <td>NaN</td>\n",
       "    </tr>\n",
       "    <tr>\n",
       "      <th>2000-01-05</th>\n",
       "      <td>NaN</td>\n",
       "      <td>NaN</td>\n",
       "      <td>NaN</td>\n",
       "    </tr>\n",
       "    <tr>\n",
       "      <th>2000-01-06</th>\n",
       "      <td>NaN</td>\n",
       "      <td>NaN</td>\n",
       "      <td>NaN</td>\n",
       "    </tr>\n",
       "    <tr>\n",
       "      <th>2000-01-07</th>\n",
       "      <td>NaN</td>\n",
       "      <td>NaN</td>\n",
       "      <td>NaN</td>\n",
       "    </tr>\n",
       "    <tr>\n",
       "      <th>2000-01-08</th>\n",
       "      <td>0.318631</td>\n",
       "      <td>0.177405</td>\n",
       "      <td>1.481361</td>\n",
       "    </tr>\n",
       "    <tr>\n",
       "      <th>2000-01-09</th>\n",
       "      <td>0.301121</td>\n",
       "      <td>1.213045</td>\n",
       "      <td>0.330745</td>\n",
       "    </tr>\n",
       "    <tr>\n",
       "      <th>2000-01-10</th>\n",
       "      <td>0.905338</td>\n",
       "      <td>0.102909</td>\n",
       "      <td>0.554350</td>\n",
       "    </tr>\n",
       "  </tbody>\n",
       "</table>\n",
       "</div>"
      ],
      "text/plain": [
       "                   A         B         C\n",
       "2000-01-01  1.019591  0.936447  0.048555\n",
       "2000-01-02  1.036692  0.461386  2.170076\n",
       "2000-01-03  0.940336  0.576746  1.264413\n",
       "2000-01-04       NaN       NaN       NaN\n",
       "2000-01-05       NaN       NaN       NaN\n",
       "2000-01-06       NaN       NaN       NaN\n",
       "2000-01-07       NaN       NaN       NaN\n",
       "2000-01-08  0.318631  0.177405  1.481361\n",
       "2000-01-09  0.301121  1.213045  0.330745\n",
       "2000-01-10  0.905338  0.102909  0.554350"
      ]
     },
     "execution_count": 46,
     "metadata": {},
     "output_type": "execute_result"
    }
   ],
   "source": [
    "tsdf.transform(lambda x: x.abs())"
   ]
  },
  {
   "cell_type": "code",
   "execution_count": 47,
   "id": "df191630",
   "metadata": {
    "execution": {
     "iopub.execute_input": "2025-02-28T13:35:28.831249Z",
     "iopub.status.busy": "2025-02-28T13:35:28.830967Z",
     "iopub.status.idle": "2025-02-28T13:35:28.840084Z",
     "shell.execute_reply": "2025-02-28T13:35:28.839122Z"
    },
    "papermill": {
     "duration": 0.028751,
     "end_time": "2025-02-28T13:35:28.841453",
     "exception": false,
     "start_time": "2025-02-28T13:35:28.812702",
     "status": "completed"
    },
    "tags": []
   },
   "outputs": [
    {
     "name": "stderr",
     "output_type": "stream",
     "text": [
      "/usr/local/lib/python3.10/dist-packages/pandas/io/formats/format.py:1458: RuntimeWarning: invalid value encountered in greater\n",
      "  has_large_values = (abs_vals > 1e6).any()\n",
      "/usr/local/lib/python3.10/dist-packages/pandas/io/formats/format.py:1459: RuntimeWarning: invalid value encountered in less\n",
      "  has_small_values = ((abs_vals < 10 ** (-self.digits)) & (abs_vals > 0)).any()\n",
      "/usr/local/lib/python3.10/dist-packages/pandas/io/formats/format.py:1459: RuntimeWarning: invalid value encountered in greater\n",
      "  has_small_values = ((abs_vals < 10 ** (-self.digits)) & (abs_vals > 0)).any()\n"
     ]
    },
    {
     "data": {
      "text/html": [
       "<div>\n",
       "<style scoped>\n",
       "    .dataframe tbody tr th:only-of-type {\n",
       "        vertical-align: middle;\n",
       "    }\n",
       "\n",
       "    .dataframe tbody tr th {\n",
       "        vertical-align: top;\n",
       "    }\n",
       "\n",
       "    .dataframe thead th {\n",
       "        text-align: right;\n",
       "    }\n",
       "</style>\n",
       "<table border=\"1\" class=\"dataframe\">\n",
       "  <thead>\n",
       "    <tr style=\"text-align: right;\">\n",
       "      <th></th>\n",
       "      <th>A</th>\n",
       "      <th>B</th>\n",
       "      <th>C</th>\n",
       "    </tr>\n",
       "  </thead>\n",
       "  <tbody>\n",
       "    <tr>\n",
       "      <th>2000-01-01</th>\n",
       "      <td>1.019591</td>\n",
       "      <td>0.936447</td>\n",
       "      <td>0.048555</td>\n",
       "    </tr>\n",
       "    <tr>\n",
       "      <th>2000-01-02</th>\n",
       "      <td>1.036692</td>\n",
       "      <td>0.461386</td>\n",
       "      <td>2.170076</td>\n",
       "    </tr>\n",
       "    <tr>\n",
       "      <th>2000-01-03</th>\n",
       "      <td>0.940336</td>\n",
       "      <td>0.576746</td>\n",
       "      <td>1.264413</td>\n",
       "    </tr>\n",
       "    <tr>\n",
       "      <th>2000-01-04</th>\n",
       "      <td>NaN</td>\n",
       "      <td>NaN</td>\n",
       "      <td>NaN</td>\n",
       "    </tr>\n",
       "    <tr>\n",
       "      <th>2000-01-05</th>\n",
       "      <td>NaN</td>\n",
       "      <td>NaN</td>\n",
       "      <td>NaN</td>\n",
       "    </tr>\n",
       "    <tr>\n",
       "      <th>2000-01-06</th>\n",
       "      <td>NaN</td>\n",
       "      <td>NaN</td>\n",
       "      <td>NaN</td>\n",
       "    </tr>\n",
       "    <tr>\n",
       "      <th>2000-01-07</th>\n",
       "      <td>NaN</td>\n",
       "      <td>NaN</td>\n",
       "      <td>NaN</td>\n",
       "    </tr>\n",
       "    <tr>\n",
       "      <th>2000-01-08</th>\n",
       "      <td>0.318631</td>\n",
       "      <td>0.177405</td>\n",
       "      <td>1.481361</td>\n",
       "    </tr>\n",
       "    <tr>\n",
       "      <th>2000-01-09</th>\n",
       "      <td>0.301121</td>\n",
       "      <td>1.213045</td>\n",
       "      <td>0.330745</td>\n",
       "    </tr>\n",
       "    <tr>\n",
       "      <th>2000-01-10</th>\n",
       "      <td>0.905338</td>\n",
       "      <td>0.102909</td>\n",
       "      <td>0.554350</td>\n",
       "    </tr>\n",
       "  </tbody>\n",
       "</table>\n",
       "</div>"
      ],
      "text/plain": [
       "                   A         B         C\n",
       "2000-01-01  1.019591  0.936447  0.048555\n",
       "2000-01-02  1.036692  0.461386  2.170076\n",
       "2000-01-03  0.940336  0.576746  1.264413\n",
       "2000-01-04       NaN       NaN       NaN\n",
       "2000-01-05       NaN       NaN       NaN\n",
       "2000-01-06       NaN       NaN       NaN\n",
       "2000-01-07       NaN       NaN       NaN\n",
       "2000-01-08  0.318631  0.177405  1.481361\n",
       "2000-01-09  0.301121  1.213045  0.330745\n",
       "2000-01-10  0.905338  0.102909  0.554350"
      ]
     },
     "execution_count": 47,
     "metadata": {},
     "output_type": "execute_result"
    }
   ],
   "source": [
    "np.abs(tsdf)"
   ]
  },
  {
   "cell_type": "code",
   "execution_count": 48,
   "id": "4b9a9fe8",
   "metadata": {
    "execution": {
     "iopub.execute_input": "2025-02-28T13:35:28.877317Z",
     "iopub.status.busy": "2025-02-28T13:35:28.877077Z",
     "iopub.status.idle": "2025-02-28T13:35:28.882566Z",
     "shell.execute_reply": "2025-02-28T13:35:28.881909Z"
    },
    "papermill": {
     "duration": 0.02415,
     "end_time": "2025-02-28T13:35:28.883604",
     "exception": false,
     "start_time": "2025-02-28T13:35:28.859454",
     "status": "completed"
    },
    "tags": []
   },
   "outputs": [
    {
     "data": {
      "text/plain": [
       "2000-01-01    1.019591\n",
       "2000-01-02    1.036692\n",
       "2000-01-03    0.940336\n",
       "2000-01-04         NaN\n",
       "2000-01-05         NaN\n",
       "2000-01-06         NaN\n",
       "2000-01-07         NaN\n",
       "2000-01-08    0.318631\n",
       "2000-01-09    0.301121\n",
       "2000-01-10    0.905338\n",
       "Freq: D, Name: A, dtype: float64"
      ]
     },
     "execution_count": 48,
     "metadata": {},
     "output_type": "execute_result"
    }
   ],
   "source": [
    "tsdf[\"A\"].transform(np.abs)"
   ]
  },
  {
   "cell_type": "code",
   "execution_count": 49,
   "id": "8cfa4628",
   "metadata": {
    "execution": {
     "iopub.execute_input": "2025-02-28T13:35:28.918642Z",
     "iopub.status.busy": "2025-02-28T13:35:28.918434Z",
     "iopub.status.idle": "2025-02-28T13:35:28.931792Z",
     "shell.execute_reply": "2025-02-28T13:35:28.931150Z"
    },
    "papermill": {
     "duration": 0.032148,
     "end_time": "2025-02-28T13:35:28.932899",
     "exception": false,
     "start_time": "2025-02-28T13:35:28.900751",
     "status": "completed"
    },
    "tags": []
   },
   "outputs": [
    {
     "name": "stderr",
     "output_type": "stream",
     "text": [
      "/usr/local/lib/python3.10/dist-packages/pandas/io/formats/format.py:1458: RuntimeWarning: invalid value encountered in greater\n",
      "  has_large_values = (abs_vals > 1e6).any()\n",
      "/usr/local/lib/python3.10/dist-packages/pandas/io/formats/format.py:1459: RuntimeWarning: invalid value encountered in less\n",
      "  has_small_values = ((abs_vals < 10 ** (-self.digits)) & (abs_vals > 0)).any()\n",
      "/usr/local/lib/python3.10/dist-packages/pandas/io/formats/format.py:1459: RuntimeWarning: invalid value encountered in greater\n",
      "  has_small_values = ((abs_vals < 10 ** (-self.digits)) & (abs_vals > 0)).any()\n"
     ]
    },
    {
     "data": {
      "text/html": [
       "<div>\n",
       "<style scoped>\n",
       "    .dataframe tbody tr th:only-of-type {\n",
       "        vertical-align: middle;\n",
       "    }\n",
       "\n",
       "    .dataframe tbody tr th {\n",
       "        vertical-align: top;\n",
       "    }\n",
       "\n",
       "    .dataframe thead tr th {\n",
       "        text-align: left;\n",
       "    }\n",
       "</style>\n",
       "<table border=\"1\" class=\"dataframe\">\n",
       "  <thead>\n",
       "    <tr>\n",
       "      <th></th>\n",
       "      <th colspan=\"2\" halign=\"left\">A</th>\n",
       "      <th colspan=\"2\" halign=\"left\">B</th>\n",
       "      <th colspan=\"2\" halign=\"left\">C</th>\n",
       "    </tr>\n",
       "    <tr>\n",
       "      <th></th>\n",
       "      <th>absolute</th>\n",
       "      <th>&lt;lambda&gt;</th>\n",
       "      <th>absolute</th>\n",
       "      <th>&lt;lambda&gt;</th>\n",
       "      <th>absolute</th>\n",
       "      <th>&lt;lambda&gt;</th>\n",
       "    </tr>\n",
       "  </thead>\n",
       "  <tbody>\n",
       "    <tr>\n",
       "      <th>2000-01-01</th>\n",
       "      <td>1.019591</td>\n",
       "      <td>-0.019591</td>\n",
       "      <td>0.936447</td>\n",
       "      <td>1.936447</td>\n",
       "      <td>0.048555</td>\n",
       "      <td>0.951445</td>\n",
       "    </tr>\n",
       "    <tr>\n",
       "      <th>2000-01-02</th>\n",
       "      <td>1.036692</td>\n",
       "      <td>2.036692</td>\n",
       "      <td>0.461386</td>\n",
       "      <td>1.461386</td>\n",
       "      <td>2.170076</td>\n",
       "      <td>-1.170076</td>\n",
       "    </tr>\n",
       "    <tr>\n",
       "      <th>2000-01-03</th>\n",
       "      <td>0.940336</td>\n",
       "      <td>0.059664</td>\n",
       "      <td>0.576746</td>\n",
       "      <td>0.423254</td>\n",
       "      <td>1.264413</td>\n",
       "      <td>2.264413</td>\n",
       "    </tr>\n",
       "    <tr>\n",
       "      <th>2000-01-04</th>\n",
       "      <td>NaN</td>\n",
       "      <td>NaN</td>\n",
       "      <td>NaN</td>\n",
       "      <td>NaN</td>\n",
       "      <td>NaN</td>\n",
       "      <td>NaN</td>\n",
       "    </tr>\n",
       "    <tr>\n",
       "      <th>2000-01-05</th>\n",
       "      <td>NaN</td>\n",
       "      <td>NaN</td>\n",
       "      <td>NaN</td>\n",
       "      <td>NaN</td>\n",
       "      <td>NaN</td>\n",
       "      <td>NaN</td>\n",
       "    </tr>\n",
       "    <tr>\n",
       "      <th>2000-01-06</th>\n",
       "      <td>NaN</td>\n",
       "      <td>NaN</td>\n",
       "      <td>NaN</td>\n",
       "      <td>NaN</td>\n",
       "      <td>NaN</td>\n",
       "      <td>NaN</td>\n",
       "    </tr>\n",
       "    <tr>\n",
       "      <th>2000-01-07</th>\n",
       "      <td>NaN</td>\n",
       "      <td>NaN</td>\n",
       "      <td>NaN</td>\n",
       "      <td>NaN</td>\n",
       "      <td>NaN</td>\n",
       "      <td>NaN</td>\n",
       "    </tr>\n",
       "    <tr>\n",
       "      <th>2000-01-08</th>\n",
       "      <td>0.318631</td>\n",
       "      <td>1.318631</td>\n",
       "      <td>0.177405</td>\n",
       "      <td>0.822595</td>\n",
       "      <td>1.481361</td>\n",
       "      <td>-0.481361</td>\n",
       "    </tr>\n",
       "    <tr>\n",
       "      <th>2000-01-09</th>\n",
       "      <td>0.301121</td>\n",
       "      <td>0.698879</td>\n",
       "      <td>1.213045</td>\n",
       "      <td>2.213045</td>\n",
       "      <td>0.330745</td>\n",
       "      <td>0.669255</td>\n",
       "    </tr>\n",
       "    <tr>\n",
       "      <th>2000-01-10</th>\n",
       "      <td>0.905338</td>\n",
       "      <td>0.094662</td>\n",
       "      <td>0.102909</td>\n",
       "      <td>0.897091</td>\n",
       "      <td>0.554350</td>\n",
       "      <td>0.445650</td>\n",
       "    </tr>\n",
       "  </tbody>\n",
       "</table>\n",
       "</div>"
      ],
      "text/plain": [
       "                   A                   B                   C          \n",
       "            absolute  <lambda>  absolute  <lambda>  absolute  <lambda>\n",
       "2000-01-01  1.019591 -0.019591  0.936447  1.936447  0.048555  0.951445\n",
       "2000-01-02  1.036692  2.036692  0.461386  1.461386  2.170076 -1.170076\n",
       "2000-01-03  0.940336  0.059664  0.576746  0.423254  1.264413  2.264413\n",
       "2000-01-04       NaN       NaN       NaN       NaN       NaN       NaN\n",
       "2000-01-05       NaN       NaN       NaN       NaN       NaN       NaN\n",
       "2000-01-06       NaN       NaN       NaN       NaN       NaN       NaN\n",
       "2000-01-07       NaN       NaN       NaN       NaN       NaN       NaN\n",
       "2000-01-08  0.318631  1.318631  0.177405  0.822595  1.481361 -0.481361\n",
       "2000-01-09  0.301121  0.698879  1.213045  2.213045  0.330745  0.669255\n",
       "2000-01-10  0.905338  0.094662  0.102909  0.897091  0.554350  0.445650"
      ]
     },
     "execution_count": 49,
     "metadata": {},
     "output_type": "execute_result"
    }
   ],
   "source": [
    "tsdf.transform([np.abs, lambda x: x + 1])"
   ]
  },
  {
   "cell_type": "code",
   "execution_count": 50,
   "id": "920b3923",
   "metadata": {
    "execution": {
     "iopub.execute_input": "2025-02-28T13:35:28.971769Z",
     "iopub.status.busy": "2025-02-28T13:35:28.971521Z",
     "iopub.status.idle": "2025-02-28T13:35:28.980032Z",
     "shell.execute_reply": "2025-02-28T13:35:28.979277Z"
    },
    "papermill": {
     "duration": 0.028813,
     "end_time": "2025-02-28T13:35:28.981040",
     "exception": false,
     "start_time": "2025-02-28T13:35:28.952227",
     "status": "completed"
    },
    "tags": []
   },
   "outputs": [
    {
     "name": "stderr",
     "output_type": "stream",
     "text": [
      "/usr/local/lib/python3.10/dist-packages/pandas/io/formats/format.py:1458: RuntimeWarning: invalid value encountered in greater\n",
      "  has_large_values = (abs_vals > 1e6).any()\n",
      "/usr/local/lib/python3.10/dist-packages/pandas/io/formats/format.py:1459: RuntimeWarning: invalid value encountered in less\n",
      "  has_small_values = ((abs_vals < 10 ** (-self.digits)) & (abs_vals > 0)).any()\n",
      "/usr/local/lib/python3.10/dist-packages/pandas/io/formats/format.py:1459: RuntimeWarning: invalid value encountered in greater\n",
      "  has_small_values = ((abs_vals < 10 ** (-self.digits)) & (abs_vals > 0)).any()\n"
     ]
    },
    {
     "data": {
      "text/html": [
       "<div>\n",
       "<style scoped>\n",
       "    .dataframe tbody tr th:only-of-type {\n",
       "        vertical-align: middle;\n",
       "    }\n",
       "\n",
       "    .dataframe tbody tr th {\n",
       "        vertical-align: top;\n",
       "    }\n",
       "\n",
       "    .dataframe thead th {\n",
       "        text-align: right;\n",
       "    }\n",
       "</style>\n",
       "<table border=\"1\" class=\"dataframe\">\n",
       "  <thead>\n",
       "    <tr style=\"text-align: right;\">\n",
       "      <th></th>\n",
       "      <th>absolute</th>\n",
       "      <th>&lt;lambda&gt;</th>\n",
       "    </tr>\n",
       "  </thead>\n",
       "  <tbody>\n",
       "    <tr>\n",
       "      <th>2000-01-01</th>\n",
       "      <td>1.019591</td>\n",
       "      <td>-0.019591</td>\n",
       "    </tr>\n",
       "    <tr>\n",
       "      <th>2000-01-02</th>\n",
       "      <td>1.036692</td>\n",
       "      <td>2.036692</td>\n",
       "    </tr>\n",
       "    <tr>\n",
       "      <th>2000-01-03</th>\n",
       "      <td>0.940336</td>\n",
       "      <td>0.059664</td>\n",
       "    </tr>\n",
       "    <tr>\n",
       "      <th>2000-01-04</th>\n",
       "      <td>NaN</td>\n",
       "      <td>NaN</td>\n",
       "    </tr>\n",
       "    <tr>\n",
       "      <th>2000-01-05</th>\n",
       "      <td>NaN</td>\n",
       "      <td>NaN</td>\n",
       "    </tr>\n",
       "    <tr>\n",
       "      <th>2000-01-06</th>\n",
       "      <td>NaN</td>\n",
       "      <td>NaN</td>\n",
       "    </tr>\n",
       "    <tr>\n",
       "      <th>2000-01-07</th>\n",
       "      <td>NaN</td>\n",
       "      <td>NaN</td>\n",
       "    </tr>\n",
       "    <tr>\n",
       "      <th>2000-01-08</th>\n",
       "      <td>0.318631</td>\n",
       "      <td>1.318631</td>\n",
       "    </tr>\n",
       "    <tr>\n",
       "      <th>2000-01-09</th>\n",
       "      <td>0.301121</td>\n",
       "      <td>0.698879</td>\n",
       "    </tr>\n",
       "    <tr>\n",
       "      <th>2000-01-10</th>\n",
       "      <td>0.905338</td>\n",
       "      <td>0.094662</td>\n",
       "    </tr>\n",
       "  </tbody>\n",
       "</table>\n",
       "</div>"
      ],
      "text/plain": [
       "            absolute  <lambda>\n",
       "2000-01-01  1.019591 -0.019591\n",
       "2000-01-02  1.036692  2.036692\n",
       "2000-01-03  0.940336  0.059664\n",
       "2000-01-04       NaN       NaN\n",
       "2000-01-05       NaN       NaN\n",
       "2000-01-06       NaN       NaN\n",
       "2000-01-07       NaN       NaN\n",
       "2000-01-08  0.318631  1.318631\n",
       "2000-01-09  0.301121  0.698879\n",
       "2000-01-10  0.905338  0.094662"
      ]
     },
     "execution_count": 50,
     "metadata": {},
     "output_type": "execute_result"
    }
   ],
   "source": [
    "tsdf[\"A\"].transform([np.abs, lambda x: x + 1])"
   ]
  },
  {
   "cell_type": "code",
   "execution_count": 51,
   "id": "462cbf71",
   "metadata": {
    "execution": {
     "iopub.execute_input": "2025-02-28T13:35:29.018787Z",
     "iopub.status.busy": "2025-02-28T13:35:29.018557Z",
     "iopub.status.idle": "2025-02-28T13:35:29.027274Z",
     "shell.execute_reply": "2025-02-28T13:35:29.026395Z"
    },
    "papermill": {
     "duration": 0.030026,
     "end_time": "2025-02-28T13:35:29.028616",
     "exception": false,
     "start_time": "2025-02-28T13:35:28.998590",
     "status": "completed"
    },
    "tags": []
   },
   "outputs": [
    {
     "name": "stderr",
     "output_type": "stream",
     "text": [
      "/usr/local/lib/python3.10/dist-packages/pandas/io/formats/format.py:1458: RuntimeWarning: invalid value encountered in greater\n",
      "  has_large_values = (abs_vals > 1e6).any()\n",
      "/usr/local/lib/python3.10/dist-packages/pandas/io/formats/format.py:1459: RuntimeWarning: invalid value encountered in less\n",
      "  has_small_values = ((abs_vals < 10 ** (-self.digits)) & (abs_vals > 0)).any()\n",
      "/usr/local/lib/python3.10/dist-packages/pandas/io/formats/format.py:1459: RuntimeWarning: invalid value encountered in greater\n",
      "  has_small_values = ((abs_vals < 10 ** (-self.digits)) & (abs_vals > 0)).any()\n"
     ]
    },
    {
     "data": {
      "text/html": [
       "<div>\n",
       "<style scoped>\n",
       "    .dataframe tbody tr th:only-of-type {\n",
       "        vertical-align: middle;\n",
       "    }\n",
       "\n",
       "    .dataframe tbody tr th {\n",
       "        vertical-align: top;\n",
       "    }\n",
       "\n",
       "    .dataframe thead th {\n",
       "        text-align: right;\n",
       "    }\n",
       "</style>\n",
       "<table border=\"1\" class=\"dataframe\">\n",
       "  <thead>\n",
       "    <tr style=\"text-align: right;\">\n",
       "      <th></th>\n",
       "      <th>A</th>\n",
       "      <th>B</th>\n",
       "    </tr>\n",
       "  </thead>\n",
       "  <tbody>\n",
       "    <tr>\n",
       "      <th>2000-01-01</th>\n",
       "      <td>1.019591</td>\n",
       "      <td>1.936447</td>\n",
       "    </tr>\n",
       "    <tr>\n",
       "      <th>2000-01-02</th>\n",
       "      <td>1.036692</td>\n",
       "      <td>1.461386</td>\n",
       "    </tr>\n",
       "    <tr>\n",
       "      <th>2000-01-03</th>\n",
       "      <td>0.940336</td>\n",
       "      <td>0.423254</td>\n",
       "    </tr>\n",
       "    <tr>\n",
       "      <th>2000-01-04</th>\n",
       "      <td>NaN</td>\n",
       "      <td>NaN</td>\n",
       "    </tr>\n",
       "    <tr>\n",
       "      <th>2000-01-05</th>\n",
       "      <td>NaN</td>\n",
       "      <td>NaN</td>\n",
       "    </tr>\n",
       "    <tr>\n",
       "      <th>2000-01-06</th>\n",
       "      <td>NaN</td>\n",
       "      <td>NaN</td>\n",
       "    </tr>\n",
       "    <tr>\n",
       "      <th>2000-01-07</th>\n",
       "      <td>NaN</td>\n",
       "      <td>NaN</td>\n",
       "    </tr>\n",
       "    <tr>\n",
       "      <th>2000-01-08</th>\n",
       "      <td>0.318631</td>\n",
       "      <td>0.822595</td>\n",
       "    </tr>\n",
       "    <tr>\n",
       "      <th>2000-01-09</th>\n",
       "      <td>0.301121</td>\n",
       "      <td>2.213045</td>\n",
       "    </tr>\n",
       "    <tr>\n",
       "      <th>2000-01-10</th>\n",
       "      <td>0.905338</td>\n",
       "      <td>0.897091</td>\n",
       "    </tr>\n",
       "  </tbody>\n",
       "</table>\n",
       "</div>"
      ],
      "text/plain": [
       "                   A         B\n",
       "2000-01-01  1.019591  1.936447\n",
       "2000-01-02  1.036692  1.461386\n",
       "2000-01-03  0.940336  0.423254\n",
       "2000-01-04       NaN       NaN\n",
       "2000-01-05       NaN       NaN\n",
       "2000-01-06       NaN       NaN\n",
       "2000-01-07       NaN       NaN\n",
       "2000-01-08  0.318631  0.822595\n",
       "2000-01-09  0.301121  2.213045\n",
       "2000-01-10  0.905338  0.897091"
      ]
     },
     "execution_count": 51,
     "metadata": {},
     "output_type": "execute_result"
    }
   ],
   "source": [
    "tsdf.transform({\"A\": np.abs, \"B\": lambda x: x + 1})"
   ]
  },
  {
   "cell_type": "code",
   "execution_count": 52,
   "id": "e38e789b",
   "metadata": {
    "execution": {
     "iopub.execute_input": "2025-02-28T13:35:29.069048Z",
     "iopub.status.busy": "2025-02-28T13:35:29.068734Z",
     "iopub.status.idle": "2025-02-28T13:35:29.079460Z",
     "shell.execute_reply": "2025-02-28T13:35:29.078434Z"
    },
    "papermill": {
     "duration": 0.03311,
     "end_time": "2025-02-28T13:35:29.080746",
     "exception": false,
     "start_time": "2025-02-28T13:35:29.047636",
     "status": "completed"
    },
    "tags": []
   },
   "outputs": [
    {
     "name": "stderr",
     "output_type": "stream",
     "text": [
      "/usr/local/lib/python3.10/dist-packages/pandas/io/formats/format.py:1458: RuntimeWarning: invalid value encountered in greater\n",
      "  has_large_values = (abs_vals > 1e6).any()\n",
      "/usr/local/lib/python3.10/dist-packages/pandas/io/formats/format.py:1459: RuntimeWarning: invalid value encountered in less\n",
      "  has_small_values = ((abs_vals < 10 ** (-self.digits)) & (abs_vals > 0)).any()\n",
      "/usr/local/lib/python3.10/dist-packages/pandas/io/formats/format.py:1459: RuntimeWarning: invalid value encountered in greater\n",
      "  has_small_values = ((abs_vals < 10 ** (-self.digits)) & (abs_vals > 0)).any()\n"
     ]
    },
    {
     "data": {
      "text/html": [
       "<div>\n",
       "<style scoped>\n",
       "    .dataframe tbody tr th:only-of-type {\n",
       "        vertical-align: middle;\n",
       "    }\n",
       "\n",
       "    .dataframe tbody tr th {\n",
       "        vertical-align: top;\n",
       "    }\n",
       "\n",
       "    .dataframe thead th {\n",
       "        text-align: right;\n",
       "    }\n",
       "</style>\n",
       "<table border=\"1\" class=\"dataframe\">\n",
       "  <thead>\n",
       "    <tr style=\"text-align: right;\">\n",
       "      <th></th>\n",
       "      <th>one</th>\n",
       "      <th>two</th>\n",
       "      <th>three</th>\n",
       "    </tr>\n",
       "  </thead>\n",
       "  <tbody>\n",
       "    <tr>\n",
       "      <th>a</th>\n",
       "      <td>0.165601</td>\n",
       "      <td>-1.466552</td>\n",
       "      <td>NaN</td>\n",
       "    </tr>\n",
       "    <tr>\n",
       "      <th>b</th>\n",
       "      <td>0.568030</td>\n",
       "      <td>0.269346</td>\n",
       "      <td>0.749613</td>\n",
       "    </tr>\n",
       "    <tr>\n",
       "      <th>c</th>\n",
       "      <td>-0.611387</td>\n",
       "      <td>-0.591716</td>\n",
       "      <td>1.224912</td>\n",
       "    </tr>\n",
       "    <tr>\n",
       "      <th>d</th>\n",
       "      <td>NaN</td>\n",
       "      <td>0.046724</td>\n",
       "      <td>0.436237</td>\n",
       "    </tr>\n",
       "  </tbody>\n",
       "</table>\n",
       "</div>"
      ],
      "text/plain": [
       "        one       two     three\n",
       "a  0.165601 -1.466552       NaN\n",
       "b  0.568030  0.269346  0.749613\n",
       "c -0.611387 -0.591716  1.224912\n",
       "d       NaN  0.046724  0.436237"
      ]
     },
     "execution_count": 52,
     "metadata": {},
     "output_type": "execute_result"
    }
   ],
   "source": [
    "df = pd.DataFrame({\n",
    "\"one\": pd.Series(np.random.randn(3), index=[\"a\", \"b\", \"c\"]),\n",
    "\"two\": pd.Series(np.random.randn(4), index=[\"a\", \"b\", \"c\", \"d\"]),\n",
    "\"three\": pd.Series(np.random.randn(3), index=[\"b\", \"c\", \"d\"]),\n",
    "})\n",
    "\n",
    "df"
   ]
  },
  {
   "cell_type": "code",
   "execution_count": 53,
   "id": "522db697",
   "metadata": {
    "execution": {
     "iopub.execute_input": "2025-02-28T13:35:29.120809Z",
     "iopub.status.busy": "2025-02-28T13:35:29.120515Z",
     "iopub.status.idle": "2025-02-28T13:35:29.131363Z",
     "shell.execute_reply": "2025-02-28T13:35:29.130693Z"
    },
    "papermill": {
     "duration": 0.031729,
     "end_time": "2025-02-28T13:35:29.132433",
     "exception": false,
     "start_time": "2025-02-28T13:35:29.100704",
     "status": "completed"
    },
    "tags": []
   },
   "outputs": [
    {
     "name": "stderr",
     "output_type": "stream",
     "text": [
      "/usr/local/lib/python3.10/dist-packages/pandas/core/computation/expressions.py:73: RuntimeWarning: invalid value encountered in greater\n",
      "  return op(a, b)\n",
      "/usr/local/lib/python3.10/dist-packages/pandas/io/formats/format.py:1458: RuntimeWarning: invalid value encountered in greater\n",
      "  has_large_values = (abs_vals > 1e6).any()\n",
      "/usr/local/lib/python3.10/dist-packages/pandas/io/formats/format.py:1459: RuntimeWarning: invalid value encountered in less\n",
      "  has_small_values = ((abs_vals < 10 ** (-self.digits)) & (abs_vals > 0)).any()\n",
      "/usr/local/lib/python3.10/dist-packages/pandas/io/formats/format.py:1459: RuntimeWarning: invalid value encountered in greater\n",
      "  has_small_values = ((abs_vals < 10 ** (-self.digits)) & (abs_vals > 0)).any()\n"
     ]
    },
    {
     "data": {
      "text/html": [
       "<div>\n",
       "<style scoped>\n",
       "    .dataframe tbody tr th:only-of-type {\n",
       "        vertical-align: middle;\n",
       "    }\n",
       "\n",
       "    .dataframe tbody tr th {\n",
       "        vertical-align: top;\n",
       "    }\n",
       "\n",
       "    .dataframe thead th {\n",
       "        text-align: right;\n",
       "    }\n",
       "</style>\n",
       "<table border=\"1\" class=\"dataframe\">\n",
       "  <thead>\n",
       "    <tr style=\"text-align: right;\">\n",
       "      <th></th>\n",
       "      <th>one</th>\n",
       "      <th>two</th>\n",
       "      <th>three</th>\n",
       "      <th>flag</th>\n",
       "    </tr>\n",
       "  </thead>\n",
       "  <tbody>\n",
       "    <tr>\n",
       "      <th>a</th>\n",
       "      <td>0.165601</td>\n",
       "      <td>-1.466552</td>\n",
       "      <td>-0.242863</td>\n",
       "      <td>False</td>\n",
       "    </tr>\n",
       "    <tr>\n",
       "      <th>b</th>\n",
       "      <td>0.568030</td>\n",
       "      <td>0.269346</td>\n",
       "      <td>0.152997</td>\n",
       "      <td>False</td>\n",
       "    </tr>\n",
       "    <tr>\n",
       "      <th>c</th>\n",
       "      <td>-0.611387</td>\n",
       "      <td>-0.591716</td>\n",
       "      <td>0.361768</td>\n",
       "      <td>False</td>\n",
       "    </tr>\n",
       "    <tr>\n",
       "      <th>d</th>\n",
       "      <td>NaN</td>\n",
       "      <td>0.046724</td>\n",
       "      <td>NaN</td>\n",
       "      <td>False</td>\n",
       "    </tr>\n",
       "  </tbody>\n",
       "</table>\n",
       "</div>"
      ],
      "text/plain": [
       "        one       two     three   flag\n",
       "a  0.165601 -1.466552 -0.242863  False\n",
       "b  0.568030  0.269346  0.152997  False\n",
       "c -0.611387 -0.591716  0.361768  False\n",
       "d       NaN  0.046724       NaN  False"
      ]
     },
     "execution_count": 53,
     "metadata": {},
     "output_type": "execute_result"
    }
   ],
   "source": [
    "df[\"three\"] = df[\"one\"] * df[\"two\"]\n",
    "df[\"flag\"] = df[\"one\"] > 2\n",
    "df"
   ]
  },
  {
   "cell_type": "code",
   "execution_count": 54,
   "id": "e37eb33c",
   "metadata": {
    "execution": {
     "iopub.execute_input": "2025-02-28T13:35:29.172044Z",
     "iopub.status.busy": "2025-02-28T13:35:29.171720Z",
     "iopub.status.idle": "2025-02-28T13:35:29.177236Z",
     "shell.execute_reply": "2025-02-28T13:35:29.176389Z"
    },
    "papermill": {
     "duration": 0.026716,
     "end_time": "2025-02-28T13:35:29.178450",
     "exception": false,
     "start_time": "2025-02-28T13:35:29.151734",
     "status": "completed"
    },
    "tags": []
   },
   "outputs": [
    {
     "data": {
      "text/plain": [
       "a    19\n",
       "b    18\n",
       "c    19\n",
       "d     3\n",
       "Name: one, dtype: int64"
      ]
     },
     "execution_count": 54,
     "metadata": {},
     "output_type": "execute_result"
    }
   ],
   "source": [
    "def f(x):\n",
    "    return len(str(x))\n",
    "df[\"one\"].map(f)"
   ]
  },
  {
   "cell_type": "code",
   "execution_count": 55,
   "id": "fa41872b",
   "metadata": {
    "execution": {
     "iopub.execute_input": "2025-02-28T13:35:29.219470Z",
     "iopub.status.busy": "2025-02-28T13:35:29.219141Z",
     "iopub.status.idle": "2025-02-28T13:35:29.227463Z",
     "shell.execute_reply": "2025-02-28T13:35:29.226671Z"
    },
    "papermill": {
     "duration": 0.030327,
     "end_time": "2025-02-28T13:35:29.228647",
     "exception": false,
     "start_time": "2025-02-28T13:35:29.198320",
     "status": "completed"
    },
    "tags": []
   },
   "outputs": [
    {
     "name": "stderr",
     "output_type": "stream",
     "text": [
      "<ipython-input-55-6c8daf873a64>:1: FutureWarning: DataFrame.applymap has been deprecated. Use DataFrame.map instead.\n",
      "  df.applymap(f)\n"
     ]
    },
    {
     "data": {
      "text/html": [
       "<div>\n",
       "<style scoped>\n",
       "    .dataframe tbody tr th:only-of-type {\n",
       "        vertical-align: middle;\n",
       "    }\n",
       "\n",
       "    .dataframe tbody tr th {\n",
       "        vertical-align: top;\n",
       "    }\n",
       "\n",
       "    .dataframe thead th {\n",
       "        text-align: right;\n",
       "    }\n",
       "</style>\n",
       "<table border=\"1\" class=\"dataframe\">\n",
       "  <thead>\n",
       "    <tr style=\"text-align: right;\">\n",
       "      <th></th>\n",
       "      <th>one</th>\n",
       "      <th>two</th>\n",
       "      <th>three</th>\n",
       "      <th>flag</th>\n",
       "    </tr>\n",
       "  </thead>\n",
       "  <tbody>\n",
       "    <tr>\n",
       "      <th>a</th>\n",
       "      <td>19</td>\n",
       "      <td>19</td>\n",
       "      <td>20</td>\n",
       "      <td>5</td>\n",
       "    </tr>\n",
       "    <tr>\n",
       "      <th>b</th>\n",
       "      <td>18</td>\n",
       "      <td>19</td>\n",
       "      <td>19</td>\n",
       "      <td>5</td>\n",
       "    </tr>\n",
       "    <tr>\n",
       "      <th>c</th>\n",
       "      <td>19</td>\n",
       "      <td>19</td>\n",
       "      <td>18</td>\n",
       "      <td>5</td>\n",
       "    </tr>\n",
       "    <tr>\n",
       "      <th>d</th>\n",
       "      <td>3</td>\n",
       "      <td>19</td>\n",
       "      <td>3</td>\n",
       "      <td>5</td>\n",
       "    </tr>\n",
       "  </tbody>\n",
       "</table>\n",
       "</div>"
      ],
      "text/plain": [
       "   one  two  three  flag\n",
       "a   19   19     20     5\n",
       "b   18   19     19     5\n",
       "c   19   19     18     5\n",
       "d    3   19      3     5"
      ]
     },
     "execution_count": 55,
     "metadata": {},
     "output_type": "execute_result"
    }
   ],
   "source": [
    "df.applymap(f)"
   ]
  },
  {
   "cell_type": "code",
   "execution_count": 56,
   "id": "d30cfafa",
   "metadata": {
    "execution": {
     "iopub.execute_input": "2025-02-28T13:35:29.265824Z",
     "iopub.status.busy": "2025-02-28T13:35:29.265569Z",
     "iopub.status.idle": "2025-02-28T13:35:29.271793Z",
     "shell.execute_reply": "2025-02-28T13:35:29.271009Z"
    },
    "papermill": {
     "duration": 0.026215,
     "end_time": "2025-02-28T13:35:29.273163",
     "exception": false,
     "start_time": "2025-02-28T13:35:29.246948",
     "status": "completed"
    },
    "tags": []
   },
   "outputs": [
    {
     "data": {
      "text/plain": [
       "a      six\n",
       "b    seven\n",
       "c      six\n",
       "d    seven\n",
       "e      six\n",
       "dtype: object"
      ]
     },
     "execution_count": 56,
     "metadata": {},
     "output_type": "execute_result"
    }
   ],
   "source": [
    "s = pd.Series(\n",
    "[\"six\", \"seven\", \"six\", \"seven\", \"six\"], index=[\"a\", \"b\", \"c\", \"d\", \"e\"]\n",
    ")\n",
    "\n",
    "t = pd.Series({\"six\": 6.0, \"seven\": 7.0})\n",
    "s"
   ]
  },
  {
   "cell_type": "code",
   "execution_count": 57,
   "id": "29f114b6",
   "metadata": {
    "execution": {
     "iopub.execute_input": "2025-02-28T13:35:29.313564Z",
     "iopub.status.busy": "2025-02-28T13:35:29.313305Z",
     "iopub.status.idle": "2025-02-28T13:35:29.318673Z",
     "shell.execute_reply": "2025-02-28T13:35:29.318033Z"
    },
    "papermill": {
     "duration": 0.026125,
     "end_time": "2025-02-28T13:35:29.319932",
     "exception": false,
     "start_time": "2025-02-28T13:35:29.293807",
     "status": "completed"
    },
    "tags": []
   },
   "outputs": [
    {
     "data": {
      "text/plain": [
       "a    6.0\n",
       "b    7.0\n",
       "c    6.0\n",
       "d    7.0\n",
       "e    6.0\n",
       "dtype: float64"
      ]
     },
     "execution_count": 57,
     "metadata": {},
     "output_type": "execute_result"
    }
   ],
   "source": [
    "s.map(t)"
   ]
  },
  {
   "cell_type": "code",
   "execution_count": 58,
   "id": "524a9fa5",
   "metadata": {
    "execution": {
     "iopub.execute_input": "2025-02-28T13:35:29.361278Z",
     "iopub.status.busy": "2025-02-28T13:35:29.361028Z",
     "iopub.status.idle": "2025-02-28T13:35:29.366808Z",
     "shell.execute_reply": "2025-02-28T13:35:29.366020Z"
    },
    "papermill": {
     "duration": 0.027341,
     "end_time": "2025-02-28T13:35:29.367928",
     "exception": false,
     "start_time": "2025-02-28T13:35:29.340587",
     "status": "completed"
    },
    "tags": []
   },
   "outputs": [
    {
     "data": {
      "text/plain": [
       "a   -0.610546\n",
       "b    1.822595\n",
       "c    0.327483\n",
       "d   -0.207456\n",
       "e    0.706966\n",
       "dtype: float64"
      ]
     },
     "execution_count": 58,
     "metadata": {},
     "output_type": "execute_result"
    }
   ],
   "source": [
    "s = pd.Series(np.random.randn(5), index=[\"a\", \"b\", \"c\", \"d\", \"e\"])\n",
    "s"
   ]
  },
  {
   "cell_type": "code",
   "execution_count": 59,
   "id": "510f3f75",
   "metadata": {
    "execution": {
     "iopub.execute_input": "2025-02-28T13:35:29.405972Z",
     "iopub.status.busy": "2025-02-28T13:35:29.405688Z",
     "iopub.status.idle": "2025-02-28T13:35:29.412172Z",
     "shell.execute_reply": "2025-02-28T13:35:29.411349Z"
    },
    "papermill": {
     "duration": 0.026304,
     "end_time": "2025-02-28T13:35:29.413225",
     "exception": false,
     "start_time": "2025-02-28T13:35:29.386921",
     "status": "completed"
    },
    "tags": []
   },
   "outputs": [
    {
     "name": "stderr",
     "output_type": "stream",
     "text": [
      "/usr/local/lib/python3.10/dist-packages/pandas/io/formats/format.py:1458: RuntimeWarning: invalid value encountered in greater\n",
      "  has_large_values = (abs_vals > 1e6).any()\n",
      "/usr/local/lib/python3.10/dist-packages/pandas/io/formats/format.py:1459: RuntimeWarning: invalid value encountered in less\n",
      "  has_small_values = ((abs_vals < 10 ** (-self.digits)) & (abs_vals > 0)).any()\n",
      "/usr/local/lib/python3.10/dist-packages/pandas/io/formats/format.py:1459: RuntimeWarning: invalid value encountered in greater\n",
      "  has_small_values = ((abs_vals < 10 ** (-self.digits)) & (abs_vals > 0)).any()\n"
     ]
    },
    {
     "data": {
      "text/plain": [
       "e    0.706966\n",
       "b    1.822595\n",
       "f         NaN\n",
       "d   -0.207456\n",
       "dtype: float64"
      ]
     },
     "execution_count": 59,
     "metadata": {},
     "output_type": "execute_result"
    }
   ],
   "source": [
    "s.reindex([\"e\", \"b\", \"f\", \"d\"])"
   ]
  },
  {
   "cell_type": "code",
   "execution_count": 60,
   "id": "88c7aea6",
   "metadata": {
    "execution": {
     "iopub.execute_input": "2025-02-28T13:35:29.451180Z",
     "iopub.status.busy": "2025-02-28T13:35:29.450950Z",
     "iopub.status.idle": "2025-02-28T13:35:29.459151Z",
     "shell.execute_reply": "2025-02-28T13:35:29.458275Z"
    },
    "papermill": {
     "duration": 0.028593,
     "end_time": "2025-02-28T13:35:29.460360",
     "exception": false,
     "start_time": "2025-02-28T13:35:29.431767",
     "status": "completed"
    },
    "tags": []
   },
   "outputs": [
    {
     "name": "stderr",
     "output_type": "stream",
     "text": [
      "/usr/local/lib/python3.10/dist-packages/pandas/io/formats/format.py:1458: RuntimeWarning: invalid value encountered in greater\n",
      "  has_large_values = (abs_vals > 1e6).any()\n",
      "/usr/local/lib/python3.10/dist-packages/pandas/io/formats/format.py:1459: RuntimeWarning: invalid value encountered in less\n",
      "  has_small_values = ((abs_vals < 10 ** (-self.digits)) & (abs_vals > 0)).any()\n",
      "/usr/local/lib/python3.10/dist-packages/pandas/io/formats/format.py:1459: RuntimeWarning: invalid value encountered in greater\n",
      "  has_small_values = ((abs_vals < 10 ** (-self.digits)) & (abs_vals > 0)).any()\n"
     ]
    },
    {
     "data": {
      "text/html": [
       "<div>\n",
       "<style scoped>\n",
       "    .dataframe tbody tr th:only-of-type {\n",
       "        vertical-align: middle;\n",
       "    }\n",
       "\n",
       "    .dataframe tbody tr th {\n",
       "        vertical-align: top;\n",
       "    }\n",
       "\n",
       "    .dataframe thead th {\n",
       "        text-align: right;\n",
       "    }\n",
       "</style>\n",
       "<table border=\"1\" class=\"dataframe\">\n",
       "  <thead>\n",
       "    <tr style=\"text-align: right;\">\n",
       "      <th></th>\n",
       "      <th>three</th>\n",
       "      <th>two</th>\n",
       "      <th>one</th>\n",
       "    </tr>\n",
       "  </thead>\n",
       "  <tbody>\n",
       "    <tr>\n",
       "      <th>c</th>\n",
       "      <td>0.361768</td>\n",
       "      <td>-0.591716</td>\n",
       "      <td>-0.611387</td>\n",
       "    </tr>\n",
       "    <tr>\n",
       "      <th>f</th>\n",
       "      <td>NaN</td>\n",
       "      <td>NaN</td>\n",
       "      <td>NaN</td>\n",
       "    </tr>\n",
       "    <tr>\n",
       "      <th>b</th>\n",
       "      <td>0.152997</td>\n",
       "      <td>0.269346</td>\n",
       "      <td>0.568030</td>\n",
       "    </tr>\n",
       "  </tbody>\n",
       "</table>\n",
       "</div>"
      ],
      "text/plain": [
       "      three       two       one\n",
       "c  0.361768 -0.591716 -0.611387\n",
       "f       NaN       NaN       NaN\n",
       "b  0.152997  0.269346  0.568030"
      ]
     },
     "execution_count": 60,
     "metadata": {},
     "output_type": "execute_result"
    }
   ],
   "source": [
    "df.reindex(index=[\"c\", \"f\", \"b\"], columns=[\"three\", \"two\", \"one\"])"
   ]
  },
  {
   "cell_type": "code",
   "execution_count": 61,
   "id": "e9187e58",
   "metadata": {
    "execution": {
     "iopub.execute_input": "2025-02-28T13:35:29.498419Z",
     "iopub.status.busy": "2025-02-28T13:35:29.498176Z",
     "iopub.status.idle": "2025-02-28T13:35:29.506582Z",
     "shell.execute_reply": "2025-02-28T13:35:29.505736Z"
    },
    "papermill": {
     "duration": 0.028489,
     "end_time": "2025-02-28T13:35:29.507624",
     "exception": false,
     "start_time": "2025-02-28T13:35:29.479135",
     "status": "completed"
    },
    "tags": []
   },
   "outputs": [
    {
     "name": "stderr",
     "output_type": "stream",
     "text": [
      "/usr/local/lib/python3.10/dist-packages/pandas/io/formats/format.py:1458: RuntimeWarning: invalid value encountered in greater\n",
      "  has_large_values = (abs_vals > 1e6).any()\n",
      "/usr/local/lib/python3.10/dist-packages/pandas/io/formats/format.py:1459: RuntimeWarning: invalid value encountered in less\n",
      "  has_small_values = ((abs_vals < 10 ** (-self.digits)) & (abs_vals > 0)).any()\n",
      "/usr/local/lib/python3.10/dist-packages/pandas/io/formats/format.py:1459: RuntimeWarning: invalid value encountered in greater\n",
      "  has_small_values = ((abs_vals < 10 ** (-self.digits)) & (abs_vals > 0)).any()\n"
     ]
    },
    {
     "data": {
      "text/html": [
       "<div>\n",
       "<style scoped>\n",
       "    .dataframe tbody tr th:only-of-type {\n",
       "        vertical-align: middle;\n",
       "    }\n",
       "\n",
       "    .dataframe tbody tr th {\n",
       "        vertical-align: top;\n",
       "    }\n",
       "\n",
       "    .dataframe thead th {\n",
       "        text-align: right;\n",
       "    }\n",
       "</style>\n",
       "<table border=\"1\" class=\"dataframe\">\n",
       "  <thead>\n",
       "    <tr style=\"text-align: right;\">\n",
       "      <th></th>\n",
       "      <th>one</th>\n",
       "      <th>two</th>\n",
       "      <th>three</th>\n",
       "      <th>flag</th>\n",
       "    </tr>\n",
       "  </thead>\n",
       "  <tbody>\n",
       "    <tr>\n",
       "      <th>c</th>\n",
       "      <td>-0.611387</td>\n",
       "      <td>-0.591716</td>\n",
       "      <td>0.361768</td>\n",
       "      <td>False</td>\n",
       "    </tr>\n",
       "    <tr>\n",
       "      <th>f</th>\n",
       "      <td>NaN</td>\n",
       "      <td>NaN</td>\n",
       "      <td>NaN</td>\n",
       "      <td>NaN</td>\n",
       "    </tr>\n",
       "    <tr>\n",
       "      <th>b</th>\n",
       "      <td>0.568030</td>\n",
       "      <td>0.269346</td>\n",
       "      <td>0.152997</td>\n",
       "      <td>False</td>\n",
       "    </tr>\n",
       "  </tbody>\n",
       "</table>\n",
       "</div>"
      ],
      "text/plain": [
       "        one       two     three   flag\n",
       "c -0.611387 -0.591716  0.361768  False\n",
       "f       NaN       NaN       NaN    NaN\n",
       "b  0.568030  0.269346  0.152997  False"
      ]
     },
     "execution_count": 61,
     "metadata": {},
     "output_type": "execute_result"
    }
   ],
   "source": [
    "df.reindex([\"c\", \"f\", \"b\"], axis=\"index\")"
   ]
  },
  {
   "cell_type": "code",
   "execution_count": 62,
   "id": "210bac0b",
   "metadata": {
    "execution": {
     "iopub.execute_input": "2025-02-28T13:35:29.546250Z",
     "iopub.status.busy": "2025-02-28T13:35:29.545951Z",
     "iopub.status.idle": "2025-02-28T13:35:29.551549Z",
     "shell.execute_reply": "2025-02-28T13:35:29.550817Z"
    },
    "papermill": {
     "duration": 0.026246,
     "end_time": "2025-02-28T13:35:29.552639",
     "exception": false,
     "start_time": "2025-02-28T13:35:29.526393",
     "status": "completed"
    },
    "tags": []
   },
   "outputs": [
    {
     "data": {
      "text/plain": [
       "a   -0.610546\n",
       "b    1.822595\n",
       "c    0.327483\n",
       "d   -0.207456\n",
       "dtype: float64"
      ]
     },
     "execution_count": 62,
     "metadata": {},
     "output_type": "execute_result"
    }
   ],
   "source": [
    "rs = s.reindex(df.index)\n",
    "rs"
   ]
  },
  {
   "cell_type": "code",
   "execution_count": 63,
   "id": "fbdcaa3d",
   "metadata": {
    "execution": {
     "iopub.execute_input": "2025-02-28T13:35:29.592511Z",
     "iopub.status.busy": "2025-02-28T13:35:29.592296Z",
     "iopub.status.idle": "2025-02-28T13:35:29.601946Z",
     "shell.execute_reply": "2025-02-28T13:35:29.601128Z"
    },
    "papermill": {
     "duration": 0.029913,
     "end_time": "2025-02-28T13:35:29.603011",
     "exception": false,
     "start_time": "2025-02-28T13:35:29.573098",
     "status": "completed"
    },
    "tags": []
   },
   "outputs": [
    {
     "name": "stderr",
     "output_type": "stream",
     "text": [
      "/usr/local/lib/python3.10/dist-packages/pandas/io/formats/format.py:1458: RuntimeWarning: invalid value encountered in greater\n",
      "  has_large_values = (abs_vals > 1e6).any()\n",
      "/usr/local/lib/python3.10/dist-packages/pandas/io/formats/format.py:1459: RuntimeWarning: invalid value encountered in less\n",
      "  has_small_values = ((abs_vals < 10 ** (-self.digits)) & (abs_vals > 0)).any()\n",
      "/usr/local/lib/python3.10/dist-packages/pandas/io/formats/format.py:1459: RuntimeWarning: invalid value encountered in greater\n",
      "  has_small_values = ((abs_vals < 10 ** (-self.digits)) & (abs_vals > 0)).any()\n"
     ]
    },
    {
     "data": {
      "text/html": [
       "<div>\n",
       "<style scoped>\n",
       "    .dataframe tbody tr th:only-of-type {\n",
       "        vertical-align: middle;\n",
       "    }\n",
       "\n",
       "    .dataframe tbody tr th {\n",
       "        vertical-align: top;\n",
       "    }\n",
       "\n",
       "    .dataframe thead th {\n",
       "        text-align: right;\n",
       "    }\n",
       "</style>\n",
       "<table border=\"1\" class=\"dataframe\">\n",
       "  <thead>\n",
       "    <tr style=\"text-align: right;\">\n",
       "      <th></th>\n",
       "      <th>one</th>\n",
       "      <th>two</th>\n",
       "      <th>three</th>\n",
       "      <th>flag</th>\n",
       "    </tr>\n",
       "  </thead>\n",
       "  <tbody>\n",
       "    <tr>\n",
       "      <th>c</th>\n",
       "      <td>-0.611387</td>\n",
       "      <td>-0.591716</td>\n",
       "      <td>0.361768</td>\n",
       "      <td>False</td>\n",
       "    </tr>\n",
       "    <tr>\n",
       "      <th>f</th>\n",
       "      <td>NaN</td>\n",
       "      <td>NaN</td>\n",
       "      <td>NaN</td>\n",
       "      <td>NaN</td>\n",
       "    </tr>\n",
       "    <tr>\n",
       "      <th>b</th>\n",
       "      <td>0.568030</td>\n",
       "      <td>0.269346</td>\n",
       "      <td>0.152997</td>\n",
       "      <td>False</td>\n",
       "    </tr>\n",
       "  </tbody>\n",
       "</table>\n",
       "</div>"
      ],
      "text/plain": [
       "        one       two     three   flag\n",
       "c -0.611387 -0.591716  0.361768  False\n",
       "f       NaN       NaN       NaN    NaN\n",
       "b  0.568030  0.269346  0.152997  False"
      ]
     },
     "execution_count": 63,
     "metadata": {},
     "output_type": "execute_result"
    }
   ],
   "source": [
    "df.reindex([\"c\", \"f\", \"b\"], axis=\"index\")"
   ]
  },
  {
   "cell_type": "code",
   "execution_count": 64,
   "id": "85453d7f",
   "metadata": {
    "execution": {
     "iopub.execute_input": "2025-02-28T13:35:29.646715Z",
     "iopub.status.busy": "2025-02-28T13:35:29.646463Z",
     "iopub.status.idle": "2025-02-28T13:35:29.655469Z",
     "shell.execute_reply": "2025-02-28T13:35:29.654747Z"
    },
    "papermill": {
     "duration": 0.032361,
     "end_time": "2025-02-28T13:35:29.656519",
     "exception": false,
     "start_time": "2025-02-28T13:35:29.624158",
     "status": "completed"
    },
    "tags": []
   },
   "outputs": [
    {
     "name": "stderr",
     "output_type": "stream",
     "text": [
      "/usr/local/lib/python3.10/dist-packages/pandas/io/formats/format.py:1458: RuntimeWarning: invalid value encountered in greater\n",
      "  has_large_values = (abs_vals > 1e6).any()\n",
      "/usr/local/lib/python3.10/dist-packages/pandas/io/formats/format.py:1459: RuntimeWarning: invalid value encountered in less\n",
      "  has_small_values = ((abs_vals < 10 ** (-self.digits)) & (abs_vals > 0)).any()\n",
      "/usr/local/lib/python3.10/dist-packages/pandas/io/formats/format.py:1459: RuntimeWarning: invalid value encountered in greater\n",
      "  has_small_values = ((abs_vals < 10 ** (-self.digits)) & (abs_vals > 0)).any()\n"
     ]
    },
    {
     "data": {
      "text/html": [
       "<div>\n",
       "<style scoped>\n",
       "    .dataframe tbody tr th:only-of-type {\n",
       "        vertical-align: middle;\n",
       "    }\n",
       "\n",
       "    .dataframe tbody tr th {\n",
       "        vertical-align: top;\n",
       "    }\n",
       "\n",
       "    .dataframe thead th {\n",
       "        text-align: right;\n",
       "    }\n",
       "</style>\n",
       "<table border=\"1\" class=\"dataframe\">\n",
       "  <thead>\n",
       "    <tr style=\"text-align: right;\">\n",
       "      <th></th>\n",
       "      <th>three</th>\n",
       "      <th>two</th>\n",
       "      <th>one</th>\n",
       "    </tr>\n",
       "  </thead>\n",
       "  <tbody>\n",
       "    <tr>\n",
       "      <th>a</th>\n",
       "      <td>-0.242863</td>\n",
       "      <td>-1.466552</td>\n",
       "      <td>0.165601</td>\n",
       "    </tr>\n",
       "    <tr>\n",
       "      <th>b</th>\n",
       "      <td>0.152997</td>\n",
       "      <td>0.269346</td>\n",
       "      <td>0.568030</td>\n",
       "    </tr>\n",
       "    <tr>\n",
       "      <th>c</th>\n",
       "      <td>0.361768</td>\n",
       "      <td>-0.591716</td>\n",
       "      <td>-0.611387</td>\n",
       "    </tr>\n",
       "    <tr>\n",
       "      <th>d</th>\n",
       "      <td>NaN</td>\n",
       "      <td>0.046724</td>\n",
       "      <td>NaN</td>\n",
       "    </tr>\n",
       "  </tbody>\n",
       "</table>\n",
       "</div>"
      ],
      "text/plain": [
       "      three       two       one\n",
       "a -0.242863 -1.466552  0.165601\n",
       "b  0.152997  0.269346  0.568030\n",
       "c  0.361768 -0.591716 -0.611387\n",
       "d       NaN  0.046724       NaN"
      ]
     },
     "execution_count": 64,
     "metadata": {},
     "output_type": "execute_result"
    }
   ],
   "source": [
    "df.reindex([\"three\", \"two\", \"one\"], axis=\"columns\")"
   ]
  },
  {
   "cell_type": "code",
   "execution_count": 65,
   "id": "848f9e8b",
   "metadata": {
    "execution": {
     "iopub.execute_input": "2025-02-28T13:35:29.697475Z",
     "iopub.status.busy": "2025-02-28T13:35:29.697195Z",
     "iopub.status.idle": "2025-02-28T13:35:29.706205Z",
     "shell.execute_reply": "2025-02-28T13:35:29.705393Z"
    },
    "papermill": {
     "duration": 0.030478,
     "end_time": "2025-02-28T13:35:29.707357",
     "exception": false,
     "start_time": "2025-02-28T13:35:29.676879",
     "status": "completed"
    },
    "tags": []
   },
   "outputs": [
    {
     "name": "stderr",
     "output_type": "stream",
     "text": [
      "/usr/local/lib/python3.10/dist-packages/pandas/io/formats/format.py:1458: RuntimeWarning: invalid value encountered in greater\n",
      "  has_large_values = (abs_vals > 1e6).any()\n",
      "/usr/local/lib/python3.10/dist-packages/pandas/io/formats/format.py:1459: RuntimeWarning: invalid value encountered in less\n",
      "  has_small_values = ((abs_vals < 10 ** (-self.digits)) & (abs_vals > 0)).any()\n",
      "/usr/local/lib/python3.10/dist-packages/pandas/io/formats/format.py:1459: RuntimeWarning: invalid value encountered in greater\n",
      "  has_small_values = ((abs_vals < 10 ** (-self.digits)) & (abs_vals > 0)).any()\n"
     ]
    },
    {
     "data": {
      "text/html": [
       "<div>\n",
       "<style scoped>\n",
       "    .dataframe tbody tr th:only-of-type {\n",
       "        vertical-align: middle;\n",
       "    }\n",
       "\n",
       "    .dataframe tbody tr th {\n",
       "        vertical-align: top;\n",
       "    }\n",
       "\n",
       "    .dataframe thead th {\n",
       "        text-align: right;\n",
       "    }\n",
       "</style>\n",
       "<table border=\"1\" class=\"dataframe\">\n",
       "  <thead>\n",
       "    <tr style=\"text-align: right;\">\n",
       "      <th></th>\n",
       "      <th>one</th>\n",
       "      <th>two</th>\n",
       "      <th>three</th>\n",
       "      <th>flag</th>\n",
       "    </tr>\n",
       "  </thead>\n",
       "  <tbody>\n",
       "    <tr>\n",
       "      <th>a</th>\n",
       "      <td>0.165601</td>\n",
       "      <td>-1.466552</td>\n",
       "      <td>-0.242863</td>\n",
       "      <td>False</td>\n",
       "    </tr>\n",
       "    <tr>\n",
       "      <th>b</th>\n",
       "      <td>0.568030</td>\n",
       "      <td>0.269346</td>\n",
       "      <td>0.152997</td>\n",
       "      <td>False</td>\n",
       "    </tr>\n",
       "    <tr>\n",
       "      <th>c</th>\n",
       "      <td>-0.611387</td>\n",
       "      <td>-0.591716</td>\n",
       "      <td>0.361768</td>\n",
       "      <td>False</td>\n",
       "    </tr>\n",
       "    <tr>\n",
       "      <th>d</th>\n",
       "      <td>NaN</td>\n",
       "      <td>0.046724</td>\n",
       "      <td>NaN</td>\n",
       "      <td>False</td>\n",
       "    </tr>\n",
       "  </tbody>\n",
       "</table>\n",
       "</div>"
      ],
      "text/plain": [
       "        one       two     three   flag\n",
       "a  0.165601 -1.466552 -0.242863  False\n",
       "b  0.568030  0.269346  0.152997  False\n",
       "c -0.611387 -0.591716  0.361768  False\n",
       "d       NaN  0.046724       NaN  False"
      ]
     },
     "execution_count": 65,
     "metadata": {},
     "output_type": "execute_result"
    }
   ],
   "source": [
    "df.reindex_like(df)"
   ]
  },
  {
   "cell_type": "code",
   "execution_count": 66,
   "id": "16067c68",
   "metadata": {
    "execution": {
     "iopub.execute_input": "2025-02-28T13:35:29.748027Z",
     "iopub.status.busy": "2025-02-28T13:35:29.747684Z",
     "iopub.status.idle": "2025-02-28T13:35:29.757971Z",
     "shell.execute_reply": "2025-02-28T13:35:29.757060Z"
    },
    "papermill": {
     "duration": 0.031199,
     "end_time": "2025-02-28T13:35:29.759111",
     "exception": false,
     "start_time": "2025-02-28T13:35:29.727912",
     "status": "completed"
    },
    "tags": []
   },
   "outputs": [
    {
     "name": "stderr",
     "output_type": "stream",
     "text": [
      "/usr/local/lib/python3.10/dist-packages/pandas/io/formats/format.py:1458: RuntimeWarning: invalid value encountered in greater\n",
      "  has_large_values = (abs_vals > 1e6).any()\n",
      "/usr/local/lib/python3.10/dist-packages/pandas/io/formats/format.py:1459: RuntimeWarning: invalid value encountered in less\n",
      "  has_small_values = ((abs_vals < 10 ** (-self.digits)) & (abs_vals > 0)).any()\n",
      "/usr/local/lib/python3.10/dist-packages/pandas/io/formats/format.py:1459: RuntimeWarning: invalid value encountered in greater\n",
      "  has_small_values = ((abs_vals < 10 ** (-self.digits)) & (abs_vals > 0)).any()\n"
     ]
    },
    {
     "data": {
      "text/plain": [
       "(a    0.555454\n",
       " b    0.634734\n",
       " c   -1.072766\n",
       " d   -0.520694\n",
       " e         NaN\n",
       " dtype: float64,\n",
       " a         NaN\n",
       " b    0.634734\n",
       " c   -1.072766\n",
       " d   -0.520694\n",
       " e    0.573721\n",
       " dtype: float64)"
      ]
     },
     "execution_count": 66,
     "metadata": {},
     "output_type": "execute_result"
    }
   ],
   "source": [
    "s = pd.Series(np.random.randn(5), index=[\"a\", \"b\", \"c\", \"d\", \"e\"])\n",
    "s1 = s[:4]\n",
    "s2 = s[1:]\n",
    "s1.align(s2)"
   ]
  },
  {
   "cell_type": "code",
   "execution_count": 67,
   "id": "9e0f2dd6",
   "metadata": {
    "execution": {
     "iopub.execute_input": "2025-02-28T13:35:29.801953Z",
     "iopub.status.busy": "2025-02-28T13:35:29.801647Z",
     "iopub.status.idle": "2025-02-28T13:35:29.807486Z",
     "shell.execute_reply": "2025-02-28T13:35:29.806791Z"
    },
    "papermill": {
     "duration": 0.028202,
     "end_time": "2025-02-28T13:35:29.808832",
     "exception": false,
     "start_time": "2025-02-28T13:35:29.780630",
     "status": "completed"
    },
    "tags": []
   },
   "outputs": [
    {
     "data": {
      "text/plain": [
       "(b    0.634734\n",
       " c   -1.072766\n",
       " d   -0.520694\n",
       " dtype: float64,\n",
       " b    0.634734\n",
       " c   -1.072766\n",
       " d   -0.520694\n",
       " dtype: float64)"
      ]
     },
     "execution_count": 67,
     "metadata": {},
     "output_type": "execute_result"
    }
   ],
   "source": [
    "s1.align(s2, join=\"inner\")"
   ]
  },
  {
   "cell_type": "code",
   "execution_count": 68,
   "id": "bca715d4",
   "metadata": {
    "execution": {
     "iopub.execute_input": "2025-02-28T13:35:29.851136Z",
     "iopub.status.busy": "2025-02-28T13:35:29.850880Z",
     "iopub.status.idle": "2025-02-28T13:35:29.857233Z",
     "shell.execute_reply": "2025-02-28T13:35:29.856588Z"
    },
    "papermill": {
     "duration": 0.028549,
     "end_time": "2025-02-28T13:35:29.858211",
     "exception": false,
     "start_time": "2025-02-28T13:35:29.829662",
     "status": "completed"
    },
    "tags": []
   },
   "outputs": [
    {
     "name": "stderr",
     "output_type": "stream",
     "text": [
      "/usr/local/lib/python3.10/dist-packages/pandas/io/formats/format.py:1458: RuntimeWarning: invalid value encountered in greater\n",
      "  has_large_values = (abs_vals > 1e6).any()\n",
      "/usr/local/lib/python3.10/dist-packages/pandas/io/formats/format.py:1459: RuntimeWarning: invalid value encountered in less\n",
      "  has_small_values = ((abs_vals < 10 ** (-self.digits)) & (abs_vals > 0)).any()\n",
      "/usr/local/lib/python3.10/dist-packages/pandas/io/formats/format.py:1459: RuntimeWarning: invalid value encountered in greater\n",
      "  has_small_values = ((abs_vals < 10 ** (-self.digits)) & (abs_vals > 0)).any()\n"
     ]
    },
    {
     "data": {
      "text/plain": [
       "(a    0.555454\n",
       " b    0.634734\n",
       " c   -1.072766\n",
       " d   -0.520694\n",
       " dtype: float64,\n",
       " a         NaN\n",
       " b    0.634734\n",
       " c   -1.072766\n",
       " d   -0.520694\n",
       " dtype: float64)"
      ]
     },
     "execution_count": 68,
     "metadata": {},
     "output_type": "execute_result"
    }
   ],
   "source": [
    "s1.align(s2, join=\"left\")"
   ]
  },
  {
   "cell_type": "code",
   "execution_count": 69,
   "id": "a11fac18",
   "metadata": {
    "execution": {
     "iopub.execute_input": "2025-02-28T13:35:29.898700Z",
     "iopub.status.busy": "2025-02-28T13:35:29.898401Z",
     "iopub.status.idle": "2025-02-28T13:35:29.904562Z",
     "shell.execute_reply": "2025-02-28T13:35:29.903926Z"
    },
    "papermill": {
     "duration": 0.027542,
     "end_time": "2025-02-28T13:35:29.905640",
     "exception": false,
     "start_time": "2025-02-28T13:35:29.878098",
     "status": "completed"
    },
    "tags": []
   },
   "outputs": [
    {
     "data": {
      "text/plain": [
       "(Empty DataFrame\n",
       " Columns: []\n",
       " Index: [],\n",
       " Empty DataFrame\n",
       " Columns: []\n",
       " Index: [])"
      ]
     },
     "execution_count": 69,
     "metadata": {},
     "output_type": "execute_result"
    }
   ],
   "source": [
    "df.align(df5, join=\"inner\")"
   ]
  },
  {
   "cell_type": "code",
   "execution_count": 70,
   "id": "273c49d8",
   "metadata": {
    "execution": {
     "iopub.execute_input": "2025-02-28T13:35:29.951323Z",
     "iopub.status.busy": "2025-02-28T13:35:29.950952Z",
     "iopub.status.idle": "2025-02-28T13:35:29.958359Z",
     "shell.execute_reply": "2025-02-28T13:35:29.957131Z"
    },
    "papermill": {
     "duration": 0.033902,
     "end_time": "2025-02-28T13:35:29.960276",
     "exception": false,
     "start_time": "2025-02-28T13:35:29.926374",
     "status": "completed"
    },
    "tags": []
   },
   "outputs": [
    {
     "data": {
      "text/plain": [
       "(Empty DataFrame\n",
       " Columns: [one, two, three, flag]\n",
       " Index: [],\n",
       " Empty DataFrame\n",
       " Columns: [A, B]\n",
       " Index: [])"
      ]
     },
     "execution_count": 70,
     "metadata": {},
     "output_type": "execute_result"
    }
   ],
   "source": [
    "df.align(df5, join=\"inner\", axis=0)"
   ]
  },
  {
   "cell_type": "code",
   "execution_count": 71,
   "id": "b7429019",
   "metadata": {
    "execution": {
     "iopub.execute_input": "2025-02-28T13:35:30.006786Z",
     "iopub.status.busy": "2025-02-28T13:35:30.006516Z",
     "iopub.status.idle": "2025-02-28T13:35:30.015436Z",
     "shell.execute_reply": "2025-02-28T13:35:30.014553Z"
    },
    "papermill": {
     "duration": 0.030281,
     "end_time": "2025-02-28T13:35:30.016532",
     "exception": false,
     "start_time": "2025-02-28T13:35:29.986251",
     "status": "completed"
    },
    "tags": []
   },
   "outputs": [
    {
     "name": "stderr",
     "output_type": "stream",
     "text": [
      "/usr/local/lib/python3.10/dist-packages/pandas/io/formats/format.py:1458: RuntimeWarning: invalid value encountered in greater\n",
      "  has_large_values = (abs_vals > 1e6).any()\n",
      "/usr/local/lib/python3.10/dist-packages/pandas/io/formats/format.py:1459: RuntimeWarning: invalid value encountered in less\n",
      "  has_small_values = ((abs_vals < 10 ** (-self.digits)) & (abs_vals > 0)).any()\n",
      "/usr/local/lib/python3.10/dist-packages/pandas/io/formats/format.py:1459: RuntimeWarning: invalid value encountered in greater\n",
      "  has_small_values = ((abs_vals < 10 ** (-self.digits)) & (abs_vals > 0)).any()\n"
     ]
    },
    {
     "data": {
      "text/plain": [
       "(    A   B   flag       one     three       two\n",
       " a NaN NaN  False  0.165601 -0.242863 -1.466552\n",
       " b NaN NaN  False  0.568030  0.152997  0.269346\n",
       " c NaN NaN  False -0.611387  0.361768 -0.591716\n",
       " d NaN NaN  False       NaN       NaN  0.046724,\n",
       " A        2.0\n",
       " B        2.0\n",
       " flag     NaN\n",
       " one      NaN\n",
       " three    NaN\n",
       " two      NaN\n",
       " Name: 0, dtype: float64)"
      ]
     },
     "execution_count": 71,
     "metadata": {},
     "output_type": "execute_result"
    }
   ],
   "source": [
    "df.align(df5.iloc[0], axis=1)"
   ]
  },
  {
   "cell_type": "code",
   "execution_count": 72,
   "id": "d0e36777",
   "metadata": {
    "execution": {
     "iopub.execute_input": "2025-02-28T13:35:30.065981Z",
     "iopub.status.busy": "2025-02-28T13:35:30.065631Z",
     "iopub.status.idle": "2025-02-28T13:35:30.073991Z",
     "shell.execute_reply": "2025-02-28T13:35:30.073199Z"
    },
    "papermill": {
     "duration": 0.037954,
     "end_time": "2025-02-28T13:35:30.075102",
     "exception": false,
     "start_time": "2025-02-28T13:35:30.037148",
     "status": "completed"
    },
    "tags": []
   },
   "outputs": [
    {
     "name": "stderr",
     "output_type": "stream",
     "text": [
      "<ipython-input-72-3f3f8aeefbc5>:3: FutureWarning: Series.__getitem__ treating keys as positions is deprecated. In a future version, integer keys will always be treated as labels (consistent with DataFrame behavior). To access a value by position, use `ser.iloc[pos]`\n",
      "  ts2 = ts[[0, 3, 6]]\n"
     ]
    },
    {
     "data": {
      "text/plain": [
       "2000-01-03   -0.039854\n",
       "2000-01-04    0.151782\n",
       "2000-01-05    0.595860\n",
       "2000-01-06    1.004371\n",
       "2000-01-07   -0.724253\n",
       "2000-01-08   -2.415080\n",
       "2000-01-09    0.748747\n",
       "2000-01-10   -0.551935\n",
       "Freq: D, dtype: float64"
      ]
     },
     "execution_count": 72,
     "metadata": {},
     "output_type": "execute_result"
    }
   ],
   "source": [
    "rng = pd.date_range(\"1/3/2000\", periods=8)\n",
    "ts = pd.Series(np.random.randn(8), index=rng)\n",
    "ts2 = ts[[0, 3, 6]]\n",
    "ts"
   ]
  },
  {
   "cell_type": "code",
   "execution_count": 73,
   "id": "9b5dedb2",
   "metadata": {
    "execution": {
     "iopub.execute_input": "2025-02-28T13:35:30.118603Z",
     "iopub.status.busy": "2025-02-28T13:35:30.118306Z",
     "iopub.status.idle": "2025-02-28T13:35:30.123779Z",
     "shell.execute_reply": "2025-02-28T13:35:30.123085Z"
    },
    "papermill": {
     "duration": 0.028821,
     "end_time": "2025-02-28T13:35:30.125092",
     "exception": false,
     "start_time": "2025-02-28T13:35:30.096271",
     "status": "completed"
    },
    "tags": []
   },
   "outputs": [
    {
     "data": {
      "text/plain": [
       "2000-01-03   -0.039854\n",
       "2000-01-04         NaN\n",
       "2000-01-05         NaN\n",
       "2000-01-06    1.004371\n",
       "2000-01-07         NaN\n",
       "2000-01-08         NaN\n",
       "2000-01-09    0.748747\n",
       "2000-01-10         NaN\n",
       "Freq: D, dtype: float64"
      ]
     },
     "execution_count": 73,
     "metadata": {},
     "output_type": "execute_result"
    }
   ],
   "source": [
    "\n",
    "ts2.reindex(ts.index)"
   ]
  },
  {
   "cell_type": "code",
   "execution_count": 74,
   "id": "66f93332",
   "metadata": {
    "execution": {
     "iopub.execute_input": "2025-02-28T13:35:30.178193Z",
     "iopub.status.busy": "2025-02-28T13:35:30.177874Z",
     "iopub.status.idle": "2025-02-28T13:35:30.186843Z",
     "shell.execute_reply": "2025-02-28T13:35:30.186045Z"
    },
    "papermill": {
     "duration": 0.033756,
     "end_time": "2025-02-28T13:35:30.188015",
     "exception": false,
     "start_time": "2025-02-28T13:35:30.154259",
     "status": "completed"
    },
    "tags": []
   },
   "outputs": [
    {
     "data": {
      "text/plain": [
       "2000-01-03   -0.039854\n",
       "2000-01-04   -0.039854\n",
       "2000-01-05   -0.039854\n",
       "2000-01-06    1.004371\n",
       "2000-01-07    1.004371\n",
       "2000-01-08    1.004371\n",
       "2000-01-09    0.748747\n",
       "2000-01-10    0.748747\n",
       "Freq: D, dtype: float64"
      ]
     },
     "execution_count": 74,
     "metadata": {},
     "output_type": "execute_result"
    }
   ],
   "source": [
    "ts2.reindex(ts.index, method=\"ffill\")"
   ]
  },
  {
   "cell_type": "code",
   "execution_count": 75,
   "id": "19bee0bf",
   "metadata": {
    "execution": {
     "iopub.execute_input": "2025-02-28T13:35:30.236346Z",
     "iopub.status.busy": "2025-02-28T13:35:30.236110Z",
     "iopub.status.idle": "2025-02-28T13:35:30.241420Z",
     "shell.execute_reply": "2025-02-28T13:35:30.240841Z"
    },
    "papermill": {
     "duration": 0.033296,
     "end_time": "2025-02-28T13:35:30.242996",
     "exception": false,
     "start_time": "2025-02-28T13:35:30.209700",
     "status": "completed"
    },
    "tags": []
   },
   "outputs": [
    {
     "data": {
      "text/plain": [
       "2000-01-03   -0.039854\n",
       "2000-01-04    1.004371\n",
       "2000-01-05    1.004371\n",
       "2000-01-06    1.004371\n",
       "2000-01-07    0.748747\n",
       "2000-01-08    0.748747\n",
       "2000-01-09    0.748747\n",
       "2000-01-10         NaN\n",
       "Freq: D, dtype: float64"
      ]
     },
     "execution_count": 75,
     "metadata": {},
     "output_type": "execute_result"
    }
   ],
   "source": [
    "ts2.reindex(ts.index, method=\"bfill\")"
   ]
  },
  {
   "cell_type": "code",
   "execution_count": 76,
   "id": "d7354701",
   "metadata": {
    "execution": {
     "iopub.execute_input": "2025-02-28T13:35:30.285392Z",
     "iopub.status.busy": "2025-02-28T13:35:30.285050Z",
     "iopub.status.idle": "2025-02-28T13:35:30.292158Z",
     "shell.execute_reply": "2025-02-28T13:35:30.291343Z"
    },
    "papermill": {
     "duration": 0.030007,
     "end_time": "2025-02-28T13:35:30.293741",
     "exception": false,
     "start_time": "2025-02-28T13:35:30.263734",
     "status": "completed"
    },
    "tags": []
   },
   "outputs": [
    {
     "data": {
      "text/plain": [
       "2000-01-03   -0.039854\n",
       "2000-01-04   -0.039854\n",
       "2000-01-05    1.004371\n",
       "2000-01-06    1.004371\n",
       "2000-01-07    1.004371\n",
       "2000-01-08    0.748747\n",
       "2000-01-09    0.748747\n",
       "2000-01-10    0.748747\n",
       "Freq: D, dtype: float64"
      ]
     },
     "execution_count": 76,
     "metadata": {},
     "output_type": "execute_result"
    }
   ],
   "source": [
    "ts2.reindex(ts.index, method=\"nearest\")"
   ]
  },
  {
   "cell_type": "code",
   "execution_count": 77,
   "id": "f2a5e92f",
   "metadata": {
    "execution": {
     "iopub.execute_input": "2025-02-28T13:35:30.343275Z",
     "iopub.status.busy": "2025-02-28T13:35:30.343031Z",
     "iopub.status.idle": "2025-02-28T13:35:30.351629Z",
     "shell.execute_reply": "2025-02-28T13:35:30.350763Z"
    },
    "papermill": {
     "duration": 0.030501,
     "end_time": "2025-02-28T13:35:30.352681",
     "exception": false,
     "start_time": "2025-02-28T13:35:30.322180",
     "status": "completed"
    },
    "tags": []
   },
   "outputs": [
    {
     "name": "stderr",
     "output_type": "stream",
     "text": [
      "<ipython-input-77-68e5e5df60fc>:1: FutureWarning: Series.fillna with 'method' is deprecated and will raise in a future version. Use obj.ffill() or obj.bfill() instead.\n",
      "  ts2.reindex(ts.index).fillna(method=\"ffill\")\n"
     ]
    },
    {
     "data": {
      "text/plain": [
       "2000-01-03   -0.039854\n",
       "2000-01-04   -0.039854\n",
       "2000-01-05   -0.039854\n",
       "2000-01-06    1.004371\n",
       "2000-01-07    1.004371\n",
       "2000-01-08    1.004371\n",
       "2000-01-09    0.748747\n",
       "2000-01-10    0.748747\n",
       "Freq: D, dtype: float64"
      ]
     },
     "execution_count": 77,
     "metadata": {},
     "output_type": "execute_result"
    }
   ],
   "source": [
    "ts2.reindex(ts.index).fillna(method=\"ffill\")"
   ]
  },
  {
   "cell_type": "code",
   "execution_count": 78,
   "id": "acc47d7a",
   "metadata": {
    "execution": {
     "iopub.execute_input": "2025-02-28T13:35:30.394425Z",
     "iopub.status.busy": "2025-02-28T13:35:30.394169Z",
     "iopub.status.idle": "2025-02-28T13:35:30.399838Z",
     "shell.execute_reply": "2025-02-28T13:35:30.399151Z"
    },
    "papermill": {
     "duration": 0.027595,
     "end_time": "2025-02-28T13:35:30.401031",
     "exception": false,
     "start_time": "2025-02-28T13:35:30.373436",
     "status": "completed"
    },
    "tags": []
   },
   "outputs": [
    {
     "data": {
      "text/plain": [
       "2000-01-03   -0.039854\n",
       "2000-01-04   -0.039854\n",
       "2000-01-05         NaN\n",
       "2000-01-06    1.004371\n",
       "2000-01-07    1.004371\n",
       "2000-01-08         NaN\n",
       "2000-01-09    0.748747\n",
       "2000-01-10    0.748747\n",
       "Freq: D, dtype: float64"
      ]
     },
     "execution_count": 78,
     "metadata": {},
     "output_type": "execute_result"
    }
   ],
   "source": [
    "ts2.reindex(ts.index, method=\"ffill\", limit=1)"
   ]
  },
  {
   "cell_type": "code",
   "execution_count": 79,
   "id": "4d39068c",
   "metadata": {
    "execution": {
     "iopub.execute_input": "2025-02-28T13:35:30.442743Z",
     "iopub.status.busy": "2025-02-28T13:35:30.442520Z",
     "iopub.status.idle": "2025-02-28T13:35:30.448318Z",
     "shell.execute_reply": "2025-02-28T13:35:30.447631Z"
    },
    "papermill": {
     "duration": 0.027733,
     "end_time": "2025-02-28T13:35:30.449367",
     "exception": false,
     "start_time": "2025-02-28T13:35:30.421634",
     "status": "completed"
    },
    "tags": []
   },
   "outputs": [
    {
     "data": {
      "text/plain": [
       "2000-01-03   -0.039854\n",
       "2000-01-04   -0.039854\n",
       "2000-01-05         NaN\n",
       "2000-01-06    1.004371\n",
       "2000-01-07    1.004371\n",
       "2000-01-08         NaN\n",
       "2000-01-09    0.748747\n",
       "2000-01-10    0.748747\n",
       "Freq: D, dtype: float64"
      ]
     },
     "execution_count": 79,
     "metadata": {},
     "output_type": "execute_result"
    }
   ],
   "source": [
    "ts2.reindex(ts.index, method=\"ffill\", tolerance=\"1 day\")"
   ]
  },
  {
   "cell_type": "code",
   "execution_count": 80,
   "id": "891df900",
   "metadata": {
    "execution": {
     "iopub.execute_input": "2025-02-28T13:35:30.490745Z",
     "iopub.status.busy": "2025-02-28T13:35:30.490524Z",
     "iopub.status.idle": "2025-02-28T13:35:30.498062Z",
     "shell.execute_reply": "2025-02-28T13:35:30.497350Z"
    },
    "papermill": {
     "duration": 0.029225,
     "end_time": "2025-02-28T13:35:30.499188",
     "exception": false,
     "start_time": "2025-02-28T13:35:30.469963",
     "status": "completed"
    },
    "tags": []
   },
   "outputs": [
    {
     "data": {
      "text/html": [
       "<div>\n",
       "<style scoped>\n",
       "    .dataframe tbody tr th:only-of-type {\n",
       "        vertical-align: middle;\n",
       "    }\n",
       "\n",
       "    .dataframe tbody tr th {\n",
       "        vertical-align: top;\n",
       "    }\n",
       "\n",
       "    .dataframe thead th {\n",
       "        text-align: right;\n",
       "    }\n",
       "</style>\n",
       "<table border=\"1\" class=\"dataframe\">\n",
       "  <thead>\n",
       "    <tr style=\"text-align: right;\">\n",
       "      <th></th>\n",
       "      <th>one</th>\n",
       "      <th>two</th>\n",
       "      <th>three</th>\n",
       "      <th>flag</th>\n",
       "    </tr>\n",
       "  </thead>\n",
       "  <tbody>\n",
       "    <tr>\n",
       "      <th>b</th>\n",
       "      <td>0.568030</td>\n",
       "      <td>0.269346</td>\n",
       "      <td>0.152997</td>\n",
       "      <td>False</td>\n",
       "    </tr>\n",
       "    <tr>\n",
       "      <th>c</th>\n",
       "      <td>-0.611387</td>\n",
       "      <td>-0.591716</td>\n",
       "      <td>0.361768</td>\n",
       "      <td>False</td>\n",
       "    </tr>\n",
       "  </tbody>\n",
       "</table>\n",
       "</div>"
      ],
      "text/plain": [
       "        one       two     three   flag\n",
       "b  0.568030  0.269346  0.152997  False\n",
       "c -0.611387 -0.591716  0.361768  False"
      ]
     },
     "execution_count": 80,
     "metadata": {},
     "output_type": "execute_result"
    }
   ],
   "source": [
    "df.drop([\"a\", \"d\"], axis=0)"
   ]
  },
  {
   "cell_type": "code",
   "execution_count": 81,
   "id": "86d8ccef",
   "metadata": {
    "execution": {
     "iopub.execute_input": "2025-02-28T13:35:30.541528Z",
     "iopub.status.busy": "2025-02-28T13:35:30.541288Z",
     "iopub.status.idle": "2025-02-28T13:35:30.550080Z",
     "shell.execute_reply": "2025-02-28T13:35:30.549351Z"
    },
    "papermill": {
     "duration": 0.031123,
     "end_time": "2025-02-28T13:35:30.551556",
     "exception": false,
     "start_time": "2025-02-28T13:35:30.520433",
     "status": "completed"
    },
    "tags": []
   },
   "outputs": [
    {
     "name": "stderr",
     "output_type": "stream",
     "text": [
      "/usr/local/lib/python3.10/dist-packages/pandas/io/formats/format.py:1458: RuntimeWarning: invalid value encountered in greater\n",
      "  has_large_values = (abs_vals > 1e6).any()\n",
      "/usr/local/lib/python3.10/dist-packages/pandas/io/formats/format.py:1459: RuntimeWarning: invalid value encountered in less\n",
      "  has_small_values = ((abs_vals < 10 ** (-self.digits)) & (abs_vals > 0)).any()\n",
      "/usr/local/lib/python3.10/dist-packages/pandas/io/formats/format.py:1459: RuntimeWarning: invalid value encountered in greater\n",
      "  has_small_values = ((abs_vals < 10 ** (-self.digits)) & (abs_vals > 0)).any()\n"
     ]
    },
    {
     "data": {
      "text/html": [
       "<div>\n",
       "<style scoped>\n",
       "    .dataframe tbody tr th:only-of-type {\n",
       "        vertical-align: middle;\n",
       "    }\n",
       "\n",
       "    .dataframe tbody tr th {\n",
       "        vertical-align: top;\n",
       "    }\n",
       "\n",
       "    .dataframe thead th {\n",
       "        text-align: right;\n",
       "    }\n",
       "</style>\n",
       "<table border=\"1\" class=\"dataframe\">\n",
       "  <thead>\n",
       "    <tr style=\"text-align: right;\">\n",
       "      <th></th>\n",
       "      <th>two</th>\n",
       "      <th>three</th>\n",
       "      <th>flag</th>\n",
       "    </tr>\n",
       "  </thead>\n",
       "  <tbody>\n",
       "    <tr>\n",
       "      <th>a</th>\n",
       "      <td>-1.466552</td>\n",
       "      <td>-0.242863</td>\n",
       "      <td>False</td>\n",
       "    </tr>\n",
       "    <tr>\n",
       "      <th>b</th>\n",
       "      <td>0.269346</td>\n",
       "      <td>0.152997</td>\n",
       "      <td>False</td>\n",
       "    </tr>\n",
       "    <tr>\n",
       "      <th>c</th>\n",
       "      <td>-0.591716</td>\n",
       "      <td>0.361768</td>\n",
       "      <td>False</td>\n",
       "    </tr>\n",
       "    <tr>\n",
       "      <th>d</th>\n",
       "      <td>0.046724</td>\n",
       "      <td>NaN</td>\n",
       "      <td>False</td>\n",
       "    </tr>\n",
       "  </tbody>\n",
       "</table>\n",
       "</div>"
      ],
      "text/plain": [
       "        two     three   flag\n",
       "a -1.466552 -0.242863  False\n",
       "b  0.269346  0.152997  False\n",
       "c -0.591716  0.361768  False\n",
       "d  0.046724       NaN  False"
      ]
     },
     "execution_count": 81,
     "metadata": {},
     "output_type": "execute_result"
    }
   ],
   "source": [
    "df.drop([\"one\"], axis=1)"
   ]
  },
  {
   "cell_type": "code",
   "execution_count": 82,
   "id": "a93eb032",
   "metadata": {
    "execution": {
     "iopub.execute_input": "2025-02-28T13:35:30.598921Z",
     "iopub.status.busy": "2025-02-28T13:35:30.598548Z",
     "iopub.status.idle": "2025-02-28T13:35:30.607940Z",
     "shell.execute_reply": "2025-02-28T13:35:30.607183Z"
    },
    "papermill": {
     "duration": 0.031822,
     "end_time": "2025-02-28T13:35:30.609114",
     "exception": false,
     "start_time": "2025-02-28T13:35:30.577292",
     "status": "completed"
    },
    "tags": []
   },
   "outputs": [
    {
     "data": {
      "text/html": [
       "<div>\n",
       "<style scoped>\n",
       "    .dataframe tbody tr th:only-of-type {\n",
       "        vertical-align: middle;\n",
       "    }\n",
       "\n",
       "    .dataframe tbody tr th {\n",
       "        vertical-align: top;\n",
       "    }\n",
       "\n",
       "    .dataframe thead th {\n",
       "        text-align: right;\n",
       "    }\n",
       "</style>\n",
       "<table border=\"1\" class=\"dataframe\">\n",
       "  <thead>\n",
       "    <tr style=\"text-align: right;\">\n",
       "      <th></th>\n",
       "      <th>one</th>\n",
       "      <th>two</th>\n",
       "      <th>three</th>\n",
       "      <th>flag</th>\n",
       "    </tr>\n",
       "  </thead>\n",
       "  <tbody>\n",
       "    <tr>\n",
       "      <th>b</th>\n",
       "      <td>0.568030</td>\n",
       "      <td>0.269346</td>\n",
       "      <td>0.152997</td>\n",
       "      <td>False</td>\n",
       "    </tr>\n",
       "    <tr>\n",
       "      <th>c</th>\n",
       "      <td>-0.611387</td>\n",
       "      <td>-0.591716</td>\n",
       "      <td>0.361768</td>\n",
       "      <td>False</td>\n",
       "    </tr>\n",
       "  </tbody>\n",
       "</table>\n",
       "</div>"
      ],
      "text/plain": [
       "        one       two     three   flag\n",
       "b  0.568030  0.269346  0.152997  False\n",
       "c -0.611387 -0.591716  0.361768  False"
      ]
     },
     "execution_count": 82,
     "metadata": {},
     "output_type": "execute_result"
    }
   ],
   "source": [
    "df.reindex(df.index.difference([\"a\", \"d\"]))"
   ]
  },
  {
   "cell_type": "code",
   "execution_count": 83,
   "id": "e54889e0",
   "metadata": {
    "execution": {
     "iopub.execute_input": "2025-02-28T13:35:30.652220Z",
     "iopub.status.busy": "2025-02-28T13:35:30.651920Z",
     "iopub.status.idle": "2025-02-28T13:35:30.658343Z",
     "shell.execute_reply": "2025-02-28T13:35:30.657592Z"
    },
    "papermill": {
     "duration": 0.029857,
     "end_time": "2025-02-28T13:35:30.659516",
     "exception": false,
     "start_time": "2025-02-28T13:35:30.629659",
     "status": "completed"
    },
    "tags": []
   },
   "outputs": [
    {
     "data": {
      "text/plain": [
       "A    0.555454\n",
       "B    0.634734\n",
       "C   -1.072766\n",
       "D   -0.520694\n",
       "E    0.573721\n",
       "dtype: float64"
      ]
     },
     "execution_count": 83,
     "metadata": {},
     "output_type": "execute_result"
    }
   ],
   "source": [
    "s.rename(str.upper)"
   ]
  },
  {
   "cell_type": "code",
   "execution_count": 84,
   "id": "9375e787",
   "metadata": {
    "execution": {
     "iopub.execute_input": "2025-02-28T13:35:30.701253Z",
     "iopub.status.busy": "2025-02-28T13:35:30.700913Z",
     "iopub.status.idle": "2025-02-28T13:35:30.711794Z",
     "shell.execute_reply": "2025-02-28T13:35:30.710863Z"
    },
    "papermill": {
     "duration": 0.033076,
     "end_time": "2025-02-28T13:35:30.713002",
     "exception": false,
     "start_time": "2025-02-28T13:35:30.679926",
     "status": "completed"
    },
    "tags": []
   },
   "outputs": [
    {
     "name": "stderr",
     "output_type": "stream",
     "text": [
      "/usr/local/lib/python3.10/dist-packages/pandas/io/formats/format.py:1458: RuntimeWarning: invalid value encountered in greater\n",
      "  has_large_values = (abs_vals > 1e6).any()\n",
      "/usr/local/lib/python3.10/dist-packages/pandas/io/formats/format.py:1459: RuntimeWarning: invalid value encountered in less\n",
      "  has_small_values = ((abs_vals < 10 ** (-self.digits)) & (abs_vals > 0)).any()\n",
      "/usr/local/lib/python3.10/dist-packages/pandas/io/formats/format.py:1459: RuntimeWarning: invalid value encountered in greater\n",
      "  has_small_values = ((abs_vals < 10 ** (-self.digits)) & (abs_vals > 0)).any()\n"
     ]
    },
    {
     "data": {
      "text/html": [
       "<div>\n",
       "<style scoped>\n",
       "    .dataframe tbody tr th:only-of-type {\n",
       "        vertical-align: middle;\n",
       "    }\n",
       "\n",
       "    .dataframe tbody tr th {\n",
       "        vertical-align: top;\n",
       "    }\n",
       "\n",
       "    .dataframe thead th {\n",
       "        text-align: right;\n",
       "    }\n",
       "</style>\n",
       "<table border=\"1\" class=\"dataframe\">\n",
       "  <thead>\n",
       "    <tr style=\"text-align: right;\">\n",
       "      <th></th>\n",
       "      <th>foo</th>\n",
       "      <th>bar</th>\n",
       "      <th>three</th>\n",
       "      <th>flag</th>\n",
       "    </tr>\n",
       "  </thead>\n",
       "  <tbody>\n",
       "    <tr>\n",
       "      <th>apple</th>\n",
       "      <td>0.165601</td>\n",
       "      <td>-1.466552</td>\n",
       "      <td>-0.242863</td>\n",
       "      <td>False</td>\n",
       "    </tr>\n",
       "    <tr>\n",
       "      <th>banana</th>\n",
       "      <td>0.568030</td>\n",
       "      <td>0.269346</td>\n",
       "      <td>0.152997</td>\n",
       "      <td>False</td>\n",
       "    </tr>\n",
       "    <tr>\n",
       "      <th>c</th>\n",
       "      <td>-0.611387</td>\n",
       "      <td>-0.591716</td>\n",
       "      <td>0.361768</td>\n",
       "      <td>False</td>\n",
       "    </tr>\n",
       "    <tr>\n",
       "      <th>durian</th>\n",
       "      <td>NaN</td>\n",
       "      <td>0.046724</td>\n",
       "      <td>NaN</td>\n",
       "      <td>False</td>\n",
       "    </tr>\n",
       "  </tbody>\n",
       "</table>\n",
       "</div>"
      ],
      "text/plain": [
       "             foo       bar     three   flag\n",
       "apple   0.165601 -1.466552 -0.242863  False\n",
       "banana  0.568030  0.269346  0.152997  False\n",
       "c      -0.611387 -0.591716  0.361768  False\n",
       "durian       NaN  0.046724       NaN  False"
      ]
     },
     "execution_count": 84,
     "metadata": {},
     "output_type": "execute_result"
    }
   ],
   "source": [
    "df.rename(\n",
    "columns={\"one\": \"foo\", \"two\": \"bar\"},\n",
    "index={\"a\": \"apple\", \"b\": \"banana\", \"d\": \"durian\"})"
   ]
  },
  {
   "cell_type": "code",
   "execution_count": 85,
   "id": "457e37d8",
   "metadata": {
    "execution": {
     "iopub.execute_input": "2025-02-28T13:35:30.756365Z",
     "iopub.status.busy": "2025-02-28T13:35:30.756045Z",
     "iopub.status.idle": "2025-02-28T13:35:30.766660Z",
     "shell.execute_reply": "2025-02-28T13:35:30.765914Z"
    },
    "papermill": {
     "duration": 0.033196,
     "end_time": "2025-02-28T13:35:30.767676",
     "exception": false,
     "start_time": "2025-02-28T13:35:30.734480",
     "status": "completed"
    },
    "tags": []
   },
   "outputs": [
    {
     "name": "stderr",
     "output_type": "stream",
     "text": [
      "/usr/local/lib/python3.10/dist-packages/pandas/io/formats/format.py:1458: RuntimeWarning: invalid value encountered in greater\n",
      "  has_large_values = (abs_vals > 1e6).any()\n",
      "/usr/local/lib/python3.10/dist-packages/pandas/io/formats/format.py:1459: RuntimeWarning: invalid value encountered in less\n",
      "  has_small_values = ((abs_vals < 10 ** (-self.digits)) & (abs_vals > 0)).any()\n",
      "/usr/local/lib/python3.10/dist-packages/pandas/io/formats/format.py:1459: RuntimeWarning: invalid value encountered in greater\n",
      "  has_small_values = ((abs_vals < 10 ** (-self.digits)) & (abs_vals > 0)).any()\n"
     ]
    },
    {
     "data": {
      "text/html": [
       "<div>\n",
       "<style scoped>\n",
       "    .dataframe tbody tr th:only-of-type {\n",
       "        vertical-align: middle;\n",
       "    }\n",
       "\n",
       "    .dataframe tbody tr th {\n",
       "        vertical-align: top;\n",
       "    }\n",
       "\n",
       "    .dataframe thead th {\n",
       "        text-align: right;\n",
       "    }\n",
       "</style>\n",
       "<table border=\"1\" class=\"dataframe\">\n",
       "  <thead>\n",
       "    <tr style=\"text-align: right;\">\n",
       "      <th></th>\n",
       "      <th>foo</th>\n",
       "      <th>bar</th>\n",
       "      <th>three</th>\n",
       "      <th>flag</th>\n",
       "    </tr>\n",
       "  </thead>\n",
       "  <tbody>\n",
       "    <tr>\n",
       "      <th>a</th>\n",
       "      <td>0.165601</td>\n",
       "      <td>-1.466552</td>\n",
       "      <td>-0.242863</td>\n",
       "      <td>False</td>\n",
       "    </tr>\n",
       "    <tr>\n",
       "      <th>b</th>\n",
       "      <td>0.568030</td>\n",
       "      <td>0.269346</td>\n",
       "      <td>0.152997</td>\n",
       "      <td>False</td>\n",
       "    </tr>\n",
       "    <tr>\n",
       "      <th>c</th>\n",
       "      <td>-0.611387</td>\n",
       "      <td>-0.591716</td>\n",
       "      <td>0.361768</td>\n",
       "      <td>False</td>\n",
       "    </tr>\n",
       "    <tr>\n",
       "      <th>d</th>\n",
       "      <td>NaN</td>\n",
       "      <td>0.046724</td>\n",
       "      <td>NaN</td>\n",
       "      <td>False</td>\n",
       "    </tr>\n",
       "  </tbody>\n",
       "</table>\n",
       "</div>"
      ],
      "text/plain": [
       "        foo       bar     three   flag\n",
       "a  0.165601 -1.466552 -0.242863  False\n",
       "b  0.568030  0.269346  0.152997  False\n",
       "c -0.611387 -0.591716  0.361768  False\n",
       "d       NaN  0.046724       NaN  False"
      ]
     },
     "execution_count": 85,
     "metadata": {},
     "output_type": "execute_result"
    }
   ],
   "source": [
    "df.rename({\"one\": \"foo\", \"two\": \"bar\"}, axis=\"columns\")"
   ]
  },
  {
   "cell_type": "code",
   "execution_count": 86,
   "id": "2e9de774",
   "metadata": {
    "execution": {
     "iopub.execute_input": "2025-02-28T13:35:30.810461Z",
     "iopub.status.busy": "2025-02-28T13:35:30.810229Z",
     "iopub.status.idle": "2025-02-28T13:35:30.818917Z",
     "shell.execute_reply": "2025-02-28T13:35:30.818066Z"
    },
    "papermill": {
     "duration": 0.031181,
     "end_time": "2025-02-28T13:35:30.819977",
     "exception": false,
     "start_time": "2025-02-28T13:35:30.788796",
     "status": "completed"
    },
    "tags": []
   },
   "outputs": [
    {
     "name": "stderr",
     "output_type": "stream",
     "text": [
      "/usr/local/lib/python3.10/dist-packages/pandas/io/formats/format.py:1458: RuntimeWarning: invalid value encountered in greater\n",
      "  has_large_values = (abs_vals > 1e6).any()\n",
      "/usr/local/lib/python3.10/dist-packages/pandas/io/formats/format.py:1459: RuntimeWarning: invalid value encountered in less\n",
      "  has_small_values = ((abs_vals < 10 ** (-self.digits)) & (abs_vals > 0)).any()\n",
      "/usr/local/lib/python3.10/dist-packages/pandas/io/formats/format.py:1459: RuntimeWarning: invalid value encountered in greater\n",
      "  has_small_values = ((abs_vals < 10 ** (-self.digits)) & (abs_vals > 0)).any()\n"
     ]
    },
    {
     "data": {
      "text/html": [
       "<div>\n",
       "<style scoped>\n",
       "    .dataframe tbody tr th:only-of-type {\n",
       "        vertical-align: middle;\n",
       "    }\n",
       "\n",
       "    .dataframe tbody tr th {\n",
       "        vertical-align: top;\n",
       "    }\n",
       "\n",
       "    .dataframe thead th {\n",
       "        text-align: right;\n",
       "    }\n",
       "</style>\n",
       "<table border=\"1\" class=\"dataframe\">\n",
       "  <thead>\n",
       "    <tr style=\"text-align: right;\">\n",
       "      <th></th>\n",
       "      <th>one</th>\n",
       "      <th>two</th>\n",
       "      <th>three</th>\n",
       "      <th>flag</th>\n",
       "    </tr>\n",
       "  </thead>\n",
       "  <tbody>\n",
       "    <tr>\n",
       "      <th>apple</th>\n",
       "      <td>0.165601</td>\n",
       "      <td>-1.466552</td>\n",
       "      <td>-0.242863</td>\n",
       "      <td>False</td>\n",
       "    </tr>\n",
       "    <tr>\n",
       "      <th>banana</th>\n",
       "      <td>0.568030</td>\n",
       "      <td>0.269346</td>\n",
       "      <td>0.152997</td>\n",
       "      <td>False</td>\n",
       "    </tr>\n",
       "    <tr>\n",
       "      <th>c</th>\n",
       "      <td>-0.611387</td>\n",
       "      <td>-0.591716</td>\n",
       "      <td>0.361768</td>\n",
       "      <td>False</td>\n",
       "    </tr>\n",
       "    <tr>\n",
       "      <th>durian</th>\n",
       "      <td>NaN</td>\n",
       "      <td>0.046724</td>\n",
       "      <td>NaN</td>\n",
       "      <td>False</td>\n",
       "    </tr>\n",
       "  </tbody>\n",
       "</table>\n",
       "</div>"
      ],
      "text/plain": [
       "             one       two     three   flag\n",
       "apple   0.165601 -1.466552 -0.242863  False\n",
       "banana  0.568030  0.269346  0.152997  False\n",
       "c      -0.611387 -0.591716  0.361768  False\n",
       "durian       NaN  0.046724       NaN  False"
      ]
     },
     "execution_count": 86,
     "metadata": {},
     "output_type": "execute_result"
    }
   ],
   "source": [
    "df.rename({\"a\": \"apple\", \"b\": \"banana\", \"d\": \"durian\"}, axis=\"index\")"
   ]
  },
  {
   "cell_type": "code",
   "execution_count": 87,
   "id": "2a92ecfb",
   "metadata": {
    "execution": {
     "iopub.execute_input": "2025-02-28T13:35:30.865056Z",
     "iopub.status.busy": "2025-02-28T13:35:30.864750Z",
     "iopub.status.idle": "2025-02-28T13:35:30.870252Z",
     "shell.execute_reply": "2025-02-28T13:35:30.869430Z"
    },
    "papermill": {
     "duration": 0.030143,
     "end_time": "2025-02-28T13:35:30.871414",
     "exception": false,
     "start_time": "2025-02-28T13:35:30.841271",
     "status": "completed"
    },
    "tags": []
   },
   "outputs": [
    {
     "data": {
      "text/plain": [
       "a    0.555454\n",
       "b    0.634734\n",
       "c   -1.072766\n",
       "d   -0.520694\n",
       "e    0.573721\n",
       "Name: scalar-name, dtype: float64"
      ]
     },
     "execution_count": 87,
     "metadata": {},
     "output_type": "execute_result"
    }
   ],
   "source": [
    "s.rename(\"scalar-name\")"
   ]
  },
  {
   "cell_type": "code",
   "execution_count": 88,
   "id": "8472755a",
   "metadata": {
    "execution": {
     "iopub.execute_input": "2025-02-28T13:35:30.918609Z",
     "iopub.status.busy": "2025-02-28T13:35:30.918330Z",
     "iopub.status.idle": "2025-02-28T13:35:30.927614Z",
     "shell.execute_reply": "2025-02-28T13:35:30.926889Z"
    },
    "papermill": {
     "duration": 0.033967,
     "end_time": "2025-02-28T13:35:30.928706",
     "exception": false,
     "start_time": "2025-02-28T13:35:30.894739",
     "status": "completed"
    },
    "tags": []
   },
   "outputs": [
    {
     "data": {
      "text/html": [
       "<div>\n",
       "<style scoped>\n",
       "    .dataframe tbody tr th:only-of-type {\n",
       "        vertical-align: middle;\n",
       "    }\n",
       "\n",
       "    .dataframe tbody tr th {\n",
       "        vertical-align: top;\n",
       "    }\n",
       "\n",
       "    .dataframe thead th {\n",
       "        text-align: right;\n",
       "    }\n",
       "</style>\n",
       "<table border=\"1\" class=\"dataframe\">\n",
       "  <thead>\n",
       "    <tr style=\"text-align: right;\">\n",
       "      <th></th>\n",
       "      <th></th>\n",
       "      <th>x</th>\n",
       "      <th>y</th>\n",
       "    </tr>\n",
       "    <tr>\n",
       "      <th>let</th>\n",
       "      <th>num</th>\n",
       "      <th></th>\n",
       "      <th></th>\n",
       "    </tr>\n",
       "  </thead>\n",
       "  <tbody>\n",
       "    <tr>\n",
       "      <th rowspan=\"2\" valign=\"top\">a</th>\n",
       "      <th>1</th>\n",
       "      <td>1</td>\n",
       "      <td>10</td>\n",
       "    </tr>\n",
       "    <tr>\n",
       "      <th>2</th>\n",
       "      <td>2</td>\n",
       "      <td>20</td>\n",
       "    </tr>\n",
       "    <tr>\n",
       "      <th rowspan=\"2\" valign=\"top\">b</th>\n",
       "      <th>1</th>\n",
       "      <td>3</td>\n",
       "      <td>30</td>\n",
       "    </tr>\n",
       "    <tr>\n",
       "      <th>2</th>\n",
       "      <td>4</td>\n",
       "      <td>40</td>\n",
       "    </tr>\n",
       "    <tr>\n",
       "      <th rowspan=\"2\" valign=\"top\">c</th>\n",
       "      <th>1</th>\n",
       "      <td>5</td>\n",
       "      <td>50</td>\n",
       "    </tr>\n",
       "    <tr>\n",
       "      <th>2</th>\n",
       "      <td>6</td>\n",
       "      <td>60</td>\n",
       "    </tr>\n",
       "  </tbody>\n",
       "</table>\n",
       "</div>"
      ],
      "text/plain": [
       "         x   y\n",
       "let num       \n",
       "a   1    1  10\n",
       "    2    2  20\n",
       "b   1    3  30\n",
       "    2    4  40\n",
       "c   1    5  50\n",
       "    2    6  60"
      ]
     },
     "execution_count": 88,
     "metadata": {},
     "output_type": "execute_result"
    }
   ],
   "source": [
    "df = pd.DataFrame(\n",
    "{\"x\": [1, 2, 3, 4, 5, 6], \"y\": [10, 20, 30, 40, 50, 60]},\n",
    "index=pd.MultiIndex.from_product(\n",
    "[[\"a\", \"b\", \"c\"], [1, 2]], names=[\"let\", \"num\"]\n",
    "))\n",
    "\n",
    "df\n"
   ]
  },
  {
   "cell_type": "code",
   "execution_count": 89,
   "id": "b756c95f",
   "metadata": {
    "execution": {
     "iopub.execute_input": "2025-02-28T13:35:30.976748Z",
     "iopub.status.busy": "2025-02-28T13:35:30.976449Z",
     "iopub.status.idle": "2025-02-28T13:35:30.984907Z",
     "shell.execute_reply": "2025-02-28T13:35:30.984176Z"
    },
    "papermill": {
     "duration": 0.034141,
     "end_time": "2025-02-28T13:35:30.986032",
     "exception": false,
     "start_time": "2025-02-28T13:35:30.951891",
     "status": "completed"
    },
    "tags": []
   },
   "outputs": [
    {
     "data": {
      "text/html": [
       "<div>\n",
       "<style scoped>\n",
       "    .dataframe tbody tr th:only-of-type {\n",
       "        vertical-align: middle;\n",
       "    }\n",
       "\n",
       "    .dataframe tbody tr th {\n",
       "        vertical-align: top;\n",
       "    }\n",
       "\n",
       "    .dataframe thead th {\n",
       "        text-align: right;\n",
       "    }\n",
       "</style>\n",
       "<table border=\"1\" class=\"dataframe\">\n",
       "  <thead>\n",
       "    <tr style=\"text-align: right;\">\n",
       "      <th></th>\n",
       "      <th></th>\n",
       "      <th>x</th>\n",
       "      <th>y</th>\n",
       "    </tr>\n",
       "    <tr>\n",
       "      <th>abc</th>\n",
       "      <th>num</th>\n",
       "      <th></th>\n",
       "      <th></th>\n",
       "    </tr>\n",
       "  </thead>\n",
       "  <tbody>\n",
       "    <tr>\n",
       "      <th rowspan=\"2\" valign=\"top\">a</th>\n",
       "      <th>1</th>\n",
       "      <td>1</td>\n",
       "      <td>10</td>\n",
       "    </tr>\n",
       "    <tr>\n",
       "      <th>2</th>\n",
       "      <td>2</td>\n",
       "      <td>20</td>\n",
       "    </tr>\n",
       "    <tr>\n",
       "      <th rowspan=\"2\" valign=\"top\">b</th>\n",
       "      <th>1</th>\n",
       "      <td>3</td>\n",
       "      <td>30</td>\n",
       "    </tr>\n",
       "    <tr>\n",
       "      <th>2</th>\n",
       "      <td>4</td>\n",
       "      <td>40</td>\n",
       "    </tr>\n",
       "    <tr>\n",
       "      <th rowspan=\"2\" valign=\"top\">c</th>\n",
       "      <th>1</th>\n",
       "      <td>5</td>\n",
       "      <td>50</td>\n",
       "    </tr>\n",
       "    <tr>\n",
       "      <th>2</th>\n",
       "      <td>6</td>\n",
       "      <td>60</td>\n",
       "    </tr>\n",
       "  </tbody>\n",
       "</table>\n",
       "</div>"
      ],
      "text/plain": [
       "         x   y\n",
       "abc num       \n",
       "a   1    1  10\n",
       "    2    2  20\n",
       "b   1    3  30\n",
       "    2    4  40\n",
       "c   1    5  50\n",
       "    2    6  60"
      ]
     },
     "execution_count": 89,
     "metadata": {},
     "output_type": "execute_result"
    }
   ],
   "source": [
    "df.rename_axis(index={\"let\": \"abc\"})"
   ]
  },
  {
   "cell_type": "code",
   "execution_count": 90,
   "id": "a347dc1b",
   "metadata": {
    "execution": {
     "iopub.execute_input": "2025-02-28T13:35:31.030414Z",
     "iopub.status.busy": "2025-02-28T13:35:31.030062Z",
     "iopub.status.idle": "2025-02-28T13:35:31.038242Z",
     "shell.execute_reply": "2025-02-28T13:35:31.037296Z"
    },
    "papermill": {
     "duration": 0.031049,
     "end_time": "2025-02-28T13:35:31.039255",
     "exception": false,
     "start_time": "2025-02-28T13:35:31.008206",
     "status": "completed"
    },
    "tags": []
   },
   "outputs": [
    {
     "data": {
      "text/html": [
       "<div>\n",
       "<style scoped>\n",
       "    .dataframe tbody tr th:only-of-type {\n",
       "        vertical-align: middle;\n",
       "    }\n",
       "\n",
       "    .dataframe tbody tr th {\n",
       "        vertical-align: top;\n",
       "    }\n",
       "\n",
       "    .dataframe thead th {\n",
       "        text-align: right;\n",
       "    }\n",
       "</style>\n",
       "<table border=\"1\" class=\"dataframe\">\n",
       "  <thead>\n",
       "    <tr style=\"text-align: right;\">\n",
       "      <th></th>\n",
       "      <th></th>\n",
       "      <th>x</th>\n",
       "      <th>y</th>\n",
       "    </tr>\n",
       "    <tr>\n",
       "      <th>LET</th>\n",
       "      <th>NUM</th>\n",
       "      <th></th>\n",
       "      <th></th>\n",
       "    </tr>\n",
       "  </thead>\n",
       "  <tbody>\n",
       "    <tr>\n",
       "      <th rowspan=\"2\" valign=\"top\">a</th>\n",
       "      <th>1</th>\n",
       "      <td>1</td>\n",
       "      <td>10</td>\n",
       "    </tr>\n",
       "    <tr>\n",
       "      <th>2</th>\n",
       "      <td>2</td>\n",
       "      <td>20</td>\n",
       "    </tr>\n",
       "    <tr>\n",
       "      <th rowspan=\"2\" valign=\"top\">b</th>\n",
       "      <th>1</th>\n",
       "      <td>3</td>\n",
       "      <td>30</td>\n",
       "    </tr>\n",
       "    <tr>\n",
       "      <th>2</th>\n",
       "      <td>4</td>\n",
       "      <td>40</td>\n",
       "    </tr>\n",
       "    <tr>\n",
       "      <th rowspan=\"2\" valign=\"top\">c</th>\n",
       "      <th>1</th>\n",
       "      <td>5</td>\n",
       "      <td>50</td>\n",
       "    </tr>\n",
       "    <tr>\n",
       "      <th>2</th>\n",
       "      <td>6</td>\n",
       "      <td>60</td>\n",
       "    </tr>\n",
       "  </tbody>\n",
       "</table>\n",
       "</div>"
      ],
      "text/plain": [
       "         x   y\n",
       "LET NUM       \n",
       "a   1    1  10\n",
       "    2    2  20\n",
       "b   1    3  30\n",
       "    2    4  40\n",
       "c   1    5  50\n",
       "    2    6  60"
      ]
     },
     "execution_count": 90,
     "metadata": {},
     "output_type": "execute_result"
    }
   ],
   "source": [
    "df.rename_axis(index=str.upper)"
   ]
  },
  {
   "cell_type": "code",
   "execution_count": 91,
   "id": "888a50cd",
   "metadata": {
    "execution": {
     "iopub.execute_input": "2025-02-28T13:35:31.082596Z",
     "iopub.status.busy": "2025-02-28T13:35:31.082276Z",
     "iopub.status.idle": "2025-02-28T13:35:31.086686Z",
     "shell.execute_reply": "2025-02-28T13:35:31.085945Z"
    },
    "papermill": {
     "duration": 0.027175,
     "end_time": "2025-02-28T13:35:31.087652",
     "exception": false,
     "start_time": "2025-02-28T13:35:31.060477",
     "status": "completed"
    },
    "tags": []
   },
   "outputs": [
    {
     "name": "stdout",
     "output_type": "stream",
     "text": [
      "col1\n",
      "col2\n"
     ]
    }
   ],
   "source": [
    "df = pd.DataFrame({\"col1\": np.random.randn(3), \"col2\": np.random.randn(3)}, index=[\"a\", \"b\",\"c\"])\n",
    "\n",
    "for col in df:\n",
    "    print(col)"
   ]
  },
  {
   "cell_type": "code",
   "execution_count": 92,
   "id": "4353e79f",
   "metadata": {
    "execution": {
     "iopub.execute_input": "2025-02-28T13:35:31.130474Z",
     "iopub.status.busy": "2025-02-28T13:35:31.130231Z",
     "iopub.status.idle": "2025-02-28T13:35:31.137482Z",
     "shell.execute_reply": "2025-02-28T13:35:31.136825Z"
    },
    "papermill": {
     "duration": 0.029658,
     "end_time": "2025-02-28T13:35:31.138536",
     "exception": false,
     "start_time": "2025-02-28T13:35:31.108878",
     "status": "completed"
    },
    "tags": []
   },
   "outputs": [
    {
     "data": {
      "text/html": [
       "<div>\n",
       "<style scoped>\n",
       "    .dataframe tbody tr th:only-of-type {\n",
       "        vertical-align: middle;\n",
       "    }\n",
       "\n",
       "    .dataframe tbody tr th {\n",
       "        vertical-align: top;\n",
       "    }\n",
       "\n",
       "    .dataframe thead th {\n",
       "        text-align: right;\n",
       "    }\n",
       "</style>\n",
       "<table border=\"1\" class=\"dataframe\">\n",
       "  <thead>\n",
       "    <tr style=\"text-align: right;\">\n",
       "      <th></th>\n",
       "      <th>a</th>\n",
       "      <th>b</th>\n",
       "    </tr>\n",
       "  </thead>\n",
       "  <tbody>\n",
       "    <tr>\n",
       "      <th>0</th>\n",
       "      <td>1</td>\n",
       "      <td>a</td>\n",
       "    </tr>\n",
       "    <tr>\n",
       "      <th>1</th>\n",
       "      <td>2</td>\n",
       "      <td>b</td>\n",
       "    </tr>\n",
       "    <tr>\n",
       "      <th>2</th>\n",
       "      <td>3</td>\n",
       "      <td>c</td>\n",
       "    </tr>\n",
       "  </tbody>\n",
       "</table>\n",
       "</div>"
      ],
      "text/plain": [
       "   a  b\n",
       "0  1  a\n",
       "1  2  b\n",
       "2  3  c"
      ]
     },
     "execution_count": 92,
     "metadata": {},
     "output_type": "execute_result"
    }
   ],
   "source": [
    "df = pd.DataFrame({\"a\": [1, 2, 3], \"b\": [\"a\", \"b\", \"c\"]})\n",
    "In [257]: for index, row in df.iterrows():\n",
    "        row[\"a\"] = 10\n",
    "df"
   ]
  },
  {
   "cell_type": "code",
   "execution_count": 93,
   "id": "d4e6839e",
   "metadata": {
    "execution": {
     "iopub.execute_input": "2025-02-28T13:35:31.184440Z",
     "iopub.status.busy": "2025-02-28T13:35:31.184148Z",
     "iopub.status.idle": "2025-02-28T13:35:31.189285Z",
     "shell.execute_reply": "2025-02-28T13:35:31.188320Z"
    },
    "papermill": {
     "duration": 0.02918,
     "end_time": "2025-02-28T13:35:31.190774",
     "exception": false,
     "start_time": "2025-02-28T13:35:31.161594",
     "status": "completed"
    },
    "tags": []
   },
   "outputs": [
    {
     "name": "stdout",
     "output_type": "stream",
     "text": [
      "a\n",
      "0    1\n",
      "1    2\n",
      "2    3\n",
      "Name: a, dtype: int64\n",
      "b\n",
      "0    a\n",
      "1    b\n",
      "2    c\n",
      "Name: b, dtype: object\n"
     ]
    }
   ],
   "source": [
    "for label, ser in df.items():\n",
    "    print(label)\n",
    "    print(ser)"
   ]
  },
  {
   "cell_type": "code",
   "execution_count": 94,
   "id": "8005d258",
   "metadata": {
    "execution": {
     "iopub.execute_input": "2025-02-28T13:35:31.236558Z",
     "iopub.status.busy": "2025-02-28T13:35:31.236279Z",
     "iopub.status.idle": "2025-02-28T13:35:31.242025Z",
     "shell.execute_reply": "2025-02-28T13:35:31.240962Z"
    },
    "papermill": {
     "duration": 0.029326,
     "end_time": "2025-02-28T13:35:31.243389",
     "exception": false,
     "start_time": "2025-02-28T13:35:31.214063",
     "status": "completed"
    },
    "tags": []
   },
   "outputs": [
    {
     "name": "stdout",
     "output_type": "stream",
     "text": [
      "0\n",
      "a    1\n",
      "b    a\n",
      "Name: 0, dtype: object\n",
      "1\n",
      "a    2\n",
      "b    b\n",
      "Name: 1, dtype: object\n",
      "2\n",
      "a    3\n",
      "b    c\n",
      "Name: 2, dtype: object\n"
     ]
    }
   ],
   "source": [
    "for row_index, row in df.iterrows():\n",
    "    print(row_index, row, sep=\"\\n\")"
   ]
  },
  {
   "cell_type": "code",
   "execution_count": 95,
   "id": "19aadb3f",
   "metadata": {
    "execution": {
     "iopub.execute_input": "2025-02-28T13:35:31.291130Z",
     "iopub.status.busy": "2025-02-28T13:35:31.290789Z",
     "iopub.status.idle": "2025-02-28T13:35:31.297146Z",
     "shell.execute_reply": "2025-02-28T13:35:31.296404Z"
    },
    "papermill": {
     "duration": 0.031068,
     "end_time": "2025-02-28T13:35:31.298249",
     "exception": false,
     "start_time": "2025-02-28T13:35:31.267181",
     "status": "completed"
    },
    "tags": []
   },
   "outputs": [
    {
     "data": {
      "text/plain": [
       "int        int64\n",
       "float    float64\n",
       "dtype: object"
      ]
     },
     "execution_count": 95,
     "metadata": {},
     "output_type": "execute_result"
    }
   ],
   "source": [
    "df_orig = pd.DataFrame([[1, 1.5]], columns=[\"int\", \"float\"])\n",
    "df_orig.dtypes"
   ]
  },
  {
   "cell_type": "code",
   "execution_count": 96,
   "id": "0db91a52",
   "metadata": {
    "execution": {
     "iopub.execute_input": "2025-02-28T13:35:31.344149Z",
     "iopub.status.busy": "2025-02-28T13:35:31.343913Z",
     "iopub.status.idle": "2025-02-28T13:35:31.349246Z",
     "shell.execute_reply": "2025-02-28T13:35:31.348600Z"
    },
    "papermill": {
     "duration": 0.028911,
     "end_time": "2025-02-28T13:35:31.350293",
     "exception": false,
     "start_time": "2025-02-28T13:35:31.321382",
     "status": "completed"
    },
    "tags": []
   },
   "outputs": [
    {
     "data": {
      "text/plain": [
       "int      1.0\n",
       "float    1.5\n",
       "Name: 0, dtype: float64"
      ]
     },
     "execution_count": 96,
     "metadata": {},
     "output_type": "execute_result"
    }
   ],
   "source": [
    "row = next(df_orig.iterrows())[1]\n",
    "row"
   ]
  },
  {
   "cell_type": "code",
   "execution_count": 97,
   "id": "134a559e",
   "metadata": {
    "execution": {
     "iopub.execute_input": "2025-02-28T13:35:31.395706Z",
     "iopub.status.busy": "2025-02-28T13:35:31.395393Z",
     "iopub.status.idle": "2025-02-28T13:35:31.399593Z",
     "shell.execute_reply": "2025-02-28T13:35:31.398909Z"
    },
    "papermill": {
     "duration": 0.02765,
     "end_time": "2025-02-28T13:35:31.400535",
     "exception": false,
     "start_time": "2025-02-28T13:35:31.372885",
     "status": "completed"
    },
    "tags": []
   },
   "outputs": [
    {
     "data": {
      "text/plain": [
       "dtype('float64')"
      ]
     },
     "execution_count": 97,
     "metadata": {},
     "output_type": "execute_result"
    }
   ],
   "source": [
    "row[\"int\"].dtype"
   ]
  },
  {
   "cell_type": "code",
   "execution_count": 98,
   "id": "364f0b28",
   "metadata": {
    "execution": {
     "iopub.execute_input": "2025-02-28T13:35:31.445612Z",
     "iopub.status.busy": "2025-02-28T13:35:31.445356Z",
     "iopub.status.idle": "2025-02-28T13:35:31.450481Z",
     "shell.execute_reply": "2025-02-28T13:35:31.449809Z"
    },
    "papermill": {
     "duration": 0.028572,
     "end_time": "2025-02-28T13:35:31.451554",
     "exception": false,
     "start_time": "2025-02-28T13:35:31.422982",
     "status": "completed"
    },
    "tags": []
   },
   "outputs": [
    {
     "data": {
      "text/plain": [
       "dtype('int64')"
      ]
     },
     "execution_count": 98,
     "metadata": {},
     "output_type": "execute_result"
    }
   ],
   "source": [
    "df_orig[\"int\"].dtype"
   ]
  },
  {
   "cell_type": "code",
   "execution_count": 99,
   "id": "2e35a026",
   "metadata": {
    "execution": {
     "iopub.execute_input": "2025-02-28T13:35:31.495555Z",
     "iopub.status.busy": "2025-02-28T13:35:31.495310Z",
     "iopub.status.idle": "2025-02-28T13:35:31.500242Z",
     "shell.execute_reply": "2025-02-28T13:35:31.499421Z"
    },
    "papermill": {
     "duration": 0.02808,
     "end_time": "2025-02-28T13:35:31.501375",
     "exception": false,
     "start_time": "2025-02-28T13:35:31.473295",
     "status": "completed"
    },
    "tags": []
   },
   "outputs": [
    {
     "name": "stdout",
     "output_type": "stream",
     "text": [
      "   x  y\n",
      "0  1  4\n",
      "1  2  5\n",
      "2  3  6\n"
     ]
    }
   ],
   "source": [
    "df2 = pd.DataFrame({\"x\": [1, 2, 3], \"y\": [4, 5, 6]})\n",
    "print(df2)"
   ]
  },
  {
   "cell_type": "code",
   "execution_count": 100,
   "id": "7e75fd74",
   "metadata": {
    "execution": {
     "iopub.execute_input": "2025-02-28T13:35:31.547444Z",
     "iopub.status.busy": "2025-02-28T13:35:31.547170Z",
     "iopub.status.idle": "2025-02-28T13:35:31.552467Z",
     "shell.execute_reply": "2025-02-28T13:35:31.551733Z"
    },
    "papermill": {
     "duration": 0.030141,
     "end_time": "2025-02-28T13:35:31.553545",
     "exception": false,
     "start_time": "2025-02-28T13:35:31.523404",
     "status": "completed"
    },
    "tags": []
   },
   "outputs": [
    {
     "name": "stdout",
     "output_type": "stream",
     "text": [
      "   0  1  2\n",
      "x  1  2  3\n",
      "y  4  5  6\n"
     ]
    }
   ],
   "source": [
    "df2_t = pd.DataFrame({idx: values for idx, values in df2.iterrows()})\n",
    "print(df2_t)"
   ]
  },
  {
   "cell_type": "code",
   "execution_count": 101,
   "id": "634e2d72",
   "metadata": {
    "execution": {
     "iopub.execute_input": "2025-02-28T13:35:31.642794Z",
     "iopub.status.busy": "2025-02-28T13:35:31.642530Z",
     "iopub.status.idle": "2025-02-28T13:35:31.647474Z",
     "shell.execute_reply": "2025-02-28T13:35:31.646571Z"
    },
    "papermill": {
     "duration": 0.034113,
     "end_time": "2025-02-28T13:35:31.649048",
     "exception": false,
     "start_time": "2025-02-28T13:35:31.614935",
     "status": "completed"
    },
    "tags": []
   },
   "outputs": [
    {
     "name": "stdout",
     "output_type": "stream",
     "text": [
      "Pandas(Index=0, a=1, b='a')\n",
      "Pandas(Index=1, a=2, b='b')\n",
      "Pandas(Index=2, a=3, b='c')\n"
     ]
    }
   ],
   "source": [
    "for row in df.itertuples():\n",
    "    print(row)"
   ]
  },
  {
   "cell_type": "code",
   "execution_count": 102,
   "id": "d6faa609",
   "metadata": {
    "execution": {
     "iopub.execute_input": "2025-02-28T13:35:31.700235Z",
     "iopub.status.busy": "2025-02-28T13:35:31.699967Z",
     "iopub.status.idle": "2025-02-28T13:35:31.705706Z",
     "shell.execute_reply": "2025-02-28T13:35:31.704940Z"
    },
    "papermill": {
     "duration": 0.031007,
     "end_time": "2025-02-28T13:35:31.706773",
     "exception": false,
     "start_time": "2025-02-28T13:35:31.675766",
     "status": "completed"
    },
    "tags": []
   },
   "outputs": [
    {
     "data": {
      "text/plain": [
       "0   2013-01-01 09:10:12\n",
       "1   2013-01-02 09:10:12\n",
       "2   2013-01-03 09:10:12\n",
       "3   2013-01-04 09:10:12\n",
       "dtype: datetime64[ns]"
      ]
     },
     "execution_count": 102,
     "metadata": {},
     "output_type": "execute_result"
    }
   ],
   "source": [
    "s = pd.Series(pd.date_range(\"20130101 09:10:12\", periods=4))\n",
    "s"
   ]
  },
  {
   "cell_type": "code",
   "execution_count": 103,
   "id": "ef480f8a",
   "metadata": {
    "execution": {
     "iopub.execute_input": "2025-02-28T13:35:31.754113Z",
     "iopub.status.busy": "2025-02-28T13:35:31.753791Z",
     "iopub.status.idle": "2025-02-28T13:35:31.759283Z",
     "shell.execute_reply": "2025-02-28T13:35:31.758595Z"
    },
    "papermill": {
     "duration": 0.029849,
     "end_time": "2025-02-28T13:35:31.760303",
     "exception": false,
     "start_time": "2025-02-28T13:35:31.730454",
     "status": "completed"
    },
    "tags": []
   },
   "outputs": [
    {
     "data": {
      "text/plain": [
       "0    9\n",
       "1    9\n",
       "2    9\n",
       "3    9\n",
       "dtype: int32"
      ]
     },
     "execution_count": 103,
     "metadata": {},
     "output_type": "execute_result"
    }
   ],
   "source": [
    "s.dt.hour"
   ]
  },
  {
   "cell_type": "code",
   "execution_count": 104,
   "id": "8b282d08",
   "metadata": {
    "execution": {
     "iopub.execute_input": "2025-02-28T13:35:31.806195Z",
     "iopub.status.busy": "2025-02-28T13:35:31.805918Z",
     "iopub.status.idle": "2025-02-28T13:35:31.811432Z",
     "shell.execute_reply": "2025-02-28T13:35:31.810395Z"
    },
    "papermill": {
     "duration": 0.030779,
     "end_time": "2025-02-28T13:35:31.813262",
     "exception": false,
     "start_time": "2025-02-28T13:35:31.782483",
     "status": "completed"
    },
    "tags": []
   },
   "outputs": [
    {
     "data": {
      "text/plain": [
       "0    12\n",
       "1    12\n",
       "2    12\n",
       "3    12\n",
       "dtype: int32"
      ]
     },
     "execution_count": 104,
     "metadata": {},
     "output_type": "execute_result"
    }
   ],
   "source": [
    "s.dt.second"
   ]
  },
  {
   "cell_type": "code",
   "execution_count": 105,
   "id": "499aa561",
   "metadata": {
    "execution": {
     "iopub.execute_input": "2025-02-28T13:35:31.861842Z",
     "iopub.status.busy": "2025-02-28T13:35:31.861543Z",
     "iopub.status.idle": "2025-02-28T13:35:31.866600Z",
     "shell.execute_reply": "2025-02-28T13:35:31.865927Z"
    },
    "papermill": {
     "duration": 0.030078,
     "end_time": "2025-02-28T13:35:31.867603",
     "exception": false,
     "start_time": "2025-02-28T13:35:31.837525",
     "status": "completed"
    },
    "tags": []
   },
   "outputs": [
    {
     "data": {
      "text/plain": [
       "0    1\n",
       "1    2\n",
       "2    3\n",
       "3    4\n",
       "dtype: int32"
      ]
     },
     "execution_count": 105,
     "metadata": {},
     "output_type": "execute_result"
    }
   ],
   "source": [
    "s.dt.day"
   ]
  },
  {
   "cell_type": "code",
   "execution_count": 106,
   "id": "d12a68a2",
   "metadata": {
    "execution": {
     "iopub.execute_input": "2025-02-28T13:35:31.917353Z",
     "iopub.status.busy": "2025-02-28T13:35:31.917081Z",
     "iopub.status.idle": "2025-02-28T13:35:31.923142Z",
     "shell.execute_reply": "2025-02-28T13:35:31.922100Z"
    },
    "papermill": {
     "duration": 0.03294,
     "end_time": "2025-02-28T13:35:31.924344",
     "exception": false,
     "start_time": "2025-02-28T13:35:31.891404",
     "status": "completed"
    },
    "tags": []
   },
   "outputs": [
    {
     "data": {
      "text/plain": [
       "1   2013-01-02 09:10:12\n",
       "dtype: datetime64[ns]"
      ]
     },
     "execution_count": 106,
     "metadata": {},
     "output_type": "execute_result"
    }
   ],
   "source": [
    "s[s.dt.day == 2]"
   ]
  },
  {
   "cell_type": "code",
   "execution_count": 107,
   "id": "a7914cb6",
   "metadata": {
    "execution": {
     "iopub.execute_input": "2025-02-28T13:35:31.970546Z",
     "iopub.status.busy": "2025-02-28T13:35:31.970251Z",
     "iopub.status.idle": "2025-02-28T13:35:32.013842Z",
     "shell.execute_reply": "2025-02-28T13:35:32.013128Z"
    },
    "papermill": {
     "duration": 0.067512,
     "end_time": "2025-02-28T13:35:32.015097",
     "exception": false,
     "start_time": "2025-02-28T13:35:31.947585",
     "status": "completed"
    },
    "tags": []
   },
   "outputs": [
    {
     "data": {
      "text/plain": [
       "0   2013-01-01 09:10:12-05:00\n",
       "1   2013-01-02 09:10:12-05:00\n",
       "2   2013-01-03 09:10:12-05:00\n",
       "3   2013-01-04 09:10:12-05:00\n",
       "dtype: datetime64[ns, US/Eastern]"
      ]
     },
     "execution_count": 107,
     "metadata": {},
     "output_type": "execute_result"
    }
   ],
   "source": [
    "stz = s.dt.tz_localize(\"US/Eastern\")\n",
    "stz"
   ]
  },
  {
   "cell_type": "code",
   "execution_count": 108,
   "id": "4aeb51de",
   "metadata": {
    "execution": {
     "iopub.execute_input": "2025-02-28T13:35:32.063712Z",
     "iopub.status.busy": "2025-02-28T13:35:32.063430Z",
     "iopub.status.idle": "2025-02-28T13:35:32.069274Z",
     "shell.execute_reply": "2025-02-28T13:35:32.068302Z"
    },
    "papermill": {
     "duration": 0.03069,
     "end_time": "2025-02-28T13:35:32.070345",
     "exception": false,
     "start_time": "2025-02-28T13:35:32.039655",
     "status": "completed"
    },
    "tags": []
   },
   "outputs": [
    {
     "data": {
      "text/plain": [
       "0   2013-01-01 04:10:12-05:00\n",
       "1   2013-01-02 04:10:12-05:00\n",
       "2   2013-01-03 04:10:12-05:00\n",
       "3   2013-01-04 04:10:12-05:00\n",
       "dtype: datetime64[ns, US/Eastern]"
      ]
     },
     "execution_count": 108,
     "metadata": {},
     "output_type": "execute_result"
    }
   ],
   "source": [
    "s.dt.tz_localize(\"UTC\").dt.tz_convert(\"US/Eastern\")"
   ]
  },
  {
   "cell_type": "code",
   "execution_count": 109,
   "id": "4957d2bf",
   "metadata": {
    "execution": {
     "iopub.execute_input": "2025-02-28T13:35:32.117910Z",
     "iopub.status.busy": "2025-02-28T13:35:32.117576Z",
     "iopub.status.idle": "2025-02-28T13:35:32.122819Z",
     "shell.execute_reply": "2025-02-28T13:35:32.122270Z"
    },
    "papermill": {
     "duration": 0.030305,
     "end_time": "2025-02-28T13:35:32.123967",
     "exception": false,
     "start_time": "2025-02-28T13:35:32.093662",
     "status": "completed"
    },
    "tags": []
   },
   "outputs": [
    {
     "data": {
      "text/plain": [
       "0   2013-01-01\n",
       "1   2013-01-02\n",
       "2   2013-01-03\n",
       "3   2013-01-04\n",
       "dtype: datetime64[ns]"
      ]
     },
     "execution_count": 109,
     "metadata": {},
     "output_type": "execute_result"
    }
   ],
   "source": [
    "s = pd.Series(pd.date_range(\"20130101\", periods=4))\n",
    "s"
   ]
  },
  {
   "cell_type": "code",
   "execution_count": 110,
   "id": "6318d48b",
   "metadata": {
    "execution": {
     "iopub.execute_input": "2025-02-28T13:35:32.172440Z",
     "iopub.status.busy": "2025-02-28T13:35:32.172158Z",
     "iopub.status.idle": "2025-02-28T13:35:32.177189Z",
     "shell.execute_reply": "2025-02-28T13:35:32.176519Z"
    },
    "papermill": {
     "duration": 0.029561,
     "end_time": "2025-02-28T13:35:32.178210",
     "exception": false,
     "start_time": "2025-02-28T13:35:32.148649",
     "status": "completed"
    },
    "tags": []
   },
   "outputs": [
    {
     "data": {
      "text/plain": [
       "0    2013/01/01\n",
       "1    2013/01/02\n",
       "2    2013/01/03\n",
       "3    2013/01/04\n",
       "dtype: object"
      ]
     },
     "execution_count": 110,
     "metadata": {},
     "output_type": "execute_result"
    }
   ],
   "source": [
    "s.dt.strftime(\"%Y/%m/%d\")"
   ]
  },
  {
   "cell_type": "code",
   "execution_count": 111,
   "id": "224de52e",
   "metadata": {
    "execution": {
     "iopub.execute_input": "2025-02-28T13:35:32.226014Z",
     "iopub.status.busy": "2025-02-28T13:35:32.225658Z",
     "iopub.status.idle": "2025-02-28T13:35:32.232228Z",
     "shell.execute_reply": "2025-02-28T13:35:32.231515Z"
    },
    "papermill": {
     "duration": 0.031606,
     "end_time": "2025-02-28T13:35:32.233491",
     "exception": false,
     "start_time": "2025-02-28T13:35:32.201885",
     "status": "completed"
    },
    "tags": []
   },
   "outputs": [
    {
     "data": {
      "text/plain": [
       "0    2013-01-01\n",
       "1    2013-01-02\n",
       "2    2013-01-03\n",
       "3    2013-01-04\n",
       "dtype: period[D]"
      ]
     },
     "execution_count": 111,
     "metadata": {},
     "output_type": "execute_result"
    }
   ],
   "source": [
    "s = pd.Series(pd.period_range(\"20130101\", periods=4))\n",
    "s"
   ]
  },
  {
   "cell_type": "code",
   "execution_count": 112,
   "id": "c8fe51c1",
   "metadata": {
    "execution": {
     "iopub.execute_input": "2025-02-28T13:35:32.280905Z",
     "iopub.status.busy": "2025-02-28T13:35:32.280575Z",
     "iopub.status.idle": "2025-02-28T13:35:32.285932Z",
     "shell.execute_reply": "2025-02-28T13:35:32.285212Z"
    },
    "papermill": {
     "duration": 0.030456,
     "end_time": "2025-02-28T13:35:32.287040",
     "exception": false,
     "start_time": "2025-02-28T13:35:32.256584",
     "status": "completed"
    },
    "tags": []
   },
   "outputs": [
    {
     "data": {
      "text/plain": [
       "0    2013/01/01\n",
       "1    2013/01/02\n",
       "2    2013/01/03\n",
       "3    2013/01/04\n",
       "dtype: object"
      ]
     },
     "execution_count": 112,
     "metadata": {},
     "output_type": "execute_result"
    }
   ],
   "source": [
    "s.dt.strftime(\"%Y/%m/%d\")"
   ]
  },
  {
   "cell_type": "code",
   "execution_count": 113,
   "id": "eb14814b",
   "metadata": {
    "execution": {
     "iopub.execute_input": "2025-02-28T13:35:32.334740Z",
     "iopub.status.busy": "2025-02-28T13:35:32.334417Z",
     "iopub.status.idle": "2025-02-28T13:35:32.339817Z",
     "shell.execute_reply": "2025-02-28T13:35:32.339159Z"
    },
    "papermill": {
     "duration": 0.03048,
     "end_time": "2025-02-28T13:35:32.340833",
     "exception": false,
     "start_time": "2025-02-28T13:35:32.310353",
     "status": "completed"
    },
    "tags": []
   },
   "outputs": [
    {
     "data": {
      "text/plain": [
       "0    2013-01-01\n",
       "1    2013-01-02\n",
       "2    2013-01-03\n",
       "3    2013-01-04\n",
       "dtype: period[D]"
      ]
     },
     "execution_count": 113,
     "metadata": {},
     "output_type": "execute_result"
    }
   ],
   "source": [
    "s = pd.Series(pd.period_range(\"20130101\", periods=4, freq=\"D\"))\n",
    "s"
   ]
  },
  {
   "cell_type": "code",
   "execution_count": 114,
   "id": "84be82a4",
   "metadata": {
    "execution": {
     "iopub.execute_input": "2025-02-28T13:35:32.390612Z",
     "iopub.status.busy": "2025-02-28T13:35:32.390236Z",
     "iopub.status.idle": "2025-02-28T13:35:32.395571Z",
     "shell.execute_reply": "2025-02-28T13:35:32.394811Z"
    },
    "papermill": {
     "duration": 0.031506,
     "end_time": "2025-02-28T13:35:32.396674",
     "exception": false,
     "start_time": "2025-02-28T13:35:32.365168",
     "status": "completed"
    },
    "tags": []
   },
   "outputs": [
    {
     "data": {
      "text/plain": [
       "0    2013\n",
       "1    2013\n",
       "2    2013\n",
       "3    2013\n",
       "dtype: int64"
      ]
     },
     "execution_count": 114,
     "metadata": {},
     "output_type": "execute_result"
    }
   ],
   "source": [
    "s.dt.year"
   ]
  },
  {
   "cell_type": "code",
   "execution_count": 115,
   "id": "c008ac3d",
   "metadata": {
    "execution": {
     "iopub.execute_input": "2025-02-28T13:35:32.444939Z",
     "iopub.status.busy": "2025-02-28T13:35:32.444675Z",
     "iopub.status.idle": "2025-02-28T13:35:32.449062Z",
     "shell.execute_reply": "2025-02-28T13:35:32.448374Z"
    },
    "papermill": {
     "duration": 0.029587,
     "end_time": "2025-02-28T13:35:32.450113",
     "exception": false,
     "start_time": "2025-02-28T13:35:32.420526",
     "status": "completed"
    },
    "tags": []
   },
   "outputs": [
    {
     "data": {
      "text/plain": [
       "0    1\n",
       "1    2\n",
       "2    3\n",
       "3    4\n",
       "dtype: int64"
      ]
     },
     "execution_count": 115,
     "metadata": {},
     "output_type": "execute_result"
    }
   ],
   "source": [
    "s.dt.day"
   ]
  },
  {
   "cell_type": "code",
   "execution_count": 116,
   "id": "da537b73",
   "metadata": {
    "execution": {
     "iopub.execute_input": "2025-02-28T13:35:32.499121Z",
     "iopub.status.busy": "2025-02-28T13:35:32.498840Z",
     "iopub.status.idle": "2025-02-28T13:35:32.505388Z",
     "shell.execute_reply": "2025-02-28T13:35:32.504260Z"
    },
    "papermill": {
     "duration": 0.033152,
     "end_time": "2025-02-28T13:35:32.506876",
     "exception": false,
     "start_time": "2025-02-28T13:35:32.473724",
     "status": "completed"
    },
    "tags": []
   },
   "outputs": [
    {
     "data": {
      "text/plain": [
       "0   1 days 00:00:05\n",
       "1   1 days 00:00:06\n",
       "2   1 days 00:00:07\n",
       "3   1 days 00:00:08\n",
       "dtype: timedelta64[ns]"
      ]
     },
     "execution_count": 116,
     "metadata": {},
     "output_type": "execute_result"
    }
   ],
   "source": [
    "s = pd.Series(pd.timedelta_range(\"1 day 00:00:05\", periods=4, freq=\"s\"))\n",
    "s"
   ]
  },
  {
   "cell_type": "code",
   "execution_count": 117,
   "id": "ede31679",
   "metadata": {
    "execution": {
     "iopub.execute_input": "2025-02-28T13:35:32.555735Z",
     "iopub.status.busy": "2025-02-28T13:35:32.555473Z",
     "iopub.status.idle": "2025-02-28T13:35:32.560617Z",
     "shell.execute_reply": "2025-02-28T13:35:32.559933Z"
    },
    "papermill": {
     "duration": 0.030444,
     "end_time": "2025-02-28T13:35:32.561707",
     "exception": false,
     "start_time": "2025-02-28T13:35:32.531263",
     "status": "completed"
    },
    "tags": []
   },
   "outputs": [
    {
     "data": {
      "text/plain": [
       "0    1\n",
       "1    1\n",
       "2    1\n",
       "3    1\n",
       "dtype: int64"
      ]
     },
     "execution_count": 117,
     "metadata": {},
     "output_type": "execute_result"
    }
   ],
   "source": [
    "s.dt.days"
   ]
  },
  {
   "cell_type": "code",
   "execution_count": 118,
   "id": "874248a2",
   "metadata": {
    "execution": {
     "iopub.execute_input": "2025-02-28T13:35:32.610551Z",
     "iopub.status.busy": "2025-02-28T13:35:32.610229Z",
     "iopub.status.idle": "2025-02-28T13:35:32.615708Z",
     "shell.execute_reply": "2025-02-28T13:35:32.614951Z"
    },
    "papermill": {
     "duration": 0.031187,
     "end_time": "2025-02-28T13:35:32.617455",
     "exception": false,
     "start_time": "2025-02-28T13:35:32.586268",
     "status": "completed"
    },
    "tags": []
   },
   "outputs": [
    {
     "data": {
      "text/plain": [
       "0    5\n",
       "1    6\n",
       "2    7\n",
       "3    8\n",
       "dtype: int32"
      ]
     },
     "execution_count": 118,
     "metadata": {},
     "output_type": "execute_result"
    }
   ],
   "source": [
    "s.dt.seconds"
   ]
  },
  {
   "cell_type": "code",
   "execution_count": 119,
   "id": "ab3e75dc",
   "metadata": {
    "execution": {
     "iopub.execute_input": "2025-02-28T13:35:32.682084Z",
     "iopub.status.busy": "2025-02-28T13:35:32.681780Z",
     "iopub.status.idle": "2025-02-28T13:35:32.689345Z",
     "shell.execute_reply": "2025-02-28T13:35:32.688691Z"
    },
    "papermill": {
     "duration": 0.038253,
     "end_time": "2025-02-28T13:35:32.690328",
     "exception": false,
     "start_time": "2025-02-28T13:35:32.652075",
     "status": "completed"
    },
    "tags": []
   },
   "outputs": [
    {
     "data": {
      "text/html": [
       "<div>\n",
       "<style scoped>\n",
       "    .dataframe tbody tr th:only-of-type {\n",
       "        vertical-align: middle;\n",
       "    }\n",
       "\n",
       "    .dataframe tbody tr th {\n",
       "        vertical-align: top;\n",
       "    }\n",
       "\n",
       "    .dataframe thead th {\n",
       "        text-align: right;\n",
       "    }\n",
       "</style>\n",
       "<table border=\"1\" class=\"dataframe\">\n",
       "  <thead>\n",
       "    <tr style=\"text-align: right;\">\n",
       "      <th></th>\n",
       "      <th>days</th>\n",
       "      <th>hours</th>\n",
       "      <th>minutes</th>\n",
       "      <th>seconds</th>\n",
       "      <th>milliseconds</th>\n",
       "      <th>microseconds</th>\n",
       "      <th>nanoseconds</th>\n",
       "    </tr>\n",
       "  </thead>\n",
       "  <tbody>\n",
       "    <tr>\n",
       "      <th>0</th>\n",
       "      <td>1</td>\n",
       "      <td>0</td>\n",
       "      <td>0</td>\n",
       "      <td>5</td>\n",
       "      <td>0</td>\n",
       "      <td>0</td>\n",
       "      <td>0</td>\n",
       "    </tr>\n",
       "    <tr>\n",
       "      <th>1</th>\n",
       "      <td>1</td>\n",
       "      <td>0</td>\n",
       "      <td>0</td>\n",
       "      <td>6</td>\n",
       "      <td>0</td>\n",
       "      <td>0</td>\n",
       "      <td>0</td>\n",
       "    </tr>\n",
       "    <tr>\n",
       "      <th>2</th>\n",
       "      <td>1</td>\n",
       "      <td>0</td>\n",
       "      <td>0</td>\n",
       "      <td>7</td>\n",
       "      <td>0</td>\n",
       "      <td>0</td>\n",
       "      <td>0</td>\n",
       "    </tr>\n",
       "    <tr>\n",
       "      <th>3</th>\n",
       "      <td>1</td>\n",
       "      <td>0</td>\n",
       "      <td>0</td>\n",
       "      <td>8</td>\n",
       "      <td>0</td>\n",
       "      <td>0</td>\n",
       "      <td>0</td>\n",
       "    </tr>\n",
       "  </tbody>\n",
       "</table>\n",
       "</div>"
      ],
      "text/plain": [
       "   days  hours  minutes  seconds  milliseconds  microseconds  nanoseconds\n",
       "0     1      0        0        5             0             0            0\n",
       "1     1      0        0        6             0             0            0\n",
       "2     1      0        0        7             0             0            0\n",
       "3     1      0        0        8             0             0            0"
      ]
     },
     "execution_count": 119,
     "metadata": {},
     "output_type": "execute_result"
    }
   ],
   "source": [
    "s.dt.components"
   ]
  },
  {
   "cell_type": "code",
   "execution_count": null,
   "id": "f0798555",
   "metadata": {
    "papermill": {
     "duration": 0.02577,
     "end_time": "2025-02-28T13:35:32.740404",
     "exception": false,
     "start_time": "2025-02-28T13:35:32.714634",
     "status": "completed"
    },
    "tags": []
   },
   "outputs": [],
   "source": []
  }
 ],
 "metadata": {
  "kaggle": {
   "accelerator": "none",
   "dataSources": [],
   "dockerImageVersionId": 30918,
   "isGpuEnabled": false,
   "isInternetEnabled": true,
   "language": "python",
   "sourceType": "notebook"
  },
  "kernelspec": {
   "display_name": "Python 3",
   "language": "python",
   "name": "python3"
  },
  "language_info": {
   "codemirror_mode": {
    "name": "ipython",
    "version": 3
   },
   "file_extension": ".py",
   "mimetype": "text/x-python",
   "name": "python",
   "nbconvert_exporter": "python",
   "pygments_lexer": "ipython3",
   "version": "3.10.12"
  },
  "papermill": {
   "default_parameters": {},
   "duration": 8.981434,
   "end_time": "2025-02-28T13:35:33.193366",
   "environment_variables": {},
   "exception": null,
   "input_path": "__notebook__.ipynb",
   "output_path": "__notebook__.ipynb",
   "parameters": {},
   "start_time": "2025-02-28T13:35:24.211932",
   "version": "2.4.0"
  }
 },
 "nbformat": 4,
 "nbformat_minor": 5
}
