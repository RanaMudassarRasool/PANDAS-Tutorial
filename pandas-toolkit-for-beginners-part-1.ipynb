{
 "cells": [
  {
   "cell_type": "markdown",
   "id": "d161f6bf",
   "metadata": {
    "papermill": {
     "duration": 0.029897,
     "end_time": "2025-02-28T13:08:25.668154",
     "exception": false,
     "start_time": "2025-02-28T13:08:25.638257",
     "status": "completed"
    },
    "tags": []
   },
   "source": [
    "<div style=\"color:white;background-color:Black;padding:3%;border-radius:150px 150px;font-size:2.5em;text-align:center\">Basics Pandas toolkit Part 1</div>"
   ]
  },
  {
   "cell_type": "code",
   "execution_count": 1,
   "id": "ebeace88",
   "metadata": {
    "execution": {
     "iopub.execute_input": "2025-02-28T13:08:25.726382Z",
     "iopub.status.busy": "2025-02-28T13:08:25.726037Z",
     "iopub.status.idle": "2025-02-28T13:08:26.807409Z",
     "shell.execute_reply": "2025-02-28T13:08:26.806281Z"
    },
    "papermill": {
     "duration": 1.112453,
     "end_time": "2025-02-28T13:08:26.809402",
     "exception": false,
     "start_time": "2025-02-28T13:08:25.696949",
     "status": "completed"
    },
    "tags": []
   },
   "outputs": [],
   "source": [
    "import pandas as pd \n",
    "import matplotlib.pyplot as plt\n",
    "\n",
    "import warnings\n",
    "warnings.filterwarnings(\"ignore\")"
   ]
  },
  {
   "cell_type": "code",
   "execution_count": 2,
   "id": "8c10deb8",
   "metadata": {
    "execution": {
     "iopub.execute_input": "2025-02-28T13:08:26.869307Z",
     "iopub.status.busy": "2025-02-28T13:08:26.868756Z",
     "iopub.status.idle": "2025-02-28T13:08:26.904059Z",
     "shell.execute_reply": "2025-02-28T13:08:26.902880Z"
    },
    "papermill": {
     "duration": 0.067752,
     "end_time": "2025-02-28T13:08:26.905813",
     "exception": false,
     "start_time": "2025-02-28T13:08:26.838061",
     "status": "completed"
    },
    "tags": []
   },
   "outputs": [
    {
     "data": {
      "text/html": [
       "<div>\n",
       "<style scoped>\n",
       "    .dataframe tbody tr th:only-of-type {\n",
       "        vertical-align: middle;\n",
       "    }\n",
       "\n",
       "    .dataframe tbody tr th {\n",
       "        vertical-align: top;\n",
       "    }\n",
       "\n",
       "    .dataframe thead th {\n",
       "        text-align: right;\n",
       "    }\n",
       "</style>\n",
       "<table border=\"1\" class=\"dataframe\">\n",
       "  <thead>\n",
       "    <tr style=\"text-align: right;\">\n",
       "      <th></th>\n",
       "      <th>Name</th>\n",
       "      <th>Age</th>\n",
       "      <th>Sex</th>\n",
       "    </tr>\n",
       "  </thead>\n",
       "  <tbody>\n",
       "    <tr>\n",
       "      <th>0</th>\n",
       "      <td>Braund, Mr. Owen Harris</td>\n",
       "      <td>22</td>\n",
       "      <td>male</td>\n",
       "    </tr>\n",
       "    <tr>\n",
       "      <th>1</th>\n",
       "      <td>Allen, Mr. William Henry</td>\n",
       "      <td>35</td>\n",
       "      <td>male</td>\n",
       "    </tr>\n",
       "    <tr>\n",
       "      <th>2</th>\n",
       "      <td>Bonnell, Miss. Elizabeth</td>\n",
       "      <td>58</td>\n",
       "      <td>female</td>\n",
       "    </tr>\n",
       "  </tbody>\n",
       "</table>\n",
       "</div>"
      ],
      "text/plain": [
       "                       Name  Age     Sex\n",
       "0   Braund, Mr. Owen Harris   22    male\n",
       "1  Allen, Mr. William Henry   35    male\n",
       "2  Bonnell, Miss. Elizabeth   58  female"
      ]
     },
     "execution_count": 2,
     "metadata": {},
     "output_type": "execute_result"
    }
   ],
   "source": [
    "df = pd.DataFrame({\n",
    "    \n",
    " \"Name\": [\"Braund, Mr. Owen Harris\",\"Allen, Mr. William Henry\",\"Bonnell, Miss. Elizabeth\"],\n",
    "    \n",
    " \"Age\": [22, 35, 58],\n",
    "    \n",
    " \"Sex\": [\"male\", \"male\", \"female\"]\n",
    "    \n",
    "})\n",
    "\n",
    "df"
   ]
  },
  {
   "cell_type": "code",
   "execution_count": 3,
   "id": "f2874083",
   "metadata": {
    "execution": {
     "iopub.execute_input": "2025-02-28T13:08:26.965488Z",
     "iopub.status.busy": "2025-02-28T13:08:26.965121Z",
     "iopub.status.idle": "2025-02-28T13:08:26.971837Z",
     "shell.execute_reply": "2025-02-28T13:08:26.970958Z"
    },
    "papermill": {
     "duration": 0.03899,
     "end_time": "2025-02-28T13:08:26.973643",
     "exception": false,
     "start_time": "2025-02-28T13:08:26.934653",
     "status": "completed"
    },
    "tags": []
   },
   "outputs": [
    {
     "data": {
      "text/plain": [
       "0    22\n",
       "1    35\n",
       "2    58\n",
       "Name: Age, dtype: int64"
      ]
     },
     "execution_count": 3,
     "metadata": {},
     "output_type": "execute_result"
    }
   ],
   "source": [
    "df[\"Age\"]"
   ]
  },
  {
   "cell_type": "code",
   "execution_count": 4,
   "id": "4568f330",
   "metadata": {
    "execution": {
     "iopub.execute_input": "2025-02-28T13:08:27.031933Z",
     "iopub.status.busy": "2025-02-28T13:08:27.031566Z",
     "iopub.status.idle": "2025-02-28T13:08:27.040577Z",
     "shell.execute_reply": "2025-02-28T13:08:27.038929Z"
    },
    "papermill": {
     "duration": 0.041216,
     "end_time": "2025-02-28T13:08:27.042882",
     "exception": false,
     "start_time": "2025-02-28T13:08:27.001666",
     "status": "completed"
    },
    "tags": []
   },
   "outputs": [
    {
     "data": {
      "text/plain": [
       "0    22\n",
       "1    35\n",
       "2    58\n",
       "Name: Age, dtype: int64"
      ]
     },
     "execution_count": 4,
     "metadata": {},
     "output_type": "execute_result"
    }
   ],
   "source": [
    "ages = pd.Series([22, 35, 58], name=\"Age\")\n",
    "ages"
   ]
  },
  {
   "cell_type": "code",
   "execution_count": 5,
   "id": "79efbd13",
   "metadata": {
    "execution": {
     "iopub.execute_input": "2025-02-28T13:08:27.101694Z",
     "iopub.status.busy": "2025-02-28T13:08:27.101239Z",
     "iopub.status.idle": "2025-02-28T13:08:27.109842Z",
     "shell.execute_reply": "2025-02-28T13:08:27.108630Z"
    },
    "papermill": {
     "duration": 0.039811,
     "end_time": "2025-02-28T13:08:27.111774",
     "exception": false,
     "start_time": "2025-02-28T13:08:27.071963",
     "status": "completed"
    },
    "tags": []
   },
   "outputs": [
    {
     "data": {
      "text/plain": [
       "58"
      ]
     },
     "execution_count": 5,
     "metadata": {},
     "output_type": "execute_result"
    }
   ],
   "source": [
    "df[\"Age\"].max()"
   ]
  },
  {
   "cell_type": "code",
   "execution_count": 6,
   "id": "c53ff159",
   "metadata": {
    "execution": {
     "iopub.execute_input": "2025-02-28T13:08:27.170869Z",
     "iopub.status.busy": "2025-02-28T13:08:27.170528Z",
     "iopub.status.idle": "2025-02-28T13:08:27.176767Z",
     "shell.execute_reply": "2025-02-28T13:08:27.175626Z"
    },
    "papermill": {
     "duration": 0.038082,
     "end_time": "2025-02-28T13:08:27.178877",
     "exception": false,
     "start_time": "2025-02-28T13:08:27.140795",
     "status": "completed"
    },
    "tags": []
   },
   "outputs": [
    {
     "data": {
      "text/plain": [
       "58"
      ]
     },
     "execution_count": 6,
     "metadata": {},
     "output_type": "execute_result"
    }
   ],
   "source": [
    "ages.max()"
   ]
  },
  {
   "cell_type": "code",
   "execution_count": 7,
   "id": "6e7c79da",
   "metadata": {
    "execution": {
     "iopub.execute_input": "2025-02-28T13:08:27.237411Z",
     "iopub.status.busy": "2025-02-28T13:08:27.237074Z",
     "iopub.status.idle": "2025-02-28T13:08:27.255679Z",
     "shell.execute_reply": "2025-02-28T13:08:27.254569Z"
    },
    "papermill": {
     "duration": 0.049574,
     "end_time": "2025-02-28T13:08:27.257378",
     "exception": false,
     "start_time": "2025-02-28T13:08:27.207804",
     "status": "completed"
    },
    "tags": []
   },
   "outputs": [
    {
     "data": {
      "text/html": [
       "<div>\n",
       "<style scoped>\n",
       "    .dataframe tbody tr th:only-of-type {\n",
       "        vertical-align: middle;\n",
       "    }\n",
       "\n",
       "    .dataframe tbody tr th {\n",
       "        vertical-align: top;\n",
       "    }\n",
       "\n",
       "    .dataframe thead th {\n",
       "        text-align: right;\n",
       "    }\n",
       "</style>\n",
       "<table border=\"1\" class=\"dataframe\">\n",
       "  <thead>\n",
       "    <tr style=\"text-align: right;\">\n",
       "      <th></th>\n",
       "      <th>Age</th>\n",
       "    </tr>\n",
       "  </thead>\n",
       "  <tbody>\n",
       "    <tr>\n",
       "      <th>count</th>\n",
       "      <td>3.000000</td>\n",
       "    </tr>\n",
       "    <tr>\n",
       "      <th>mean</th>\n",
       "      <td>38.333333</td>\n",
       "    </tr>\n",
       "    <tr>\n",
       "      <th>std</th>\n",
       "      <td>18.230012</td>\n",
       "    </tr>\n",
       "    <tr>\n",
       "      <th>min</th>\n",
       "      <td>22.000000</td>\n",
       "    </tr>\n",
       "    <tr>\n",
       "      <th>25%</th>\n",
       "      <td>28.500000</td>\n",
       "    </tr>\n",
       "    <tr>\n",
       "      <th>50%</th>\n",
       "      <td>35.000000</td>\n",
       "    </tr>\n",
       "    <tr>\n",
       "      <th>75%</th>\n",
       "      <td>46.500000</td>\n",
       "    </tr>\n",
       "    <tr>\n",
       "      <th>max</th>\n",
       "      <td>58.000000</td>\n",
       "    </tr>\n",
       "  </tbody>\n",
       "</table>\n",
       "</div>"
      ],
      "text/plain": [
       "             Age\n",
       "count   3.000000\n",
       "mean   38.333333\n",
       "std    18.230012\n",
       "min    22.000000\n",
       "25%    28.500000\n",
       "50%    35.000000\n",
       "75%    46.500000\n",
       "max    58.000000"
      ]
     },
     "execution_count": 7,
     "metadata": {},
     "output_type": "execute_result"
    }
   ],
   "source": [
    "df.describe()"
   ]
  },
  {
   "cell_type": "code",
   "execution_count": 8,
   "id": "ac565cf0",
   "metadata": {
    "execution": {
     "iopub.execute_input": "2025-02-28T13:08:27.374921Z",
     "iopub.status.busy": "2025-02-28T13:08:27.374571Z",
     "iopub.status.idle": "2025-02-28T13:08:27.417179Z",
     "shell.execute_reply": "2025-02-28T13:08:27.415776Z"
    },
    "papermill": {
     "duration": 0.133309,
     "end_time": "2025-02-28T13:08:27.419075",
     "exception": false,
     "start_time": "2025-02-28T13:08:27.285766",
     "status": "completed"
    },
    "tags": []
   },
   "outputs": [
    {
     "data": {
      "text/html": [
       "<div>\n",
       "<style scoped>\n",
       "    .dataframe tbody tr th:only-of-type {\n",
       "        vertical-align: middle;\n",
       "    }\n",
       "\n",
       "    .dataframe tbody tr th {\n",
       "        vertical-align: top;\n",
       "    }\n",
       "\n",
       "    .dataframe thead th {\n",
       "        text-align: right;\n",
       "    }\n",
       "</style>\n",
       "<table border=\"1\" class=\"dataframe\">\n",
       "  <thead>\n",
       "    <tr style=\"text-align: right;\">\n",
       "      <th></th>\n",
       "      <th>PassengerId</th>\n",
       "      <th>Survived</th>\n",
       "      <th>Pclass</th>\n",
       "      <th>Name</th>\n",
       "      <th>Sex</th>\n",
       "      <th>Age</th>\n",
       "      <th>SibSp</th>\n",
       "      <th>Parch</th>\n",
       "      <th>Ticket</th>\n",
       "      <th>Fare</th>\n",
       "      <th>Cabin</th>\n",
       "      <th>Embarked</th>\n",
       "    </tr>\n",
       "  </thead>\n",
       "  <tbody>\n",
       "    <tr>\n",
       "      <th>0</th>\n",
       "      <td>1</td>\n",
       "      <td>0</td>\n",
       "      <td>3</td>\n",
       "      <td>Braund, Mr. Owen Harris</td>\n",
       "      <td>male</td>\n",
       "      <td>22.0</td>\n",
       "      <td>1</td>\n",
       "      <td>0</td>\n",
       "      <td>A/5 21171</td>\n",
       "      <td>7.2500</td>\n",
       "      <td>NaN</td>\n",
       "      <td>S</td>\n",
       "    </tr>\n",
       "    <tr>\n",
       "      <th>1</th>\n",
       "      <td>2</td>\n",
       "      <td>1</td>\n",
       "      <td>1</td>\n",
       "      <td>Cumings, Mrs. John Bradley (Florence Briggs Th...</td>\n",
       "      <td>female</td>\n",
       "      <td>38.0</td>\n",
       "      <td>1</td>\n",
       "      <td>0</td>\n",
       "      <td>PC 17599</td>\n",
       "      <td>71.2833</td>\n",
       "      <td>C85</td>\n",
       "      <td>C</td>\n",
       "    </tr>\n",
       "    <tr>\n",
       "      <th>2</th>\n",
       "      <td>3</td>\n",
       "      <td>1</td>\n",
       "      <td>3</td>\n",
       "      <td>Heikkinen, Miss. Laina</td>\n",
       "      <td>female</td>\n",
       "      <td>26.0</td>\n",
       "      <td>0</td>\n",
       "      <td>0</td>\n",
       "      <td>STON/O2. 3101282</td>\n",
       "      <td>7.9250</td>\n",
       "      <td>NaN</td>\n",
       "      <td>S</td>\n",
       "    </tr>\n",
       "    <tr>\n",
       "      <th>3</th>\n",
       "      <td>4</td>\n",
       "      <td>1</td>\n",
       "      <td>1</td>\n",
       "      <td>Futrelle, Mrs. Jacques Heath (Lily May Peel)</td>\n",
       "      <td>female</td>\n",
       "      <td>35.0</td>\n",
       "      <td>1</td>\n",
       "      <td>0</td>\n",
       "      <td>113803</td>\n",
       "      <td>53.1000</td>\n",
       "      <td>C123</td>\n",
       "      <td>S</td>\n",
       "    </tr>\n",
       "    <tr>\n",
       "      <th>4</th>\n",
       "      <td>5</td>\n",
       "      <td>0</td>\n",
       "      <td>3</td>\n",
       "      <td>Allen, Mr. William Henry</td>\n",
       "      <td>male</td>\n",
       "      <td>35.0</td>\n",
       "      <td>0</td>\n",
       "      <td>0</td>\n",
       "      <td>373450</td>\n",
       "      <td>8.0500</td>\n",
       "      <td>NaN</td>\n",
       "      <td>S</td>\n",
       "    </tr>\n",
       "  </tbody>\n",
       "</table>\n",
       "</div>"
      ],
      "text/plain": [
       "   PassengerId  Survived  Pclass  \\\n",
       "0            1         0       3   \n",
       "1            2         1       1   \n",
       "2            3         1       3   \n",
       "3            4         1       1   \n",
       "4            5         0       3   \n",
       "\n",
       "                                                Name     Sex   Age  SibSp  \\\n",
       "0                            Braund, Mr. Owen Harris    male  22.0      1   \n",
       "1  Cumings, Mrs. John Bradley (Florence Briggs Th...  female  38.0      1   \n",
       "2                             Heikkinen, Miss. Laina  female  26.0      0   \n",
       "3       Futrelle, Mrs. Jacques Heath (Lily May Peel)  female  35.0      1   \n",
       "4                           Allen, Mr. William Henry    male  35.0      0   \n",
       "\n",
       "   Parch            Ticket     Fare Cabin Embarked  \n",
       "0      0         A/5 21171   7.2500   NaN        S  \n",
       "1      0          PC 17599  71.2833   C85        C  \n",
       "2      0  STON/O2. 3101282   7.9250   NaN        S  \n",
       "3      0            113803  53.1000  C123        S  \n",
       "4      0            373450   8.0500   NaN        S  "
      ]
     },
     "execution_count": 8,
     "metadata": {},
     "output_type": "execute_result"
    }
   ],
   "source": [
    "titanic = pd.read_csv(\"/kaggle/input/titanicdataset-traincsv/train.csv\")\n",
    "titanic.head() "
   ]
  },
  {
   "cell_type": "code",
   "execution_count": 9,
   "id": "70229301",
   "metadata": {
    "execution": {
     "iopub.execute_input": "2025-02-28T13:08:27.480359Z",
     "iopub.status.busy": "2025-02-28T13:08:27.479928Z",
     "iopub.status.idle": "2025-02-28T13:08:27.488067Z",
     "shell.execute_reply": "2025-02-28T13:08:27.486920Z"
    },
    "papermill": {
     "duration": 0.041046,
     "end_time": "2025-02-28T13:08:27.489934",
     "exception": false,
     "start_time": "2025-02-28T13:08:27.448888",
     "status": "completed"
    },
    "tags": []
   },
   "outputs": [
    {
     "data": {
      "text/plain": [
       "PassengerId      int64\n",
       "Survived         int64\n",
       "Pclass           int64\n",
       "Name            object\n",
       "Sex             object\n",
       "Age            float64\n",
       "SibSp            int64\n",
       "Parch            int64\n",
       "Ticket          object\n",
       "Fare           float64\n",
       "Cabin           object\n",
       "Embarked        object\n",
       "dtype: object"
      ]
     },
     "execution_count": 9,
     "metadata": {},
     "output_type": "execute_result"
    }
   ],
   "source": [
    "titanic.dtypes"
   ]
  },
  {
   "cell_type": "code",
   "execution_count": 10,
   "id": "a5f766c7",
   "metadata": {
    "execution": {
     "iopub.execute_input": "2025-02-28T13:08:27.550064Z",
     "iopub.status.busy": "2025-02-28T13:08:27.549684Z",
     "iopub.status.idle": "2025-02-28T13:08:28.462585Z",
     "shell.execute_reply": "2025-02-28T13:08:28.461361Z"
    },
    "papermill": {
     "duration": 0.945034,
     "end_time": "2025-02-28T13:08:28.464431",
     "exception": false,
     "start_time": "2025-02-28T13:08:27.519397",
     "status": "completed"
    },
    "tags": []
   },
   "outputs": [],
   "source": [
    "titanic.to_excel(\"titanic.xlsx\", sheet_name=\"passengers\", index=False)"
   ]
  },
  {
   "cell_type": "code",
   "execution_count": 11,
   "id": "82837b51",
   "metadata": {
    "execution": {
     "iopub.execute_input": "2025-02-28T13:08:28.524669Z",
     "iopub.status.busy": "2025-02-28T13:08:28.524125Z",
     "iopub.status.idle": "2025-02-28T13:08:28.809723Z",
     "shell.execute_reply": "2025-02-28T13:08:28.808608Z"
    },
    "papermill": {
     "duration": 0.317334,
     "end_time": "2025-02-28T13:08:28.811714",
     "exception": false,
     "start_time": "2025-02-28T13:08:28.494380",
     "status": "completed"
    },
    "tags": []
   },
   "outputs": [],
   "source": [
    "titanic = pd.read_excel(\"titanic.xlsx\", sheet_name=\"passengers\")"
   ]
  },
  {
   "cell_type": "code",
   "execution_count": 12,
   "id": "08b81fa1",
   "metadata": {
    "execution": {
     "iopub.execute_input": "2025-02-28T13:08:28.870930Z",
     "iopub.status.busy": "2025-02-28T13:08:28.870517Z",
     "iopub.status.idle": "2025-02-28T13:08:28.899974Z",
     "shell.execute_reply": "2025-02-28T13:08:28.898519Z"
    },
    "papermill": {
     "duration": 0.061706,
     "end_time": "2025-02-28T13:08:28.902143",
     "exception": false,
     "start_time": "2025-02-28T13:08:28.840437",
     "status": "completed"
    },
    "tags": []
   },
   "outputs": [
    {
     "name": "stdout",
     "output_type": "stream",
     "text": [
      "<class 'pandas.core.frame.DataFrame'>\n",
      "RangeIndex: 891 entries, 0 to 890\n",
      "Data columns (total 12 columns):\n",
      " #   Column       Non-Null Count  Dtype  \n",
      "---  ------       --------------  -----  \n",
      " 0   PassengerId  891 non-null    int64  \n",
      " 1   Survived     891 non-null    int64  \n",
      " 2   Pclass       891 non-null    int64  \n",
      " 3   Name         891 non-null    object \n",
      " 4   Sex          891 non-null    object \n",
      " 5   Age          714 non-null    float64\n",
      " 6   SibSp        891 non-null    int64  \n",
      " 7   Parch        891 non-null    int64  \n",
      " 8   Ticket       891 non-null    object \n",
      " 9   Fare         891 non-null    float64\n",
      " 10  Cabin        204 non-null    object \n",
      " 11  Embarked     889 non-null    object \n",
      "dtypes: float64(2), int64(5), object(5)\n",
      "memory usage: 83.7+ KB\n"
     ]
    }
   ],
   "source": [
    "titanic.info()"
   ]
  },
  {
   "cell_type": "code",
   "execution_count": 13,
   "id": "0c94396f",
   "metadata": {
    "execution": {
     "iopub.execute_input": "2025-02-28T13:08:28.970697Z",
     "iopub.status.busy": "2025-02-28T13:08:28.970335Z",
     "iopub.status.idle": "2025-02-28T13:08:28.978052Z",
     "shell.execute_reply": "2025-02-28T13:08:28.976810Z"
    },
    "papermill": {
     "duration": 0.041581,
     "end_time": "2025-02-28T13:08:28.979908",
     "exception": false,
     "start_time": "2025-02-28T13:08:28.938327",
     "status": "completed"
    },
    "tags": []
   },
   "outputs": [
    {
     "data": {
      "text/plain": [
       "0    22.0\n",
       "1    38.0\n",
       "2    26.0\n",
       "3    35.0\n",
       "4    35.0\n",
       "Name: Age, dtype: float64"
      ]
     },
     "execution_count": 13,
     "metadata": {},
     "output_type": "execute_result"
    }
   ],
   "source": [
    "ages = titanic[\"Age\"]\n",
    "ages.head()"
   ]
  },
  {
   "cell_type": "code",
   "execution_count": 14,
   "id": "0e34be93",
   "metadata": {
    "execution": {
     "iopub.execute_input": "2025-02-28T13:08:29.041615Z",
     "iopub.status.busy": "2025-02-28T13:08:29.041214Z",
     "iopub.status.idle": "2025-02-28T13:08:29.048274Z",
     "shell.execute_reply": "2025-02-28T13:08:29.046805Z"
    },
    "papermill": {
     "duration": 0.040034,
     "end_time": "2025-02-28T13:08:29.050195",
     "exception": false,
     "start_time": "2025-02-28T13:08:29.010161",
     "status": "completed"
    },
    "tags": []
   },
   "outputs": [
    {
     "data": {
      "text/plain": [
       "pandas.core.series.Series"
      ]
     },
     "execution_count": 14,
     "metadata": {},
     "output_type": "execute_result"
    }
   ],
   "source": [
    "type(titanic[\"Age\"])"
   ]
  },
  {
   "cell_type": "code",
   "execution_count": 15,
   "id": "714923a4",
   "metadata": {
    "execution": {
     "iopub.execute_input": "2025-02-28T13:08:29.111726Z",
     "iopub.status.busy": "2025-02-28T13:08:29.111295Z",
     "iopub.status.idle": "2025-02-28T13:08:29.117812Z",
     "shell.execute_reply": "2025-02-28T13:08:29.116696Z"
    },
    "papermill": {
     "duration": 0.040214,
     "end_time": "2025-02-28T13:08:29.119642",
     "exception": false,
     "start_time": "2025-02-28T13:08:29.079428",
     "status": "completed"
    },
    "tags": []
   },
   "outputs": [
    {
     "data": {
      "text/plain": [
       "(891,)"
      ]
     },
     "execution_count": 15,
     "metadata": {},
     "output_type": "execute_result"
    }
   ],
   "source": [
    "titanic[\"Age\"].shape"
   ]
  },
  {
   "cell_type": "code",
   "execution_count": 16,
   "id": "6e6c3318",
   "metadata": {
    "execution": {
     "iopub.execute_input": "2025-02-28T13:08:29.181841Z",
     "iopub.status.busy": "2025-02-28T13:08:29.181383Z",
     "iopub.status.idle": "2025-02-28T13:08:29.187751Z",
     "shell.execute_reply": "2025-02-28T13:08:29.186492Z"
    },
    "papermill": {
     "duration": 0.038341,
     "end_time": "2025-02-28T13:08:29.189893",
     "exception": false,
     "start_time": "2025-02-28T13:08:29.151552",
     "status": "completed"
    },
    "tags": []
   },
   "outputs": [
    {
     "data": {
      "text/plain": [
       "(891,)"
      ]
     },
     "execution_count": 16,
     "metadata": {},
     "output_type": "execute_result"
    }
   ],
   "source": [
    "titanic[\"Age\"].shape"
   ]
  },
  {
   "cell_type": "code",
   "execution_count": 17,
   "id": "ce1cedc5",
   "metadata": {
    "execution": {
     "iopub.execute_input": "2025-02-28T13:08:29.250638Z",
     "iopub.status.busy": "2025-02-28T13:08:29.250261Z",
     "iopub.status.idle": "2025-02-28T13:08:29.264386Z",
     "shell.execute_reply": "2025-02-28T13:08:29.263258Z"
    },
    "papermill": {
     "duration": 0.046574,
     "end_time": "2025-02-28T13:08:29.266241",
     "exception": false,
     "start_time": "2025-02-28T13:08:29.219667",
     "status": "completed"
    },
    "tags": []
   },
   "outputs": [
    {
     "data": {
      "text/html": [
       "<div>\n",
       "<style scoped>\n",
       "    .dataframe tbody tr th:only-of-type {\n",
       "        vertical-align: middle;\n",
       "    }\n",
       "\n",
       "    .dataframe tbody tr th {\n",
       "        vertical-align: top;\n",
       "    }\n",
       "\n",
       "    .dataframe thead th {\n",
       "        text-align: right;\n",
       "    }\n",
       "</style>\n",
       "<table border=\"1\" class=\"dataframe\">\n",
       "  <thead>\n",
       "    <tr style=\"text-align: right;\">\n",
       "      <th></th>\n",
       "      <th>Age</th>\n",
       "      <th>Sex</th>\n",
       "    </tr>\n",
       "  </thead>\n",
       "  <tbody>\n",
       "    <tr>\n",
       "      <th>0</th>\n",
       "      <td>22.0</td>\n",
       "      <td>male</td>\n",
       "    </tr>\n",
       "    <tr>\n",
       "      <th>1</th>\n",
       "      <td>38.0</td>\n",
       "      <td>female</td>\n",
       "    </tr>\n",
       "    <tr>\n",
       "      <th>2</th>\n",
       "      <td>26.0</td>\n",
       "      <td>female</td>\n",
       "    </tr>\n",
       "    <tr>\n",
       "      <th>3</th>\n",
       "      <td>35.0</td>\n",
       "      <td>female</td>\n",
       "    </tr>\n",
       "    <tr>\n",
       "      <th>4</th>\n",
       "      <td>35.0</td>\n",
       "      <td>male</td>\n",
       "    </tr>\n",
       "  </tbody>\n",
       "</table>\n",
       "</div>"
      ],
      "text/plain": [
       "    Age     Sex\n",
       "0  22.0    male\n",
       "1  38.0  female\n",
       "2  26.0  female\n",
       "3  35.0  female\n",
       "4  35.0    male"
      ]
     },
     "execution_count": 17,
     "metadata": {},
     "output_type": "execute_result"
    }
   ],
   "source": [
    "age_sex = titanic[[\"Age\", \"Sex\"]]\n",
    "age_sex.head()"
   ]
  },
  {
   "cell_type": "code",
   "execution_count": 18,
   "id": "3e7732b7",
   "metadata": {
    "execution": {
     "iopub.execute_input": "2025-02-28T13:08:29.327802Z",
     "iopub.status.busy": "2025-02-28T13:08:29.327368Z",
     "iopub.status.idle": "2025-02-28T13:08:29.334604Z",
     "shell.execute_reply": "2025-02-28T13:08:29.333423Z"
    },
    "papermill": {
     "duration": 0.040098,
     "end_time": "2025-02-28T13:08:29.336584",
     "exception": false,
     "start_time": "2025-02-28T13:08:29.296486",
     "status": "completed"
    },
    "tags": []
   },
   "outputs": [
    {
     "data": {
      "text/plain": [
       "(891, 2)"
      ]
     },
     "execution_count": 18,
     "metadata": {},
     "output_type": "execute_result"
    }
   ],
   "source": [
    "titanic[[\"Age\", \"Sex\"]].shape"
   ]
  },
  {
   "cell_type": "code",
   "execution_count": 19,
   "id": "215b8ca8",
   "metadata": {
    "execution": {
     "iopub.execute_input": "2025-02-28T13:08:29.400710Z",
     "iopub.status.busy": "2025-02-28T13:08:29.400312Z",
     "iopub.status.idle": "2025-02-28T13:08:29.417289Z",
     "shell.execute_reply": "2025-02-28T13:08:29.415937Z"
    },
    "papermill": {
     "duration": 0.051239,
     "end_time": "2025-02-28T13:08:29.419633",
     "exception": false,
     "start_time": "2025-02-28T13:08:29.368394",
     "status": "completed"
    },
    "tags": []
   },
   "outputs": [
    {
     "data": {
      "text/html": [
       "<div>\n",
       "<style scoped>\n",
       "    .dataframe tbody tr th:only-of-type {\n",
       "        vertical-align: middle;\n",
       "    }\n",
       "\n",
       "    .dataframe tbody tr th {\n",
       "        vertical-align: top;\n",
       "    }\n",
       "\n",
       "    .dataframe thead th {\n",
       "        text-align: right;\n",
       "    }\n",
       "</style>\n",
       "<table border=\"1\" class=\"dataframe\">\n",
       "  <thead>\n",
       "    <tr style=\"text-align: right;\">\n",
       "      <th></th>\n",
       "      <th>PassengerId</th>\n",
       "      <th>Survived</th>\n",
       "      <th>Pclass</th>\n",
       "      <th>Name</th>\n",
       "      <th>Sex</th>\n",
       "      <th>Age</th>\n",
       "      <th>SibSp</th>\n",
       "      <th>Parch</th>\n",
       "      <th>Ticket</th>\n",
       "      <th>Fare</th>\n",
       "      <th>Cabin</th>\n",
       "      <th>Embarked</th>\n",
       "    </tr>\n",
       "  </thead>\n",
       "  <tbody>\n",
       "    <tr>\n",
       "      <th>1</th>\n",
       "      <td>2</td>\n",
       "      <td>1</td>\n",
       "      <td>1</td>\n",
       "      <td>Cumings, Mrs. John Bradley (Florence Briggs Th...</td>\n",
       "      <td>female</td>\n",
       "      <td>38.0</td>\n",
       "      <td>1</td>\n",
       "      <td>0</td>\n",
       "      <td>PC 17599</td>\n",
       "      <td>71.2833</td>\n",
       "      <td>C85</td>\n",
       "      <td>C</td>\n",
       "    </tr>\n",
       "    <tr>\n",
       "      <th>6</th>\n",
       "      <td>7</td>\n",
       "      <td>0</td>\n",
       "      <td>1</td>\n",
       "      <td>McCarthy, Mr. Timothy J</td>\n",
       "      <td>male</td>\n",
       "      <td>54.0</td>\n",
       "      <td>0</td>\n",
       "      <td>0</td>\n",
       "      <td>17463</td>\n",
       "      <td>51.8625</td>\n",
       "      <td>E46</td>\n",
       "      <td>S</td>\n",
       "    </tr>\n",
       "    <tr>\n",
       "      <th>11</th>\n",
       "      <td>12</td>\n",
       "      <td>1</td>\n",
       "      <td>1</td>\n",
       "      <td>Bonnell, Miss. Elizabeth</td>\n",
       "      <td>female</td>\n",
       "      <td>58.0</td>\n",
       "      <td>0</td>\n",
       "      <td>0</td>\n",
       "      <td>113783</td>\n",
       "      <td>26.5500</td>\n",
       "      <td>C103</td>\n",
       "      <td>S</td>\n",
       "    </tr>\n",
       "    <tr>\n",
       "      <th>13</th>\n",
       "      <td>14</td>\n",
       "      <td>0</td>\n",
       "      <td>3</td>\n",
       "      <td>Andersson, Mr. Anders Johan</td>\n",
       "      <td>male</td>\n",
       "      <td>39.0</td>\n",
       "      <td>1</td>\n",
       "      <td>5</td>\n",
       "      <td>347082</td>\n",
       "      <td>31.2750</td>\n",
       "      <td>NaN</td>\n",
       "      <td>S</td>\n",
       "    </tr>\n",
       "    <tr>\n",
       "      <th>15</th>\n",
       "      <td>16</td>\n",
       "      <td>1</td>\n",
       "      <td>2</td>\n",
       "      <td>Hewlett, Mrs. (Mary D Kingcome)</td>\n",
       "      <td>female</td>\n",
       "      <td>55.0</td>\n",
       "      <td>0</td>\n",
       "      <td>0</td>\n",
       "      <td>248706</td>\n",
       "      <td>16.0000</td>\n",
       "      <td>NaN</td>\n",
       "      <td>S</td>\n",
       "    </tr>\n",
       "  </tbody>\n",
       "</table>\n",
       "</div>"
      ],
      "text/plain": [
       "    PassengerId  Survived  Pclass  \\\n",
       "1             2         1       1   \n",
       "6             7         0       1   \n",
       "11           12         1       1   \n",
       "13           14         0       3   \n",
       "15           16         1       2   \n",
       "\n",
       "                                                 Name     Sex   Age  SibSp  \\\n",
       "1   Cumings, Mrs. John Bradley (Florence Briggs Th...  female  38.0      1   \n",
       "6                             McCarthy, Mr. Timothy J    male  54.0      0   \n",
       "11                           Bonnell, Miss. Elizabeth  female  58.0      0   \n",
       "13                        Andersson, Mr. Anders Johan    male  39.0      1   \n",
       "15                   Hewlett, Mrs. (Mary D Kingcome)   female  55.0      0   \n",
       "\n",
       "    Parch    Ticket     Fare Cabin Embarked  \n",
       "1       0  PC 17599  71.2833   C85        C  \n",
       "6       0     17463  51.8625   E46        S  \n",
       "11      0    113783  26.5500  C103        S  \n",
       "13      5    347082  31.2750   NaN        S  \n",
       "15      0    248706  16.0000   NaN        S  "
      ]
     },
     "execution_count": 19,
     "metadata": {},
     "output_type": "execute_result"
    }
   ],
   "source": [
    "above_35 = titanic[titanic[\"Age\"] > 35]\n",
    "above_35.head()"
   ]
  },
  {
   "cell_type": "code",
   "execution_count": 20,
   "id": "8ad7f5d7",
   "metadata": {
    "execution": {
     "iopub.execute_input": "2025-02-28T13:08:29.482415Z",
     "iopub.status.busy": "2025-02-28T13:08:29.482015Z",
     "iopub.status.idle": "2025-02-28T13:08:29.499630Z",
     "shell.execute_reply": "2025-02-28T13:08:29.498407Z"
    },
    "papermill": {
     "duration": 0.050833,
     "end_time": "2025-02-28T13:08:29.501578",
     "exception": false,
     "start_time": "2025-02-28T13:08:29.450745",
     "status": "completed"
    },
    "tags": []
   },
   "outputs": [
    {
     "data": {
      "text/html": [
       "<div>\n",
       "<style scoped>\n",
       "    .dataframe tbody tr th:only-of-type {\n",
       "        vertical-align: middle;\n",
       "    }\n",
       "\n",
       "    .dataframe tbody tr th {\n",
       "        vertical-align: top;\n",
       "    }\n",
       "\n",
       "    .dataframe thead th {\n",
       "        text-align: right;\n",
       "    }\n",
       "</style>\n",
       "<table border=\"1\" class=\"dataframe\">\n",
       "  <thead>\n",
       "    <tr style=\"text-align: right;\">\n",
       "      <th></th>\n",
       "      <th>PassengerId</th>\n",
       "      <th>Survived</th>\n",
       "      <th>Pclass</th>\n",
       "      <th>Name</th>\n",
       "      <th>Sex</th>\n",
       "      <th>Age</th>\n",
       "      <th>SibSp</th>\n",
       "      <th>Parch</th>\n",
       "      <th>Ticket</th>\n",
       "      <th>Fare</th>\n",
       "      <th>Cabin</th>\n",
       "      <th>Embarked</th>\n",
       "    </tr>\n",
       "  </thead>\n",
       "  <tbody>\n",
       "    <tr>\n",
       "      <th>0</th>\n",
       "      <td>1</td>\n",
       "      <td>0</td>\n",
       "      <td>3</td>\n",
       "      <td>Braund, Mr. Owen Harris</td>\n",
       "      <td>male</td>\n",
       "      <td>22.0</td>\n",
       "      <td>1</td>\n",
       "      <td>0</td>\n",
       "      <td>A/5 21171</td>\n",
       "      <td>7.2500</td>\n",
       "      <td>NaN</td>\n",
       "      <td>S</td>\n",
       "    </tr>\n",
       "    <tr>\n",
       "      <th>2</th>\n",
       "      <td>3</td>\n",
       "      <td>1</td>\n",
       "      <td>3</td>\n",
       "      <td>Heikkinen, Miss. Laina</td>\n",
       "      <td>female</td>\n",
       "      <td>26.0</td>\n",
       "      <td>0</td>\n",
       "      <td>0</td>\n",
       "      <td>STON/O2. 3101282</td>\n",
       "      <td>7.9250</td>\n",
       "      <td>NaN</td>\n",
       "      <td>S</td>\n",
       "    </tr>\n",
       "    <tr>\n",
       "      <th>4</th>\n",
       "      <td>5</td>\n",
       "      <td>0</td>\n",
       "      <td>3</td>\n",
       "      <td>Allen, Mr. William Henry</td>\n",
       "      <td>male</td>\n",
       "      <td>35.0</td>\n",
       "      <td>0</td>\n",
       "      <td>0</td>\n",
       "      <td>373450</td>\n",
       "      <td>8.0500</td>\n",
       "      <td>NaN</td>\n",
       "      <td>S</td>\n",
       "    </tr>\n",
       "    <tr>\n",
       "      <th>5</th>\n",
       "      <td>6</td>\n",
       "      <td>0</td>\n",
       "      <td>3</td>\n",
       "      <td>Moran, Mr. James</td>\n",
       "      <td>male</td>\n",
       "      <td>NaN</td>\n",
       "      <td>0</td>\n",
       "      <td>0</td>\n",
       "      <td>330877</td>\n",
       "      <td>8.4583</td>\n",
       "      <td>NaN</td>\n",
       "      <td>Q</td>\n",
       "    </tr>\n",
       "    <tr>\n",
       "      <th>7</th>\n",
       "      <td>8</td>\n",
       "      <td>0</td>\n",
       "      <td>3</td>\n",
       "      <td>Palsson, Master. Gosta Leonard</td>\n",
       "      <td>male</td>\n",
       "      <td>2.0</td>\n",
       "      <td>3</td>\n",
       "      <td>1</td>\n",
       "      <td>349909</td>\n",
       "      <td>21.0750</td>\n",
       "      <td>NaN</td>\n",
       "      <td>S</td>\n",
       "    </tr>\n",
       "  </tbody>\n",
       "</table>\n",
       "</div>"
      ],
      "text/plain": [
       "   PassengerId  Survived  Pclass                            Name     Sex  \\\n",
       "0            1         0       3         Braund, Mr. Owen Harris    male   \n",
       "2            3         1       3          Heikkinen, Miss. Laina  female   \n",
       "4            5         0       3        Allen, Mr. William Henry    male   \n",
       "5            6         0       3                Moran, Mr. James    male   \n",
       "7            8         0       3  Palsson, Master. Gosta Leonard    male   \n",
       "\n",
       "    Age  SibSp  Parch            Ticket     Fare Cabin Embarked  \n",
       "0  22.0      1      0         A/5 21171   7.2500   NaN        S  \n",
       "2  26.0      0      0  STON/O2. 3101282   7.9250   NaN        S  \n",
       "4  35.0      0      0            373450   8.0500   NaN        S  \n",
       "5   NaN      0      0            330877   8.4583   NaN        Q  \n",
       "7   2.0      3      1            349909  21.0750   NaN        S  "
      ]
     },
     "execution_count": 20,
     "metadata": {},
     "output_type": "execute_result"
    }
   ],
   "source": [
    "class_23 = titanic[titanic[\"Pclass\"].isin([2, 3])]\n",
    "class_23.head()"
   ]
  },
  {
   "cell_type": "code",
   "execution_count": 21,
   "id": "bb4c19a9",
   "metadata": {
    "execution": {
     "iopub.execute_input": "2025-02-28T13:08:29.566127Z",
     "iopub.status.busy": "2025-02-28T13:08:29.565759Z",
     "iopub.status.idle": "2025-02-28T13:08:29.582738Z",
     "shell.execute_reply": "2025-02-28T13:08:29.581582Z"
    },
    "papermill": {
     "duration": 0.050375,
     "end_time": "2025-02-28T13:08:29.584539",
     "exception": false,
     "start_time": "2025-02-28T13:08:29.534164",
     "status": "completed"
    },
    "tags": []
   },
   "outputs": [
    {
     "data": {
      "text/html": [
       "<div>\n",
       "<style scoped>\n",
       "    .dataframe tbody tr th:only-of-type {\n",
       "        vertical-align: middle;\n",
       "    }\n",
       "\n",
       "    .dataframe tbody tr th {\n",
       "        vertical-align: top;\n",
       "    }\n",
       "\n",
       "    .dataframe thead th {\n",
       "        text-align: right;\n",
       "    }\n",
       "</style>\n",
       "<table border=\"1\" class=\"dataframe\">\n",
       "  <thead>\n",
       "    <tr style=\"text-align: right;\">\n",
       "      <th></th>\n",
       "      <th>PassengerId</th>\n",
       "      <th>Survived</th>\n",
       "      <th>Pclass</th>\n",
       "      <th>Name</th>\n",
       "      <th>Sex</th>\n",
       "      <th>Age</th>\n",
       "      <th>SibSp</th>\n",
       "      <th>Parch</th>\n",
       "      <th>Ticket</th>\n",
       "      <th>Fare</th>\n",
       "      <th>Cabin</th>\n",
       "      <th>Embarked</th>\n",
       "    </tr>\n",
       "  </thead>\n",
       "  <tbody>\n",
       "    <tr>\n",
       "      <th>0</th>\n",
       "      <td>1</td>\n",
       "      <td>0</td>\n",
       "      <td>3</td>\n",
       "      <td>Braund, Mr. Owen Harris</td>\n",
       "      <td>male</td>\n",
       "      <td>22.0</td>\n",
       "      <td>1</td>\n",
       "      <td>0</td>\n",
       "      <td>A/5 21171</td>\n",
       "      <td>7.2500</td>\n",
       "      <td>NaN</td>\n",
       "      <td>S</td>\n",
       "    </tr>\n",
       "    <tr>\n",
       "      <th>2</th>\n",
       "      <td>3</td>\n",
       "      <td>1</td>\n",
       "      <td>3</td>\n",
       "      <td>Heikkinen, Miss. Laina</td>\n",
       "      <td>female</td>\n",
       "      <td>26.0</td>\n",
       "      <td>0</td>\n",
       "      <td>0</td>\n",
       "      <td>STON/O2. 3101282</td>\n",
       "      <td>7.9250</td>\n",
       "      <td>NaN</td>\n",
       "      <td>S</td>\n",
       "    </tr>\n",
       "    <tr>\n",
       "      <th>4</th>\n",
       "      <td>5</td>\n",
       "      <td>0</td>\n",
       "      <td>3</td>\n",
       "      <td>Allen, Mr. William Henry</td>\n",
       "      <td>male</td>\n",
       "      <td>35.0</td>\n",
       "      <td>0</td>\n",
       "      <td>0</td>\n",
       "      <td>373450</td>\n",
       "      <td>8.0500</td>\n",
       "      <td>NaN</td>\n",
       "      <td>S</td>\n",
       "    </tr>\n",
       "    <tr>\n",
       "      <th>5</th>\n",
       "      <td>6</td>\n",
       "      <td>0</td>\n",
       "      <td>3</td>\n",
       "      <td>Moran, Mr. James</td>\n",
       "      <td>male</td>\n",
       "      <td>NaN</td>\n",
       "      <td>0</td>\n",
       "      <td>0</td>\n",
       "      <td>330877</td>\n",
       "      <td>8.4583</td>\n",
       "      <td>NaN</td>\n",
       "      <td>Q</td>\n",
       "    </tr>\n",
       "    <tr>\n",
       "      <th>7</th>\n",
       "      <td>8</td>\n",
       "      <td>0</td>\n",
       "      <td>3</td>\n",
       "      <td>Palsson, Master. Gosta Leonard</td>\n",
       "      <td>male</td>\n",
       "      <td>2.0</td>\n",
       "      <td>3</td>\n",
       "      <td>1</td>\n",
       "      <td>349909</td>\n",
       "      <td>21.0750</td>\n",
       "      <td>NaN</td>\n",
       "      <td>S</td>\n",
       "    </tr>\n",
       "  </tbody>\n",
       "</table>\n",
       "</div>"
      ],
      "text/plain": [
       "   PassengerId  Survived  Pclass                            Name     Sex  \\\n",
       "0            1         0       3         Braund, Mr. Owen Harris    male   \n",
       "2            3         1       3          Heikkinen, Miss. Laina  female   \n",
       "4            5         0       3        Allen, Mr. William Henry    male   \n",
       "5            6         0       3                Moran, Mr. James    male   \n",
       "7            8         0       3  Palsson, Master. Gosta Leonard    male   \n",
       "\n",
       "    Age  SibSp  Parch            Ticket     Fare Cabin Embarked  \n",
       "0  22.0      1      0         A/5 21171   7.2500   NaN        S  \n",
       "2  26.0      0      0  STON/O2. 3101282   7.9250   NaN        S  \n",
       "4  35.0      0      0            373450   8.0500   NaN        S  \n",
       "5   NaN      0      0            330877   8.4583   NaN        Q  \n",
       "7   2.0      3      1            349909  21.0750   NaN        S  "
      ]
     },
     "execution_count": 21,
     "metadata": {},
     "output_type": "execute_result"
    }
   ],
   "source": [
    "class_23 = titanic[(titanic[\"Pclass\"] == 2) | (titanic[\"Pclass\"] == 3)]\n",
    "class_23.head()"
   ]
  },
  {
   "cell_type": "code",
   "execution_count": 22,
   "id": "5d502728",
   "metadata": {
    "execution": {
     "iopub.execute_input": "2025-02-28T13:08:29.649631Z",
     "iopub.status.busy": "2025-02-28T13:08:29.649219Z",
     "iopub.status.idle": "2025-02-28T13:08:29.665832Z",
     "shell.execute_reply": "2025-02-28T13:08:29.664718Z"
    },
    "papermill": {
     "duration": 0.051688,
     "end_time": "2025-02-28T13:08:29.667521",
     "exception": false,
     "start_time": "2025-02-28T13:08:29.615833",
     "status": "completed"
    },
    "tags": []
   },
   "outputs": [
    {
     "data": {
      "text/html": [
       "<div>\n",
       "<style scoped>\n",
       "    .dataframe tbody tr th:only-of-type {\n",
       "        vertical-align: middle;\n",
       "    }\n",
       "\n",
       "    .dataframe tbody tr th {\n",
       "        vertical-align: top;\n",
       "    }\n",
       "\n",
       "    .dataframe thead th {\n",
       "        text-align: right;\n",
       "    }\n",
       "</style>\n",
       "<table border=\"1\" class=\"dataframe\">\n",
       "  <thead>\n",
       "    <tr style=\"text-align: right;\">\n",
       "      <th></th>\n",
       "      <th>PassengerId</th>\n",
       "      <th>Survived</th>\n",
       "      <th>Pclass</th>\n",
       "      <th>Name</th>\n",
       "      <th>Sex</th>\n",
       "      <th>Age</th>\n",
       "      <th>SibSp</th>\n",
       "      <th>Parch</th>\n",
       "      <th>Ticket</th>\n",
       "      <th>Fare</th>\n",
       "      <th>Cabin</th>\n",
       "      <th>Embarked</th>\n",
       "    </tr>\n",
       "  </thead>\n",
       "  <tbody>\n",
       "    <tr>\n",
       "      <th>0</th>\n",
       "      <td>1</td>\n",
       "      <td>0</td>\n",
       "      <td>3</td>\n",
       "      <td>Braund, Mr. Owen Harris</td>\n",
       "      <td>male</td>\n",
       "      <td>22.0</td>\n",
       "      <td>1</td>\n",
       "      <td>0</td>\n",
       "      <td>A/5 21171</td>\n",
       "      <td>7.2500</td>\n",
       "      <td>NaN</td>\n",
       "      <td>S</td>\n",
       "    </tr>\n",
       "    <tr>\n",
       "      <th>1</th>\n",
       "      <td>2</td>\n",
       "      <td>1</td>\n",
       "      <td>1</td>\n",
       "      <td>Cumings, Mrs. John Bradley (Florence Briggs Th...</td>\n",
       "      <td>female</td>\n",
       "      <td>38.0</td>\n",
       "      <td>1</td>\n",
       "      <td>0</td>\n",
       "      <td>PC 17599</td>\n",
       "      <td>71.2833</td>\n",
       "      <td>C85</td>\n",
       "      <td>C</td>\n",
       "    </tr>\n",
       "    <tr>\n",
       "      <th>2</th>\n",
       "      <td>3</td>\n",
       "      <td>1</td>\n",
       "      <td>3</td>\n",
       "      <td>Heikkinen, Miss. Laina</td>\n",
       "      <td>female</td>\n",
       "      <td>26.0</td>\n",
       "      <td>0</td>\n",
       "      <td>0</td>\n",
       "      <td>STON/O2. 3101282</td>\n",
       "      <td>7.9250</td>\n",
       "      <td>NaN</td>\n",
       "      <td>S</td>\n",
       "    </tr>\n",
       "    <tr>\n",
       "      <th>3</th>\n",
       "      <td>4</td>\n",
       "      <td>1</td>\n",
       "      <td>1</td>\n",
       "      <td>Futrelle, Mrs. Jacques Heath (Lily May Peel)</td>\n",
       "      <td>female</td>\n",
       "      <td>35.0</td>\n",
       "      <td>1</td>\n",
       "      <td>0</td>\n",
       "      <td>113803</td>\n",
       "      <td>53.1000</td>\n",
       "      <td>C123</td>\n",
       "      <td>S</td>\n",
       "    </tr>\n",
       "    <tr>\n",
       "      <th>4</th>\n",
       "      <td>5</td>\n",
       "      <td>0</td>\n",
       "      <td>3</td>\n",
       "      <td>Allen, Mr. William Henry</td>\n",
       "      <td>male</td>\n",
       "      <td>35.0</td>\n",
       "      <td>0</td>\n",
       "      <td>0</td>\n",
       "      <td>373450</td>\n",
       "      <td>8.0500</td>\n",
       "      <td>NaN</td>\n",
       "      <td>S</td>\n",
       "    </tr>\n",
       "  </tbody>\n",
       "</table>\n",
       "</div>"
      ],
      "text/plain": [
       "   PassengerId  Survived  Pclass  \\\n",
       "0            1         0       3   \n",
       "1            2         1       1   \n",
       "2            3         1       3   \n",
       "3            4         1       1   \n",
       "4            5         0       3   \n",
       "\n",
       "                                                Name     Sex   Age  SibSp  \\\n",
       "0                            Braund, Mr. Owen Harris    male  22.0      1   \n",
       "1  Cumings, Mrs. John Bradley (Florence Briggs Th...  female  38.0      1   \n",
       "2                             Heikkinen, Miss. Laina  female  26.0      0   \n",
       "3       Futrelle, Mrs. Jacques Heath (Lily May Peel)  female  35.0      1   \n",
       "4                           Allen, Mr. William Henry    male  35.0      0   \n",
       "\n",
       "   Parch            Ticket     Fare Cabin Embarked  \n",
       "0      0         A/5 21171   7.2500   NaN        S  \n",
       "1      0          PC 17599  71.2833   C85        C  \n",
       "2      0  STON/O2. 3101282   7.9250   NaN        S  \n",
       "3      0            113803  53.1000  C123        S  \n",
       "4      0            373450   8.0500   NaN        S  "
      ]
     },
     "execution_count": 22,
     "metadata": {},
     "output_type": "execute_result"
    }
   ],
   "source": [
    "age_no_na = titanic[titanic[\"Age\"].notna()]\n",
    "age_no_na.head()"
   ]
  },
  {
   "cell_type": "code",
   "execution_count": 23,
   "id": "b30572b3",
   "metadata": {
    "execution": {
     "iopub.execute_input": "2025-02-28T13:08:29.729436Z",
     "iopub.status.busy": "2025-02-28T13:08:29.729074Z",
     "iopub.status.idle": "2025-02-28T13:08:29.746364Z",
     "shell.execute_reply": "2025-02-28T13:08:29.745255Z"
    },
    "papermill": {
     "duration": 0.05027,
     "end_time": "2025-02-28T13:08:29.748123",
     "exception": false,
     "start_time": "2025-02-28T13:08:29.697853",
     "status": "completed"
    },
    "tags": []
   },
   "outputs": [
    {
     "data": {
      "text/html": [
       "<div>\n",
       "<style scoped>\n",
       "    .dataframe tbody tr th:only-of-type {\n",
       "        vertical-align: middle;\n",
       "    }\n",
       "\n",
       "    .dataframe tbody tr th {\n",
       "        vertical-align: top;\n",
       "    }\n",
       "\n",
       "    .dataframe thead th {\n",
       "        text-align: right;\n",
       "    }\n",
       "</style>\n",
       "<table border=\"1\" class=\"dataframe\">\n",
       "  <thead>\n",
       "    <tr style=\"text-align: right;\">\n",
       "      <th></th>\n",
       "      <th>PassengerId</th>\n",
       "      <th>Survived</th>\n",
       "      <th>Pclass</th>\n",
       "      <th>Name</th>\n",
       "      <th>Sex</th>\n",
       "      <th>Age</th>\n",
       "      <th>SibSp</th>\n",
       "      <th>Parch</th>\n",
       "      <th>Ticket</th>\n",
       "      <th>Fare</th>\n",
       "      <th>Cabin</th>\n",
       "      <th>Embarked</th>\n",
       "    </tr>\n",
       "  </thead>\n",
       "  <tbody>\n",
       "    <tr>\n",
       "      <th>1</th>\n",
       "      <td>2</td>\n",
       "      <td>1</td>\n",
       "      <td>1</td>\n",
       "      <td>Cumings, Mrs. John Bradley (Florence Briggs Th...</td>\n",
       "      <td>female</td>\n",
       "      <td>38.0</td>\n",
       "      <td>1</td>\n",
       "      <td>0</td>\n",
       "      <td>PC 17599</td>\n",
       "      <td>71.2833</td>\n",
       "      <td>C85</td>\n",
       "      <td>C</td>\n",
       "    </tr>\n",
       "    <tr>\n",
       "      <th>6</th>\n",
       "      <td>7</td>\n",
       "      <td>0</td>\n",
       "      <td>1</td>\n",
       "      <td>McCarthy, Mr. Timothy J</td>\n",
       "      <td>male</td>\n",
       "      <td>54.0</td>\n",
       "      <td>0</td>\n",
       "      <td>0</td>\n",
       "      <td>17463</td>\n",
       "      <td>51.8625</td>\n",
       "      <td>E46</td>\n",
       "      <td>S</td>\n",
       "    </tr>\n",
       "    <tr>\n",
       "      <th>11</th>\n",
       "      <td>12</td>\n",
       "      <td>1</td>\n",
       "      <td>1</td>\n",
       "      <td>Bonnell, Miss. Elizabeth</td>\n",
       "      <td>female</td>\n",
       "      <td>58.0</td>\n",
       "      <td>0</td>\n",
       "      <td>0</td>\n",
       "      <td>113783</td>\n",
       "      <td>26.5500</td>\n",
       "      <td>C103</td>\n",
       "      <td>S</td>\n",
       "    </tr>\n",
       "    <tr>\n",
       "      <th>13</th>\n",
       "      <td>14</td>\n",
       "      <td>0</td>\n",
       "      <td>3</td>\n",
       "      <td>Andersson, Mr. Anders Johan</td>\n",
       "      <td>male</td>\n",
       "      <td>39.0</td>\n",
       "      <td>1</td>\n",
       "      <td>5</td>\n",
       "      <td>347082</td>\n",
       "      <td>31.2750</td>\n",
       "      <td>NaN</td>\n",
       "      <td>S</td>\n",
       "    </tr>\n",
       "    <tr>\n",
       "      <th>15</th>\n",
       "      <td>16</td>\n",
       "      <td>1</td>\n",
       "      <td>2</td>\n",
       "      <td>Hewlett, Mrs. (Mary D Kingcome)</td>\n",
       "      <td>female</td>\n",
       "      <td>55.0</td>\n",
       "      <td>0</td>\n",
       "      <td>0</td>\n",
       "      <td>248706</td>\n",
       "      <td>16.0000</td>\n",
       "      <td>NaN</td>\n",
       "      <td>S</td>\n",
       "    </tr>\n",
       "  </tbody>\n",
       "</table>\n",
       "</div>"
      ],
      "text/plain": [
       "    PassengerId  Survived  Pclass  \\\n",
       "1             2         1       1   \n",
       "6             7         0       1   \n",
       "11           12         1       1   \n",
       "13           14         0       3   \n",
       "15           16         1       2   \n",
       "\n",
       "                                                 Name     Sex   Age  SibSp  \\\n",
       "1   Cumings, Mrs. John Bradley (Florence Briggs Th...  female  38.0      1   \n",
       "6                             McCarthy, Mr. Timothy J    male  54.0      0   \n",
       "11                           Bonnell, Miss. Elizabeth  female  58.0      0   \n",
       "13                        Andersson, Mr. Anders Johan    male  39.0      1   \n",
       "15                   Hewlett, Mrs. (Mary D Kingcome)   female  55.0      0   \n",
       "\n",
       "    Parch    Ticket     Fare Cabin Embarked  \n",
       "1       0  PC 17599  71.2833   C85        C  \n",
       "6       0     17463  51.8625   E46        S  \n",
       "11      0    113783  26.5500  C103        S  \n",
       "13      5    347082  31.2750   NaN        S  \n",
       "15      0    248706  16.0000   NaN        S  "
      ]
     },
     "execution_count": 23,
     "metadata": {},
     "output_type": "execute_result"
    }
   ],
   "source": [
    "adult_names = titanic.loc[titanic[\"Age\"] > 35]\n",
    "adult_names.head()"
   ]
  },
  {
   "cell_type": "code",
   "execution_count": 24,
   "id": "96c116c2",
   "metadata": {
    "execution": {
     "iopub.execute_input": "2025-02-28T13:08:29.810920Z",
     "iopub.status.busy": "2025-02-28T13:08:29.810542Z",
     "iopub.status.idle": "2025-02-28T13:08:29.819474Z",
     "shell.execute_reply": "2025-02-28T13:08:29.818186Z"
    },
    "papermill": {
     "duration": 0.043042,
     "end_time": "2025-02-28T13:08:29.821400",
     "exception": false,
     "start_time": "2025-02-28T13:08:29.778358",
     "status": "completed"
    },
    "tags": []
   },
   "outputs": [
    {
     "data": {
      "text/plain": [
       "1     Cumings, Mrs. John Bradley (Florence Briggs Th...\n",
       "6                               McCarthy, Mr. Timothy J\n",
       "11                             Bonnell, Miss. Elizabeth\n",
       "13                          Andersson, Mr. Anders Johan\n",
       "15                     Hewlett, Mrs. (Mary D Kingcome) \n",
       "Name: Name, dtype: object"
      ]
     },
     "execution_count": 24,
     "metadata": {},
     "output_type": "execute_result"
    }
   ],
   "source": [
    "adult_names = titanic.loc[titanic[\"Age\"] > 35, \"Name\"]\n",
    "adult_names.head()"
   ]
  },
  {
   "cell_type": "code",
   "execution_count": 25,
   "id": "faf43e83",
   "metadata": {
    "execution": {
     "iopub.execute_input": "2025-02-28T13:08:29.885743Z",
     "iopub.status.busy": "2025-02-28T13:08:29.885351Z",
     "iopub.status.idle": "2025-02-28T13:08:29.897169Z",
     "shell.execute_reply": "2025-02-28T13:08:29.896028Z"
    },
    "papermill": {
     "duration": 0.046201,
     "end_time": "2025-02-28T13:08:29.898892",
     "exception": false,
     "start_time": "2025-02-28T13:08:29.852691",
     "status": "completed"
    },
    "tags": []
   },
   "outputs": [
    {
     "data": {
      "text/html": [
       "<div>\n",
       "<style scoped>\n",
       "    .dataframe tbody tr th:only-of-type {\n",
       "        vertical-align: middle;\n",
       "    }\n",
       "\n",
       "    .dataframe tbody tr th {\n",
       "        vertical-align: top;\n",
       "    }\n",
       "\n",
       "    .dataframe thead th {\n",
       "        text-align: right;\n",
       "    }\n",
       "</style>\n",
       "<table border=\"1\" class=\"dataframe\">\n",
       "  <thead>\n",
       "    <tr style=\"text-align: right;\">\n",
       "      <th></th>\n",
       "      <th>Pclass</th>\n",
       "      <th>Name</th>\n",
       "      <th>Sex</th>\n",
       "    </tr>\n",
       "  </thead>\n",
       "  <tbody>\n",
       "    <tr>\n",
       "      <th>9</th>\n",
       "      <td>2</td>\n",
       "      <td>Nasser, Mrs. Nicholas (Adele Achem)</td>\n",
       "      <td>female</td>\n",
       "    </tr>\n",
       "    <tr>\n",
       "      <th>10</th>\n",
       "      <td>3</td>\n",
       "      <td>Sandstrom, Miss. Marguerite Rut</td>\n",
       "      <td>female</td>\n",
       "    </tr>\n",
       "    <tr>\n",
       "      <th>11</th>\n",
       "      <td>1</td>\n",
       "      <td>Bonnell, Miss. Elizabeth</td>\n",
       "      <td>female</td>\n",
       "    </tr>\n",
       "    <tr>\n",
       "      <th>12</th>\n",
       "      <td>3</td>\n",
       "      <td>Saundercock, Mr. William Henry</td>\n",
       "      <td>male</td>\n",
       "    </tr>\n",
       "    <tr>\n",
       "      <th>13</th>\n",
       "      <td>3</td>\n",
       "      <td>Andersson, Mr. Anders Johan</td>\n",
       "      <td>male</td>\n",
       "    </tr>\n",
       "    <tr>\n",
       "      <th>14</th>\n",
       "      <td>3</td>\n",
       "      <td>Vestrom, Miss. Hulda Amanda Adolfina</td>\n",
       "      <td>female</td>\n",
       "    </tr>\n",
       "    <tr>\n",
       "      <th>15</th>\n",
       "      <td>2</td>\n",
       "      <td>Hewlett, Mrs. (Mary D Kingcome)</td>\n",
       "      <td>female</td>\n",
       "    </tr>\n",
       "    <tr>\n",
       "      <th>16</th>\n",
       "      <td>3</td>\n",
       "      <td>Rice, Master. Eugene</td>\n",
       "      <td>male</td>\n",
       "    </tr>\n",
       "    <tr>\n",
       "      <th>17</th>\n",
       "      <td>2</td>\n",
       "      <td>Williams, Mr. Charles Eugene</td>\n",
       "      <td>male</td>\n",
       "    </tr>\n",
       "    <tr>\n",
       "      <th>18</th>\n",
       "      <td>3</td>\n",
       "      <td>Vander Planke, Mrs. Julius (Emelia Maria Vande...</td>\n",
       "      <td>female</td>\n",
       "    </tr>\n",
       "    <tr>\n",
       "      <th>19</th>\n",
       "      <td>3</td>\n",
       "      <td>Masselmani, Mrs. Fatima</td>\n",
       "      <td>female</td>\n",
       "    </tr>\n",
       "    <tr>\n",
       "      <th>20</th>\n",
       "      <td>2</td>\n",
       "      <td>Fynney, Mr. Joseph J</td>\n",
       "      <td>male</td>\n",
       "    </tr>\n",
       "    <tr>\n",
       "      <th>21</th>\n",
       "      <td>2</td>\n",
       "      <td>Beesley, Mr. Lawrence</td>\n",
       "      <td>male</td>\n",
       "    </tr>\n",
       "    <tr>\n",
       "      <th>22</th>\n",
       "      <td>3</td>\n",
       "      <td>McGowan, Miss. Anna \"Annie\"</td>\n",
       "      <td>female</td>\n",
       "    </tr>\n",
       "    <tr>\n",
       "      <th>23</th>\n",
       "      <td>1</td>\n",
       "      <td>Sloper, Mr. William Thompson</td>\n",
       "      <td>male</td>\n",
       "    </tr>\n",
       "    <tr>\n",
       "      <th>24</th>\n",
       "      <td>3</td>\n",
       "      <td>Palsson, Miss. Torborg Danira</td>\n",
       "      <td>female</td>\n",
       "    </tr>\n",
       "  </tbody>\n",
       "</table>\n",
       "</div>"
      ],
      "text/plain": [
       "    Pclass                                               Name     Sex\n",
       "9        2                Nasser, Mrs. Nicholas (Adele Achem)  female\n",
       "10       3                    Sandstrom, Miss. Marguerite Rut  female\n",
       "11       1                           Bonnell, Miss. Elizabeth  female\n",
       "12       3                     Saundercock, Mr. William Henry    male\n",
       "13       3                        Andersson, Mr. Anders Johan    male\n",
       "14       3               Vestrom, Miss. Hulda Amanda Adolfina  female\n",
       "15       2                   Hewlett, Mrs. (Mary D Kingcome)   female\n",
       "16       3                               Rice, Master. Eugene    male\n",
       "17       2                       Williams, Mr. Charles Eugene    male\n",
       "18       3  Vander Planke, Mrs. Julius (Emelia Maria Vande...  female\n",
       "19       3                            Masselmani, Mrs. Fatima  female\n",
       "20       2                               Fynney, Mr. Joseph J    male\n",
       "21       2                              Beesley, Mr. Lawrence    male\n",
       "22       3                        McGowan, Miss. Anna \"Annie\"  female\n",
       "23       1                       Sloper, Mr. William Thompson    male\n",
       "24       3                      Palsson, Miss. Torborg Danira  female"
      ]
     },
     "execution_count": 25,
     "metadata": {},
     "output_type": "execute_result"
    }
   ],
   "source": [
    "titanic.iloc[9:25, 2:5]"
   ]
  },
  {
   "cell_type": "code",
   "execution_count": 26,
   "id": "8b678b2b",
   "metadata": {
    "execution": {
     "iopub.execute_input": "2025-02-28T13:08:29.987292Z",
     "iopub.status.busy": "2025-02-28T13:08:29.986884Z",
     "iopub.status.idle": "2025-02-28T13:08:29.993837Z",
     "shell.execute_reply": "2025-02-28T13:08:29.992598Z"
    },
    "papermill": {
     "duration": 0.056748,
     "end_time": "2025-02-28T13:08:29.995822",
     "exception": false,
     "start_time": "2025-02-28T13:08:29.939074",
     "status": "completed"
    },
    "tags": []
   },
   "outputs": [
    {
     "data": {
      "text/plain": [
       "'anonymous'"
      ]
     },
     "execution_count": 26,
     "metadata": {},
     "output_type": "execute_result"
    }
   ],
   "source": [
    "anon = titanic.iloc[0:3, 3] = \"anonymous\"\n",
    "anon"
   ]
  },
  {
   "cell_type": "code",
   "execution_count": 27,
   "id": "9aca41d9",
   "metadata": {
    "execution": {
     "iopub.execute_input": "2025-02-28T13:08:30.061496Z",
     "iopub.status.busy": "2025-02-28T13:08:30.061117Z",
     "iopub.status.idle": "2025-02-28T13:08:30.080318Z",
     "shell.execute_reply": "2025-02-28T13:08:30.078995Z"
    },
    "papermill": {
     "duration": 0.05455,
     "end_time": "2025-02-28T13:08:30.082143",
     "exception": false,
     "start_time": "2025-02-28T13:08:30.027593",
     "status": "completed"
    },
    "tags": []
   },
   "outputs": [
    {
     "data": {
      "text/html": [
       "<div>\n",
       "<style scoped>\n",
       "    .dataframe tbody tr th:only-of-type {\n",
       "        vertical-align: middle;\n",
       "    }\n",
       "\n",
       "    .dataframe tbody tr th {\n",
       "        vertical-align: top;\n",
       "    }\n",
       "\n",
       "    .dataframe thead th {\n",
       "        text-align: right;\n",
       "    }\n",
       "</style>\n",
       "<table border=\"1\" class=\"dataframe\">\n",
       "  <thead>\n",
       "    <tr style=\"text-align: right;\">\n",
       "      <th></th>\n",
       "      <th>PassengerId</th>\n",
       "      <th>Survived</th>\n",
       "      <th>Pclass</th>\n",
       "      <th>Name</th>\n",
       "      <th>Sex</th>\n",
       "      <th>Age</th>\n",
       "      <th>SibSp</th>\n",
       "      <th>Parch</th>\n",
       "      <th>Ticket</th>\n",
       "      <th>Fare</th>\n",
       "      <th>Cabin</th>\n",
       "      <th>Embarked</th>\n",
       "    </tr>\n",
       "  </thead>\n",
       "  <tbody>\n",
       "    <tr>\n",
       "      <th>0</th>\n",
       "      <td>1</td>\n",
       "      <td>0</td>\n",
       "      <td>3</td>\n",
       "      <td>anonymous</td>\n",
       "      <td>male</td>\n",
       "      <td>22.0</td>\n",
       "      <td>1</td>\n",
       "      <td>0</td>\n",
       "      <td>A/5 21171</td>\n",
       "      <td>7.2500</td>\n",
       "      <td>NaN</td>\n",
       "      <td>S</td>\n",
       "    </tr>\n",
       "    <tr>\n",
       "      <th>1</th>\n",
       "      <td>2</td>\n",
       "      <td>1</td>\n",
       "      <td>1</td>\n",
       "      <td>anonymous</td>\n",
       "      <td>female</td>\n",
       "      <td>38.0</td>\n",
       "      <td>1</td>\n",
       "      <td>0</td>\n",
       "      <td>PC 17599</td>\n",
       "      <td>71.2833</td>\n",
       "      <td>C85</td>\n",
       "      <td>C</td>\n",
       "    </tr>\n",
       "    <tr>\n",
       "      <th>2</th>\n",
       "      <td>3</td>\n",
       "      <td>1</td>\n",
       "      <td>3</td>\n",
       "      <td>anonymous</td>\n",
       "      <td>female</td>\n",
       "      <td>26.0</td>\n",
       "      <td>0</td>\n",
       "      <td>0</td>\n",
       "      <td>STON/O2. 3101282</td>\n",
       "      <td>7.9250</td>\n",
       "      <td>NaN</td>\n",
       "      <td>S</td>\n",
       "    </tr>\n",
       "    <tr>\n",
       "      <th>3</th>\n",
       "      <td>4</td>\n",
       "      <td>1</td>\n",
       "      <td>1</td>\n",
       "      <td>Futrelle, Mrs. Jacques Heath (Lily May Peel)</td>\n",
       "      <td>female</td>\n",
       "      <td>35.0</td>\n",
       "      <td>1</td>\n",
       "      <td>0</td>\n",
       "      <td>113803</td>\n",
       "      <td>53.1000</td>\n",
       "      <td>C123</td>\n",
       "      <td>S</td>\n",
       "    </tr>\n",
       "    <tr>\n",
       "      <th>4</th>\n",
       "      <td>5</td>\n",
       "      <td>0</td>\n",
       "      <td>3</td>\n",
       "      <td>Allen, Mr. William Henry</td>\n",
       "      <td>male</td>\n",
       "      <td>35.0</td>\n",
       "      <td>0</td>\n",
       "      <td>0</td>\n",
       "      <td>373450</td>\n",
       "      <td>8.0500</td>\n",
       "      <td>NaN</td>\n",
       "      <td>S</td>\n",
       "    </tr>\n",
       "  </tbody>\n",
       "</table>\n",
       "</div>"
      ],
      "text/plain": [
       "   PassengerId  Survived  Pclass  \\\n",
       "0            1         0       3   \n",
       "1            2         1       1   \n",
       "2            3         1       3   \n",
       "3            4         1       1   \n",
       "4            5         0       3   \n",
       "\n",
       "                                           Name     Sex   Age  SibSp  Parch  \\\n",
       "0                                     anonymous    male  22.0      1      0   \n",
       "1                                     anonymous  female  38.0      1      0   \n",
       "2                                     anonymous  female  26.0      0      0   \n",
       "3  Futrelle, Mrs. Jacques Heath (Lily May Peel)  female  35.0      1      0   \n",
       "4                      Allen, Mr. William Henry    male  35.0      0      0   \n",
       "\n",
       "             Ticket     Fare Cabin Embarked  \n",
       "0         A/5 21171   7.2500   NaN        S  \n",
       "1          PC 17599  71.2833   C85        C  \n",
       "2  STON/O2. 3101282   7.9250   NaN        S  \n",
       "3            113803  53.1000  C123        S  \n",
       "4            373450   8.0500   NaN        S  "
      ]
     },
     "execution_count": 27,
     "metadata": {},
     "output_type": "execute_result"
    }
   ],
   "source": [
    "titanic.head()"
   ]
  },
  {
   "cell_type": "code",
   "execution_count": 28,
   "id": "57c51c55",
   "metadata": {
    "execution": {
     "iopub.execute_input": "2025-02-28T13:08:30.191791Z",
     "iopub.status.busy": "2025-02-28T13:08:30.191340Z",
     "iopub.status.idle": "2025-02-28T13:08:30.198825Z",
     "shell.execute_reply": "2025-02-28T13:08:30.197449Z"
    },
    "papermill": {
     "duration": 0.064503,
     "end_time": "2025-02-28T13:08:30.201206",
     "exception": false,
     "start_time": "2025-02-28T13:08:30.136703",
     "status": "completed"
    },
    "tags": []
   },
   "outputs": [
    {
     "data": {
      "text/plain": [
       "29.69911764705882"
      ]
     },
     "execution_count": 28,
     "metadata": {},
     "output_type": "execute_result"
    }
   ],
   "source": [
    "titanic[\"Age\"].mean()"
   ]
  },
  {
   "cell_type": "code",
   "execution_count": 29,
   "id": "48a6a15c",
   "metadata": {
    "execution": {
     "iopub.execute_input": "2025-02-28T13:08:30.280268Z",
     "iopub.status.busy": "2025-02-28T13:08:30.279929Z",
     "iopub.status.idle": "2025-02-28T13:08:30.288132Z",
     "shell.execute_reply": "2025-02-28T13:08:30.287205Z"
    },
    "papermill": {
     "duration": 0.047936,
     "end_time": "2025-02-28T13:08:30.289853",
     "exception": false,
     "start_time": "2025-02-28T13:08:30.241917",
     "status": "completed"
    },
    "tags": []
   },
   "outputs": [
    {
     "data": {
      "text/plain": [
       "Age     28.0000\n",
       "Fare    14.4542\n",
       "dtype: float64"
      ]
     },
     "execution_count": 29,
     "metadata": {},
     "output_type": "execute_result"
    }
   ],
   "source": [
    "titanic[[\"Age\", \"Fare\"]].median()"
   ]
  },
  {
   "cell_type": "code",
   "execution_count": 30,
   "id": "b661fdf4",
   "metadata": {
    "execution": {
     "iopub.execute_input": "2025-02-28T13:08:30.355342Z",
     "iopub.status.busy": "2025-02-28T13:08:30.354950Z",
     "iopub.status.idle": "2025-02-28T13:08:30.372286Z",
     "shell.execute_reply": "2025-02-28T13:08:30.371188Z"
    },
    "papermill": {
     "duration": 0.052012,
     "end_time": "2025-02-28T13:08:30.374205",
     "exception": false,
     "start_time": "2025-02-28T13:08:30.322193",
     "status": "completed"
    },
    "tags": []
   },
   "outputs": [
    {
     "data": {
      "text/html": [
       "<div>\n",
       "<style scoped>\n",
       "    .dataframe tbody tr th:only-of-type {\n",
       "        vertical-align: middle;\n",
       "    }\n",
       "\n",
       "    .dataframe tbody tr th {\n",
       "        vertical-align: top;\n",
       "    }\n",
       "\n",
       "    .dataframe thead th {\n",
       "        text-align: right;\n",
       "    }\n",
       "</style>\n",
       "<table border=\"1\" class=\"dataframe\">\n",
       "  <thead>\n",
       "    <tr style=\"text-align: right;\">\n",
       "      <th></th>\n",
       "      <th>Age</th>\n",
       "      <th>Fare</th>\n",
       "    </tr>\n",
       "  </thead>\n",
       "  <tbody>\n",
       "    <tr>\n",
       "      <th>count</th>\n",
       "      <td>714.000000</td>\n",
       "      <td>891.000000</td>\n",
       "    </tr>\n",
       "    <tr>\n",
       "      <th>mean</th>\n",
       "      <td>29.699118</td>\n",
       "      <td>32.204208</td>\n",
       "    </tr>\n",
       "    <tr>\n",
       "      <th>std</th>\n",
       "      <td>14.526497</td>\n",
       "      <td>49.693429</td>\n",
       "    </tr>\n",
       "    <tr>\n",
       "      <th>min</th>\n",
       "      <td>0.420000</td>\n",
       "      <td>0.000000</td>\n",
       "    </tr>\n",
       "    <tr>\n",
       "      <th>25%</th>\n",
       "      <td>20.125000</td>\n",
       "      <td>7.910400</td>\n",
       "    </tr>\n",
       "    <tr>\n",
       "      <th>50%</th>\n",
       "      <td>28.000000</td>\n",
       "      <td>14.454200</td>\n",
       "    </tr>\n",
       "    <tr>\n",
       "      <th>75%</th>\n",
       "      <td>38.000000</td>\n",
       "      <td>31.000000</td>\n",
       "    </tr>\n",
       "    <tr>\n",
       "      <th>max</th>\n",
       "      <td>80.000000</td>\n",
       "      <td>512.329200</td>\n",
       "    </tr>\n",
       "  </tbody>\n",
       "</table>\n",
       "</div>"
      ],
      "text/plain": [
       "              Age        Fare\n",
       "count  714.000000  891.000000\n",
       "mean    29.699118   32.204208\n",
       "std     14.526497   49.693429\n",
       "min      0.420000    0.000000\n",
       "25%     20.125000    7.910400\n",
       "50%     28.000000   14.454200\n",
       "75%     38.000000   31.000000\n",
       "max     80.000000  512.329200"
      ]
     },
     "execution_count": 30,
     "metadata": {},
     "output_type": "execute_result"
    }
   ],
   "source": [
    "titanic[[\"Age\", \"Fare\"]].describe()"
   ]
  },
  {
   "cell_type": "code",
   "execution_count": 31,
   "id": "ad22e0fa",
   "metadata": {
    "execution": {
     "iopub.execute_input": "2025-02-28T13:08:30.440357Z",
     "iopub.status.busy": "2025-02-28T13:08:30.439990Z",
     "iopub.status.idle": "2025-02-28T13:08:30.454111Z",
     "shell.execute_reply": "2025-02-28T13:08:30.452925Z"
    },
    "papermill": {
     "duration": 0.050135,
     "end_time": "2025-02-28T13:08:30.455855",
     "exception": false,
     "start_time": "2025-02-28T13:08:30.405720",
     "status": "completed"
    },
    "tags": []
   },
   "outputs": [
    {
     "data": {
      "text/html": [
       "<div>\n",
       "<style scoped>\n",
       "    .dataframe tbody tr th:only-of-type {\n",
       "        vertical-align: middle;\n",
       "    }\n",
       "\n",
       "    .dataframe tbody tr th {\n",
       "        vertical-align: top;\n",
       "    }\n",
       "\n",
       "    .dataframe thead th {\n",
       "        text-align: right;\n",
       "    }\n",
       "</style>\n",
       "<table border=\"1\" class=\"dataframe\">\n",
       "  <thead>\n",
       "    <tr style=\"text-align: right;\">\n",
       "      <th></th>\n",
       "      <th>Age</th>\n",
       "      <th>Fare</th>\n",
       "    </tr>\n",
       "  </thead>\n",
       "  <tbody>\n",
       "    <tr>\n",
       "      <th>min</th>\n",
       "      <td>0.420000</td>\n",
       "      <td>0.000000</td>\n",
       "    </tr>\n",
       "    <tr>\n",
       "      <th>max</th>\n",
       "      <td>80.000000</td>\n",
       "      <td>512.329200</td>\n",
       "    </tr>\n",
       "    <tr>\n",
       "      <th>median</th>\n",
       "      <td>28.000000</td>\n",
       "      <td>14.454200</td>\n",
       "    </tr>\n",
       "    <tr>\n",
       "      <th>skew</th>\n",
       "      <td>0.389108</td>\n",
       "      <td>NaN</td>\n",
       "    </tr>\n",
       "    <tr>\n",
       "      <th>mean</th>\n",
       "      <td>NaN</td>\n",
       "      <td>32.204208</td>\n",
       "    </tr>\n",
       "  </tbody>\n",
       "</table>\n",
       "</div>"
      ],
      "text/plain": [
       "              Age        Fare\n",
       "min      0.420000    0.000000\n",
       "max     80.000000  512.329200\n",
       "median  28.000000   14.454200\n",
       "skew     0.389108         NaN\n",
       "mean          NaN   32.204208"
      ]
     },
     "execution_count": 31,
     "metadata": {},
     "output_type": "execute_result"
    }
   ],
   "source": [
    "titanic.agg({\n",
    "    \n",
    "\"Age\": [\"min\", \"max\", \"median\", \"skew\"],\n",
    "\"Fare\": [\"min\", \"max\", \"median\", \"mean\"]\n",
    "    \n",
    "})"
   ]
  },
  {
   "cell_type": "code",
   "execution_count": 32,
   "id": "807c30d7",
   "metadata": {
    "execution": {
     "iopub.execute_input": "2025-02-28T13:08:30.520928Z",
     "iopub.status.busy": "2025-02-28T13:08:30.520567Z",
     "iopub.status.idle": "2025-02-28T13:08:30.533111Z",
     "shell.execute_reply": "2025-02-28T13:08:30.531952Z"
    },
    "papermill": {
     "duration": 0.047394,
     "end_time": "2025-02-28T13:08:30.535098",
     "exception": false,
     "start_time": "2025-02-28T13:08:30.487704",
     "status": "completed"
    },
    "tags": []
   },
   "outputs": [
    {
     "data": {
      "text/html": [
       "<div>\n",
       "<style scoped>\n",
       "    .dataframe tbody tr th:only-of-type {\n",
       "        vertical-align: middle;\n",
       "    }\n",
       "\n",
       "    .dataframe tbody tr th {\n",
       "        vertical-align: top;\n",
       "    }\n",
       "\n",
       "    .dataframe thead th {\n",
       "        text-align: right;\n",
       "    }\n",
       "</style>\n",
       "<table border=\"1\" class=\"dataframe\">\n",
       "  <thead>\n",
       "    <tr style=\"text-align: right;\">\n",
       "      <th></th>\n",
       "      <th>Age</th>\n",
       "    </tr>\n",
       "    <tr>\n",
       "      <th>Sex</th>\n",
       "      <th></th>\n",
       "    </tr>\n",
       "  </thead>\n",
       "  <tbody>\n",
       "    <tr>\n",
       "      <th>female</th>\n",
       "      <td>27.915709</td>\n",
       "    </tr>\n",
       "    <tr>\n",
       "      <th>male</th>\n",
       "      <td>30.726645</td>\n",
       "    </tr>\n",
       "  </tbody>\n",
       "</table>\n",
       "</div>"
      ],
      "text/plain": [
       "              Age\n",
       "Sex              \n",
       "female  27.915709\n",
       "male    30.726645"
      ]
     },
     "execution_count": 32,
     "metadata": {},
     "output_type": "execute_result"
    }
   ],
   "source": [
    "titanic[[\"Sex\", \"Age\"]].groupby(\"Sex\").mean()"
   ]
  },
  {
   "cell_type": "code",
   "execution_count": 33,
   "id": "366d048f",
   "metadata": {
    "execution": {
     "iopub.execute_input": "2025-02-28T13:08:30.603851Z",
     "iopub.status.busy": "2025-02-28T13:08:30.603391Z",
     "iopub.status.idle": "2025-02-28T13:08:30.624605Z",
     "shell.execute_reply": "2025-02-28T13:08:30.622492Z"
    },
    "papermill": {
     "duration": 0.059969,
     "end_time": "2025-02-28T13:08:30.627112",
     "exception": false,
     "start_time": "2025-02-28T13:08:30.567143",
     "status": "completed"
    },
    "tags": []
   },
   "outputs": [
    {
     "data": {
      "text/html": [
       "<div>\n",
       "<style scoped>\n",
       "    .dataframe tbody tr th:only-of-type {\n",
       "        vertical-align: middle;\n",
       "    }\n",
       "\n",
       "    .dataframe tbody tr th {\n",
       "        vertical-align: top;\n",
       "    }\n",
       "\n",
       "    .dataframe thead th {\n",
       "        text-align: right;\n",
       "    }\n",
       "</style>\n",
       "<table border=\"1\" class=\"dataframe\">\n",
       "  <thead>\n",
       "    <tr style=\"text-align: right;\">\n",
       "      <th></th>\n",
       "      <th>Age</th>\n",
       "    </tr>\n",
       "    <tr>\n",
       "      <th>Sex</th>\n",
       "      <th></th>\n",
       "    </tr>\n",
       "  </thead>\n",
       "  <tbody>\n",
       "    <tr>\n",
       "      <th>female</th>\n",
       "      <td>63.0</td>\n",
       "    </tr>\n",
       "    <tr>\n",
       "      <th>male</th>\n",
       "      <td>80.0</td>\n",
       "    </tr>\n",
       "  </tbody>\n",
       "</table>\n",
       "</div>"
      ],
      "text/plain": [
       "         Age\n",
       "Sex         \n",
       "female  63.0\n",
       "male    80.0"
      ]
     },
     "execution_count": 33,
     "metadata": {},
     "output_type": "execute_result"
    }
   ],
   "source": [
    "titanic[[\"Sex\", \"Age\"]].groupby(\"Sex\").max()"
   ]
  },
  {
   "cell_type": "code",
   "execution_count": 34,
   "id": "23280279",
   "metadata": {
    "execution": {
     "iopub.execute_input": "2025-02-28T13:08:30.696057Z",
     "iopub.status.busy": "2025-02-28T13:08:30.695595Z",
     "iopub.status.idle": "2025-02-28T13:08:30.712167Z",
     "shell.execute_reply": "2025-02-28T13:08:30.710647Z"
    },
    "papermill": {
     "duration": 0.054057,
     "end_time": "2025-02-28T13:08:30.715106",
     "exception": false,
     "start_time": "2025-02-28T13:08:30.661049",
     "status": "completed"
    },
    "tags": []
   },
   "outputs": [
    {
     "data": {
      "text/html": [
       "<div>\n",
       "<style scoped>\n",
       "    .dataframe tbody tr th:only-of-type {\n",
       "        vertical-align: middle;\n",
       "    }\n",
       "\n",
       "    .dataframe tbody tr th {\n",
       "        vertical-align: top;\n",
       "    }\n",
       "\n",
       "    .dataframe thead th {\n",
       "        text-align: right;\n",
       "    }\n",
       "</style>\n",
       "<table border=\"1\" class=\"dataframe\">\n",
       "  <thead>\n",
       "    <tr style=\"text-align: right;\">\n",
       "      <th></th>\n",
       "      <th>Age</th>\n",
       "    </tr>\n",
       "    <tr>\n",
       "      <th>Sex</th>\n",
       "      <th></th>\n",
       "    </tr>\n",
       "  </thead>\n",
       "  <tbody>\n",
       "    <tr>\n",
       "      <th>female</th>\n",
       "      <td>38.0</td>\n",
       "    </tr>\n",
       "    <tr>\n",
       "      <th>male</th>\n",
       "      <td>22.0</td>\n",
       "    </tr>\n",
       "  </tbody>\n",
       "</table>\n",
       "</div>"
      ],
      "text/plain": [
       "         Age\n",
       "Sex         \n",
       "female  38.0\n",
       "male    22.0"
      ]
     },
     "execution_count": 34,
     "metadata": {},
     "output_type": "execute_result"
    }
   ],
   "source": [
    "titanic[[\"Sex\", \"Age\"]].groupby(\"Sex\").first()"
   ]
  },
  {
   "cell_type": "code",
   "execution_count": 35,
   "id": "21d2e16d",
   "metadata": {
    "execution": {
     "iopub.execute_input": "2025-02-28T13:08:30.787937Z",
     "iopub.status.busy": "2025-02-28T13:08:30.787534Z",
     "iopub.status.idle": "2025-02-28T13:08:30.802521Z",
     "shell.execute_reply": "2025-02-28T13:08:30.801361Z"
    },
    "papermill": {
     "duration": 0.055058,
     "end_time": "2025-02-28T13:08:30.804352",
     "exception": false,
     "start_time": "2025-02-28T13:08:30.749294",
     "status": "completed"
    },
    "tags": []
   },
   "outputs": [
    {
     "data": {
      "text/html": [
       "<div>\n",
       "<style scoped>\n",
       "    .dataframe tbody tr th:only-of-type {\n",
       "        vertical-align: middle;\n",
       "    }\n",
       "\n",
       "    .dataframe tbody tr th {\n",
       "        vertical-align: top;\n",
       "    }\n",
       "\n",
       "    .dataframe thead th {\n",
       "        text-align: right;\n",
       "    }\n",
       "</style>\n",
       "<table border=\"1\" class=\"dataframe\">\n",
       "  <thead>\n",
       "    <tr style=\"text-align: right;\">\n",
       "      <th></th>\n",
       "      <th>PassengerId</th>\n",
       "      <th>Survived</th>\n",
       "      <th>Pclass</th>\n",
       "      <th>Name</th>\n",
       "      <th>Sex</th>\n",
       "      <th>Age</th>\n",
       "      <th>SibSp</th>\n",
       "      <th>Parch</th>\n",
       "      <th>Ticket</th>\n",
       "      <th>Fare</th>\n",
       "      <th>Cabin</th>\n",
       "      <th>Embarked</th>\n",
       "    </tr>\n",
       "  </thead>\n",
       "  <tbody>\n",
       "    <tr>\n",
       "      <th>0</th>\n",
       "      <td>1</td>\n",
       "      <td>0</td>\n",
       "      <td>3</td>\n",
       "      <td>anonymous</td>\n",
       "      <td>male</td>\n",
       "      <td>22.0</td>\n",
       "      <td>1</td>\n",
       "      <td>0</td>\n",
       "      <td>A/5 21171</td>\n",
       "      <td>7.2500</td>\n",
       "      <td>NaN</td>\n",
       "      <td>S</td>\n",
       "    </tr>\n",
       "    <tr>\n",
       "      <th>1</th>\n",
       "      <td>2</td>\n",
       "      <td>1</td>\n",
       "      <td>1</td>\n",
       "      <td>anonymous</td>\n",
       "      <td>female</td>\n",
       "      <td>38.0</td>\n",
       "      <td>1</td>\n",
       "      <td>0</td>\n",
       "      <td>PC 17599</td>\n",
       "      <td>71.2833</td>\n",
       "      <td>C85</td>\n",
       "      <td>C</td>\n",
       "    </tr>\n",
       "  </tbody>\n",
       "</table>\n",
       "</div>"
      ],
      "text/plain": [
       "   PassengerId  Survived  Pclass       Name     Sex   Age  SibSp  Parch  \\\n",
       "0            1         0       3  anonymous    male  22.0      1      0   \n",
       "1            2         1       1  anonymous  female  38.0      1      0   \n",
       "\n",
       "      Ticket     Fare Cabin Embarked  \n",
       "0  A/5 21171   7.2500   NaN        S  \n",
       "1   PC 17599  71.2833   C85        C  "
      ]
     },
     "execution_count": 35,
     "metadata": {},
     "output_type": "execute_result"
    }
   ],
   "source": [
    "titanic.head(2)"
   ]
  },
  {
   "cell_type": "code",
   "execution_count": 36,
   "id": "c239961e",
   "metadata": {
    "execution": {
     "iopub.execute_input": "2025-02-28T13:08:30.873304Z",
     "iopub.status.busy": "2025-02-28T13:08:30.872890Z",
     "iopub.status.idle": "2025-02-28T13:08:30.882123Z",
     "shell.execute_reply": "2025-02-28T13:08:30.880832Z"
    },
    "papermill": {
     "duration": 0.04634,
     "end_time": "2025-02-28T13:08:30.884078",
     "exception": false,
     "start_time": "2025-02-28T13:08:30.837738",
     "status": "completed"
    },
    "tags": []
   },
   "outputs": [
    {
     "data": {
      "text/plain": [
       "Sex\n",
       "female    27.915709\n",
       "male      30.726645\n",
       "Name: Age, dtype: float64"
      ]
     },
     "execution_count": 36,
     "metadata": {},
     "output_type": "execute_result"
    }
   ],
   "source": [
    "titanic.groupby(\"Sex\")[\"Age\"].mean()"
   ]
  },
  {
   "cell_type": "code",
   "execution_count": 37,
   "id": "fd1b64ab",
   "metadata": {
    "execution": {
     "iopub.execute_input": "2025-02-28T13:08:30.956542Z",
     "iopub.status.busy": "2025-02-28T13:08:30.955726Z",
     "iopub.status.idle": "2025-02-28T13:08:30.970097Z",
     "shell.execute_reply": "2025-02-28T13:08:30.968388Z"
    },
    "papermill": {
     "duration": 0.053547,
     "end_time": "2025-02-28T13:08:30.972224",
     "exception": false,
     "start_time": "2025-02-28T13:08:30.918677",
     "status": "completed"
    },
    "tags": []
   },
   "outputs": [
    {
     "data": {
      "text/plain": [
       "Sex     Pclass\n",
       "female  1         106.125798\n",
       "        2          21.970121\n",
       "        3          16.118810\n",
       "male    1          67.226127\n",
       "        2          19.741782\n",
       "        3          12.661633\n",
       "Name: Fare, dtype: float64"
      ]
     },
     "execution_count": 37,
     "metadata": {},
     "output_type": "execute_result"
    }
   ],
   "source": [
    "titanic.groupby([\"Sex\", \"Pclass\"])[\"Fare\"].mean()"
   ]
  },
  {
   "cell_type": "code",
   "execution_count": 38,
   "id": "58c99422",
   "metadata": {
    "execution": {
     "iopub.execute_input": "2025-02-28T13:08:31.039933Z",
     "iopub.status.busy": "2025-02-28T13:08:31.039579Z",
     "iopub.status.idle": "2025-02-28T13:08:31.048042Z",
     "shell.execute_reply": "2025-02-28T13:08:31.046689Z"
    },
    "papermill": {
     "duration": 0.044501,
     "end_time": "2025-02-28T13:08:31.050158",
     "exception": false,
     "start_time": "2025-02-28T13:08:31.005657",
     "status": "completed"
    },
    "tags": []
   },
   "outputs": [
    {
     "data": {
      "text/plain": [
       "Pclass\n",
       "3    491\n",
       "1    216\n",
       "2    184\n",
       "Name: count, dtype: int64"
      ]
     },
     "execution_count": 38,
     "metadata": {},
     "output_type": "execute_result"
    }
   ],
   "source": [
    "titanic[\"Pclass\"].value_counts()"
   ]
  },
  {
   "cell_type": "code",
   "execution_count": 39,
   "id": "286ec5af",
   "metadata": {
    "execution": {
     "iopub.execute_input": "2025-02-28T13:08:31.121657Z",
     "iopub.status.busy": "2025-02-28T13:08:31.121286Z",
     "iopub.status.idle": "2025-02-28T13:08:31.129756Z",
     "shell.execute_reply": "2025-02-28T13:08:31.128345Z"
    },
    "papermill": {
     "duration": 0.045106,
     "end_time": "2025-02-28T13:08:31.131672",
     "exception": false,
     "start_time": "2025-02-28T13:08:31.086566",
     "status": "completed"
    },
    "tags": []
   },
   "outputs": [
    {
     "data": {
      "text/plain": [
       "Pclass\n",
       "1    216\n",
       "2    184\n",
       "3    491\n",
       "Name: Pclass, dtype: int64"
      ]
     },
     "execution_count": 39,
     "metadata": {},
     "output_type": "execute_result"
    }
   ],
   "source": [
    "titanic.groupby(\"Pclass\")[\"Pclass\"].count()"
   ]
  },
  {
   "cell_type": "code",
   "execution_count": 40,
   "id": "8414e987",
   "metadata": {
    "execution": {
     "iopub.execute_input": "2025-02-28T13:08:31.200946Z",
     "iopub.status.busy": "2025-02-28T13:08:31.200586Z",
     "iopub.status.idle": "2025-02-28T13:08:31.216616Z",
     "shell.execute_reply": "2025-02-28T13:08:31.215360Z"
    },
    "papermill": {
     "duration": 0.053353,
     "end_time": "2025-02-28T13:08:31.218552",
     "exception": false,
     "start_time": "2025-02-28T13:08:31.165199",
     "status": "completed"
    },
    "tags": []
   },
   "outputs": [
    {
     "data": {
      "text/html": [
       "<div>\n",
       "<style scoped>\n",
       "    .dataframe tbody tr th:only-of-type {\n",
       "        vertical-align: middle;\n",
       "    }\n",
       "\n",
       "    .dataframe tbody tr th {\n",
       "        vertical-align: top;\n",
       "    }\n",
       "\n",
       "    .dataframe thead th {\n",
       "        text-align: right;\n",
       "    }\n",
       "</style>\n",
       "<table border=\"1\" class=\"dataframe\">\n",
       "  <thead>\n",
       "    <tr style=\"text-align: right;\">\n",
       "      <th></th>\n",
       "      <th>PassengerId</th>\n",
       "      <th>Survived</th>\n",
       "      <th>Pclass</th>\n",
       "      <th>Name</th>\n",
       "      <th>Sex</th>\n",
       "      <th>Age</th>\n",
       "      <th>SibSp</th>\n",
       "      <th>Parch</th>\n",
       "      <th>Ticket</th>\n",
       "      <th>Fare</th>\n",
       "      <th>Cabin</th>\n",
       "      <th>Embarked</th>\n",
       "    </tr>\n",
       "  </thead>\n",
       "  <tbody>\n",
       "    <tr>\n",
       "      <th>630</th>\n",
       "      <td>631</td>\n",
       "      <td>1</td>\n",
       "      <td>1</td>\n",
       "      <td>Barkworth, Mr. Algernon Henry Wilson</td>\n",
       "      <td>male</td>\n",
       "      <td>80.0</td>\n",
       "      <td>0</td>\n",
       "      <td>0</td>\n",
       "      <td>27042</td>\n",
       "      <td>30.0000</td>\n",
       "      <td>A23</td>\n",
       "      <td>S</td>\n",
       "    </tr>\n",
       "    <tr>\n",
       "      <th>851</th>\n",
       "      <td>852</td>\n",
       "      <td>0</td>\n",
       "      <td>3</td>\n",
       "      <td>Svensson, Mr. Johan</td>\n",
       "      <td>male</td>\n",
       "      <td>74.0</td>\n",
       "      <td>0</td>\n",
       "      <td>0</td>\n",
       "      <td>347060</td>\n",
       "      <td>7.7750</td>\n",
       "      <td>NaN</td>\n",
       "      <td>S</td>\n",
       "    </tr>\n",
       "    <tr>\n",
       "      <th>493</th>\n",
       "      <td>494</td>\n",
       "      <td>0</td>\n",
       "      <td>1</td>\n",
       "      <td>Artagaveytia, Mr. Ramon</td>\n",
       "      <td>male</td>\n",
       "      <td>71.0</td>\n",
       "      <td>0</td>\n",
       "      <td>0</td>\n",
       "      <td>PC 17609</td>\n",
       "      <td>49.5042</td>\n",
       "      <td>NaN</td>\n",
       "      <td>C</td>\n",
       "    </tr>\n",
       "    <tr>\n",
       "      <th>96</th>\n",
       "      <td>97</td>\n",
       "      <td>0</td>\n",
       "      <td>1</td>\n",
       "      <td>Goldschmidt, Mr. George B</td>\n",
       "      <td>male</td>\n",
       "      <td>71.0</td>\n",
       "      <td>0</td>\n",
       "      <td>0</td>\n",
       "      <td>PC 17754</td>\n",
       "      <td>34.6542</td>\n",
       "      <td>A5</td>\n",
       "      <td>C</td>\n",
       "    </tr>\n",
       "    <tr>\n",
       "      <th>116</th>\n",
       "      <td>117</td>\n",
       "      <td>0</td>\n",
       "      <td>3</td>\n",
       "      <td>Connors, Mr. Patrick</td>\n",
       "      <td>male</td>\n",
       "      <td>70.5</td>\n",
       "      <td>0</td>\n",
       "      <td>0</td>\n",
       "      <td>370369</td>\n",
       "      <td>7.7500</td>\n",
       "      <td>NaN</td>\n",
       "      <td>Q</td>\n",
       "    </tr>\n",
       "  </tbody>\n",
       "</table>\n",
       "</div>"
      ],
      "text/plain": [
       "     PassengerId  Survived  Pclass                                  Name  \\\n",
       "630          631         1       1  Barkworth, Mr. Algernon Henry Wilson   \n",
       "851          852         0       3                   Svensson, Mr. Johan   \n",
       "493          494         0       1               Artagaveytia, Mr. Ramon   \n",
       "96            97         0       1             Goldschmidt, Mr. George B   \n",
       "116          117         0       3                  Connors, Mr. Patrick   \n",
       "\n",
       "      Sex   Age  SibSp  Parch    Ticket     Fare Cabin Embarked  \n",
       "630  male  80.0      0      0     27042  30.0000   A23        S  \n",
       "851  male  74.0      0      0    347060   7.7750   NaN        S  \n",
       "493  male  71.0      0      0  PC 17609  49.5042   NaN        C  \n",
       "96   male  71.0      0      0  PC 17754  34.6542    A5        C  \n",
       "116  male  70.5      0      0    370369   7.7500   NaN        Q  "
      ]
     },
     "execution_count": 40,
     "metadata": {},
     "output_type": "execute_result"
    }
   ],
   "source": [
    "titanic.sort_values(by=\"Age\",ascending=False).head()"
   ]
  },
  {
   "cell_type": "code",
   "execution_count": 41,
   "id": "e5131ad5",
   "metadata": {
    "execution": {
     "iopub.execute_input": "2025-02-28T13:08:31.288255Z",
     "iopub.status.busy": "2025-02-28T13:08:31.287900Z",
     "iopub.status.idle": "2025-02-28T13:08:31.304721Z",
     "shell.execute_reply": "2025-02-28T13:08:31.303543Z"
    },
    "papermill": {
     "duration": 0.053684,
     "end_time": "2025-02-28T13:08:31.306733",
     "exception": false,
     "start_time": "2025-02-28T13:08:31.253049",
     "status": "completed"
    },
    "tags": []
   },
   "outputs": [
    {
     "data": {
      "text/html": [
       "<div>\n",
       "<style scoped>\n",
       "    .dataframe tbody tr th:only-of-type {\n",
       "        vertical-align: middle;\n",
       "    }\n",
       "\n",
       "    .dataframe tbody tr th {\n",
       "        vertical-align: top;\n",
       "    }\n",
       "\n",
       "    .dataframe thead th {\n",
       "        text-align: right;\n",
       "    }\n",
       "</style>\n",
       "<table border=\"1\" class=\"dataframe\">\n",
       "  <thead>\n",
       "    <tr style=\"text-align: right;\">\n",
       "      <th></th>\n",
       "      <th>PassengerId</th>\n",
       "      <th>Survived</th>\n",
       "      <th>Pclass</th>\n",
       "      <th>Name</th>\n",
       "      <th>Sex</th>\n",
       "      <th>Age</th>\n",
       "      <th>SibSp</th>\n",
       "      <th>Parch</th>\n",
       "      <th>Ticket</th>\n",
       "      <th>Fare</th>\n",
       "      <th>Cabin</th>\n",
       "      <th>Embarked</th>\n",
       "    </tr>\n",
       "  </thead>\n",
       "  <tbody>\n",
       "    <tr>\n",
       "      <th>851</th>\n",
       "      <td>852</td>\n",
       "      <td>0</td>\n",
       "      <td>3</td>\n",
       "      <td>Svensson, Mr. Johan</td>\n",
       "      <td>male</td>\n",
       "      <td>74.0</td>\n",
       "      <td>0</td>\n",
       "      <td>0</td>\n",
       "      <td>347060</td>\n",
       "      <td>7.7750</td>\n",
       "      <td>NaN</td>\n",
       "      <td>S</td>\n",
       "    </tr>\n",
       "    <tr>\n",
       "      <th>116</th>\n",
       "      <td>117</td>\n",
       "      <td>0</td>\n",
       "      <td>3</td>\n",
       "      <td>Connors, Mr. Patrick</td>\n",
       "      <td>male</td>\n",
       "      <td>70.5</td>\n",
       "      <td>0</td>\n",
       "      <td>0</td>\n",
       "      <td>370369</td>\n",
       "      <td>7.7500</td>\n",
       "      <td>NaN</td>\n",
       "      <td>Q</td>\n",
       "    </tr>\n",
       "    <tr>\n",
       "      <th>280</th>\n",
       "      <td>281</td>\n",
       "      <td>0</td>\n",
       "      <td>3</td>\n",
       "      <td>Duane, Mr. Frank</td>\n",
       "      <td>male</td>\n",
       "      <td>65.0</td>\n",
       "      <td>0</td>\n",
       "      <td>0</td>\n",
       "      <td>336439</td>\n",
       "      <td>7.7500</td>\n",
       "      <td>NaN</td>\n",
       "      <td>Q</td>\n",
       "    </tr>\n",
       "    <tr>\n",
       "      <th>483</th>\n",
       "      <td>484</td>\n",
       "      <td>1</td>\n",
       "      <td>3</td>\n",
       "      <td>Turkula, Mrs. (Hedwig)</td>\n",
       "      <td>female</td>\n",
       "      <td>63.0</td>\n",
       "      <td>0</td>\n",
       "      <td>0</td>\n",
       "      <td>4134</td>\n",
       "      <td>9.5875</td>\n",
       "      <td>NaN</td>\n",
       "      <td>S</td>\n",
       "    </tr>\n",
       "    <tr>\n",
       "      <th>326</th>\n",
       "      <td>327</td>\n",
       "      <td>0</td>\n",
       "      <td>3</td>\n",
       "      <td>Nysveen, Mr. Johan Hansen</td>\n",
       "      <td>male</td>\n",
       "      <td>61.0</td>\n",
       "      <td>0</td>\n",
       "      <td>0</td>\n",
       "      <td>345364</td>\n",
       "      <td>6.2375</td>\n",
       "      <td>NaN</td>\n",
       "      <td>S</td>\n",
       "    </tr>\n",
       "  </tbody>\n",
       "</table>\n",
       "</div>"
      ],
      "text/plain": [
       "     PassengerId  Survived  Pclass                       Name     Sex   Age  \\\n",
       "851          852         0       3        Svensson, Mr. Johan    male  74.0   \n",
       "116          117         0       3       Connors, Mr. Patrick    male  70.5   \n",
       "280          281         0       3           Duane, Mr. Frank    male  65.0   \n",
       "483          484         1       3     Turkula, Mrs. (Hedwig)  female  63.0   \n",
       "326          327         0       3  Nysveen, Mr. Johan Hansen    male  61.0   \n",
       "\n",
       "     SibSp  Parch  Ticket    Fare Cabin Embarked  \n",
       "851      0      0  347060  7.7750   NaN        S  \n",
       "116      0      0  370369  7.7500   NaN        Q  \n",
       "280      0      0  336439  7.7500   NaN        Q  \n",
       "483      0      0    4134  9.5875   NaN        S  \n",
       "326      0      0  345364  6.2375   NaN        S  "
      ]
     },
     "execution_count": 41,
     "metadata": {},
     "output_type": "execute_result"
    }
   ],
   "source": [
    "titanic.sort_values(by=['Pclass', 'Age'], ascending=False).head()"
   ]
  },
  {
   "cell_type": "code",
   "execution_count": 42,
   "id": "47712e6d",
   "metadata": {
    "execution": {
     "iopub.execute_input": "2025-02-28T13:08:31.378492Z",
     "iopub.status.busy": "2025-02-28T13:08:31.378115Z",
     "iopub.status.idle": "2025-02-28T13:08:31.385872Z",
     "shell.execute_reply": "2025-02-28T13:08:31.384179Z"
    },
    "papermill": {
     "duration": 0.046762,
     "end_time": "2025-02-28T13:08:31.387787",
     "exception": false,
     "start_time": "2025-02-28T13:08:31.341025",
     "status": "completed"
    },
    "tags": []
   },
   "outputs": [
    {
     "data": {
      "text/plain": [
       "PassengerId      int64\n",
       "Survived         int64\n",
       "Pclass           int64\n",
       "Name            object\n",
       "Sex             object\n",
       "Age            float64\n",
       "SibSp            int64\n",
       "Parch            int64\n",
       "Ticket          object\n",
       "Fare           float64\n",
       "Cabin           object\n",
       "Embarked        object\n",
       "dtype: object"
      ]
     },
     "execution_count": 42,
     "metadata": {},
     "output_type": "execute_result"
    }
   ],
   "source": [
    "titanic.dtypes"
   ]
  },
  {
   "cell_type": "code",
   "execution_count": 43,
   "id": "7c25c7f4",
   "metadata": {
    "execution": {
     "iopub.execute_input": "2025-02-28T13:08:31.457979Z",
     "iopub.status.busy": "2025-02-28T13:08:31.457623Z",
     "iopub.status.idle": "2025-02-28T13:08:31.466594Z",
     "shell.execute_reply": "2025-02-28T13:08:31.465412Z"
    },
    "papermill": {
     "duration": 0.046493,
     "end_time": "2025-02-28T13:08:31.468397",
     "exception": false,
     "start_time": "2025-02-28T13:08:31.421904",
     "status": "completed"
    },
    "tags": []
   },
   "outputs": [
    {
     "data": {
      "text/plain": [
       "0                                         anonymous\n",
       "1                                         anonymous\n",
       "2                                         anonymous\n",
       "3      futrelle, mrs. jacques heath (lily may peel)\n",
       "4                          allen, mr. william henry\n",
       "                           ...                     \n",
       "886                           montvila, rev. juozas\n",
       "887                    graham, miss. margaret edith\n",
       "888        johnston, miss. catherine helen \"carrie\"\n",
       "889                           behr, mr. karl howell\n",
       "890                             dooley, mr. patrick\n",
       "Name: Name, Length: 891, dtype: object"
      ]
     },
     "execution_count": 43,
     "metadata": {},
     "output_type": "execute_result"
    }
   ],
   "source": [
    "titanic[\"Name\"].str.lower()"
   ]
  },
  {
   "cell_type": "code",
   "execution_count": 44,
   "id": "2d6671a9",
   "metadata": {
    "execution": {
     "iopub.execute_input": "2025-02-28T13:08:31.538824Z",
     "iopub.status.busy": "2025-02-28T13:08:31.538425Z",
     "iopub.status.idle": "2025-02-28T13:08:31.548408Z",
     "shell.execute_reply": "2025-02-28T13:08:31.547343Z"
    },
    "papermill": {
     "duration": 0.047274,
     "end_time": "2025-02-28T13:08:31.550558",
     "exception": false,
     "start_time": "2025-02-28T13:08:31.503284",
     "status": "completed"
    },
    "tags": []
   },
   "outputs": [
    {
     "data": {
      "text/plain": [
       "0                                          [anonymous]\n",
       "1                                          [anonymous]\n",
       "2                                          [anonymous]\n",
       "3      [Futrelle,  Mrs. Jacques Heath (Lily May Peel)]\n",
       "4                          [Allen,  Mr. William Henry]\n",
       "                            ...                       \n",
       "886                           [Montvila,  Rev. Juozas]\n",
       "887                    [Graham,  Miss. Margaret Edith]\n",
       "888        [Johnston,  Miss. Catherine Helen \"Carrie\"]\n",
       "889                           [Behr,  Mr. Karl Howell]\n",
       "890                             [Dooley,  Mr. Patrick]\n",
       "Name: Name, Length: 891, dtype: object"
      ]
     },
     "execution_count": 44,
     "metadata": {},
     "output_type": "execute_result"
    }
   ],
   "source": [
    "titanic[\"Name\"].str.split(\",\")"
   ]
  },
  {
   "cell_type": "code",
   "execution_count": 45,
   "id": "671b5975",
   "metadata": {
    "execution": {
     "iopub.execute_input": "2025-02-28T13:08:31.619255Z",
     "iopub.status.busy": "2025-02-28T13:08:31.618922Z",
     "iopub.status.idle": "2025-02-28T13:08:31.629385Z",
     "shell.execute_reply": "2025-02-28T13:08:31.628354Z"
    },
    "papermill": {
     "duration": 0.047163,
     "end_time": "2025-02-28T13:08:31.631110",
     "exception": false,
     "start_time": "2025-02-28T13:08:31.583947",
     "status": "completed"
    },
    "tags": []
   },
   "outputs": [
    {
     "data": {
      "text/plain": [
       "0      anonymous\n",
       "1      anonymous\n",
       "2      anonymous\n",
       "3       Futrelle\n",
       "4          Allen\n",
       "         ...    \n",
       "886     Montvila\n",
       "887       Graham\n",
       "888     Johnston\n",
       "889         Behr\n",
       "890       Dooley\n",
       "Name: Surname, Length: 891, dtype: object"
      ]
     },
     "execution_count": 45,
     "metadata": {},
     "output_type": "execute_result"
    }
   ],
   "source": [
    "titanic[\"Surname\"] = titanic[\"Name\"].str.split(\",\").str.get(0)\n",
    "titanic[\"Surname\"]"
   ]
  },
  {
   "cell_type": "code",
   "execution_count": 46,
   "id": "6be37190",
   "metadata": {
    "execution": {
     "iopub.execute_input": "2025-02-28T13:08:31.699945Z",
     "iopub.status.busy": "2025-02-28T13:08:31.699590Z",
     "iopub.status.idle": "2025-02-28T13:08:31.709169Z",
     "shell.execute_reply": "2025-02-28T13:08:31.708079Z"
    },
    "papermill": {
     "duration": 0.045858,
     "end_time": "2025-02-28T13:08:31.710952",
     "exception": false,
     "start_time": "2025-02-28T13:08:31.665094",
     "status": "completed"
    },
    "tags": []
   },
   "outputs": [
    {
     "data": {
      "text/plain": [
       "0                                      NaN\n",
       "1                                      NaN\n",
       "2                                      NaN\n",
       "3       Mrs. Jacques Heath (Lily May Peel)\n",
       "4                        Mr. William Henry\n",
       "                      ...                 \n",
       "886                            Rev. Juozas\n",
       "887                   Miss. Margaret Edith\n",
       "888         Miss. Catherine Helen \"Carrie\"\n",
       "889                        Mr. Karl Howell\n",
       "890                            Mr. Patrick\n",
       "Name: Name_main, Length: 891, dtype: object"
      ]
     },
     "execution_count": 46,
     "metadata": {},
     "output_type": "execute_result"
    }
   ],
   "source": [
    "titanic[\"Name_main\"] = titanic[\"Name\"].str.split(\",\").str.get(1)\n",
    "titanic[\"Name_main\"]"
   ]
  },
  {
   "cell_type": "code",
   "execution_count": 47,
   "id": "d70c547f",
   "metadata": {
    "execution": {
     "iopub.execute_input": "2025-02-28T13:08:31.781488Z",
     "iopub.status.busy": "2025-02-28T13:08:31.781130Z",
     "iopub.status.idle": "2025-02-28T13:08:31.790598Z",
     "shell.execute_reply": "2025-02-28T13:08:31.789689Z"
    },
    "papermill": {
     "duration": 0.046297,
     "end_time": "2025-02-28T13:08:31.792299",
     "exception": false,
     "start_time": "2025-02-28T13:08:31.746002",
     "status": "completed"
    },
    "scrolled": true,
    "tags": []
   },
   "outputs": [
    {
     "data": {
      "text/plain": [
       "0                                          [anonymous]\n",
       "1                                          [anonymous]\n",
       "2                                          [anonymous]\n",
       "3      [Futrelle,  Mrs. Jacques Heath (Lily May Peel)]\n",
       "4                          [Allen,  Mr. William Henry]\n",
       "                            ...                       \n",
       "886                           [Montvila,  Rev. Juozas]\n",
       "887                    [Graham,  Miss. Margaret Edith]\n",
       "888        [Johnston,  Miss. Catherine Helen \"Carrie\"]\n",
       "889                           [Behr,  Mr. Karl Howell]\n",
       "890                             [Dooley,  Mr. Patrick]\n",
       "Name: Name, Length: 891, dtype: object"
      ]
     },
     "execution_count": 47,
     "metadata": {},
     "output_type": "execute_result"
    }
   ],
   "source": [
    "titanic[\"Name\"].str.split(\",\")"
   ]
  },
  {
   "cell_type": "code",
   "execution_count": 48,
   "id": "adf7db48",
   "metadata": {
    "execution": {
     "iopub.execute_input": "2025-02-28T13:08:31.861351Z",
     "iopub.status.busy": "2025-02-28T13:08:31.860961Z",
     "iopub.status.idle": "2025-02-28T13:08:31.879938Z",
     "shell.execute_reply": "2025-02-28T13:08:31.878831Z"
    },
    "papermill": {
     "duration": 0.056158,
     "end_time": "2025-02-28T13:08:31.881793",
     "exception": false,
     "start_time": "2025-02-28T13:08:31.825635",
     "status": "completed"
    },
    "tags": []
   },
   "outputs": [
    {
     "data": {
      "text/html": [
       "<div>\n",
       "<style scoped>\n",
       "    .dataframe tbody tr th:only-of-type {\n",
       "        vertical-align: middle;\n",
       "    }\n",
       "\n",
       "    .dataframe tbody tr th {\n",
       "        vertical-align: top;\n",
       "    }\n",
       "\n",
       "    .dataframe thead th {\n",
       "        text-align: right;\n",
       "    }\n",
       "</style>\n",
       "<table border=\"1\" class=\"dataframe\">\n",
       "  <thead>\n",
       "    <tr style=\"text-align: right;\">\n",
       "      <th></th>\n",
       "      <th>PassengerId</th>\n",
       "      <th>Survived</th>\n",
       "      <th>Pclass</th>\n",
       "      <th>Name</th>\n",
       "      <th>Sex</th>\n",
       "      <th>Age</th>\n",
       "      <th>SibSp</th>\n",
       "      <th>Parch</th>\n",
       "      <th>Ticket</th>\n",
       "      <th>Fare</th>\n",
       "      <th>Cabin</th>\n",
       "      <th>Embarked</th>\n",
       "      <th>Surname</th>\n",
       "      <th>Name_main</th>\n",
       "      <th>Real_Name</th>\n",
       "    </tr>\n",
       "  </thead>\n",
       "  <tbody>\n",
       "    <tr>\n",
       "      <th>0</th>\n",
       "      <td>1</td>\n",
       "      <td>0</td>\n",
       "      <td>3</td>\n",
       "      <td>anonymous</td>\n",
       "      <td>male</td>\n",
       "      <td>22.0</td>\n",
       "      <td>1</td>\n",
       "      <td>0</td>\n",
       "      <td>A/5 21171</td>\n",
       "      <td>7.2500</td>\n",
       "      <td>NaN</td>\n",
       "      <td>S</td>\n",
       "      <td>anonymous</td>\n",
       "      <td>NaN</td>\n",
       "      <td>anonymous</td>\n",
       "    </tr>\n",
       "    <tr>\n",
       "      <th>1</th>\n",
       "      <td>2</td>\n",
       "      <td>1</td>\n",
       "      <td>1</td>\n",
       "      <td>anonymous</td>\n",
       "      <td>female</td>\n",
       "      <td>38.0</td>\n",
       "      <td>1</td>\n",
       "      <td>0</td>\n",
       "      <td>PC 17599</td>\n",
       "      <td>71.2833</td>\n",
       "      <td>C85</td>\n",
       "      <td>C</td>\n",
       "      <td>anonymous</td>\n",
       "      <td>NaN</td>\n",
       "      <td>anonymous</td>\n",
       "    </tr>\n",
       "    <tr>\n",
       "      <th>2</th>\n",
       "      <td>3</td>\n",
       "      <td>1</td>\n",
       "      <td>3</td>\n",
       "      <td>anonymous</td>\n",
       "      <td>female</td>\n",
       "      <td>26.0</td>\n",
       "      <td>0</td>\n",
       "      <td>0</td>\n",
       "      <td>STON/O2. 3101282</td>\n",
       "      <td>7.9250</td>\n",
       "      <td>NaN</td>\n",
       "      <td>S</td>\n",
       "      <td>anonymous</td>\n",
       "      <td>NaN</td>\n",
       "      <td>anonymous</td>\n",
       "    </tr>\n",
       "    <tr>\n",
       "      <th>3</th>\n",
       "      <td>4</td>\n",
       "      <td>1</td>\n",
       "      <td>1</td>\n",
       "      <td>Futrelle, Mrs. Jacques Heath (Lily May Peel)</td>\n",
       "      <td>female</td>\n",
       "      <td>35.0</td>\n",
       "      <td>1</td>\n",
       "      <td>0</td>\n",
       "      <td>113803</td>\n",
       "      <td>53.1000</td>\n",
       "      <td>C123</td>\n",
       "      <td>S</td>\n",
       "      <td>Futrelle</td>\n",
       "      <td>Mrs. Jacques Heath (Lily May Peel)</td>\n",
       "      <td>Futrelle</td>\n",
       "    </tr>\n",
       "    <tr>\n",
       "      <th>4</th>\n",
       "      <td>5</td>\n",
       "      <td>0</td>\n",
       "      <td>3</td>\n",
       "      <td>Allen, Mr. William Henry</td>\n",
       "      <td>male</td>\n",
       "      <td>35.0</td>\n",
       "      <td>0</td>\n",
       "      <td>0</td>\n",
       "      <td>373450</td>\n",
       "      <td>8.0500</td>\n",
       "      <td>NaN</td>\n",
       "      <td>S</td>\n",
       "      <td>Allen</td>\n",
       "      <td>Mr. William Henry</td>\n",
       "      <td>Allen</td>\n",
       "    </tr>\n",
       "  </tbody>\n",
       "</table>\n",
       "</div>"
      ],
      "text/plain": [
       "   PassengerId  Survived  Pclass  \\\n",
       "0            1         0       3   \n",
       "1            2         1       1   \n",
       "2            3         1       3   \n",
       "3            4         1       1   \n",
       "4            5         0       3   \n",
       "\n",
       "                                           Name     Sex   Age  SibSp  Parch  \\\n",
       "0                                     anonymous    male  22.0      1      0   \n",
       "1                                     anonymous  female  38.0      1      0   \n",
       "2                                     anonymous  female  26.0      0      0   \n",
       "3  Futrelle, Mrs. Jacques Heath (Lily May Peel)  female  35.0      1      0   \n",
       "4                      Allen, Mr. William Henry    male  35.0      0      0   \n",
       "\n",
       "             Ticket     Fare Cabin Embarked    Surname  \\\n",
       "0         A/5 21171   7.2500   NaN        S  anonymous   \n",
       "1          PC 17599  71.2833   C85        C  anonymous   \n",
       "2  STON/O2. 3101282   7.9250   NaN        S  anonymous   \n",
       "3            113803  53.1000  C123        S   Futrelle   \n",
       "4            373450   8.0500   NaN        S      Allen   \n",
       "\n",
       "                             Name_main  Real_Name  \n",
       "0                                  NaN  anonymous  \n",
       "1                                  NaN  anonymous  \n",
       "2                                  NaN  anonymous  \n",
       "3   Mrs. Jacques Heath (Lily May Peel)   Futrelle  \n",
       "4                    Mr. William Henry      Allen  "
      ]
     },
     "execution_count": 48,
     "metadata": {},
     "output_type": "execute_result"
    }
   ],
   "source": [
    "titanic['Real_Name'] = titanic[\"Name\"].str.split(\",\").str.get(0)\n",
    "titanic.head()"
   ]
  },
  {
   "cell_type": "code",
   "execution_count": 49,
   "id": "52476895",
   "metadata": {
    "execution": {
     "iopub.execute_input": "2025-02-28T13:08:31.954943Z",
     "iopub.status.busy": "2025-02-28T13:08:31.954552Z",
     "iopub.status.idle": "2025-02-28T13:08:31.973490Z",
     "shell.execute_reply": "2025-02-28T13:08:31.972359Z"
    },
    "papermill": {
     "duration": 0.058679,
     "end_time": "2025-02-28T13:08:31.975318",
     "exception": false,
     "start_time": "2025-02-28T13:08:31.916639",
     "status": "completed"
    },
    "tags": []
   },
   "outputs": [
    {
     "data": {
      "text/html": [
       "<div>\n",
       "<style scoped>\n",
       "    .dataframe tbody tr th:only-of-type {\n",
       "        vertical-align: middle;\n",
       "    }\n",
       "\n",
       "    .dataframe tbody tr th {\n",
       "        vertical-align: top;\n",
       "    }\n",
       "\n",
       "    .dataframe thead th {\n",
       "        text-align: right;\n",
       "    }\n",
       "</style>\n",
       "<table border=\"1\" class=\"dataframe\">\n",
       "  <thead>\n",
       "    <tr style=\"text-align: right;\">\n",
       "      <th></th>\n",
       "      <th>PassengerId</th>\n",
       "      <th>Survived</th>\n",
       "      <th>Pclass</th>\n",
       "      <th>Name</th>\n",
       "      <th>Sex</th>\n",
       "      <th>Age</th>\n",
       "      <th>SibSp</th>\n",
       "      <th>Parch</th>\n",
       "      <th>Ticket</th>\n",
       "      <th>Fare</th>\n",
       "      <th>Cabin</th>\n",
       "      <th>Embarked</th>\n",
       "      <th>Surname</th>\n",
       "      <th>Name_main</th>\n",
       "      <th>Real_Name</th>\n",
       "    </tr>\n",
       "  </thead>\n",
       "  <tbody>\n",
       "    <tr>\n",
       "      <th>0</th>\n",
       "      <td>1</td>\n",
       "      <td>0</td>\n",
       "      <td>3</td>\n",
       "      <td>anonymous</td>\n",
       "      <td>male</td>\n",
       "      <td>22.0</td>\n",
       "      <td>1</td>\n",
       "      <td>0</td>\n",
       "      <td>A/5 21171</td>\n",
       "      <td>7.2500</td>\n",
       "      <td>NaN</td>\n",
       "      <td>S</td>\n",
       "      <td>NaN</td>\n",
       "      <td>NaN</td>\n",
       "      <td>anonymous</td>\n",
       "    </tr>\n",
       "    <tr>\n",
       "      <th>1</th>\n",
       "      <td>2</td>\n",
       "      <td>1</td>\n",
       "      <td>1</td>\n",
       "      <td>anonymous</td>\n",
       "      <td>female</td>\n",
       "      <td>38.0</td>\n",
       "      <td>1</td>\n",
       "      <td>0</td>\n",
       "      <td>PC 17599</td>\n",
       "      <td>71.2833</td>\n",
       "      <td>C85</td>\n",
       "      <td>C</td>\n",
       "      <td>NaN</td>\n",
       "      <td>NaN</td>\n",
       "      <td>anonymous</td>\n",
       "    </tr>\n",
       "    <tr>\n",
       "      <th>2</th>\n",
       "      <td>3</td>\n",
       "      <td>1</td>\n",
       "      <td>3</td>\n",
       "      <td>anonymous</td>\n",
       "      <td>female</td>\n",
       "      <td>26.0</td>\n",
       "      <td>0</td>\n",
       "      <td>0</td>\n",
       "      <td>STON/O2. 3101282</td>\n",
       "      <td>7.9250</td>\n",
       "      <td>NaN</td>\n",
       "      <td>S</td>\n",
       "      <td>NaN</td>\n",
       "      <td>NaN</td>\n",
       "      <td>anonymous</td>\n",
       "    </tr>\n",
       "    <tr>\n",
       "      <th>3</th>\n",
       "      <td>4</td>\n",
       "      <td>1</td>\n",
       "      <td>1</td>\n",
       "      <td>Futrelle, Mrs. Jacques Heath (Lily May Peel)</td>\n",
       "      <td>female</td>\n",
       "      <td>35.0</td>\n",
       "      <td>1</td>\n",
       "      <td>0</td>\n",
       "      <td>113803</td>\n",
       "      <td>53.1000</td>\n",
       "      <td>C123</td>\n",
       "      <td>S</td>\n",
       "      <td>Mrs. Jacques Heath (Lily May Peel)</td>\n",
       "      <td>Mrs. Jacques Heath (Lily May Peel)</td>\n",
       "      <td>Futrelle</td>\n",
       "    </tr>\n",
       "    <tr>\n",
       "      <th>4</th>\n",
       "      <td>5</td>\n",
       "      <td>0</td>\n",
       "      <td>3</td>\n",
       "      <td>Allen, Mr. William Henry</td>\n",
       "      <td>male</td>\n",
       "      <td>35.0</td>\n",
       "      <td>0</td>\n",
       "      <td>0</td>\n",
       "      <td>373450</td>\n",
       "      <td>8.0500</td>\n",
       "      <td>NaN</td>\n",
       "      <td>S</td>\n",
       "      <td>Mr. William Henry</td>\n",
       "      <td>Mr. William Henry</td>\n",
       "      <td>Allen</td>\n",
       "    </tr>\n",
       "  </tbody>\n",
       "</table>\n",
       "</div>"
      ],
      "text/plain": [
       "   PassengerId  Survived  Pclass  \\\n",
       "0            1         0       3   \n",
       "1            2         1       1   \n",
       "2            3         1       3   \n",
       "3            4         1       1   \n",
       "4            5         0       3   \n",
       "\n",
       "                                           Name     Sex   Age  SibSp  Parch  \\\n",
       "0                                     anonymous    male  22.0      1      0   \n",
       "1                                     anonymous  female  38.0      1      0   \n",
       "2                                     anonymous  female  26.0      0      0   \n",
       "3  Futrelle, Mrs. Jacques Heath (Lily May Peel)  female  35.0      1      0   \n",
       "4                      Allen, Mr. William Henry    male  35.0      0      0   \n",
       "\n",
       "             Ticket     Fare Cabin Embarked  \\\n",
       "0         A/5 21171   7.2500   NaN        S   \n",
       "1          PC 17599  71.2833   C85        C   \n",
       "2  STON/O2. 3101282   7.9250   NaN        S   \n",
       "3            113803  53.1000  C123        S   \n",
       "4            373450   8.0500   NaN        S   \n",
       "\n",
       "                               Surname                            Name_main  \\\n",
       "0                                  NaN                                  NaN   \n",
       "1                                  NaN                                  NaN   \n",
       "2                                  NaN                                  NaN   \n",
       "3   Mrs. Jacques Heath (Lily May Peel)   Mrs. Jacques Heath (Lily May Peel)   \n",
       "4                    Mr. William Henry                    Mr. William Henry   \n",
       "\n",
       "   Real_Name  \n",
       "0  anonymous  \n",
       "1  anonymous  \n",
       "2  anonymous  \n",
       "3   Futrelle  \n",
       "4      Allen  "
      ]
     },
     "execution_count": 49,
     "metadata": {},
     "output_type": "execute_result"
    }
   ],
   "source": [
    "titanic['Surname'] = titanic[\"Name\"].str.split(\",\").str.get(1)\n",
    "titanic.head()"
   ]
  },
  {
   "cell_type": "code",
   "execution_count": 50,
   "id": "9bdc9a37",
   "metadata": {
    "execution": {
     "iopub.execute_input": "2025-02-28T13:08:32.049626Z",
     "iopub.status.busy": "2025-02-28T13:08:32.049194Z",
     "iopub.status.idle": "2025-02-28T13:08:32.068650Z",
     "shell.execute_reply": "2025-02-28T13:08:32.067440Z"
    },
    "papermill": {
     "duration": 0.059424,
     "end_time": "2025-02-28T13:08:32.070417",
     "exception": false,
     "start_time": "2025-02-28T13:08:32.010993",
     "status": "completed"
    },
    "scrolled": true,
    "tags": []
   },
   "outputs": [
    {
     "data": {
      "text/html": [
       "<div>\n",
       "<style scoped>\n",
       "    .dataframe tbody tr th:only-of-type {\n",
       "        vertical-align: middle;\n",
       "    }\n",
       "\n",
       "    .dataframe tbody tr th {\n",
       "        vertical-align: top;\n",
       "    }\n",
       "\n",
       "    .dataframe thead th {\n",
       "        text-align: right;\n",
       "    }\n",
       "</style>\n",
       "<table border=\"1\" class=\"dataframe\">\n",
       "  <thead>\n",
       "    <tr style=\"text-align: right;\">\n",
       "      <th></th>\n",
       "      <th>PassengerId</th>\n",
       "      <th>Survived</th>\n",
       "      <th>Pclass</th>\n",
       "      <th>Name</th>\n",
       "      <th>Sex</th>\n",
       "      <th>Age</th>\n",
       "      <th>SibSp</th>\n",
       "      <th>Parch</th>\n",
       "      <th>Ticket</th>\n",
       "      <th>Fare</th>\n",
       "      <th>Cabin</th>\n",
       "      <th>Embarked</th>\n",
       "      <th>Surname</th>\n",
       "      <th>Name_main</th>\n",
       "      <th>Real_Name</th>\n",
       "      <th>Salutation</th>\n",
       "    </tr>\n",
       "  </thead>\n",
       "  <tbody>\n",
       "    <tr>\n",
       "      <th>0</th>\n",
       "      <td>1</td>\n",
       "      <td>0</td>\n",
       "      <td>3</td>\n",
       "      <td>anonymous</td>\n",
       "      <td>male</td>\n",
       "      <td>22.0</td>\n",
       "      <td>1</td>\n",
       "      <td>0</td>\n",
       "      <td>A/5 21171</td>\n",
       "      <td>7.2500</td>\n",
       "      <td>NaN</td>\n",
       "      <td>S</td>\n",
       "      <td>NaN</td>\n",
       "      <td>NaN</td>\n",
       "      <td>anonymous</td>\n",
       "      <td>NaN</td>\n",
       "    </tr>\n",
       "    <tr>\n",
       "      <th>1</th>\n",
       "      <td>2</td>\n",
       "      <td>1</td>\n",
       "      <td>1</td>\n",
       "      <td>anonymous</td>\n",
       "      <td>female</td>\n",
       "      <td>38.0</td>\n",
       "      <td>1</td>\n",
       "      <td>0</td>\n",
       "      <td>PC 17599</td>\n",
       "      <td>71.2833</td>\n",
       "      <td>C85</td>\n",
       "      <td>C</td>\n",
       "      <td>NaN</td>\n",
       "      <td>NaN</td>\n",
       "      <td>anonymous</td>\n",
       "      <td>NaN</td>\n",
       "    </tr>\n",
       "    <tr>\n",
       "      <th>2</th>\n",
       "      <td>3</td>\n",
       "      <td>1</td>\n",
       "      <td>3</td>\n",
       "      <td>anonymous</td>\n",
       "      <td>female</td>\n",
       "      <td>26.0</td>\n",
       "      <td>0</td>\n",
       "      <td>0</td>\n",
       "      <td>STON/O2. 3101282</td>\n",
       "      <td>7.9250</td>\n",
       "      <td>NaN</td>\n",
       "      <td>S</td>\n",
       "      <td>NaN</td>\n",
       "      <td>NaN</td>\n",
       "      <td>anonymous</td>\n",
       "      <td>NaN</td>\n",
       "    </tr>\n",
       "    <tr>\n",
       "      <th>3</th>\n",
       "      <td>4</td>\n",
       "      <td>1</td>\n",
       "      <td>1</td>\n",
       "      <td>Futrelle, Mrs. Jacques Heath (Lily May Peel)</td>\n",
       "      <td>female</td>\n",
       "      <td>35.0</td>\n",
       "      <td>1</td>\n",
       "      <td>0</td>\n",
       "      <td>113803</td>\n",
       "      <td>53.1000</td>\n",
       "      <td>C123</td>\n",
       "      <td>S</td>\n",
       "      <td>Mrs. Jacques Heath (Lily May Peel)</td>\n",
       "      <td>Mrs. Jacques Heath (Lily May Peel)</td>\n",
       "      <td>Futrelle</td>\n",
       "      <td>Mrs</td>\n",
       "    </tr>\n",
       "    <tr>\n",
       "      <th>4</th>\n",
       "      <td>5</td>\n",
       "      <td>0</td>\n",
       "      <td>3</td>\n",
       "      <td>Allen, Mr. William Henry</td>\n",
       "      <td>male</td>\n",
       "      <td>35.0</td>\n",
       "      <td>0</td>\n",
       "      <td>0</td>\n",
       "      <td>373450</td>\n",
       "      <td>8.0500</td>\n",
       "      <td>NaN</td>\n",
       "      <td>S</td>\n",
       "      <td>Mr. William Henry</td>\n",
       "      <td>Mr. William Henry</td>\n",
       "      <td>Allen</td>\n",
       "      <td>Mr</td>\n",
       "    </tr>\n",
       "  </tbody>\n",
       "</table>\n",
       "</div>"
      ],
      "text/plain": [
       "   PassengerId  Survived  Pclass  \\\n",
       "0            1         0       3   \n",
       "1            2         1       1   \n",
       "2            3         1       3   \n",
       "3            4         1       1   \n",
       "4            5         0       3   \n",
       "\n",
       "                                           Name     Sex   Age  SibSp  Parch  \\\n",
       "0                                     anonymous    male  22.0      1      0   \n",
       "1                                     anonymous  female  38.0      1      0   \n",
       "2                                     anonymous  female  26.0      0      0   \n",
       "3  Futrelle, Mrs. Jacques Heath (Lily May Peel)  female  35.0      1      0   \n",
       "4                      Allen, Mr. William Henry    male  35.0      0      0   \n",
       "\n",
       "             Ticket     Fare Cabin Embarked  \\\n",
       "0         A/5 21171   7.2500   NaN        S   \n",
       "1          PC 17599  71.2833   C85        C   \n",
       "2  STON/O2. 3101282   7.9250   NaN        S   \n",
       "3            113803  53.1000  C123        S   \n",
       "4            373450   8.0500   NaN        S   \n",
       "\n",
       "                               Surname                            Name_main  \\\n",
       "0                                  NaN                                  NaN   \n",
       "1                                  NaN                                  NaN   \n",
       "2                                  NaN                                  NaN   \n",
       "3   Mrs. Jacques Heath (Lily May Peel)   Mrs. Jacques Heath (Lily May Peel)   \n",
       "4                    Mr. William Henry                    Mr. William Henry   \n",
       "\n",
       "   Real_Name Salutation  \n",
       "0  anonymous        NaN  \n",
       "1  anonymous        NaN  \n",
       "2  anonymous        NaN  \n",
       "3   Futrelle        Mrs  \n",
       "4      Allen         Mr  "
      ]
     },
     "execution_count": 50,
     "metadata": {},
     "output_type": "execute_result"
    }
   ],
   "source": [
    "titanic['Salutation'] = titanic['Surname'].str.split(\".\").str.get(0)\n",
    "titanic.head()"
   ]
  },
  {
   "cell_type": "code",
   "execution_count": 51,
   "id": "d69a2cfb",
   "metadata": {
    "execution": {
     "iopub.execute_input": "2025-02-28T13:08:32.143263Z",
     "iopub.status.busy": "2025-02-28T13:08:32.142920Z",
     "iopub.status.idle": "2025-02-28T13:08:32.153873Z",
     "shell.execute_reply": "2025-02-28T13:08:32.152602Z"
    },
    "papermill": {
     "duration": 0.048919,
     "end_time": "2025-02-28T13:08:32.155701",
     "exception": false,
     "start_time": "2025-02-28T13:08:32.106782",
     "status": "completed"
    },
    "tags": []
   },
   "outputs": [
    {
     "data": {
      "text/plain": [
       "0      False\n",
       "1      False\n",
       "2      False\n",
       "3       True\n",
       "4       True\n",
       "       ...  \n",
       "886    False\n",
       "887    False\n",
       "888    False\n",
       "889     True\n",
       "890     True\n",
       "Name: Name, Length: 891, dtype: bool"
      ]
     },
     "execution_count": 51,
     "metadata": {},
     "output_type": "execute_result"
    }
   ],
   "source": [
    "titanic[\"Name\"].str.contains(\"Mr\")"
   ]
  },
  {
   "cell_type": "code",
   "execution_count": 52,
   "id": "e0c6ea28",
   "metadata": {
    "execution": {
     "iopub.execute_input": "2025-02-28T13:08:32.226168Z",
     "iopub.status.busy": "2025-02-28T13:08:32.225817Z",
     "iopub.status.idle": "2025-02-28T13:08:32.242038Z",
     "shell.execute_reply": "2025-02-28T13:08:32.240762Z"
    },
    "papermill": {
     "duration": 0.053079,
     "end_time": "2025-02-28T13:08:32.243889",
     "exception": false,
     "start_time": "2025-02-28T13:08:32.190810",
     "status": "completed"
    },
    "tags": []
   },
   "outputs": [
    {
     "data": {
      "text/html": [
       "<div>\n",
       "<style scoped>\n",
       "    .dataframe tbody tr th:only-of-type {\n",
       "        vertical-align: middle;\n",
       "    }\n",
       "\n",
       "    .dataframe tbody tr th {\n",
       "        vertical-align: top;\n",
       "    }\n",
       "\n",
       "    .dataframe thead th {\n",
       "        text-align: right;\n",
       "    }\n",
       "</style>\n",
       "<table border=\"1\" class=\"dataframe\">\n",
       "  <thead>\n",
       "    <tr style=\"text-align: right;\">\n",
       "      <th></th>\n",
       "      <th>PassengerId</th>\n",
       "      <th>Survived</th>\n",
       "      <th>Pclass</th>\n",
       "      <th>Name</th>\n",
       "      <th>Sex</th>\n",
       "      <th>Age</th>\n",
       "      <th>SibSp</th>\n",
       "      <th>Parch</th>\n",
       "      <th>Ticket</th>\n",
       "      <th>Fare</th>\n",
       "      <th>Cabin</th>\n",
       "      <th>Embarked</th>\n",
       "      <th>Surname</th>\n",
       "      <th>Name_main</th>\n",
       "      <th>Real_Name</th>\n",
       "      <th>Salutation</th>\n",
       "    </tr>\n",
       "  </thead>\n",
       "  <tbody>\n",
       "    <tr>\n",
       "      <th>759</th>\n",
       "      <td>760</td>\n",
       "      <td>1</td>\n",
       "      <td>1</td>\n",
       "      <td>Rothes, the Countess. of (Lucy Noel Martha Dye...</td>\n",
       "      <td>female</td>\n",
       "      <td>33.0</td>\n",
       "      <td>0</td>\n",
       "      <td>0</td>\n",
       "      <td>110152</td>\n",
       "      <td>86.5</td>\n",
       "      <td>B77</td>\n",
       "      <td>S</td>\n",
       "      <td>the Countess. of (Lucy Noel Martha Dyer-Edwards)</td>\n",
       "      <td>the Countess. of (Lucy Noel Martha Dyer-Edwards)</td>\n",
       "      <td>Rothes</td>\n",
       "      <td>the Countess</td>\n",
       "    </tr>\n",
       "  </tbody>\n",
       "</table>\n",
       "</div>"
      ],
      "text/plain": [
       "     PassengerId  Survived  Pclass  \\\n",
       "759          760         1       1   \n",
       "\n",
       "                                                  Name     Sex   Age  SibSp  \\\n",
       "759  Rothes, the Countess. of (Lucy Noel Martha Dye...  female  33.0      0   \n",
       "\n",
       "     Parch  Ticket  Fare Cabin Embarked  \\\n",
       "759      0  110152  86.5   B77        S   \n",
       "\n",
       "                                               Surname  \\\n",
       "759   the Countess. of (Lucy Noel Martha Dyer-Edwards)   \n",
       "\n",
       "                                             Name_main Real_Name  \\\n",
       "759   the Countess. of (Lucy Noel Martha Dyer-Edwards)    Rothes   \n",
       "\n",
       "        Salutation  \n",
       "759   the Countess  "
      ]
     },
     "execution_count": 52,
     "metadata": {},
     "output_type": "execute_result"
    }
   ],
   "source": [
    "titanic[titanic[\"Name\"].str.contains(\"Countess\")]"
   ]
  },
  {
   "cell_type": "code",
   "execution_count": 53,
   "id": "03d4abfe",
   "metadata": {
    "execution": {
     "iopub.execute_input": "2025-02-28T13:08:32.315733Z",
     "iopub.status.busy": "2025-02-28T13:08:32.315319Z",
     "iopub.status.idle": "2025-02-28T13:08:32.323487Z",
     "shell.execute_reply": "2025-02-28T13:08:32.322439Z"
    },
    "papermill": {
     "duration": 0.046122,
     "end_time": "2025-02-28T13:08:32.325383",
     "exception": false,
     "start_time": "2025-02-28T13:08:32.279261",
     "status": "completed"
    },
    "tags": []
   },
   "outputs": [
    {
     "data": {
      "text/plain": [
       "0       9\n",
       "1       9\n",
       "2       9\n",
       "3      44\n",
       "4      24\n",
       "       ..\n",
       "886    21\n",
       "887    28\n",
       "888    40\n",
       "889    21\n",
       "890    19\n",
       "Name: Name, Length: 891, dtype: int64"
      ]
     },
     "execution_count": 53,
     "metadata": {},
     "output_type": "execute_result"
    }
   ],
   "source": [
    "titanic[\"Name\"].str.len()"
   ]
  },
  {
   "cell_type": "code",
   "execution_count": 54,
   "id": "80366b1a",
   "metadata": {
    "execution": {
     "iopub.execute_input": "2025-02-28T13:08:32.398325Z",
     "iopub.status.busy": "2025-02-28T13:08:32.397967Z",
     "iopub.status.idle": "2025-02-28T13:08:32.405119Z",
     "shell.execute_reply": "2025-02-28T13:08:32.404042Z"
    },
    "papermill": {
     "duration": 0.046579,
     "end_time": "2025-02-28T13:08:32.407184",
     "exception": false,
     "start_time": "2025-02-28T13:08:32.360605",
     "status": "completed"
    },
    "tags": []
   },
   "outputs": [
    {
     "data": {
      "text/plain": [
       "307"
      ]
     },
     "execution_count": 54,
     "metadata": {},
     "output_type": "execute_result"
    }
   ],
   "source": [
    "titanic[\"Name\"].str.len().idxmax()"
   ]
  },
  {
   "cell_type": "code",
   "execution_count": 55,
   "id": "720ab027",
   "metadata": {
    "execution": {
     "iopub.execute_input": "2025-02-28T13:08:32.480679Z",
     "iopub.status.busy": "2025-02-28T13:08:32.480264Z",
     "iopub.status.idle": "2025-02-28T13:08:32.488732Z",
     "shell.execute_reply": "2025-02-28T13:08:32.487602Z"
    },
    "papermill": {
     "duration": 0.046678,
     "end_time": "2025-02-28T13:08:32.490655",
     "exception": false,
     "start_time": "2025-02-28T13:08:32.443977",
     "status": "completed"
    },
    "tags": []
   },
   "outputs": [
    {
     "data": {
      "text/plain": [
       "'Penasco y Castellana, Mrs. Victor de Satode (Maria Josefa Perez de Soto y Vallejo)'"
      ]
     },
     "execution_count": 55,
     "metadata": {},
     "output_type": "execute_result"
    }
   ],
   "source": [
    "titanic.loc[titanic[\"Name\"].str.len().idxmax(), \"Name\"]"
   ]
  },
  {
   "cell_type": "code",
   "execution_count": 56,
   "id": "b06e4389",
   "metadata": {
    "execution": {
     "iopub.execute_input": "2025-02-28T13:08:32.563345Z",
     "iopub.status.busy": "2025-02-28T13:08:32.562952Z",
     "iopub.status.idle": "2025-02-28T13:08:32.571146Z",
     "shell.execute_reply": "2025-02-28T13:08:32.569969Z"
    },
    "papermill": {
     "duration": 0.047568,
     "end_time": "2025-02-28T13:08:32.573349",
     "exception": false,
     "start_time": "2025-02-28T13:08:32.525781",
     "status": "completed"
    },
    "tags": []
   },
   "outputs": [
    {
     "data": {
      "text/plain": [
       "'anonymous'"
      ]
     },
     "execution_count": 56,
     "metadata": {},
     "output_type": "execute_result"
    }
   ],
   "source": [
    "titanic.loc[titanic[\"Name\"].str.len().idxmin(), \"Name\"]"
   ]
  },
  {
   "cell_type": "code",
   "execution_count": 57,
   "id": "645319e1",
   "metadata": {
    "execution": {
     "iopub.execute_input": "2025-02-28T13:08:32.646791Z",
     "iopub.status.busy": "2025-02-28T13:08:32.646369Z",
     "iopub.status.idle": "2025-02-28T13:08:32.655849Z",
     "shell.execute_reply": "2025-02-28T13:08:32.654842Z"
    },
    "papermill": {
     "duration": 0.049014,
     "end_time": "2025-02-28T13:08:32.657689",
     "exception": false,
     "start_time": "2025-02-28T13:08:32.608675",
     "status": "completed"
    },
    "tags": []
   },
   "outputs": [
    {
     "data": {
      "text/plain": [
       "0      M\n",
       "1      F\n",
       "2      F\n",
       "3      F\n",
       "4      M\n",
       "      ..\n",
       "886    M\n",
       "887    F\n",
       "888    F\n",
       "889    M\n",
       "890    M\n",
       "Name: Sex_short, Length: 891, dtype: object"
      ]
     },
     "execution_count": 57,
     "metadata": {},
     "output_type": "execute_result"
    }
   ],
   "source": [
    "titanic[\"Sex_short\"] = titanic[\"Sex\"].replace({\"male\": \"M\", \"female\": \"F\"})\n",
    "titanic[\"Sex_short\"]"
   ]
  },
  {
   "cell_type": "code",
   "execution_count": 58,
   "id": "eca0bd87",
   "metadata": {
    "execution": {
     "iopub.execute_input": "2025-02-28T13:08:32.731570Z",
     "iopub.status.busy": "2025-02-28T13:08:32.731183Z",
     "iopub.status.idle": "2025-02-28T13:08:32.738132Z",
     "shell.execute_reply": "2025-02-28T13:08:32.736930Z"
    },
    "papermill": {
     "duration": 0.046436,
     "end_time": "2025-02-28T13:08:32.740141",
     "exception": false,
     "start_time": "2025-02-28T13:08:32.693705",
     "status": "completed"
    },
    "tags": []
   },
   "outputs": [],
   "source": [
    "titanic[\"Sex_short\"] = titanic[\"Sex\"].str.replace(\"female\", \"F\")\n",
    "titanic[\"Sex_short\"] = titanic[\"Sex_short\"].str.replace(\"male\", \"M\")"
   ]
  },
  {
   "cell_type": "code",
   "execution_count": 59,
   "id": "ade19157",
   "metadata": {
    "execution": {
     "iopub.execute_input": "2025-02-28T13:08:32.812696Z",
     "iopub.status.busy": "2025-02-28T13:08:32.812306Z",
     "iopub.status.idle": "2025-02-28T13:08:32.824417Z",
     "shell.execute_reply": "2025-02-28T13:08:32.823397Z"
    },
    "papermill": {
     "duration": 0.050389,
     "end_time": "2025-02-28T13:08:32.826089",
     "exception": false,
     "start_time": "2025-02-28T13:08:32.775700",
     "status": "completed"
    },
    "tags": []
   },
   "outputs": [
    {
     "data": {
      "text/html": [
       "<div>\n",
       "<style scoped>\n",
       "    .dataframe tbody tr th:only-of-type {\n",
       "        vertical-align: middle;\n",
       "    }\n",
       "\n",
       "    .dataframe tbody tr th {\n",
       "        vertical-align: top;\n",
       "    }\n",
       "\n",
       "    .dataframe thead th {\n",
       "        text-align: right;\n",
       "    }\n",
       "</style>\n",
       "<table border=\"1\" class=\"dataframe\">\n",
       "  <thead>\n",
       "    <tr style=\"text-align: right;\">\n",
       "      <th></th>\n",
       "      <th>a</th>\n",
       "      <th>c</th>\n",
       "      <th>b</th>\n",
       "    </tr>\n",
       "  </thead>\n",
       "  <tbody>\n",
       "    <tr>\n",
       "      <th>0</th>\n",
       "      <td>1.198903</td>\n",
       "      <td>1.478434</td>\n",
       "      <td>-0.035309</td>\n",
       "    </tr>\n",
       "    <tr>\n",
       "      <th>1</th>\n",
       "      <td>1.009655</td>\n",
       "      <td>-1.044862</td>\n",
       "      <td>-0.051222</td>\n",
       "    </tr>\n",
       "    <tr>\n",
       "      <th>2</th>\n",
       "      <td>-0.972587</td>\n",
       "      <td>-1.062713</td>\n",
       "      <td>-1.482943</td>\n",
       "    </tr>\n",
       "    <tr>\n",
       "      <th>3</th>\n",
       "      <td>0.664169</td>\n",
       "      <td>-1.857897</td>\n",
       "      <td>1.331967</td>\n",
       "    </tr>\n",
       "    <tr>\n",
       "      <th>4</th>\n",
       "      <td>1.898035</td>\n",
       "      <td>-0.479910</td>\n",
       "      <td>-1.186192</td>\n",
       "    </tr>\n",
       "    <tr>\n",
       "      <th>5</th>\n",
       "      <td>2.424308</td>\n",
       "      <td>0.809093</td>\n",
       "      <td>0.874881</td>\n",
       "    </tr>\n",
       "    <tr>\n",
       "      <th>6</th>\n",
       "      <td>0.105022</td>\n",
       "      <td>0.331709</td>\n",
       "      <td>0.297047</td>\n",
       "    </tr>\n",
       "    <tr>\n",
       "      <th>7</th>\n",
       "      <td>0.003296</td>\n",
       "      <td>-0.609262</td>\n",
       "      <td>1.331382</td>\n",
       "    </tr>\n",
       "    <tr>\n",
       "      <th>8</th>\n",
       "      <td>1.708056</td>\n",
       "      <td>0.525191</td>\n",
       "      <td>-1.097852</td>\n",
       "    </tr>\n",
       "    <tr>\n",
       "      <th>9</th>\n",
       "      <td>-2.426487</td>\n",
       "      <td>-0.083903</td>\n",
       "      <td>1.804689</td>\n",
       "    </tr>\n",
       "  </tbody>\n",
       "</table>\n",
       "</div>"
      ],
      "text/plain": [
       "          a         c         b\n",
       "0  1.198903  1.478434 -0.035309\n",
       "1  1.009655 -1.044862 -0.051222\n",
       "2 -0.972587 -1.062713 -1.482943\n",
       "3  0.664169 -1.857897  1.331967\n",
       "4  1.898035 -0.479910 -1.186192\n",
       "5  2.424308  0.809093  0.874881\n",
       "6  0.105022  0.331709  0.297047\n",
       "7  0.003296 -0.609262  1.331382\n",
       "8  1.708056  0.525191 -1.097852\n",
       "9 -2.426487 -0.083903  1.804689"
      ]
     },
     "execution_count": 59,
     "metadata": {},
     "output_type": "execute_result"
    }
   ],
   "source": [
    "import numpy as np\n",
    "df = pd.DataFrame(np.random.randn(10, 3), columns=list(\"abc\"))\n",
    "df[[\"a\", \"c\",\"b\"]]"
   ]
  },
  {
   "cell_type": "code",
   "execution_count": 60,
   "id": "e4bbab4c",
   "metadata": {
    "execution": {
     "iopub.execute_input": "2025-02-28T13:08:32.898065Z",
     "iopub.status.busy": "2025-02-28T13:08:32.897659Z",
     "iopub.status.idle": "2025-02-28T13:08:32.908074Z",
     "shell.execute_reply": "2025-02-28T13:08:32.907005Z"
    },
    "papermill": {
     "duration": 0.048445,
     "end_time": "2025-02-28T13:08:32.909812",
     "exception": false,
     "start_time": "2025-02-28T13:08:32.861367",
     "status": "completed"
    },
    "tags": []
   },
   "outputs": [
    {
     "data": {
      "text/html": [
       "<div>\n",
       "<style scoped>\n",
       "    .dataframe tbody tr th:only-of-type {\n",
       "        vertical-align: middle;\n",
       "    }\n",
       "\n",
       "    .dataframe tbody tr th {\n",
       "        vertical-align: top;\n",
       "    }\n",
       "\n",
       "    .dataframe thead th {\n",
       "        text-align: right;\n",
       "    }\n",
       "</style>\n",
       "<table border=\"1\" class=\"dataframe\">\n",
       "  <thead>\n",
       "    <tr style=\"text-align: right;\">\n",
       "      <th></th>\n",
       "      <th>a</th>\n",
       "      <th>c</th>\n",
       "    </tr>\n",
       "  </thead>\n",
       "  <tbody>\n",
       "    <tr>\n",
       "      <th>0</th>\n",
       "      <td>1.198903</td>\n",
       "      <td>1.478434</td>\n",
       "    </tr>\n",
       "    <tr>\n",
       "      <th>1</th>\n",
       "      <td>1.009655</td>\n",
       "      <td>-1.044862</td>\n",
       "    </tr>\n",
       "    <tr>\n",
       "      <th>2</th>\n",
       "      <td>-0.972587</td>\n",
       "      <td>-1.062713</td>\n",
       "    </tr>\n",
       "    <tr>\n",
       "      <th>3</th>\n",
       "      <td>0.664169</td>\n",
       "      <td>-1.857897</td>\n",
       "    </tr>\n",
       "    <tr>\n",
       "      <th>4</th>\n",
       "      <td>1.898035</td>\n",
       "      <td>-0.479910</td>\n",
       "    </tr>\n",
       "    <tr>\n",
       "      <th>5</th>\n",
       "      <td>2.424308</td>\n",
       "      <td>0.809093</td>\n",
       "    </tr>\n",
       "    <tr>\n",
       "      <th>6</th>\n",
       "      <td>0.105022</td>\n",
       "      <td>0.331709</td>\n",
       "    </tr>\n",
       "    <tr>\n",
       "      <th>7</th>\n",
       "      <td>0.003296</td>\n",
       "      <td>-0.609262</td>\n",
       "    </tr>\n",
       "    <tr>\n",
       "      <th>8</th>\n",
       "      <td>1.708056</td>\n",
       "      <td>0.525191</td>\n",
       "    </tr>\n",
       "    <tr>\n",
       "      <th>9</th>\n",
       "      <td>-2.426487</td>\n",
       "      <td>-0.083903</td>\n",
       "    </tr>\n",
       "  </tbody>\n",
       "</table>\n",
       "</div>"
      ],
      "text/plain": [
       "          a         c\n",
       "0  1.198903  1.478434\n",
       "1  1.009655 -1.044862\n",
       "2 -0.972587 -1.062713\n",
       "3  0.664169 -1.857897\n",
       "4  1.898035 -0.479910\n",
       "5  2.424308  0.809093\n",
       "6  0.105022  0.331709\n",
       "7  0.003296 -0.609262\n",
       "8  1.708056  0.525191\n",
       "9 -2.426487 -0.083903"
      ]
     },
     "execution_count": 60,
     "metadata": {},
     "output_type": "execute_result"
    }
   ],
   "source": [
    "df.loc[:, [\"a\", \"c\"]]"
   ]
  },
  {
   "cell_type": "markdown",
   "id": "a5ffb272",
   "metadata": {
    "papermill": {
     "duration": 0.038489,
     "end_time": "2025-02-28T13:08:32.984405",
     "exception": false,
     "start_time": "2025-02-28T13:08:32.945916",
     "status": "completed"
    },
    "tags": []
   },
   "source": [
    "<font color=\"Red\" size=+5 face=\"Comic Sans MS\">Good Code</font>"
   ]
  },
  {
   "cell_type": "code",
   "execution_count": 61,
   "id": "5a666d80",
   "metadata": {
    "execution": {
     "iopub.execute_input": "2025-02-28T13:08:33.062764Z",
     "iopub.status.busy": "2025-02-28T13:08:33.062344Z",
     "iopub.status.idle": "2025-02-28T13:08:33.095808Z",
     "shell.execute_reply": "2025-02-28T13:08:33.094403Z"
    },
    "papermill": {
     "duration": 0.075967,
     "end_time": "2025-02-28T13:08:33.097861",
     "exception": false,
     "start_time": "2025-02-28T13:08:33.021894",
     "status": "completed"
    },
    "tags": []
   },
   "outputs": [
    {
     "data": {
      "text/html": [
       "<div>\n",
       "<style scoped>\n",
       "    .dataframe tbody tr th:only-of-type {\n",
       "        vertical-align: middle;\n",
       "    }\n",
       "\n",
       "    .dataframe tbody tr th {\n",
       "        vertical-align: top;\n",
       "    }\n",
       "\n",
       "    .dataframe thead th {\n",
       "        text-align: right;\n",
       "    }\n",
       "</style>\n",
       "<table border=\"1\" class=\"dataframe\">\n",
       "  <thead>\n",
       "    <tr style=\"text-align: right;\">\n",
       "      <th></th>\n",
       "      <th>a</th>\n",
       "      <th>b</th>\n",
       "      <th>c</th>\n",
       "      <th>d</th>\n",
       "      <th>e</th>\n",
       "      <th>f</th>\n",
       "      <th>g</th>\n",
       "      <th>7</th>\n",
       "      <th>8</th>\n",
       "      <th>9</th>\n",
       "      <th>24</th>\n",
       "      <th>25</th>\n",
       "      <th>26</th>\n",
       "      <th>27</th>\n",
       "      <th>28</th>\n",
       "      <th>29</th>\n",
       "    </tr>\n",
       "  </thead>\n",
       "  <tbody>\n",
       "    <tr>\n",
       "      <th>0</th>\n",
       "      <td>0.985628</td>\n",
       "      <td>-1.356792</td>\n",
       "      <td>1.606617</td>\n",
       "      <td>-1.278928</td>\n",
       "      <td>0.531972</td>\n",
       "      <td>-0.142031</td>\n",
       "      <td>-1.558968</td>\n",
       "      <td>0.688060</td>\n",
       "      <td>-0.274585</td>\n",
       "      <td>0.559902</td>\n",
       "      <td>0.511943</td>\n",
       "      <td>-0.608272</td>\n",
       "      <td>-1.548050</td>\n",
       "      <td>-0.279242</td>\n",
       "      <td>0.501228</td>\n",
       "      <td>1.923919</td>\n",
       "    </tr>\n",
       "    <tr>\n",
       "      <th>1</th>\n",
       "      <td>-2.435987</td>\n",
       "      <td>-0.929844</td>\n",
       "      <td>-0.585821</td>\n",
       "      <td>-0.758632</td>\n",
       "      <td>-1.930520</td>\n",
       "      <td>0.809376</td>\n",
       "      <td>-0.096036</td>\n",
       "      <td>0.885812</td>\n",
       "      <td>1.096753</td>\n",
       "      <td>-0.900482</td>\n",
       "      <td>0.807619</td>\n",
       "      <td>0.978224</td>\n",
       "      <td>0.696940</td>\n",
       "      <td>-1.067091</td>\n",
       "      <td>0.074270</td>\n",
       "      <td>-0.206843</td>\n",
       "    </tr>\n",
       "    <tr>\n",
       "      <th>2</th>\n",
       "      <td>-0.884146</td>\n",
       "      <td>-1.191806</td>\n",
       "      <td>0.467004</td>\n",
       "      <td>0.824092</td>\n",
       "      <td>0.298934</td>\n",
       "      <td>-0.183799</td>\n",
       "      <td>0.121503</td>\n",
       "      <td>0.008744</td>\n",
       "      <td>0.604080</td>\n",
       "      <td>-0.893645</td>\n",
       "      <td>1.572881</td>\n",
       "      <td>-0.975754</td>\n",
       "      <td>-0.750125</td>\n",
       "      <td>-2.228717</td>\n",
       "      <td>-1.018811</td>\n",
       "      <td>-0.247431</td>\n",
       "    </tr>\n",
       "    <tr>\n",
       "      <th>3</th>\n",
       "      <td>0.846817</td>\n",
       "      <td>-0.710393</td>\n",
       "      <td>0.367767</td>\n",
       "      <td>-0.433729</td>\n",
       "      <td>0.356837</td>\n",
       "      <td>0.350760</td>\n",
       "      <td>0.018446</td>\n",
       "      <td>0.842481</td>\n",
       "      <td>-1.711928</td>\n",
       "      <td>-0.338057</td>\n",
       "      <td>-0.929127</td>\n",
       "      <td>-0.870588</td>\n",
       "      <td>0.036062</td>\n",
       "      <td>-2.253343</td>\n",
       "      <td>-0.896510</td>\n",
       "      <td>-0.874920</td>\n",
       "    </tr>\n",
       "    <tr>\n",
       "      <th>4</th>\n",
       "      <td>-0.597090</td>\n",
       "      <td>-0.221559</td>\n",
       "      <td>-0.722923</td>\n",
       "      <td>-1.223588</td>\n",
       "      <td>0.243736</td>\n",
       "      <td>0.871502</td>\n",
       "      <td>1.473419</td>\n",
       "      <td>0.744425</td>\n",
       "      <td>0.090829</td>\n",
       "      <td>0.196977</td>\n",
       "      <td>0.662815</td>\n",
       "      <td>0.208025</td>\n",
       "      <td>-0.128037</td>\n",
       "      <td>-0.572142</td>\n",
       "      <td>-0.479682</td>\n",
       "      <td>-0.809179</td>\n",
       "    </tr>\n",
       "    <tr>\n",
       "      <th>5</th>\n",
       "      <td>0.781476</td>\n",
       "      <td>0.004346</td>\n",
       "      <td>-0.344216</td>\n",
       "      <td>2.843600</td>\n",
       "      <td>1.093874</td>\n",
       "      <td>1.184372</td>\n",
       "      <td>0.682501</td>\n",
       "      <td>0.693464</td>\n",
       "      <td>0.731010</td>\n",
       "      <td>-1.740501</td>\n",
       "      <td>0.856324</td>\n",
       "      <td>0.686024</td>\n",
       "      <td>0.037982</td>\n",
       "      <td>-1.273285</td>\n",
       "      <td>-0.411381</td>\n",
       "      <td>-0.416006</td>\n",
       "    </tr>\n",
       "    <tr>\n",
       "      <th>6</th>\n",
       "      <td>-1.527540</td>\n",
       "      <td>0.812750</td>\n",
       "      <td>0.911851</td>\n",
       "      <td>-0.449648</td>\n",
       "      <td>-0.511965</td>\n",
       "      <td>-1.875878</td>\n",
       "      <td>-1.751965</td>\n",
       "      <td>-0.970669</td>\n",
       "      <td>0.898866</td>\n",
       "      <td>-0.205244</td>\n",
       "      <td>-0.366263</td>\n",
       "      <td>0.533826</td>\n",
       "      <td>0.439121</td>\n",
       "      <td>-2.317449</td>\n",
       "      <td>-2.476964</td>\n",
       "      <td>-0.361604</td>\n",
       "    </tr>\n",
       "    <tr>\n",
       "      <th>7</th>\n",
       "      <td>-0.546786</td>\n",
       "      <td>1.026811</td>\n",
       "      <td>1.055897</td>\n",
       "      <td>-0.478000</td>\n",
       "      <td>-1.603984</td>\n",
       "      <td>1.051406</td>\n",
       "      <td>-1.052330</td>\n",
       "      <td>-2.725605</td>\n",
       "      <td>0.433056</td>\n",
       "      <td>0.019092</td>\n",
       "      <td>0.419860</td>\n",
       "      <td>-0.757802</td>\n",
       "      <td>-0.219910</td>\n",
       "      <td>-1.333749</td>\n",
       "      <td>-1.188944</td>\n",
       "      <td>-1.358138</td>\n",
       "    </tr>\n",
       "    <tr>\n",
       "      <th>8</th>\n",
       "      <td>-0.577474</td>\n",
       "      <td>-1.705897</td>\n",
       "      <td>0.542727</td>\n",
       "      <td>1.120865</td>\n",
       "      <td>-2.131759</td>\n",
       "      <td>-1.144199</td>\n",
       "      <td>-0.008999</td>\n",
       "      <td>0.390592</td>\n",
       "      <td>0.286696</td>\n",
       "      <td>1.161504</td>\n",
       "      <td>-0.425934</td>\n",
       "      <td>1.092264</td>\n",
       "      <td>-0.179918</td>\n",
       "      <td>0.627723</td>\n",
       "      <td>0.998316</td>\n",
       "      <td>0.971606</td>\n",
       "    </tr>\n",
       "    <tr>\n",
       "      <th>9</th>\n",
       "      <td>0.315176</td>\n",
       "      <td>-0.816481</td>\n",
       "      <td>0.535027</td>\n",
       "      <td>0.204488</td>\n",
       "      <td>0.590551</td>\n",
       "      <td>-1.398839</td>\n",
       "      <td>-1.020017</td>\n",
       "      <td>-0.664757</td>\n",
       "      <td>-1.049969</td>\n",
       "      <td>-2.258168</td>\n",
       "      <td>0.630919</td>\n",
       "      <td>0.152265</td>\n",
       "      <td>-0.475287</td>\n",
       "      <td>1.151751</td>\n",
       "      <td>0.481466</td>\n",
       "      <td>2.194927</td>\n",
       "    </tr>\n",
       "    <tr>\n",
       "      <th>10</th>\n",
       "      <td>-1.108246</td>\n",
       "      <td>0.380223</td>\n",
       "      <td>0.657944</td>\n",
       "      <td>0.456809</td>\n",
       "      <td>0.655227</td>\n",
       "      <td>-1.146593</td>\n",
       "      <td>1.092703</td>\n",
       "      <td>-1.294645</td>\n",
       "      <td>0.984077</td>\n",
       "      <td>0.135566</td>\n",
       "      <td>1.252181</td>\n",
       "      <td>0.579982</td>\n",
       "      <td>0.962042</td>\n",
       "      <td>0.598769</td>\n",
       "      <td>0.817063</td>\n",
       "      <td>-0.096695</td>\n",
       "    </tr>\n",
       "    <tr>\n",
       "      <th>11</th>\n",
       "      <td>1.787137</td>\n",
       "      <td>0.040849</td>\n",
       "      <td>1.103191</td>\n",
       "      <td>1.566023</td>\n",
       "      <td>1.850198</td>\n",
       "      <td>-2.229486</td>\n",
       "      <td>-2.140102</td>\n",
       "      <td>0.355627</td>\n",
       "      <td>-2.594398</td>\n",
       "      <td>1.422186</td>\n",
       "      <td>0.205311</td>\n",
       "      <td>0.272468</td>\n",
       "      <td>1.226278</td>\n",
       "      <td>-0.129497</td>\n",
       "      <td>1.064657</td>\n",
       "      <td>0.851425</td>\n",
       "    </tr>\n",
       "    <tr>\n",
       "      <th>12</th>\n",
       "      <td>0.906261</td>\n",
       "      <td>0.518034</td>\n",
       "      <td>0.407740</td>\n",
       "      <td>-0.296134</td>\n",
       "      <td>-0.221983</td>\n",
       "      <td>-0.327500</td>\n",
       "      <td>-0.084907</td>\n",
       "      <td>-1.287038</td>\n",
       "      <td>-0.465314</td>\n",
       "      <td>-0.465811</td>\n",
       "      <td>0.889624</td>\n",
       "      <td>-0.019626</td>\n",
       "      <td>0.694603</td>\n",
       "      <td>1.129731</td>\n",
       "      <td>-1.110768</td>\n",
       "      <td>2.205935</td>\n",
       "    </tr>\n",
       "    <tr>\n",
       "      <th>13</th>\n",
       "      <td>-2.414152</td>\n",
       "      <td>1.851331</td>\n",
       "      <td>-0.747211</td>\n",
       "      <td>1.335820</td>\n",
       "      <td>-0.423145</td>\n",
       "      <td>0.162971</td>\n",
       "      <td>0.407885</td>\n",
       "      <td>0.297534</td>\n",
       "      <td>2.164833</td>\n",
       "      <td>-1.101831</td>\n",
       "      <td>-0.825275</td>\n",
       "      <td>-0.193541</td>\n",
       "      <td>-1.267430</td>\n",
       "      <td>1.753690</td>\n",
       "      <td>0.061465</td>\n",
       "      <td>1.065123</td>\n",
       "    </tr>\n",
       "    <tr>\n",
       "      <th>14</th>\n",
       "      <td>0.510502</td>\n",
       "      <td>-0.641811</td>\n",
       "      <td>0.104510</td>\n",
       "      <td>-0.241094</td>\n",
       "      <td>0.533519</td>\n",
       "      <td>-1.692046</td>\n",
       "      <td>-0.302301</td>\n",
       "      <td>-0.251892</td>\n",
       "      <td>-1.322669</td>\n",
       "      <td>1.351247</td>\n",
       "      <td>-1.079350</td>\n",
       "      <td>0.971493</td>\n",
       "      <td>-0.436332</td>\n",
       "      <td>-0.065216</td>\n",
       "      <td>0.619656</td>\n",
       "      <td>0.731565</td>\n",
       "    </tr>\n",
       "    <tr>\n",
       "      <th>15</th>\n",
       "      <td>-0.841639</td>\n",
       "      <td>0.526997</td>\n",
       "      <td>-0.667785</td>\n",
       "      <td>0.967522</td>\n",
       "      <td>0.287783</td>\n",
       "      <td>0.857038</td>\n",
       "      <td>1.540162</td>\n",
       "      <td>-1.501578</td>\n",
       "      <td>0.013867</td>\n",
       "      <td>0.205901</td>\n",
       "      <td>-0.975330</td>\n",
       "      <td>-1.381116</td>\n",
       "      <td>-0.384965</td>\n",
       "      <td>-1.005749</td>\n",
       "      <td>1.878157</td>\n",
       "      <td>1.283116</td>\n",
       "    </tr>\n",
       "    <tr>\n",
       "      <th>16</th>\n",
       "      <td>1.263006</td>\n",
       "      <td>1.033115</td>\n",
       "      <td>1.038930</td>\n",
       "      <td>-0.779969</td>\n",
       "      <td>2.144132</td>\n",
       "      <td>0.027201</td>\n",
       "      <td>-0.918229</td>\n",
       "      <td>-0.828316</td>\n",
       "      <td>0.957567</td>\n",
       "      <td>-1.749562</td>\n",
       "      <td>0.211647</td>\n",
       "      <td>0.276642</td>\n",
       "      <td>-0.603735</td>\n",
       "      <td>-0.010250</td>\n",
       "      <td>-0.540572</td>\n",
       "      <td>-0.313494</td>\n",
       "    </tr>\n",
       "    <tr>\n",
       "      <th>17</th>\n",
       "      <td>-1.405295</td>\n",
       "      <td>-0.416828</td>\n",
       "      <td>-0.588897</td>\n",
       "      <td>-1.672820</td>\n",
       "      <td>-0.270119</td>\n",
       "      <td>-1.166208</td>\n",
       "      <td>-0.933254</td>\n",
       "      <td>-0.001334</td>\n",
       "      <td>1.579625</td>\n",
       "      <td>-1.467500</td>\n",
       "      <td>0.266433</td>\n",
       "      <td>-1.087545</td>\n",
       "      <td>0.322075</td>\n",
       "      <td>-0.255652</td>\n",
       "      <td>-1.323999</td>\n",
       "      <td>0.106791</td>\n",
       "    </tr>\n",
       "    <tr>\n",
       "      <th>18</th>\n",
       "      <td>0.716011</td>\n",
       "      <td>0.707033</td>\n",
       "      <td>-0.084648</td>\n",
       "      <td>0.748089</td>\n",
       "      <td>-0.694718</td>\n",
       "      <td>0.956475</td>\n",
       "      <td>-0.309181</td>\n",
       "      <td>-0.350097</td>\n",
       "      <td>-0.744112</td>\n",
       "      <td>0.764986</td>\n",
       "      <td>-1.464944</td>\n",
       "      <td>1.127718</td>\n",
       "      <td>0.895056</td>\n",
       "      <td>0.910754</td>\n",
       "      <td>-0.048928</td>\n",
       "      <td>1.600562</td>\n",
       "    </tr>\n",
       "    <tr>\n",
       "      <th>19</th>\n",
       "      <td>0.952844</td>\n",
       "      <td>1.348446</td>\n",
       "      <td>0.247420</td>\n",
       "      <td>-0.678916</td>\n",
       "      <td>0.767372</td>\n",
       "      <td>0.104839</td>\n",
       "      <td>0.373133</td>\n",
       "      <td>0.940860</td>\n",
       "      <td>-0.015443</td>\n",
       "      <td>0.996055</td>\n",
       "      <td>-0.529447</td>\n",
       "      <td>-0.262877</td>\n",
       "      <td>0.385933</td>\n",
       "      <td>-0.244412</td>\n",
       "      <td>-0.354883</td>\n",
       "      <td>-2.029174</td>\n",
       "    </tr>\n",
       "    <tr>\n",
       "      <th>20</th>\n",
       "      <td>0.434435</td>\n",
       "      <td>-0.509806</td>\n",
       "      <td>-0.167043</td>\n",
       "      <td>0.572408</td>\n",
       "      <td>0.452314</td>\n",
       "      <td>-0.262957</td>\n",
       "      <td>0.853497</td>\n",
       "      <td>-0.254853</td>\n",
       "      <td>-0.274855</td>\n",
       "      <td>-1.173967</td>\n",
       "      <td>-0.822078</td>\n",
       "      <td>1.010541</td>\n",
       "      <td>0.628026</td>\n",
       "      <td>0.055587</td>\n",
       "      <td>-1.221937</td>\n",
       "      <td>1.914712</td>\n",
       "    </tr>\n",
       "    <tr>\n",
       "      <th>21</th>\n",
       "      <td>-1.937075</td>\n",
       "      <td>1.109089</td>\n",
       "      <td>1.815094</td>\n",
       "      <td>-2.822677</td>\n",
       "      <td>0.103261</td>\n",
       "      <td>-1.579811</td>\n",
       "      <td>-0.368306</td>\n",
       "      <td>0.175278</td>\n",
       "      <td>0.728994</td>\n",
       "      <td>0.904233</td>\n",
       "      <td>0.823734</td>\n",
       "      <td>-1.853335</td>\n",
       "      <td>-0.324518</td>\n",
       "      <td>1.342240</td>\n",
       "      <td>-0.674576</td>\n",
       "      <td>-0.444466</td>\n",
       "    </tr>\n",
       "    <tr>\n",
       "      <th>22</th>\n",
       "      <td>-2.569151</td>\n",
       "      <td>-0.162674</td>\n",
       "      <td>-0.543950</td>\n",
       "      <td>-0.395276</td>\n",
       "      <td>0.229511</td>\n",
       "      <td>-0.047279</td>\n",
       "      <td>-1.288853</td>\n",
       "      <td>1.828859</td>\n",
       "      <td>0.595839</td>\n",
       "      <td>-0.015301</td>\n",
       "      <td>-0.136371</td>\n",
       "      <td>-0.803826</td>\n",
       "      <td>-1.953871</td>\n",
       "      <td>-2.217517</td>\n",
       "      <td>-1.624211</td>\n",
       "      <td>2.014679</td>\n",
       "    </tr>\n",
       "    <tr>\n",
       "      <th>23</th>\n",
       "      <td>-0.561301</td>\n",
       "      <td>2.460244</td>\n",
       "      <td>0.251536</td>\n",
       "      <td>-0.606041</td>\n",
       "      <td>1.963699</td>\n",
       "      <td>0.330374</td>\n",
       "      <td>-0.294552</td>\n",
       "      <td>-1.980110</td>\n",
       "      <td>0.272530</td>\n",
       "      <td>0.499815</td>\n",
       "      <td>-0.087208</td>\n",
       "      <td>0.635381</td>\n",
       "      <td>0.395309</td>\n",
       "      <td>0.416210</td>\n",
       "      <td>0.051699</td>\n",
       "      <td>-0.729448</td>\n",
       "    </tr>\n",
       "    <tr>\n",
       "      <th>24</th>\n",
       "      <td>-0.093754</td>\n",
       "      <td>-1.892880</td>\n",
       "      <td>0.856921</td>\n",
       "      <td>-0.057208</td>\n",
       "      <td>-1.016921</td>\n",
       "      <td>0.655676</td>\n",
       "      <td>-1.005949</td>\n",
       "      <td>0.373378</td>\n",
       "      <td>-0.094622</td>\n",
       "      <td>0.786528</td>\n",
       "      <td>-0.471449</td>\n",
       "      <td>0.623715</td>\n",
       "      <td>0.359660</td>\n",
       "      <td>0.162959</td>\n",
       "      <td>-2.268376</td>\n",
       "      <td>0.806893</td>\n",
       "    </tr>\n",
       "    <tr>\n",
       "      <th>25</th>\n",
       "      <td>0.022657</td>\n",
       "      <td>0.937842</td>\n",
       "      <td>-0.322428</td>\n",
       "      <td>-1.762403</td>\n",
       "      <td>2.546064</td>\n",
       "      <td>-0.568006</td>\n",
       "      <td>-1.312876</td>\n",
       "      <td>-2.046010</td>\n",
       "      <td>-0.188846</td>\n",
       "      <td>-0.196319</td>\n",
       "      <td>0.998264</td>\n",
       "      <td>-0.033121</td>\n",
       "      <td>1.987316</td>\n",
       "      <td>1.428911</td>\n",
       "      <td>-0.602785</td>\n",
       "      <td>0.557882</td>\n",
       "    </tr>\n",
       "    <tr>\n",
       "      <th>26</th>\n",
       "      <td>-1.101068</td>\n",
       "      <td>-1.884978</td>\n",
       "      <td>1.052141</td>\n",
       "      <td>-0.016901</td>\n",
       "      <td>1.704052</td>\n",
       "      <td>0.860773</td>\n",
       "      <td>0.637989</td>\n",
       "      <td>0.415233</td>\n",
       "      <td>1.650320</td>\n",
       "      <td>-0.724784</td>\n",
       "      <td>-0.774974</td>\n",
       "      <td>1.003310</td>\n",
       "      <td>0.313853</td>\n",
       "      <td>0.434982</td>\n",
       "      <td>1.484825</td>\n",
       "      <td>-1.277298</td>\n",
       "    </tr>\n",
       "    <tr>\n",
       "      <th>27</th>\n",
       "      <td>-0.802995</td>\n",
       "      <td>0.380111</td>\n",
       "      <td>0.492535</td>\n",
       "      <td>-1.066951</td>\n",
       "      <td>3.264848</td>\n",
       "      <td>0.813061</td>\n",
       "      <td>1.923170</td>\n",
       "      <td>-0.247073</td>\n",
       "      <td>0.216461</td>\n",
       "      <td>1.355242</td>\n",
       "      <td>0.032760</td>\n",
       "      <td>2.498714</td>\n",
       "      <td>0.686401</td>\n",
       "      <td>0.696843</td>\n",
       "      <td>-0.726368</td>\n",
       "      <td>0.349132</td>\n",
       "    </tr>\n",
       "    <tr>\n",
       "      <th>28</th>\n",
       "      <td>-0.141636</td>\n",
       "      <td>0.113151</td>\n",
       "      <td>-0.134928</td>\n",
       "      <td>0.645920</td>\n",
       "      <td>-0.627112</td>\n",
       "      <td>-1.539609</td>\n",
       "      <td>-1.461187</td>\n",
       "      <td>-1.557242</td>\n",
       "      <td>-0.481602</td>\n",
       "      <td>1.855964</td>\n",
       "      <td>-0.025409</td>\n",
       "      <td>1.153828</td>\n",
       "      <td>2.362075</td>\n",
       "      <td>-0.466375</td>\n",
       "      <td>-0.917332</td>\n",
       "      <td>-1.242000</td>\n",
       "    </tr>\n",
       "    <tr>\n",
       "      <th>29</th>\n",
       "      <td>0.035667</td>\n",
       "      <td>-0.583766</td>\n",
       "      <td>-0.080555</td>\n",
       "      <td>-1.003281</td>\n",
       "      <td>-0.823343</td>\n",
       "      <td>0.137588</td>\n",
       "      <td>-0.944621</td>\n",
       "      <td>1.145267</td>\n",
       "      <td>-0.960136</td>\n",
       "      <td>-0.163420</td>\n",
       "      <td>-1.076218</td>\n",
       "      <td>-0.620431</td>\n",
       "      <td>-0.355861</td>\n",
       "      <td>1.566727</td>\n",
       "      <td>-0.206658</td>\n",
       "      <td>0.189815</td>\n",
       "    </tr>\n",
       "  </tbody>\n",
       "</table>\n",
       "</div>"
      ],
      "text/plain": [
       "           a         b         c         d         e         f         g  \\\n",
       "0   0.985628 -1.356792  1.606617 -1.278928  0.531972 -0.142031 -1.558968   \n",
       "1  -2.435987 -0.929844 -0.585821 -0.758632 -1.930520  0.809376 -0.096036   \n",
       "2  -0.884146 -1.191806  0.467004  0.824092  0.298934 -0.183799  0.121503   \n",
       "3   0.846817 -0.710393  0.367767 -0.433729  0.356837  0.350760  0.018446   \n",
       "4  -0.597090 -0.221559 -0.722923 -1.223588  0.243736  0.871502  1.473419   \n",
       "5   0.781476  0.004346 -0.344216  2.843600  1.093874  1.184372  0.682501   \n",
       "6  -1.527540  0.812750  0.911851 -0.449648 -0.511965 -1.875878 -1.751965   \n",
       "7  -0.546786  1.026811  1.055897 -0.478000 -1.603984  1.051406 -1.052330   \n",
       "8  -0.577474 -1.705897  0.542727  1.120865 -2.131759 -1.144199 -0.008999   \n",
       "9   0.315176 -0.816481  0.535027  0.204488  0.590551 -1.398839 -1.020017   \n",
       "10 -1.108246  0.380223  0.657944  0.456809  0.655227 -1.146593  1.092703   \n",
       "11  1.787137  0.040849  1.103191  1.566023  1.850198 -2.229486 -2.140102   \n",
       "12  0.906261  0.518034  0.407740 -0.296134 -0.221983 -0.327500 -0.084907   \n",
       "13 -2.414152  1.851331 -0.747211  1.335820 -0.423145  0.162971  0.407885   \n",
       "14  0.510502 -0.641811  0.104510 -0.241094  0.533519 -1.692046 -0.302301   \n",
       "15 -0.841639  0.526997 -0.667785  0.967522  0.287783  0.857038  1.540162   \n",
       "16  1.263006  1.033115  1.038930 -0.779969  2.144132  0.027201 -0.918229   \n",
       "17 -1.405295 -0.416828 -0.588897 -1.672820 -0.270119 -1.166208 -0.933254   \n",
       "18  0.716011  0.707033 -0.084648  0.748089 -0.694718  0.956475 -0.309181   \n",
       "19  0.952844  1.348446  0.247420 -0.678916  0.767372  0.104839  0.373133   \n",
       "20  0.434435 -0.509806 -0.167043  0.572408  0.452314 -0.262957  0.853497   \n",
       "21 -1.937075  1.109089  1.815094 -2.822677  0.103261 -1.579811 -0.368306   \n",
       "22 -2.569151 -0.162674 -0.543950 -0.395276  0.229511 -0.047279 -1.288853   \n",
       "23 -0.561301  2.460244  0.251536 -0.606041  1.963699  0.330374 -0.294552   \n",
       "24 -0.093754 -1.892880  0.856921 -0.057208 -1.016921  0.655676 -1.005949   \n",
       "25  0.022657  0.937842 -0.322428 -1.762403  2.546064 -0.568006 -1.312876   \n",
       "26 -1.101068 -1.884978  1.052141 -0.016901  1.704052  0.860773  0.637989   \n",
       "27 -0.802995  0.380111  0.492535 -1.066951  3.264848  0.813061  1.923170   \n",
       "28 -0.141636  0.113151 -0.134928  0.645920 -0.627112 -1.539609 -1.461187   \n",
       "29  0.035667 -0.583766 -0.080555 -1.003281 -0.823343  0.137588 -0.944621   \n",
       "\n",
       "           7         8         9        24        25        26        27  \\\n",
       "0   0.688060 -0.274585  0.559902  0.511943 -0.608272 -1.548050 -0.279242   \n",
       "1   0.885812  1.096753 -0.900482  0.807619  0.978224  0.696940 -1.067091   \n",
       "2   0.008744  0.604080 -0.893645  1.572881 -0.975754 -0.750125 -2.228717   \n",
       "3   0.842481 -1.711928 -0.338057 -0.929127 -0.870588  0.036062 -2.253343   \n",
       "4   0.744425  0.090829  0.196977  0.662815  0.208025 -0.128037 -0.572142   \n",
       "5   0.693464  0.731010 -1.740501  0.856324  0.686024  0.037982 -1.273285   \n",
       "6  -0.970669  0.898866 -0.205244 -0.366263  0.533826  0.439121 -2.317449   \n",
       "7  -2.725605  0.433056  0.019092  0.419860 -0.757802 -0.219910 -1.333749   \n",
       "8   0.390592  0.286696  1.161504 -0.425934  1.092264 -0.179918  0.627723   \n",
       "9  -0.664757 -1.049969 -2.258168  0.630919  0.152265 -0.475287  1.151751   \n",
       "10 -1.294645  0.984077  0.135566  1.252181  0.579982  0.962042  0.598769   \n",
       "11  0.355627 -2.594398  1.422186  0.205311  0.272468  1.226278 -0.129497   \n",
       "12 -1.287038 -0.465314 -0.465811  0.889624 -0.019626  0.694603  1.129731   \n",
       "13  0.297534  2.164833 -1.101831 -0.825275 -0.193541 -1.267430  1.753690   \n",
       "14 -0.251892 -1.322669  1.351247 -1.079350  0.971493 -0.436332 -0.065216   \n",
       "15 -1.501578  0.013867  0.205901 -0.975330 -1.381116 -0.384965 -1.005749   \n",
       "16 -0.828316  0.957567 -1.749562  0.211647  0.276642 -0.603735 -0.010250   \n",
       "17 -0.001334  1.579625 -1.467500  0.266433 -1.087545  0.322075 -0.255652   \n",
       "18 -0.350097 -0.744112  0.764986 -1.464944  1.127718  0.895056  0.910754   \n",
       "19  0.940860 -0.015443  0.996055 -0.529447 -0.262877  0.385933 -0.244412   \n",
       "20 -0.254853 -0.274855 -1.173967 -0.822078  1.010541  0.628026  0.055587   \n",
       "21  0.175278  0.728994  0.904233  0.823734 -1.853335 -0.324518  1.342240   \n",
       "22  1.828859  0.595839 -0.015301 -0.136371 -0.803826 -1.953871 -2.217517   \n",
       "23 -1.980110  0.272530  0.499815 -0.087208  0.635381  0.395309  0.416210   \n",
       "24  0.373378 -0.094622  0.786528 -0.471449  0.623715  0.359660  0.162959   \n",
       "25 -2.046010 -0.188846 -0.196319  0.998264 -0.033121  1.987316  1.428911   \n",
       "26  0.415233  1.650320 -0.724784 -0.774974  1.003310  0.313853  0.434982   \n",
       "27 -0.247073  0.216461  1.355242  0.032760  2.498714  0.686401  0.696843   \n",
       "28 -1.557242 -0.481602  1.855964 -0.025409  1.153828  2.362075 -0.466375   \n",
       "29  1.145267 -0.960136 -0.163420 -1.076218 -0.620431 -0.355861  1.566727   \n",
       "\n",
       "          28        29  \n",
       "0   0.501228  1.923919  \n",
       "1   0.074270 -0.206843  \n",
       "2  -1.018811 -0.247431  \n",
       "3  -0.896510 -0.874920  \n",
       "4  -0.479682 -0.809179  \n",
       "5  -0.411381 -0.416006  \n",
       "6  -2.476964 -0.361604  \n",
       "7  -1.188944 -1.358138  \n",
       "8   0.998316  0.971606  \n",
       "9   0.481466  2.194927  \n",
       "10  0.817063 -0.096695  \n",
       "11  1.064657  0.851425  \n",
       "12 -1.110768  2.205935  \n",
       "13  0.061465  1.065123  \n",
       "14  0.619656  0.731565  \n",
       "15  1.878157  1.283116  \n",
       "16 -0.540572 -0.313494  \n",
       "17 -1.323999  0.106791  \n",
       "18 -0.048928  1.600562  \n",
       "19 -0.354883 -2.029174  \n",
       "20 -1.221937  1.914712  \n",
       "21 -0.674576 -0.444466  \n",
       "22 -1.624211  2.014679  \n",
       "23  0.051699 -0.729448  \n",
       "24 -2.268376  0.806893  \n",
       "25 -0.602785  0.557882  \n",
       "26  1.484825 -1.277298  \n",
       "27 -0.726368  0.349132  \n",
       "28 -0.917332 -1.242000  \n",
       "29 -0.206658  0.189815  "
      ]
     },
     "execution_count": 61,
     "metadata": {},
     "output_type": "execute_result"
    }
   ],
   "source": [
    "named = list(\"abcdefg\")\n",
    "n = 30\n",
    "columns = named + np.arange(len(named), n).tolist()\n",
    "df = pd.DataFrame(np.random.randn(n, n), columns=columns)\n",
    "df.iloc[:, np.r_[:10, 24:30]]"
   ]
  },
  {
   "cell_type": "code",
   "execution_count": 62,
   "id": "5281deef",
   "metadata": {
    "execution": {
     "iopub.execute_input": "2025-02-28T13:08:33.175129Z",
     "iopub.status.busy": "2025-02-28T13:08:33.174713Z",
     "iopub.status.idle": "2025-02-28T13:08:33.190246Z",
     "shell.execute_reply": "2025-02-28T13:08:33.188957Z"
    },
    "papermill": {
     "duration": 0.054399,
     "end_time": "2025-02-28T13:08:33.192070",
     "exception": false,
     "start_time": "2025-02-28T13:08:33.137671",
     "status": "completed"
    },
    "tags": []
   },
   "outputs": [
    {
     "data": {
      "text/html": [
       "<div>\n",
       "<style scoped>\n",
       "    .dataframe tbody tr th:only-of-type {\n",
       "        vertical-align: middle;\n",
       "    }\n",
       "\n",
       "    .dataframe tbody tr th {\n",
       "        vertical-align: top;\n",
       "    }\n",
       "\n",
       "    .dataframe thead th {\n",
       "        text-align: right;\n",
       "    }\n",
       "</style>\n",
       "<table border=\"1\" class=\"dataframe\">\n",
       "  <thead>\n",
       "    <tr style=\"text-align: right;\">\n",
       "      <th></th>\n",
       "      <th>v1</th>\n",
       "      <th>v2</th>\n",
       "      <th>by1</th>\n",
       "      <th>by2</th>\n",
       "    </tr>\n",
       "  </thead>\n",
       "  <tbody>\n",
       "    <tr>\n",
       "      <th>0</th>\n",
       "      <td>1.0</td>\n",
       "      <td>11.0</td>\n",
       "      <td>red</td>\n",
       "      <td>wet</td>\n",
       "    </tr>\n",
       "    <tr>\n",
       "      <th>1</th>\n",
       "      <td>3.0</td>\n",
       "      <td>33.0</td>\n",
       "      <td>blue</td>\n",
       "      <td>dry</td>\n",
       "    </tr>\n",
       "    <tr>\n",
       "      <th>2</th>\n",
       "      <td>5.0</td>\n",
       "      <td>55.0</td>\n",
       "      <td>1</td>\n",
       "      <td>99</td>\n",
       "    </tr>\n",
       "    <tr>\n",
       "      <th>3</th>\n",
       "      <td>7.0</td>\n",
       "      <td>77.0</td>\n",
       "      <td>2</td>\n",
       "      <td>95</td>\n",
       "    </tr>\n",
       "    <tr>\n",
       "      <th>4</th>\n",
       "      <td>8.0</td>\n",
       "      <td>88.0</td>\n",
       "      <td>NaN</td>\n",
       "      <td>NaN</td>\n",
       "    </tr>\n",
       "    <tr>\n",
       "      <th>5</th>\n",
       "      <td>3.0</td>\n",
       "      <td>33.0</td>\n",
       "      <td>big</td>\n",
       "      <td>damp</td>\n",
       "    </tr>\n",
       "    <tr>\n",
       "      <th>6</th>\n",
       "      <td>5.0</td>\n",
       "      <td>55.0</td>\n",
       "      <td>1</td>\n",
       "      <td>95</td>\n",
       "    </tr>\n",
       "    <tr>\n",
       "      <th>7</th>\n",
       "      <td>NaN</td>\n",
       "      <td>NaN</td>\n",
       "      <td>2</td>\n",
       "      <td>99</td>\n",
       "    </tr>\n",
       "    <tr>\n",
       "      <th>8</th>\n",
       "      <td>4.0</td>\n",
       "      <td>44.0</td>\n",
       "      <td>red</td>\n",
       "      <td>red</td>\n",
       "    </tr>\n",
       "    <tr>\n",
       "      <th>9</th>\n",
       "      <td>5.0</td>\n",
       "      <td>55.0</td>\n",
       "      <td>1</td>\n",
       "      <td>99</td>\n",
       "    </tr>\n",
       "    <tr>\n",
       "      <th>10</th>\n",
       "      <td>7.0</td>\n",
       "      <td>77.0</td>\n",
       "      <td>NaN</td>\n",
       "      <td>NaN</td>\n",
       "    </tr>\n",
       "    <tr>\n",
       "      <th>11</th>\n",
       "      <td>9.0</td>\n",
       "      <td>99.0</td>\n",
       "      <td>12</td>\n",
       "      <td>NaN</td>\n",
       "    </tr>\n",
       "  </tbody>\n",
       "</table>\n",
       "</div>"
      ],
      "text/plain": [
       "     v1    v2   by1   by2\n",
       "0   1.0  11.0   red   wet\n",
       "1   3.0  33.0  blue   dry\n",
       "2   5.0  55.0     1    99\n",
       "3   7.0  77.0     2    95\n",
       "4   8.0  88.0   NaN   NaN\n",
       "5   3.0  33.0   big  damp\n",
       "6   5.0  55.0     1    95\n",
       "7   NaN   NaN     2    99\n",
       "8   4.0  44.0   red   red\n",
       "9   5.0  55.0     1    99\n",
       "10  7.0  77.0   NaN   NaN\n",
       "11  9.0  99.0    12   NaN"
      ]
     },
     "execution_count": 62,
     "metadata": {},
     "output_type": "execute_result"
    }
   ],
   "source": [
    "df = pd.DataFrame({\n",
    "    \n",
    "\"v1\": [1, 3, 5, 7, 8, 3, 5, np.nan, 4, 5, 7, 9],\n",
    "\"v2\": [11, 33, 55, 77, 88, 33, 55, np.nan, 44, 55, 77, 99],\n",
    "\"by1\": [\"red\", \"blue\", 1, 2, np.nan, \"big\", 1, 2, \"red\", 1, np.nan, 12],\n",
    "\"by2\": [\"wet\",\"dry\",99,95,np.nan,\"damp\",95,99,\"red\",99,np.nan,np.nan,]\n",
    "    \n",
    "})\n",
    "\n",
    "df"
   ]
  },
  {
   "cell_type": "code",
   "execution_count": 63,
   "id": "f908ef93",
   "metadata": {
    "execution": {
     "iopub.execute_input": "2025-02-28T13:08:33.267396Z",
     "iopub.status.busy": "2025-02-28T13:08:33.266959Z",
     "iopub.status.idle": "2025-02-28T13:08:33.284226Z",
     "shell.execute_reply": "2025-02-28T13:08:33.283111Z"
    },
    "papermill": {
     "duration": 0.057257,
     "end_time": "2025-02-28T13:08:33.286076",
     "exception": false,
     "start_time": "2025-02-28T13:08:33.228819",
     "status": "completed"
    },
    "tags": []
   },
   "outputs": [
    {
     "data": {
      "text/html": [
       "<div>\n",
       "<style scoped>\n",
       "    .dataframe tbody tr th:only-of-type {\n",
       "        vertical-align: middle;\n",
       "    }\n",
       "\n",
       "    .dataframe tbody tr th {\n",
       "        vertical-align: top;\n",
       "    }\n",
       "\n",
       "    .dataframe thead th {\n",
       "        text-align: right;\n",
       "    }\n",
       "</style>\n",
       "<table border=\"1\" class=\"dataframe\">\n",
       "  <thead>\n",
       "    <tr style=\"text-align: right;\">\n",
       "      <th></th>\n",
       "      <th></th>\n",
       "      <th>v1</th>\n",
       "      <th>v2</th>\n",
       "    </tr>\n",
       "    <tr>\n",
       "      <th>by1</th>\n",
       "      <th>by2</th>\n",
       "      <th></th>\n",
       "      <th></th>\n",
       "    </tr>\n",
       "  </thead>\n",
       "  <tbody>\n",
       "    <tr>\n",
       "      <th rowspan=\"2\" valign=\"top\">1</th>\n",
       "      <th>95</th>\n",
       "      <td>5.0</td>\n",
       "      <td>55.0</td>\n",
       "    </tr>\n",
       "    <tr>\n",
       "      <th>99</th>\n",
       "      <td>5.0</td>\n",
       "      <td>55.0</td>\n",
       "    </tr>\n",
       "    <tr>\n",
       "      <th rowspan=\"2\" valign=\"top\">2</th>\n",
       "      <th>95</th>\n",
       "      <td>7.0</td>\n",
       "      <td>77.0</td>\n",
       "    </tr>\n",
       "    <tr>\n",
       "      <th>99</th>\n",
       "      <td>NaN</td>\n",
       "      <td>NaN</td>\n",
       "    </tr>\n",
       "    <tr>\n",
       "      <th>big</th>\n",
       "      <th>damp</th>\n",
       "      <td>3.0</td>\n",
       "      <td>33.0</td>\n",
       "    </tr>\n",
       "    <tr>\n",
       "      <th>blue</th>\n",
       "      <th>dry</th>\n",
       "      <td>3.0</td>\n",
       "      <td>33.0</td>\n",
       "    </tr>\n",
       "    <tr>\n",
       "      <th rowspan=\"2\" valign=\"top\">red</th>\n",
       "      <th>red</th>\n",
       "      <td>4.0</td>\n",
       "      <td>44.0</td>\n",
       "    </tr>\n",
       "    <tr>\n",
       "      <th>wet</th>\n",
       "      <td>1.0</td>\n",
       "      <td>11.0</td>\n",
       "    </tr>\n",
       "  </tbody>\n",
       "</table>\n",
       "</div>"
      ],
      "text/plain": [
       "            v1    v2\n",
       "by1  by2            \n",
       "1    95    5.0  55.0\n",
       "     99    5.0  55.0\n",
       "2    95    7.0  77.0\n",
       "     99    NaN   NaN\n",
       "big  damp  3.0  33.0\n",
       "blue dry   3.0  33.0\n",
       "red  red   4.0  44.0\n",
       "     wet   1.0  11.0"
      ]
     },
     "execution_count": 63,
     "metadata": {},
     "output_type": "execute_result"
    }
   ],
   "source": [
    "g = df.groupby([\"by1\", \"by2\"])\n",
    "g[[\"v1\", \"v2\"]].mean()"
   ]
  },
  {
   "cell_type": "code",
   "execution_count": 64,
   "id": "978333ec",
   "metadata": {
    "execution": {
     "iopub.execute_input": "2025-02-28T13:08:33.419516Z",
     "iopub.status.busy": "2025-02-28T13:08:33.419141Z",
     "iopub.status.idle": "2025-02-28T13:08:33.426898Z",
     "shell.execute_reply": "2025-02-28T13:08:33.425821Z"
    },
    "papermill": {
     "duration": 0.04859,
     "end_time": "2025-02-28T13:08:33.428694",
     "exception": false,
     "start_time": "2025-02-28T13:08:33.380104",
     "status": "completed"
    },
    "tags": []
   },
   "outputs": [
    {
     "data": {
      "text/plain": [
       "0    0.0\n",
       "1    1.0\n",
       "2    2.0\n",
       "3    3.0\n",
       "4    4.0\n",
       "dtype: float32"
      ]
     },
     "execution_count": 64,
     "metadata": {},
     "output_type": "execute_result"
    }
   ],
   "source": [
    "import numpy as np\n",
    "s = pd.Series(np.arange(5), dtype=np.float32)\n",
    "s"
   ]
  },
  {
   "cell_type": "code",
   "execution_count": 65,
   "id": "5082206e",
   "metadata": {
    "execution": {
     "iopub.execute_input": "2025-02-28T13:08:33.503528Z",
     "iopub.status.busy": "2025-02-28T13:08:33.503141Z",
     "iopub.status.idle": "2025-02-28T13:08:33.510513Z",
     "shell.execute_reply": "2025-02-28T13:08:33.509505Z"
    },
    "papermill": {
     "duration": 0.04667,
     "end_time": "2025-02-28T13:08:33.512262",
     "exception": false,
     "start_time": "2025-02-28T13:08:33.465592",
     "status": "completed"
    },
    "tags": []
   },
   "outputs": [
    {
     "data": {
      "text/plain": [
       "0    False\n",
       "1    False\n",
       "2     True\n",
       "3    False\n",
       "4     True\n",
       "dtype: bool"
      ]
     },
     "execution_count": 65,
     "metadata": {},
     "output_type": "execute_result"
    }
   ],
   "source": [
    "s.isin([2, 4])"
   ]
  },
  {
   "cell_type": "markdown",
   "id": "dcd2ffb7",
   "metadata": {
    "papermill": {
     "duration": 0.03667,
     "end_time": "2025-02-28T13:08:33.587100",
     "exception": false,
     "start_time": "2025-02-28T13:08:33.550430",
     "status": "completed"
    },
    "tags": []
   },
   "source": [
    "<font color=\"Red\" size=+2 face=\"Comic Sans MS\">Data generation code</font>"
   ]
  },
  {
   "cell_type": "code",
   "execution_count": 66,
   "id": "ca3abb20",
   "metadata": {
    "execution": {
     "iopub.execute_input": "2025-02-28T13:08:33.662548Z",
     "iopub.status.busy": "2025-02-28T13:08:33.662166Z",
     "iopub.status.idle": "2025-02-28T13:08:33.675449Z",
     "shell.execute_reply": "2025-02-28T13:08:33.673910Z"
    },
    "papermill": {
     "duration": 0.052997,
     "end_time": "2025-02-28T13:08:33.677430",
     "exception": false,
     "start_time": "2025-02-28T13:08:33.624433",
     "status": "completed"
    },
    "tags": []
   },
   "outputs": [
    {
     "data": {
      "text/html": [
       "<div>\n",
       "<style scoped>\n",
       "    .dataframe tbody tr th:only-of-type {\n",
       "        vertical-align: middle;\n",
       "    }\n",
       "\n",
       "    .dataframe tbody tr th {\n",
       "        vertical-align: top;\n",
       "    }\n",
       "\n",
       "    .dataframe thead th {\n",
       "        text-align: right;\n",
       "    }\n",
       "</style>\n",
       "<table border=\"1\" class=\"dataframe\">\n",
       "  <thead>\n",
       "    <tr style=\"text-align: right;\">\n",
       "      <th></th>\n",
       "      <th>team</th>\n",
       "      <th>player</th>\n",
       "      <th>batting avg</th>\n",
       "    </tr>\n",
       "  </thead>\n",
       "  <tbody>\n",
       "    <tr>\n",
       "      <th>0</th>\n",
       "      <td>team 1</td>\n",
       "      <td>e</td>\n",
       "      <td>0.364880</td>\n",
       "    </tr>\n",
       "    <tr>\n",
       "      <th>1</th>\n",
       "      <td>team 2</td>\n",
       "      <td>a</td>\n",
       "      <td>0.205766</td>\n",
       "    </tr>\n",
       "    <tr>\n",
       "      <th>2</th>\n",
       "      <td>team 3</td>\n",
       "      <td>g</td>\n",
       "      <td>0.245404</td>\n",
       "    </tr>\n",
       "    <tr>\n",
       "      <th>3</th>\n",
       "      <td>team 4</td>\n",
       "      <td>z</td>\n",
       "      <td>0.232223</td>\n",
       "    </tr>\n",
       "    <tr>\n",
       "      <th>4</th>\n",
       "      <td>team 5</td>\n",
       "      <td>n</td>\n",
       "      <td>0.340338</td>\n",
       "    </tr>\n",
       "    <tr>\n",
       "      <th>5</th>\n",
       "      <td>team 1</td>\n",
       "      <td>m</td>\n",
       "      <td>0.279654</td>\n",
       "    </tr>\n",
       "    <tr>\n",
       "      <th>6</th>\n",
       "      <td>team 2</td>\n",
       "      <td>j</td>\n",
       "      <td>0.367260</td>\n",
       "    </tr>\n",
       "    <tr>\n",
       "      <th>7</th>\n",
       "      <td>team 3</td>\n",
       "      <td>o</td>\n",
       "      <td>0.360925</td>\n",
       "    </tr>\n",
       "    <tr>\n",
       "      <th>8</th>\n",
       "      <td>team 4</td>\n",
       "      <td>i</td>\n",
       "      <td>0.246742</td>\n",
       "    </tr>\n",
       "    <tr>\n",
       "      <th>9</th>\n",
       "      <td>team 5</td>\n",
       "      <td>s</td>\n",
       "      <td>0.335568</td>\n",
       "    </tr>\n",
       "    <tr>\n",
       "      <th>10</th>\n",
       "      <td>team 1</td>\n",
       "      <td>b</td>\n",
       "      <td>0.252775</td>\n",
       "    </tr>\n",
       "    <tr>\n",
       "      <th>11</th>\n",
       "      <td>team 2</td>\n",
       "      <td>u</td>\n",
       "      <td>0.312469</td>\n",
       "    </tr>\n",
       "    <tr>\n",
       "      <th>12</th>\n",
       "      <td>team 3</td>\n",
       "      <td>y</td>\n",
       "      <td>0.205742</td>\n",
       "    </tr>\n",
       "    <tr>\n",
       "      <th>13</th>\n",
       "      <td>team 4</td>\n",
       "      <td>p</td>\n",
       "      <td>0.350037</td>\n",
       "    </tr>\n",
       "    <tr>\n",
       "      <th>14</th>\n",
       "      <td>team 5</td>\n",
       "      <td>q</td>\n",
       "      <td>0.389938</td>\n",
       "    </tr>\n",
       "    <tr>\n",
       "      <th>15</th>\n",
       "      <td>team 1</td>\n",
       "      <td>f</td>\n",
       "      <td>0.383162</td>\n",
       "    </tr>\n",
       "    <tr>\n",
       "      <th>16</th>\n",
       "      <td>team 2</td>\n",
       "      <td>w</td>\n",
       "      <td>0.380191</td>\n",
       "    </tr>\n",
       "    <tr>\n",
       "      <th>17</th>\n",
       "      <td>team 3</td>\n",
       "      <td>r</td>\n",
       "      <td>0.268821</td>\n",
       "    </tr>\n",
       "    <tr>\n",
       "      <th>18</th>\n",
       "      <td>team 4</td>\n",
       "      <td>v</td>\n",
       "      <td>0.331762</td>\n",
       "    </tr>\n",
       "    <tr>\n",
       "      <th>19</th>\n",
       "      <td>team 5</td>\n",
       "      <td>c</td>\n",
       "      <td>0.341200</td>\n",
       "    </tr>\n",
       "    <tr>\n",
       "      <th>20</th>\n",
       "      <td>team 1</td>\n",
       "      <td>k</td>\n",
       "      <td>0.357736</td>\n",
       "    </tr>\n",
       "    <tr>\n",
       "      <th>21</th>\n",
       "      <td>team 2</td>\n",
       "      <td>t</td>\n",
       "      <td>0.216320</td>\n",
       "    </tr>\n",
       "    <tr>\n",
       "      <th>22</th>\n",
       "      <td>team 3</td>\n",
       "      <td>l</td>\n",
       "      <td>0.300307</td>\n",
       "    </tr>\n",
       "    <tr>\n",
       "      <th>23</th>\n",
       "      <td>team 4</td>\n",
       "      <td>h</td>\n",
       "      <td>0.227027</td>\n",
       "    </tr>\n",
       "    <tr>\n",
       "      <th>24</th>\n",
       "      <td>team 5</td>\n",
       "      <td>d</td>\n",
       "      <td>0.367571</td>\n",
       "    </tr>\n",
       "  </tbody>\n",
       "</table>\n",
       "</div>"
      ],
      "text/plain": [
       "      team player  batting avg\n",
       "0   team 1      e     0.364880\n",
       "1   team 2      a     0.205766\n",
       "2   team 3      g     0.245404\n",
       "3   team 4      z     0.232223\n",
       "4   team 5      n     0.340338\n",
       "5   team 1      m     0.279654\n",
       "6   team 2      j     0.367260\n",
       "7   team 3      o     0.360925\n",
       "8   team 4      i     0.246742\n",
       "9   team 5      s     0.335568\n",
       "10  team 1      b     0.252775\n",
       "11  team 2      u     0.312469\n",
       "12  team 3      y     0.205742\n",
       "13  team 4      p     0.350037\n",
       "14  team 5      q     0.389938\n",
       "15  team 1      f     0.383162\n",
       "16  team 2      w     0.380191\n",
       "17  team 3      r     0.268821\n",
       "18  team 4      v     0.331762\n",
       "19  team 5      c     0.341200\n",
       "20  team 1      k     0.357736\n",
       "21  team 2      t     0.216320\n",
       "22  team 3      l     0.300307\n",
       "23  team 4      h     0.227027\n",
       "24  team 5      d     0.367571"
      ]
     },
     "execution_count": 66,
     "metadata": {},
     "output_type": "execute_result"
    }
   ],
   "source": [
    "# Data genetarion code\n",
    "\n",
    "import random\n",
    "import string\n",
    "\n",
    "baseball = pd.DataFrame({\n",
    "\"team\": [\"team %d\" % (x + 1) for x in range(5)] * 5,\n",
    "\"player\": random.sample(list(string.ascii_lowercase), 25),\n",
    "\"batting avg\": np.random.uniform(0.200, 0.400, 25),\n",
    "    }\n",
    ")\n",
    "\n",
    "baseball"
   ]
  },
  {
   "cell_type": "code",
   "execution_count": 67,
   "id": "9e1f93e5",
   "metadata": {
    "execution": {
     "iopub.execute_input": "2025-02-28T13:08:33.753973Z",
     "iopub.status.busy": "2025-02-28T13:08:33.753631Z",
     "iopub.status.idle": "2025-02-28T13:08:33.767700Z",
     "shell.execute_reply": "2025-02-28T13:08:33.766677Z"
    },
    "papermill": {
     "duration": 0.054128,
     "end_time": "2025-02-28T13:08:33.769354",
     "exception": false,
     "start_time": "2025-02-28T13:08:33.715226",
     "status": "completed"
    },
    "tags": []
   },
   "outputs": [
    {
     "data": {
      "text/html": [
       "<div>\n",
       "<style scoped>\n",
       "    .dataframe tbody tr th:only-of-type {\n",
       "        vertical-align: middle;\n",
       "    }\n",
       "\n",
       "    .dataframe tbody tr th {\n",
       "        vertical-align: top;\n",
       "    }\n",
       "\n",
       "    .dataframe thead th {\n",
       "        text-align: right;\n",
       "    }\n",
       "</style>\n",
       "<table border=\"1\" class=\"dataframe\">\n",
       "  <thead>\n",
       "    <tr style=\"text-align: right;\">\n",
       "      <th>team</th>\n",
       "      <th>team 1</th>\n",
       "      <th>team 2</th>\n",
       "      <th>team 3</th>\n",
       "      <th>team 4</th>\n",
       "      <th>team 5</th>\n",
       "    </tr>\n",
       "  </thead>\n",
       "  <tbody>\n",
       "    <tr>\n",
       "      <th>batting avg</th>\n",
       "      <td>0.383162</td>\n",
       "      <td>0.380191</td>\n",
       "      <td>0.360925</td>\n",
       "      <td>0.350037</td>\n",
       "      <td>0.389938</td>\n",
       "    </tr>\n",
       "  </tbody>\n",
       "</table>\n",
       "</div>"
      ],
      "text/plain": [
       "team           team 1    team 2    team 3    team 4    team 5\n",
       "batting avg  0.383162  0.380191  0.360925  0.350037  0.389938"
      ]
     },
     "execution_count": 67,
     "metadata": {},
     "output_type": "execute_result"
    }
   ],
   "source": [
    "baseball.pivot_table(values=\"batting avg\", columns=\"team\", aggfunc=np.max)"
   ]
  },
  {
   "cell_type": "code",
   "execution_count": 68,
   "id": "2d73e01b",
   "metadata": {
    "execution": {
     "iopub.execute_input": "2025-02-28T13:08:33.847156Z",
     "iopub.status.busy": "2025-02-28T13:08:33.846796Z",
     "iopub.status.idle": "2025-02-28T13:08:33.856983Z",
     "shell.execute_reply": "2025-02-28T13:08:33.855894Z"
    },
    "papermill": {
     "duration": 0.050215,
     "end_time": "2025-02-28T13:08:33.858826",
     "exception": false,
     "start_time": "2025-02-28T13:08:33.808611",
     "status": "completed"
    },
    "tags": []
   },
   "outputs": [
    {
     "data": {
      "text/html": [
       "<div>\n",
       "<style scoped>\n",
       "    .dataframe tbody tr th:only-of-type {\n",
       "        vertical-align: middle;\n",
       "    }\n",
       "\n",
       "    .dataframe tbody tr th {\n",
       "        vertical-align: top;\n",
       "    }\n",
       "\n",
       "    .dataframe thead th {\n",
       "        text-align: right;\n",
       "    }\n",
       "</style>\n",
       "<table border=\"1\" class=\"dataframe\">\n",
       "  <thead>\n",
       "    <tr style=\"text-align: right;\">\n",
       "      <th></th>\n",
       "      <th>a</th>\n",
       "      <th>b</th>\n",
       "    </tr>\n",
       "  </thead>\n",
       "  <tbody>\n",
       "    <tr>\n",
       "      <th>0</th>\n",
       "      <td>0.926263</td>\n",
       "      <td>-0.126981</td>\n",
       "    </tr>\n",
       "    <tr>\n",
       "      <th>1</th>\n",
       "      <td>-0.589401</td>\n",
       "      <td>-1.313281</td>\n",
       "    </tr>\n",
       "    <tr>\n",
       "      <th>2</th>\n",
       "      <td>0.571539</td>\n",
       "      <td>-0.467375</td>\n",
       "    </tr>\n",
       "    <tr>\n",
       "      <th>3</th>\n",
       "      <td>0.380249</td>\n",
       "      <td>-0.177851</td>\n",
       "    </tr>\n",
       "    <tr>\n",
       "      <th>4</th>\n",
       "      <td>1.477432</td>\n",
       "      <td>0.616958</td>\n",
       "    </tr>\n",
       "  </tbody>\n",
       "</table>\n",
       "</div>"
      ],
      "text/plain": [
       "          a         b\n",
       "0  0.926263 -0.126981\n",
       "1 -0.589401 -1.313281\n",
       "2  0.571539 -0.467375\n",
       "3  0.380249 -0.177851\n",
       "4  1.477432  0.616958"
      ]
     },
     "execution_count": 68,
     "metadata": {},
     "output_type": "execute_result"
    }
   ],
   "source": [
    "df = pd.DataFrame({\"a\": np.random.randn(10), \"b\": np.random.randn(10)})\n",
    "df.head()"
   ]
  },
  {
   "cell_type": "code",
   "execution_count": 69,
   "id": "5f253dc1",
   "metadata": {
    "execution": {
     "iopub.execute_input": "2025-02-28T13:08:33.939233Z",
     "iopub.status.busy": "2025-02-28T13:08:33.938857Z",
     "iopub.status.idle": "2025-02-28T13:08:33.952135Z",
     "shell.execute_reply": "2025-02-28T13:08:33.951006Z"
    },
    "papermill": {
     "duration": 0.056427,
     "end_time": "2025-02-28T13:08:33.954088",
     "exception": false,
     "start_time": "2025-02-28T13:08:33.897661",
     "status": "completed"
    },
    "tags": []
   },
   "outputs": [
    {
     "data": {
      "text/html": [
       "<div>\n",
       "<style scoped>\n",
       "    .dataframe tbody tr th:only-of-type {\n",
       "        vertical-align: middle;\n",
       "    }\n",
       "\n",
       "    .dataframe tbody tr th {\n",
       "        vertical-align: top;\n",
       "    }\n",
       "\n",
       "    .dataframe thead th {\n",
       "        text-align: right;\n",
       "    }\n",
       "</style>\n",
       "<table border=\"1\" class=\"dataframe\">\n",
       "  <thead>\n",
       "    <tr style=\"text-align: right;\">\n",
       "      <th></th>\n",
       "      <th>a</th>\n",
       "      <th>b</th>\n",
       "    </tr>\n",
       "  </thead>\n",
       "  <tbody>\n",
       "    <tr>\n",
       "      <th>6</th>\n",
       "      <td>-0.534177</td>\n",
       "      <td>0.338868</td>\n",
       "    </tr>\n",
       "    <tr>\n",
       "      <th>7</th>\n",
       "      <td>0.285821</td>\n",
       "      <td>0.306599</td>\n",
       "    </tr>\n",
       "    <tr>\n",
       "      <th>8</th>\n",
       "      <td>-0.137518</td>\n",
       "      <td>-0.040645</td>\n",
       "    </tr>\n",
       "  </tbody>\n",
       "</table>\n",
       "</div>"
      ],
      "text/plain": [
       "          a         b\n",
       "6 -0.534177  0.338868\n",
       "7  0.285821  0.306599\n",
       "8 -0.137518 -0.040645"
      ]
     },
     "execution_count": 69,
     "metadata": {},
     "output_type": "execute_result"
    }
   ],
   "source": [
    "df.query(\"a <= b\")"
   ]
  },
  {
   "cell_type": "code",
   "execution_count": 70,
   "id": "47775c49",
   "metadata": {
    "execution": {
     "iopub.execute_input": "2025-02-28T13:08:34.033650Z",
     "iopub.status.busy": "2025-02-28T13:08:34.033242Z",
     "iopub.status.idle": "2025-02-28T13:08:34.043211Z",
     "shell.execute_reply": "2025-02-28T13:08:34.042204Z"
    },
    "papermill": {
     "duration": 0.050863,
     "end_time": "2025-02-28T13:08:34.044966",
     "exception": false,
     "start_time": "2025-02-28T13:08:33.994103",
     "status": "completed"
    },
    "tags": []
   },
   "outputs": [
    {
     "data": {
      "text/html": [
       "<div>\n",
       "<style scoped>\n",
       "    .dataframe tbody tr th:only-of-type {\n",
       "        vertical-align: middle;\n",
       "    }\n",
       "\n",
       "    .dataframe tbody tr th {\n",
       "        vertical-align: top;\n",
       "    }\n",
       "\n",
       "    .dataframe thead th {\n",
       "        text-align: right;\n",
       "    }\n",
       "</style>\n",
       "<table border=\"1\" class=\"dataframe\">\n",
       "  <thead>\n",
       "    <tr style=\"text-align: right;\">\n",
       "      <th></th>\n",
       "      <th>a</th>\n",
       "      <th>b</th>\n",
       "    </tr>\n",
       "  </thead>\n",
       "  <tbody>\n",
       "    <tr>\n",
       "      <th>6</th>\n",
       "      <td>-0.534177</td>\n",
       "      <td>0.338868</td>\n",
       "    </tr>\n",
       "    <tr>\n",
       "      <th>7</th>\n",
       "      <td>0.285821</td>\n",
       "      <td>0.306599</td>\n",
       "    </tr>\n",
       "    <tr>\n",
       "      <th>8</th>\n",
       "      <td>-0.137518</td>\n",
       "      <td>-0.040645</td>\n",
       "    </tr>\n",
       "  </tbody>\n",
       "</table>\n",
       "</div>"
      ],
      "text/plain": [
       "          a         b\n",
       "6 -0.534177  0.338868\n",
       "7  0.285821  0.306599\n",
       "8 -0.137518 -0.040645"
      ]
     },
     "execution_count": 70,
     "metadata": {},
     "output_type": "execute_result"
    }
   ],
   "source": [
    "df[df[\"a\"] <= df[\"b\"]]"
   ]
  },
  {
   "cell_type": "code",
   "execution_count": 71,
   "id": "b392189a",
   "metadata": {
    "execution": {
     "iopub.execute_input": "2025-02-28T13:08:34.125174Z",
     "iopub.status.busy": "2025-02-28T13:08:34.124726Z",
     "iopub.status.idle": "2025-02-28T13:08:34.134684Z",
     "shell.execute_reply": "2025-02-28T13:08:34.133568Z"
    },
    "papermill": {
     "duration": 0.052497,
     "end_time": "2025-02-28T13:08:34.136523",
     "exception": false,
     "start_time": "2025-02-28T13:08:34.084026",
     "status": "completed"
    },
    "tags": []
   },
   "outputs": [
    {
     "data": {
      "text/html": [
       "<div>\n",
       "<style scoped>\n",
       "    .dataframe tbody tr th:only-of-type {\n",
       "        vertical-align: middle;\n",
       "    }\n",
       "\n",
       "    .dataframe tbody tr th {\n",
       "        vertical-align: top;\n",
       "    }\n",
       "\n",
       "    .dataframe thead th {\n",
       "        text-align: right;\n",
       "    }\n",
       "</style>\n",
       "<table border=\"1\" class=\"dataframe\">\n",
       "  <thead>\n",
       "    <tr style=\"text-align: right;\">\n",
       "      <th></th>\n",
       "      <th>a</th>\n",
       "      <th>b</th>\n",
       "    </tr>\n",
       "  </thead>\n",
       "  <tbody>\n",
       "    <tr>\n",
       "      <th>6</th>\n",
       "      <td>-0.534177</td>\n",
       "      <td>0.338868</td>\n",
       "    </tr>\n",
       "    <tr>\n",
       "      <th>7</th>\n",
       "      <td>0.285821</td>\n",
       "      <td>0.306599</td>\n",
       "    </tr>\n",
       "    <tr>\n",
       "      <th>8</th>\n",
       "      <td>-0.137518</td>\n",
       "      <td>-0.040645</td>\n",
       "    </tr>\n",
       "  </tbody>\n",
       "</table>\n",
       "</div>"
      ],
      "text/plain": [
       "          a         b\n",
       "6 -0.534177  0.338868\n",
       "7  0.285821  0.306599\n",
       "8 -0.137518 -0.040645"
      ]
     },
     "execution_count": 71,
     "metadata": {},
     "output_type": "execute_result"
    }
   ],
   "source": [
    "df.loc[df[\"a\"] <= df[\"b\"]]"
   ]
  },
  {
   "cell_type": "code",
   "execution_count": 72,
   "id": "7b2378e8",
   "metadata": {
    "execution": {
     "iopub.execute_input": "2025-02-28T13:08:34.213847Z",
     "iopub.status.busy": "2025-02-28T13:08:34.213502Z",
     "iopub.status.idle": "2025-02-28T13:08:34.223492Z",
     "shell.execute_reply": "2025-02-28T13:08:34.222603Z"
    },
    "papermill": {
     "duration": 0.050444,
     "end_time": "2025-02-28T13:08:34.225029",
     "exception": false,
     "start_time": "2025-02-28T13:08:34.174585",
     "status": "completed"
    },
    "tags": []
   },
   "outputs": [
    {
     "data": {
      "text/html": [
       "<div>\n",
       "<style scoped>\n",
       "    .dataframe tbody tr th:only-of-type {\n",
       "        vertical-align: middle;\n",
       "    }\n",
       "\n",
       "    .dataframe tbody tr th {\n",
       "        vertical-align: top;\n",
       "    }\n",
       "\n",
       "    .dataframe thead th {\n",
       "        text-align: right;\n",
       "    }\n",
       "</style>\n",
       "<table border=\"1\" class=\"dataframe\">\n",
       "  <thead>\n",
       "    <tr style=\"text-align: right;\">\n",
       "      <th></th>\n",
       "      <th>a</th>\n",
       "      <th>b</th>\n",
       "    </tr>\n",
       "  </thead>\n",
       "  <tbody>\n",
       "    <tr>\n",
       "      <th>0</th>\n",
       "      <td>0.926263</td>\n",
       "      <td>-0.126981</td>\n",
       "    </tr>\n",
       "    <tr>\n",
       "      <th>1</th>\n",
       "      <td>-0.589401</td>\n",
       "      <td>-1.313281</td>\n",
       "    </tr>\n",
       "    <tr>\n",
       "      <th>2</th>\n",
       "      <td>0.571539</td>\n",
       "      <td>-0.467375</td>\n",
       "    </tr>\n",
       "    <tr>\n",
       "      <th>3</th>\n",
       "      <td>0.380249</td>\n",
       "      <td>-0.177851</td>\n",
       "    </tr>\n",
       "    <tr>\n",
       "      <th>4</th>\n",
       "      <td>1.477432</td>\n",
       "      <td>0.616958</td>\n",
       "    </tr>\n",
       "    <tr>\n",
       "      <th>5</th>\n",
       "      <td>0.945796</td>\n",
       "      <td>0.672021</td>\n",
       "    </tr>\n",
       "    <tr>\n",
       "      <th>9</th>\n",
       "      <td>1.245422</td>\n",
       "      <td>-0.245551</td>\n",
       "    </tr>\n",
       "  </tbody>\n",
       "</table>\n",
       "</div>"
      ],
      "text/plain": [
       "          a         b\n",
       "0  0.926263 -0.126981\n",
       "1 -0.589401 -1.313281\n",
       "2  0.571539 -0.467375\n",
       "3  0.380249 -0.177851\n",
       "4  1.477432  0.616958\n",
       "5  0.945796  0.672021\n",
       "9  1.245422 -0.245551"
      ]
     },
     "execution_count": 72,
     "metadata": {},
     "output_type": "execute_result"
    }
   ],
   "source": [
    "df[df[\"a\"] >= df[\"b\"]]"
   ]
  },
  {
   "cell_type": "code",
   "execution_count": 73,
   "id": "f868583c",
   "metadata": {
    "execution": {
     "iopub.execute_input": "2025-02-28T13:08:34.302626Z",
     "iopub.status.busy": "2025-02-28T13:08:34.302231Z",
     "iopub.status.idle": "2025-02-28T13:08:34.312264Z",
     "shell.execute_reply": "2025-02-28T13:08:34.311142Z"
    },
    "papermill": {
     "duration": 0.050899,
     "end_time": "2025-02-28T13:08:34.313956",
     "exception": false,
     "start_time": "2025-02-28T13:08:34.263057",
     "status": "completed"
    },
    "tags": []
   },
   "outputs": [
    {
     "data": {
      "text/html": [
       "<div>\n",
       "<style scoped>\n",
       "    .dataframe tbody tr th:only-of-type {\n",
       "        vertical-align: middle;\n",
       "    }\n",
       "\n",
       "    .dataframe tbody tr th {\n",
       "        vertical-align: top;\n",
       "    }\n",
       "\n",
       "    .dataframe thead th {\n",
       "        text-align: right;\n",
       "    }\n",
       "</style>\n",
       "<table border=\"1\" class=\"dataframe\">\n",
       "  <thead>\n",
       "    <tr style=\"text-align: right;\">\n",
       "      <th></th>\n",
       "      <th>a</th>\n",
       "      <th>b</th>\n",
       "    </tr>\n",
       "  </thead>\n",
       "  <tbody>\n",
       "    <tr>\n",
       "      <th>0</th>\n",
       "      <td>-0.429167</td>\n",
       "      <td>-0.193555</td>\n",
       "    </tr>\n",
       "    <tr>\n",
       "      <th>1</th>\n",
       "      <td>1.998363</td>\n",
       "      <td>0.166357</td>\n",
       "    </tr>\n",
       "    <tr>\n",
       "      <th>2</th>\n",
       "      <td>1.143227</td>\n",
       "      <td>0.054962</td>\n",
       "    </tr>\n",
       "    <tr>\n",
       "      <th>3</th>\n",
       "      <td>-0.608614</td>\n",
       "      <td>0.852395</td>\n",
       "    </tr>\n",
       "    <tr>\n",
       "      <th>4</th>\n",
       "      <td>0.596349</td>\n",
       "      <td>1.188558</td>\n",
       "    </tr>\n",
       "  </tbody>\n",
       "</table>\n",
       "</div>"
      ],
      "text/plain": [
       "          a         b\n",
       "0 -0.429167 -0.193555\n",
       "1  1.998363  0.166357\n",
       "2  1.143227  0.054962\n",
       "3 -0.608614  0.852395\n",
       "4  0.596349  1.188558"
      ]
     },
     "execution_count": 73,
     "metadata": {},
     "output_type": "execute_result"
    }
   ],
   "source": [
    "df = pd.DataFrame({\"a\": np.random.randn(10), \"b\": np.random.randn(10)})\n",
    "df.head()"
   ]
  },
  {
   "cell_type": "code",
   "execution_count": 74,
   "id": "a505264b",
   "metadata": {
    "execution": {
     "iopub.execute_input": "2025-02-28T13:08:34.395301Z",
     "iopub.status.busy": "2025-02-28T13:08:34.394955Z",
     "iopub.status.idle": "2025-02-28T13:08:34.405959Z",
     "shell.execute_reply": "2025-02-28T13:08:34.404900Z"
    },
    "papermill": {
     "duration": 0.054903,
     "end_time": "2025-02-28T13:08:34.407842",
     "exception": false,
     "start_time": "2025-02-28T13:08:34.352939",
     "status": "completed"
    },
    "tags": []
   },
   "outputs": [
    {
     "data": {
      "text/plain": [
       "0   -0.622721\n",
       "1    2.164720\n",
       "2    1.198189\n",
       "3    0.243781\n",
       "4    1.784906\n",
       "5    1.824687\n",
       "6   -1.301881\n",
       "7    0.996399\n",
       "8   -1.537147\n",
       "9   -0.503459\n",
       "dtype: float64"
      ]
     },
     "execution_count": 74,
     "metadata": {},
     "output_type": "execute_result"
    }
   ],
   "source": [
    "df.eval(\"a + b\")"
   ]
  },
  {
   "cell_type": "code",
   "execution_count": 75,
   "id": "7511277a",
   "metadata": {
    "execution": {
     "iopub.execute_input": "2025-02-28T13:08:34.487662Z",
     "iopub.status.busy": "2025-02-28T13:08:34.487262Z",
     "iopub.status.idle": "2025-02-28T13:08:34.494671Z",
     "shell.execute_reply": "2025-02-28T13:08:34.493599Z"
    },
    "papermill": {
     "duration": 0.048954,
     "end_time": "2025-02-28T13:08:34.496479",
     "exception": false,
     "start_time": "2025-02-28T13:08:34.447525",
     "status": "completed"
    },
    "tags": []
   },
   "outputs": [
    {
     "data": {
      "text/plain": [
       "0   -0.622721\n",
       "1    2.164720\n",
       "2    1.198189\n",
       "3    0.243781\n",
       "4    1.784906\n",
       "5    1.824687\n",
       "6   -1.301881\n",
       "7    0.996399\n",
       "8   -1.537147\n",
       "9   -0.503459\n",
       "dtype: float64"
      ]
     },
     "execution_count": 75,
     "metadata": {},
     "output_type": "execute_result"
    }
   ],
   "source": [
    "df[\"a\"] + df[\"b\"]"
   ]
  },
  {
   "cell_type": "code",
   "execution_count": 76,
   "id": "7ec6285a",
   "metadata": {
    "execution": {
     "iopub.execute_input": "2025-02-28T13:08:34.575899Z",
     "iopub.status.busy": "2025-02-28T13:08:34.575532Z",
     "iopub.status.idle": "2025-02-28T13:08:34.588081Z",
     "shell.execute_reply": "2025-02-28T13:08:34.586902Z"
    },
    "papermill": {
     "duration": 0.054214,
     "end_time": "2025-02-28T13:08:34.589840",
     "exception": false,
     "start_time": "2025-02-28T13:08:34.535626",
     "status": "completed"
    },
    "tags": []
   },
   "outputs": [
    {
     "data": {
      "text/html": [
       "<div>\n",
       "<style scoped>\n",
       "    .dataframe tbody tr th:only-of-type {\n",
       "        vertical-align: middle;\n",
       "    }\n",
       "\n",
       "    .dataframe tbody tr th {\n",
       "        vertical-align: top;\n",
       "    }\n",
       "\n",
       "    .dataframe thead th {\n",
       "        text-align: right;\n",
       "    }\n",
       "</style>\n",
       "<table border=\"1\" class=\"dataframe\">\n",
       "  <thead>\n",
       "    <tr style=\"text-align: right;\">\n",
       "      <th></th>\n",
       "      <th>x</th>\n",
       "      <th>y</th>\n",
       "      <th>z</th>\n",
       "      <th>month</th>\n",
       "      <th>week</th>\n",
       "    </tr>\n",
       "  </thead>\n",
       "  <tbody>\n",
       "    <tr>\n",
       "      <th>0</th>\n",
       "      <td>19.151935</td>\n",
       "      <td>311.281877</td>\n",
       "      <td>13.710379</td>\n",
       "      <td>5</td>\n",
       "      <td>1</td>\n",
       "    </tr>\n",
       "    <tr>\n",
       "      <th>1</th>\n",
       "      <td>97.943735</td>\n",
       "      <td>27.956109</td>\n",
       "      <td>18.775980</td>\n",
       "      <td>6</td>\n",
       "      <td>1</td>\n",
       "    </tr>\n",
       "    <tr>\n",
       "      <th>2</th>\n",
       "      <td>162.063942</td>\n",
       "      <td>313.370356</td>\n",
       "      <td>15.550629</td>\n",
       "      <td>7</td>\n",
       "      <td>1</td>\n",
       "    </tr>\n",
       "    <tr>\n",
       "      <th>3</th>\n",
       "      <td>101.665012</td>\n",
       "      <td>26.062862</td>\n",
       "      <td>6.967681</td>\n",
       "      <td>8</td>\n",
       "      <td>1</td>\n",
       "    </tr>\n",
       "    <tr>\n",
       "      <th>4</th>\n",
       "      <td>3.810430</td>\n",
       "      <td>59.353638</td>\n",
       "      <td>19.199952</td>\n",
       "      <td>5</td>\n",
       "      <td>3</td>\n",
       "    </tr>\n",
       "  </tbody>\n",
       "</table>\n",
       "</div>"
      ],
      "text/plain": [
       "            x           y          z  month  week\n",
       "0   19.151935  311.281877  13.710379      5     1\n",
       "1   97.943735   27.956109  18.775980      6     1\n",
       "2  162.063942  313.370356  15.550629      7     1\n",
       "3  101.665012   26.062862   6.967681      8     1\n",
       "4    3.810430   59.353638  19.199952      5     3"
      ]
     },
     "execution_count": 76,
     "metadata": {},
     "output_type": "execute_result"
    }
   ],
   "source": [
    "df = pd.DataFrame({\n",
    "    \n",
    "\"x\": np.random.uniform(1.0, 168.0, 120),\n",
    "\"y\": np.random.uniform(7.0, 334.0, 120),\n",
    "\"z\": np.random.uniform(1.7, 20.7, 120),\n",
    "\"month\": [5, 6, 7, 8] * 30,\n",
    "\"week\": np.random.randint(1, 4, 120)\n",
    "    \n",
    "})\n",
    "\n",
    "df.head()"
   ]
  },
  {
   "cell_type": "code",
   "execution_count": 77,
   "id": "c5af9719",
   "metadata": {
    "execution": {
     "iopub.execute_input": "2025-02-28T13:08:34.669815Z",
     "iopub.status.busy": "2025-02-28T13:08:34.669415Z",
     "iopub.status.idle": "2025-02-28T13:08:34.684614Z",
     "shell.execute_reply": "2025-02-28T13:08:34.683577Z"
    },
    "papermill": {
     "duration": 0.056439,
     "end_time": "2025-02-28T13:08:34.686134",
     "exception": false,
     "start_time": "2025-02-28T13:08:34.629695",
     "status": "completed"
    },
    "tags": []
   },
   "outputs": [
    {
     "data": {
      "text/html": [
       "<div>\n",
       "<style scoped>\n",
       "    .dataframe tbody tr th:only-of-type {\n",
       "        vertical-align: middle;\n",
       "    }\n",
       "\n",
       "    .dataframe tbody tr th {\n",
       "        vertical-align: top;\n",
       "    }\n",
       "\n",
       "    .dataframe thead th {\n",
       "        text-align: right;\n",
       "    }\n",
       "</style>\n",
       "<table border=\"1\" class=\"dataframe\">\n",
       "  <thead>\n",
       "    <tr style=\"text-align: right;\">\n",
       "      <th></th>\n",
       "      <th></th>\n",
       "      <th>mean</th>\n",
       "      <th>std</th>\n",
       "    </tr>\n",
       "    <tr>\n",
       "      <th>month</th>\n",
       "      <th>week</th>\n",
       "      <th></th>\n",
       "      <th></th>\n",
       "    </tr>\n",
       "  </thead>\n",
       "  <tbody>\n",
       "    <tr>\n",
       "      <th rowspan=\"3\" valign=\"top\">5</th>\n",
       "      <th>1</th>\n",
       "      <td>82.852575</td>\n",
       "      <td>48.340272</td>\n",
       "    </tr>\n",
       "    <tr>\n",
       "      <th>2</th>\n",
       "      <td>92.748467</td>\n",
       "      <td>63.492158</td>\n",
       "    </tr>\n",
       "    <tr>\n",
       "      <th>3</th>\n",
       "      <td>96.195337</td>\n",
       "      <td>64.848007</td>\n",
       "    </tr>\n",
       "    <tr>\n",
       "      <th rowspan=\"3\" valign=\"top\">6</th>\n",
       "      <th>1</th>\n",
       "      <td>105.012810</td>\n",
       "      <td>44.178631</td>\n",
       "    </tr>\n",
       "    <tr>\n",
       "      <th>2</th>\n",
       "      <td>94.357932</td>\n",
       "      <td>63.487576</td>\n",
       "    </tr>\n",
       "    <tr>\n",
       "      <th>3</th>\n",
       "      <td>76.331024</td>\n",
       "      <td>46.231270</td>\n",
       "    </tr>\n",
       "    <tr>\n",
       "      <th rowspan=\"3\" valign=\"top\">7</th>\n",
       "      <th>1</th>\n",
       "      <td>102.936049</td>\n",
       "      <td>38.551427</td>\n",
       "    </tr>\n",
       "    <tr>\n",
       "      <th>2</th>\n",
       "      <td>51.324997</td>\n",
       "      <td>44.311838</td>\n",
       "    </tr>\n",
       "    <tr>\n",
       "      <th>3</th>\n",
       "      <td>107.129159</td>\n",
       "      <td>47.777169</td>\n",
       "    </tr>\n",
       "    <tr>\n",
       "      <th rowspan=\"3\" valign=\"top\">8</th>\n",
       "      <th>1</th>\n",
       "      <td>120.402273</td>\n",
       "      <td>31.656755</td>\n",
       "    </tr>\n",
       "    <tr>\n",
       "      <th>2</th>\n",
       "      <td>87.984565</td>\n",
       "      <td>61.782074</td>\n",
       "    </tr>\n",
       "    <tr>\n",
       "      <th>3</th>\n",
       "      <td>83.029028</td>\n",
       "      <td>48.300356</td>\n",
       "    </tr>\n",
       "  </tbody>\n",
       "</table>\n",
       "</div>"
      ],
      "text/plain": [
       "                  mean        std\n",
       "month week                       \n",
       "5     1      82.852575  48.340272\n",
       "      2      92.748467  63.492158\n",
       "      3      96.195337  64.848007\n",
       "6     1     105.012810  44.178631\n",
       "      2      94.357932  63.487576\n",
       "      3      76.331024  46.231270\n",
       "7     1     102.936049  38.551427\n",
       "      2      51.324997  44.311838\n",
       "      3     107.129159  47.777169\n",
       "8     1     120.402273  31.656755\n",
       "      2      87.984565  61.782074\n",
       "      3      83.029028  48.300356"
      ]
     },
     "execution_count": 77,
     "metadata": {},
     "output_type": "execute_result"
    }
   ],
   "source": [
    "grouped = df.groupby([\"month\", \"week\"])\n",
    "grouped[\"x\"].agg([np.mean, np.std])"
   ]
  },
  {
   "cell_type": "code",
   "execution_count": 78,
   "id": "295ef822",
   "metadata": {
    "execution": {
     "iopub.execute_input": "2025-02-28T13:08:34.764536Z",
     "iopub.status.busy": "2025-02-28T13:08:34.764143Z",
     "iopub.status.idle": "2025-02-28T13:08:34.770810Z",
     "shell.execute_reply": "2025-02-28T13:08:34.769801Z"
    },
    "papermill": {
     "duration": 0.047909,
     "end_time": "2025-02-28T13:08:34.772447",
     "exception": false,
     "start_time": "2025-02-28T13:08:34.724538",
     "status": "completed"
    },
    "tags": []
   },
   "outputs": [
    {
     "data": {
      "text/plain": [
       "array([[[ 1.,  2.,  3.,  4.],\n",
       "        [ 5.,  6.,  7.,  8.],\n",
       "        [ 9., 10., 11., 12.]],\n",
       "\n",
       "       [[13., 14., 15., 16.],\n",
       "        [17., 18., 19., 20.],\n",
       "        [21., 22., 23., nan]]])"
      ]
     },
     "execution_count": 78,
     "metadata": {},
     "output_type": "execute_result"
    }
   ],
   "source": [
    "a = np.array(list(range(1, 24)) + [np.NAN]).reshape(2, 3, 4)\n",
    "a"
   ]
  },
  {
   "cell_type": "code",
   "execution_count": 79,
   "id": "8b4dfd75",
   "metadata": {
    "execution": {
     "iopub.execute_input": "2025-02-28T13:08:34.853343Z",
     "iopub.status.busy": "2025-02-28T13:08:34.853007Z",
     "iopub.status.idle": "2025-02-28T13:08:34.865641Z",
     "shell.execute_reply": "2025-02-28T13:08:34.864449Z"
    },
    "papermill": {
     "duration": 0.054487,
     "end_time": "2025-02-28T13:08:34.867321",
     "exception": false,
     "start_time": "2025-02-28T13:08:34.812834",
     "status": "completed"
    },
    "tags": []
   },
   "outputs": [
    {
     "data": {
      "text/html": [
       "<div>\n",
       "<style scoped>\n",
       "    .dataframe tbody tr th:only-of-type {\n",
       "        vertical-align: middle;\n",
       "    }\n",
       "\n",
       "    .dataframe tbody tr th {\n",
       "        vertical-align: top;\n",
       "    }\n",
       "\n",
       "    .dataframe thead th {\n",
       "        text-align: right;\n",
       "    }\n",
       "</style>\n",
       "<table border=\"1\" class=\"dataframe\">\n",
       "  <thead>\n",
       "    <tr style=\"text-align: right;\">\n",
       "      <th></th>\n",
       "      <th>0</th>\n",
       "      <th>1</th>\n",
       "      <th>2</th>\n",
       "      <th>3</th>\n",
       "    </tr>\n",
       "  </thead>\n",
       "  <tbody>\n",
       "    <tr>\n",
       "      <th>0</th>\n",
       "      <td>0</td>\n",
       "      <td>0</td>\n",
       "      <td>0</td>\n",
       "      <td>1.0</td>\n",
       "    </tr>\n",
       "    <tr>\n",
       "      <th>1</th>\n",
       "      <td>0</td>\n",
       "      <td>0</td>\n",
       "      <td>1</td>\n",
       "      <td>2.0</td>\n",
       "    </tr>\n",
       "    <tr>\n",
       "      <th>2</th>\n",
       "      <td>0</td>\n",
       "      <td>0</td>\n",
       "      <td>2</td>\n",
       "      <td>3.0</td>\n",
       "    </tr>\n",
       "    <tr>\n",
       "      <th>3</th>\n",
       "      <td>0</td>\n",
       "      <td>0</td>\n",
       "      <td>3</td>\n",
       "      <td>4.0</td>\n",
       "    </tr>\n",
       "    <tr>\n",
       "      <th>4</th>\n",
       "      <td>0</td>\n",
       "      <td>1</td>\n",
       "      <td>0</td>\n",
       "      <td>5.0</td>\n",
       "    </tr>\n",
       "    <tr>\n",
       "      <th>5</th>\n",
       "      <td>0</td>\n",
       "      <td>1</td>\n",
       "      <td>1</td>\n",
       "      <td>6.0</td>\n",
       "    </tr>\n",
       "    <tr>\n",
       "      <th>6</th>\n",
       "      <td>0</td>\n",
       "      <td>1</td>\n",
       "      <td>2</td>\n",
       "      <td>7.0</td>\n",
       "    </tr>\n",
       "    <tr>\n",
       "      <th>7</th>\n",
       "      <td>0</td>\n",
       "      <td>1</td>\n",
       "      <td>3</td>\n",
       "      <td>8.0</td>\n",
       "    </tr>\n",
       "    <tr>\n",
       "      <th>8</th>\n",
       "      <td>0</td>\n",
       "      <td>2</td>\n",
       "      <td>0</td>\n",
       "      <td>9.0</td>\n",
       "    </tr>\n",
       "    <tr>\n",
       "      <th>9</th>\n",
       "      <td>0</td>\n",
       "      <td>2</td>\n",
       "      <td>1</td>\n",
       "      <td>10.0</td>\n",
       "    </tr>\n",
       "    <tr>\n",
       "      <th>10</th>\n",
       "      <td>0</td>\n",
       "      <td>2</td>\n",
       "      <td>2</td>\n",
       "      <td>11.0</td>\n",
       "    </tr>\n",
       "    <tr>\n",
       "      <th>11</th>\n",
       "      <td>0</td>\n",
       "      <td>2</td>\n",
       "      <td>3</td>\n",
       "      <td>12.0</td>\n",
       "    </tr>\n",
       "    <tr>\n",
       "      <th>12</th>\n",
       "      <td>1</td>\n",
       "      <td>0</td>\n",
       "      <td>0</td>\n",
       "      <td>13.0</td>\n",
       "    </tr>\n",
       "    <tr>\n",
       "      <th>13</th>\n",
       "      <td>1</td>\n",
       "      <td>0</td>\n",
       "      <td>1</td>\n",
       "      <td>14.0</td>\n",
       "    </tr>\n",
       "    <tr>\n",
       "      <th>14</th>\n",
       "      <td>1</td>\n",
       "      <td>0</td>\n",
       "      <td>2</td>\n",
       "      <td>15.0</td>\n",
       "    </tr>\n",
       "    <tr>\n",
       "      <th>15</th>\n",
       "      <td>1</td>\n",
       "      <td>0</td>\n",
       "      <td>3</td>\n",
       "      <td>16.0</td>\n",
       "    </tr>\n",
       "    <tr>\n",
       "      <th>16</th>\n",
       "      <td>1</td>\n",
       "      <td>1</td>\n",
       "      <td>0</td>\n",
       "      <td>17.0</td>\n",
       "    </tr>\n",
       "    <tr>\n",
       "      <th>17</th>\n",
       "      <td>1</td>\n",
       "      <td>1</td>\n",
       "      <td>1</td>\n",
       "      <td>18.0</td>\n",
       "    </tr>\n",
       "    <tr>\n",
       "      <th>18</th>\n",
       "      <td>1</td>\n",
       "      <td>1</td>\n",
       "      <td>2</td>\n",
       "      <td>19.0</td>\n",
       "    </tr>\n",
       "    <tr>\n",
       "      <th>19</th>\n",
       "      <td>1</td>\n",
       "      <td>1</td>\n",
       "      <td>3</td>\n",
       "      <td>20.0</td>\n",
       "    </tr>\n",
       "    <tr>\n",
       "      <th>20</th>\n",
       "      <td>1</td>\n",
       "      <td>2</td>\n",
       "      <td>0</td>\n",
       "      <td>21.0</td>\n",
       "    </tr>\n",
       "    <tr>\n",
       "      <th>21</th>\n",
       "      <td>1</td>\n",
       "      <td>2</td>\n",
       "      <td>1</td>\n",
       "      <td>22.0</td>\n",
       "    </tr>\n",
       "    <tr>\n",
       "      <th>22</th>\n",
       "      <td>1</td>\n",
       "      <td>2</td>\n",
       "      <td>2</td>\n",
       "      <td>23.0</td>\n",
       "    </tr>\n",
       "    <tr>\n",
       "      <th>23</th>\n",
       "      <td>1</td>\n",
       "      <td>2</td>\n",
       "      <td>3</td>\n",
       "      <td>NaN</td>\n",
       "    </tr>\n",
       "  </tbody>\n",
       "</table>\n",
       "</div>"
      ],
      "text/plain": [
       "    0  1  2     3\n",
       "0   0  0  0   1.0\n",
       "1   0  0  1   2.0\n",
       "2   0  0  2   3.0\n",
       "3   0  0  3   4.0\n",
       "4   0  1  0   5.0\n",
       "5   0  1  1   6.0\n",
       "6   0  1  2   7.0\n",
       "7   0  1  3   8.0\n",
       "8   0  2  0   9.0\n",
       "9   0  2  1  10.0\n",
       "10  0  2  2  11.0\n",
       "11  0  2  3  12.0\n",
       "12  1  0  0  13.0\n",
       "13  1  0  1  14.0\n",
       "14  1  0  2  15.0\n",
       "15  1  0  3  16.0\n",
       "16  1  1  0  17.0\n",
       "17  1  1  1  18.0\n",
       "18  1  1  2  19.0\n",
       "19  1  1  3  20.0\n",
       "20  1  2  0  21.0\n",
       "21  1  2  1  22.0\n",
       "22  1  2  2  23.0\n",
       "23  1  2  3   NaN"
      ]
     },
     "execution_count": 79,
     "metadata": {},
     "output_type": "execute_result"
    }
   ],
   "source": [
    "pd.DataFrame([tuple(list(x) + [val]) for x, val in np.ndenumerate(a)])"
   ]
  },
  {
   "cell_type": "code",
   "execution_count": 80,
   "id": "781adb25",
   "metadata": {
    "execution": {
     "iopub.execute_input": "2025-02-28T13:08:34.947318Z",
     "iopub.status.busy": "2025-02-28T13:08:34.946976Z",
     "iopub.status.idle": "2025-02-28T13:08:34.953319Z",
     "shell.execute_reply": "2025-02-28T13:08:34.952287Z"
    },
    "papermill": {
     "duration": 0.048965,
     "end_time": "2025-02-28T13:08:34.954964",
     "exception": false,
     "start_time": "2025-02-28T13:08:34.905999",
     "status": "completed"
    },
    "tags": []
   },
   "outputs": [
    {
     "data": {
      "text/plain": [
       "[(0, 1), (1, 2), (2, 3), (3, 4), (4, nan)]"
      ]
     },
     "execution_count": 80,
     "metadata": {},
     "output_type": "execute_result"
    }
   ],
   "source": [
    "a = list(enumerate(list(range(1, 5)) + [np.NAN]))\n",
    "a"
   ]
  },
  {
   "cell_type": "code",
   "execution_count": 81,
   "id": "de245184",
   "metadata": {
    "execution": {
     "iopub.execute_input": "2025-02-28T13:08:35.040390Z",
     "iopub.status.busy": "2025-02-28T13:08:35.040060Z",
     "iopub.status.idle": "2025-02-28T13:08:35.049049Z",
     "shell.execute_reply": "2025-02-28T13:08:35.048100Z"
    },
    "papermill": {
     "duration": 0.05337,
     "end_time": "2025-02-28T13:08:35.050615",
     "exception": false,
     "start_time": "2025-02-28T13:08:34.997245",
     "status": "completed"
    },
    "tags": []
   },
   "outputs": [
    {
     "data": {
      "text/html": [
       "<div>\n",
       "<style scoped>\n",
       "    .dataframe tbody tr th:only-of-type {\n",
       "        vertical-align: middle;\n",
       "    }\n",
       "\n",
       "    .dataframe tbody tr th {\n",
       "        vertical-align: top;\n",
       "    }\n",
       "\n",
       "    .dataframe thead th {\n",
       "        text-align: right;\n",
       "    }\n",
       "</style>\n",
       "<table border=\"1\" class=\"dataframe\">\n",
       "  <thead>\n",
       "    <tr style=\"text-align: right;\">\n",
       "      <th></th>\n",
       "      <th>0</th>\n",
       "      <th>1</th>\n",
       "    </tr>\n",
       "  </thead>\n",
       "  <tbody>\n",
       "    <tr>\n",
       "      <th>0</th>\n",
       "      <td>0</td>\n",
       "      <td>1.0</td>\n",
       "    </tr>\n",
       "    <tr>\n",
       "      <th>1</th>\n",
       "      <td>1</td>\n",
       "      <td>2.0</td>\n",
       "    </tr>\n",
       "    <tr>\n",
       "      <th>2</th>\n",
       "      <td>2</td>\n",
       "      <td>3.0</td>\n",
       "    </tr>\n",
       "    <tr>\n",
       "      <th>3</th>\n",
       "      <td>3</td>\n",
       "      <td>4.0</td>\n",
       "    </tr>\n",
       "    <tr>\n",
       "      <th>4</th>\n",
       "      <td>4</td>\n",
       "      <td>NaN</td>\n",
       "    </tr>\n",
       "  </tbody>\n",
       "</table>\n",
       "</div>"
      ],
      "text/plain": [
       "   0    1\n",
       "0  0  1.0\n",
       "1  1  2.0\n",
       "2  2  3.0\n",
       "3  3  4.0\n",
       "4  4  NaN"
      ]
     },
     "execution_count": 81,
     "metadata": {},
     "output_type": "execute_result"
    }
   ],
   "source": [
    "pd.DataFrame(a)"
   ]
  },
  {
   "cell_type": "code",
   "execution_count": 82,
   "id": "29b30904",
   "metadata": {
    "execution": {
     "iopub.execute_input": "2025-02-28T13:08:35.130961Z",
     "iopub.status.busy": "2025-02-28T13:08:35.130596Z",
     "iopub.status.idle": "2025-02-28T13:08:35.142228Z",
     "shell.execute_reply": "2025-02-28T13:08:35.141097Z"
    },
    "papermill": {
     "duration": 0.053785,
     "end_time": "2025-02-28T13:08:35.144068",
     "exception": false,
     "start_time": "2025-02-28T13:08:35.090283",
     "status": "completed"
    },
    "tags": []
   },
   "outputs": [
    {
     "data": {
      "text/html": [
       "<div>\n",
       "<style scoped>\n",
       "    .dataframe tbody tr th:only-of-type {\n",
       "        vertical-align: middle;\n",
       "    }\n",
       "\n",
       "    .dataframe tbody tr th {\n",
       "        vertical-align: top;\n",
       "    }\n",
       "\n",
       "    .dataframe thead th {\n",
       "        text-align: right;\n",
       "    }\n",
       "</style>\n",
       "<table border=\"1\" class=\"dataframe\">\n",
       "  <thead>\n",
       "    <tr style=\"text-align: right;\">\n",
       "      <th></th>\n",
       "      <th>first</th>\n",
       "      <th>last</th>\n",
       "      <th>height</th>\n",
       "      <th>weight</th>\n",
       "    </tr>\n",
       "  </thead>\n",
       "  <tbody>\n",
       "    <tr>\n",
       "      <th>0</th>\n",
       "      <td>John</td>\n",
       "      <td>Doe</td>\n",
       "      <td>5.5</td>\n",
       "      <td>130</td>\n",
       "    </tr>\n",
       "    <tr>\n",
       "      <th>1</th>\n",
       "      <td>Mary</td>\n",
       "      <td>Bo</td>\n",
       "      <td>6.0</td>\n",
       "      <td>150</td>\n",
       "    </tr>\n",
       "  </tbody>\n",
       "</table>\n",
       "</div>"
      ],
      "text/plain": [
       "  first last  height  weight\n",
       "0  John  Doe     5.5     130\n",
       "1  Mary   Bo     6.0     150"
      ]
     },
     "execution_count": 82,
     "metadata": {},
     "output_type": "execute_result"
    }
   ],
   "source": [
    "cheese = pd.DataFrame({\n",
    "    \n",
    "\"first\": [\"John\", \"Mary\"],\n",
    "\"last\": [\"Doe\", \"Bo\"],\n",
    "\"height\": [5.5, 6.0],\n",
    "\"weight\": [130, 150]\n",
    "    \n",
    "})\n",
    "\n",
    "cheese"
   ]
  },
  {
   "cell_type": "code",
   "execution_count": 83,
   "id": "97585bc0",
   "metadata": {
    "execution": {
     "iopub.execute_input": "2025-02-28T13:08:35.224598Z",
     "iopub.status.busy": "2025-02-28T13:08:35.224203Z",
     "iopub.status.idle": "2025-02-28T13:08:35.237485Z",
     "shell.execute_reply": "2025-02-28T13:08:35.236571Z"
    },
    "papermill": {
     "duration": 0.05511,
     "end_time": "2025-02-28T13:08:35.239068",
     "exception": false,
     "start_time": "2025-02-28T13:08:35.183958",
     "status": "completed"
    },
    "tags": []
   },
   "outputs": [
    {
     "data": {
      "text/html": [
       "<div>\n",
       "<style scoped>\n",
       "    .dataframe tbody tr th:only-of-type {\n",
       "        vertical-align: middle;\n",
       "    }\n",
       "\n",
       "    .dataframe tbody tr th {\n",
       "        vertical-align: top;\n",
       "    }\n",
       "\n",
       "    .dataframe thead th {\n",
       "        text-align: right;\n",
       "    }\n",
       "</style>\n",
       "<table border=\"1\" class=\"dataframe\">\n",
       "  <thead>\n",
       "    <tr style=\"text-align: right;\">\n",
       "      <th></th>\n",
       "      <th>first</th>\n",
       "      <th>last</th>\n",
       "      <th>variable</th>\n",
       "      <th>value</th>\n",
       "    </tr>\n",
       "  </thead>\n",
       "  <tbody>\n",
       "    <tr>\n",
       "      <th>0</th>\n",
       "      <td>John</td>\n",
       "      <td>Doe</td>\n",
       "      <td>height</td>\n",
       "      <td>5.5</td>\n",
       "    </tr>\n",
       "    <tr>\n",
       "      <th>1</th>\n",
       "      <td>Mary</td>\n",
       "      <td>Bo</td>\n",
       "      <td>height</td>\n",
       "      <td>6.0</td>\n",
       "    </tr>\n",
       "    <tr>\n",
       "      <th>2</th>\n",
       "      <td>John</td>\n",
       "      <td>Doe</td>\n",
       "      <td>weight</td>\n",
       "      <td>130.0</td>\n",
       "    </tr>\n",
       "    <tr>\n",
       "      <th>3</th>\n",
       "      <td>Mary</td>\n",
       "      <td>Bo</td>\n",
       "      <td>weight</td>\n",
       "      <td>150.0</td>\n",
       "    </tr>\n",
       "  </tbody>\n",
       "</table>\n",
       "</div>"
      ],
      "text/plain": [
       "  first last variable  value\n",
       "0  John  Doe   height    5.5\n",
       "1  Mary   Bo   height    6.0\n",
       "2  John  Doe   weight  130.0\n",
       "3  Mary   Bo   weight  150.0"
      ]
     },
     "execution_count": 83,
     "metadata": {},
     "output_type": "execute_result"
    }
   ],
   "source": [
    "pd.melt(cheese, id_vars=[\"first\", \"last\"])"
   ]
  },
  {
   "cell_type": "code",
   "execution_count": 84,
   "id": "9627c764",
   "metadata": {
    "execution": {
     "iopub.execute_input": "2025-02-28T13:08:35.323374Z",
     "iopub.status.busy": "2025-02-28T13:08:35.323022Z",
     "iopub.status.idle": "2025-02-28T13:08:35.348995Z",
     "shell.execute_reply": "2025-02-28T13:08:35.347978Z"
    },
    "papermill": {
     "duration": 0.070697,
     "end_time": "2025-02-28T13:08:35.351000",
     "exception": false,
     "start_time": "2025-02-28T13:08:35.280303",
     "status": "completed"
    },
    "tags": []
   },
   "outputs": [
    {
     "data": {
      "text/plain": [
       "first  last        \n",
       "John   Doe   height      5.5\n",
       "             weight    130.0\n",
       "Mary   Bo    height      6.0\n",
       "             weight    150.0\n",
       "dtype: float64"
      ]
     },
     "execution_count": 84,
     "metadata": {},
     "output_type": "execute_result"
    }
   ],
   "source": [
    "cheese.set_index([\"first\", \"last\"]).stack() # alternative"
   ]
  },
  {
   "cell_type": "code",
   "execution_count": 85,
   "id": "f69d2bcb",
   "metadata": {
    "execution": {
     "iopub.execute_input": "2025-02-28T13:08:35.434024Z",
     "iopub.status.busy": "2025-02-28T13:08:35.433656Z",
     "iopub.status.idle": "2025-02-28T13:08:35.457184Z",
     "shell.execute_reply": "2025-02-28T13:08:35.456130Z"
    },
    "papermill": {
     "duration": 0.066902,
     "end_time": "2025-02-28T13:08:35.459089",
     "exception": false,
     "start_time": "2025-02-28T13:08:35.392187",
     "status": "completed"
    },
    "tags": []
   },
   "outputs": [
    {
     "data": {
      "text/html": [
       "<div>\n",
       "<style scoped>\n",
       "    .dataframe tbody tr th:only-of-type {\n",
       "        vertical-align: middle;\n",
       "    }\n",
       "\n",
       "    .dataframe tbody tr th {\n",
       "        vertical-align: top;\n",
       "    }\n",
       "\n",
       "    .dataframe thead th {\n",
       "        text-align: right;\n",
       "    }\n",
       "</style>\n",
       "<table border=\"1\" class=\"dataframe\">\n",
       "  <thead>\n",
       "    <tr style=\"text-align: right;\">\n",
       "      <th></th>\n",
       "      <th>month</th>\n",
       "      <th>5</th>\n",
       "      <th>6</th>\n",
       "      <th>7</th>\n",
       "    </tr>\n",
       "    <tr>\n",
       "      <th>variable</th>\n",
       "      <th>week</th>\n",
       "      <th></th>\n",
       "      <th></th>\n",
       "      <th></th>\n",
       "    </tr>\n",
       "  </thead>\n",
       "  <tbody>\n",
       "    <tr>\n",
       "      <th rowspan=\"2\" valign=\"top\">x</th>\n",
       "      <th>1</th>\n",
       "      <td>115.377287</td>\n",
       "      <td>103.807374</td>\n",
       "      <td>88.782013</td>\n",
       "    </tr>\n",
       "    <tr>\n",
       "      <th>2</th>\n",
       "      <td>127.220608</td>\n",
       "      <td>83.881186</td>\n",
       "      <td>72.259745</td>\n",
       "    </tr>\n",
       "    <tr>\n",
       "      <th rowspan=\"2\" valign=\"top\">y</th>\n",
       "      <th>1</th>\n",
       "      <td>170.581284</td>\n",
       "      <td>105.819724</td>\n",
       "      <td>174.081318</td>\n",
       "    </tr>\n",
       "    <tr>\n",
       "      <th>2</th>\n",
       "      <td>71.520327</td>\n",
       "      <td>228.075900</td>\n",
       "      <td>77.735970</td>\n",
       "    </tr>\n",
       "    <tr>\n",
       "      <th rowspan=\"2\" valign=\"top\">z</th>\n",
       "      <th>1</th>\n",
       "      <td>10.151866</td>\n",
       "      <td>10.993291</td>\n",
       "      <td>11.512815</td>\n",
       "    </tr>\n",
       "    <tr>\n",
       "      <th>2</th>\n",
       "      <td>14.862324</td>\n",
       "      <td>18.300305</td>\n",
       "      <td>10.268149</td>\n",
       "    </tr>\n",
       "  </tbody>\n",
       "</table>\n",
       "</div>"
      ],
      "text/plain": [
       "month                   5           6           7\n",
       "variable week                                    \n",
       "x        1     115.377287  103.807374   88.782013\n",
       "         2     127.220608   83.881186   72.259745\n",
       "y        1     170.581284  105.819724  174.081318\n",
       "         2      71.520327  228.075900   77.735970\n",
       "z        1      10.151866   10.993291   11.512815\n",
       "         2      14.862324   18.300305   10.268149"
      ]
     },
     "execution_count": 85,
     "metadata": {},
     "output_type": "execute_result"
    }
   ],
   "source": [
    "df = pd.DataFrame({\n",
    "    \n",
    "\"x\": np.random.uniform(1.0, 168.0, 12),\n",
    "\"y\": np.random.uniform(7.0, 334.0, 12),\n",
    "\"z\": np.random.uniform(1.7, 20.7, 12),\n",
    "\"month\": [5, 6, 7] * 4,\n",
    "\"week\": [1, 2] * 6\n",
    "    \n",
    "})\n",
    "\n",
    "mdf = pd.melt(df, id_vars=[\"month\", \"week\"])\n",
    "\n",
    "pd.pivot_table(mdf,values=\"value\",index=[\"variable\", \"week\"],columns=[\"month\"],aggfunc=np.mean,)"
   ]
  },
  {
   "cell_type": "code",
   "execution_count": 86,
   "id": "13483d16",
   "metadata": {
    "execution": {
     "iopub.execute_input": "2025-02-28T13:08:35.542148Z",
     "iopub.status.busy": "2025-02-28T13:08:35.541798Z",
     "iopub.status.idle": "2025-02-28T13:08:35.558416Z",
     "shell.execute_reply": "2025-02-28T13:08:35.557202Z"
    },
    "papermill": {
     "duration": 0.060646,
     "end_time": "2025-02-28T13:08:35.560286",
     "exception": false,
     "start_time": "2025-02-28T13:08:35.499640",
     "status": "completed"
    },
    "tags": []
   },
   "outputs": [
    {
     "data": {
      "text/html": [
       "<div>\n",
       "<style scoped>\n",
       "    .dataframe tbody tr th:only-of-type {\n",
       "        vertical-align: middle;\n",
       "    }\n",
       "\n",
       "    .dataframe tbody tr th {\n",
       "        vertical-align: top;\n",
       "    }\n",
       "\n",
       "    .dataframe thead th {\n",
       "        text-align: right;\n",
       "    }\n",
       "</style>\n",
       "<table border=\"1\" class=\"dataframe\">\n",
       "  <thead>\n",
       "    <tr style=\"text-align: right;\">\n",
       "      <th>FeedType</th>\n",
       "      <th>A</th>\n",
       "      <th>B</th>\n",
       "    </tr>\n",
       "    <tr>\n",
       "      <th>Animal</th>\n",
       "      <th></th>\n",
       "      <th></th>\n",
       "    </tr>\n",
       "  </thead>\n",
       "  <tbody>\n",
       "    <tr>\n",
       "      <th>Animal1</th>\n",
       "      <td>10.0</td>\n",
       "      <td>5.0</td>\n",
       "    </tr>\n",
       "    <tr>\n",
       "      <th>Animal2</th>\n",
       "      <td>2.0</td>\n",
       "      <td>13.0</td>\n",
       "    </tr>\n",
       "    <tr>\n",
       "      <th>Animal3</th>\n",
       "      <td>6.0</td>\n",
       "      <td>NaN</td>\n",
       "    </tr>\n",
       "  </tbody>\n",
       "</table>\n",
       "</div>"
      ],
      "text/plain": [
       "FeedType     A     B\n",
       "Animal              \n",
       "Animal1   10.0   5.0\n",
       "Animal2    2.0  13.0\n",
       "Animal3    6.0   NaN"
      ]
     },
     "execution_count": 86,
     "metadata": {},
     "output_type": "execute_result"
    }
   ],
   "source": [
    "df = pd.DataFrame({\n",
    "    \n",
    "\"Animal\": [\"Animal1\",\"Animal2\",\"Animal3\",\"Animal2\",\"Animal1\",\"Animal2\",\"Animal3\",],\n",
    "\"FeedType\": [\"A\", \"B\", \"A\", \"A\", \"B\", \"B\", \"A\"],\n",
    "\"Amount\": [10, 7, 4, 2, 5, 6, 2]\n",
    "    \n",
    "})\n",
    "\n",
    "df.pivot_table(values=\"Amount\", index=\"Animal\", columns=\"FeedType\", aggfunc=\"sum\")"
   ]
  },
  {
   "cell_type": "code",
   "execution_count": 87,
   "id": "204fb7cc",
   "metadata": {
    "execution": {
     "iopub.execute_input": "2025-02-28T13:08:35.644326Z",
     "iopub.status.busy": "2025-02-28T13:08:35.643953Z",
     "iopub.status.idle": "2025-02-28T13:08:35.653077Z",
     "shell.execute_reply": "2025-02-28T13:08:35.652162Z"
    },
    "papermill": {
     "duration": 0.05435,
     "end_time": "2025-02-28T13:08:35.654783",
     "exception": false,
     "start_time": "2025-02-28T13:08:35.600433",
     "status": "completed"
    },
    "tags": []
   },
   "outputs": [
    {
     "data": {
      "text/plain": [
       "Animal   FeedType\n",
       "Animal1  A           10\n",
       "         B            5\n",
       "Animal2  A            2\n",
       "         B           13\n",
       "Animal3  A            6\n",
       "Name: Amount, dtype: int64"
      ]
     },
     "execution_count": 87,
     "metadata": {},
     "output_type": "execute_result"
    }
   ],
   "source": [
    "df.groupby([\"Animal\", \"FeedType\"])[\"Amount\"].sum()"
   ]
  },
  {
   "cell_type": "code",
   "execution_count": 88,
   "id": "27fe7773",
   "metadata": {
    "execution": {
     "iopub.execute_input": "2025-02-28T13:08:35.739021Z",
     "iopub.status.busy": "2025-02-28T13:08:35.738381Z",
     "iopub.status.idle": "2025-02-28T13:08:35.756681Z",
     "shell.execute_reply": "2025-02-28T13:08:35.755406Z"
    },
    "papermill": {
     "duration": 0.062864,
     "end_time": "2025-02-28T13:08:35.758616",
     "exception": false,
     "start_time": "2025-02-28T13:08:35.695752",
     "status": "completed"
    },
    "tags": []
   },
   "outputs": [
    {
     "data": {
      "text/plain": [
       "0    (0.995, 2.667]\n",
       "1    (0.995, 2.667]\n",
       "2    (2.667, 4.333]\n",
       "3    (2.667, 4.333]\n",
       "4      (4.333, 6.0]\n",
       "5      (4.333, 6.0]\n",
       "dtype: category\n",
       "Categories (3, interval[float64, right]): [(0.995, 2.667] < (2.667, 4.333] < (4.333, 6.0]]"
      ]
     },
     "execution_count": 88,
     "metadata": {},
     "output_type": "execute_result"
    }
   ],
   "source": [
    "pd.cut(pd.Series([1, 2, 3, 4, 5, 6]), 3)"
   ]
  },
  {
   "cell_type": "code",
   "execution_count": 89,
   "id": "05077b67",
   "metadata": {
    "execution": {
     "iopub.execute_input": "2025-02-28T13:08:35.840440Z",
     "iopub.status.busy": "2025-02-28T13:08:35.840028Z",
     "iopub.status.idle": "2025-02-28T13:08:35.848873Z",
     "shell.execute_reply": "2025-02-28T13:08:35.847637Z"
    },
    "papermill": {
     "duration": 0.051463,
     "end_time": "2025-02-28T13:08:35.850690",
     "exception": false,
     "start_time": "2025-02-28T13:08:35.799227",
     "status": "completed"
    },
    "tags": []
   },
   "outputs": [
    {
     "data": {
      "text/plain": [
       "0    1\n",
       "1    2\n",
       "2    3\n",
       "3    2\n",
       "4    2\n",
       "5    3\n",
       "dtype: category\n",
       "Categories (3, int64): [1, 2, 3]"
      ]
     },
     "execution_count": 89,
     "metadata": {},
     "output_type": "execute_result"
    }
   ],
   "source": [
    "pd.Series([1, 2, 3, 2, 2, 3]).astype(\"category\")"
   ]
  },
  {
   "cell_type": "code",
   "execution_count": 90,
   "id": "9ec88bed",
   "metadata": {
    "execution": {
     "iopub.execute_input": "2025-02-28T13:08:35.937677Z",
     "iopub.status.busy": "2025-02-28T13:08:35.937250Z",
     "iopub.status.idle": "2025-02-28T13:08:35.947215Z",
     "shell.execute_reply": "2025-02-28T13:08:35.946044Z"
    },
    "papermill": {
     "duration": 0.0558,
     "end_time": "2025-02-28T13:08:35.949161",
     "exception": false,
     "start_time": "2025-02-28T13:08:35.893361",
     "status": "completed"
    },
    "tags": []
   },
   "outputs": [
    {
     "data": {
      "text/html": [
       "<div>\n",
       "<style scoped>\n",
       "    .dataframe tbody tr th:only-of-type {\n",
       "        vertical-align: middle;\n",
       "    }\n",
       "\n",
       "    .dataframe tbody tr th {\n",
       "        vertical-align: top;\n",
       "    }\n",
       "\n",
       "    .dataframe thead th {\n",
       "        text-align: right;\n",
       "    }\n",
       "</style>\n",
       "<table border=\"1\" class=\"dataframe\">\n",
       "  <thead>\n",
       "    <tr style=\"text-align: right;\">\n",
       "      <th></th>\n",
       "      <th>col1</th>\n",
       "      <th>col2</th>\n",
       "    </tr>\n",
       "  </thead>\n",
       "  <tbody>\n",
       "    <tr>\n",
       "      <th>0</th>\n",
       "      <td>A</td>\n",
       "      <td>F</td>\n",
       "    </tr>\n",
       "    <tr>\n",
       "      <th>1</th>\n",
       "      <td>B</td>\n",
       "      <td>NaN</td>\n",
       "    </tr>\n",
       "    <tr>\n",
       "      <th>2</th>\n",
       "      <td>NaN</td>\n",
       "      <td>G</td>\n",
       "    </tr>\n",
       "    <tr>\n",
       "      <th>3</th>\n",
       "      <td>C</td>\n",
       "      <td>H</td>\n",
       "    </tr>\n",
       "    <tr>\n",
       "      <th>4</th>\n",
       "      <td>D</td>\n",
       "      <td>I</td>\n",
       "    </tr>\n",
       "  </tbody>\n",
       "</table>\n",
       "</div>"
      ],
      "text/plain": [
       "  col1 col2\n",
       "0    A    F\n",
       "1    B  NaN\n",
       "2  NaN    G\n",
       "3    C    H\n",
       "4    D    I"
      ]
     },
     "execution_count": 90,
     "metadata": {},
     "output_type": "execute_result"
    }
   ],
   "source": [
    "frame = pd.DataFrame({\"col1\": [\"A\", \"B\", np.NaN, \"C\", \"D\"], \"col2\": [\"F\", np.NaN, \"G\", \"H\", \"I\"]})\n",
    "\n",
    "frame"
   ]
  },
  {
   "cell_type": "code",
   "execution_count": 91,
   "id": "ad2d13b2",
   "metadata": {
    "execution": {
     "iopub.execute_input": "2025-02-28T13:08:36.039584Z",
     "iopub.status.busy": "2025-02-28T13:08:36.039207Z",
     "iopub.status.idle": "2025-02-28T13:08:36.048957Z",
     "shell.execute_reply": "2025-02-28T13:08:36.047782Z"
    },
    "papermill": {
     "duration": 0.056237,
     "end_time": "2025-02-28T13:08:36.050818",
     "exception": false,
     "start_time": "2025-02-28T13:08:35.994581",
     "status": "completed"
    },
    "tags": []
   },
   "outputs": [
    {
     "data": {
      "text/html": [
       "<div>\n",
       "<style scoped>\n",
       "    .dataframe tbody tr th:only-of-type {\n",
       "        vertical-align: middle;\n",
       "    }\n",
       "\n",
       "    .dataframe tbody tr th {\n",
       "        vertical-align: top;\n",
       "    }\n",
       "\n",
       "    .dataframe thead th {\n",
       "        text-align: right;\n",
       "    }\n",
       "</style>\n",
       "<table border=\"1\" class=\"dataframe\">\n",
       "  <thead>\n",
       "    <tr style=\"text-align: right;\">\n",
       "      <th></th>\n",
       "      <th>col1</th>\n",
       "      <th>col2</th>\n",
       "    </tr>\n",
       "  </thead>\n",
       "  <tbody>\n",
       "    <tr>\n",
       "      <th>1</th>\n",
       "      <td>B</td>\n",
       "      <td>NaN</td>\n",
       "    </tr>\n",
       "  </tbody>\n",
       "</table>\n",
       "</div>"
      ],
      "text/plain": [
       "  col1 col2\n",
       "1    B  NaN"
      ]
     },
     "execution_count": 91,
     "metadata": {},
     "output_type": "execute_result"
    }
   ],
   "source": [
    "frame[frame[\"col2\"].isna()]"
   ]
  },
  {
   "cell_type": "code",
   "execution_count": 92,
   "id": "fe973cc2",
   "metadata": {
    "execution": {
     "iopub.execute_input": "2025-02-28T13:08:36.135919Z",
     "iopub.status.busy": "2025-02-28T13:08:36.135564Z",
     "iopub.status.idle": "2025-02-28T13:08:36.146205Z",
     "shell.execute_reply": "2025-02-28T13:08:36.145013Z"
    },
    "papermill": {
     "duration": 0.056284,
     "end_time": "2025-02-28T13:08:36.148364",
     "exception": false,
     "start_time": "2025-02-28T13:08:36.092080",
     "status": "completed"
    },
    "tags": []
   },
   "outputs": [
    {
     "data": {
      "text/html": [
       "<div>\n",
       "<style scoped>\n",
       "    .dataframe tbody tr th:only-of-type {\n",
       "        vertical-align: middle;\n",
       "    }\n",
       "\n",
       "    .dataframe tbody tr th {\n",
       "        vertical-align: top;\n",
       "    }\n",
       "\n",
       "    .dataframe thead th {\n",
       "        text-align: right;\n",
       "    }\n",
       "</style>\n",
       "<table border=\"1\" class=\"dataframe\">\n",
       "  <thead>\n",
       "    <tr style=\"text-align: right;\">\n",
       "      <th></th>\n",
       "      <th>col1</th>\n",
       "      <th>col2</th>\n",
       "    </tr>\n",
       "  </thead>\n",
       "  <tbody>\n",
       "    <tr>\n",
       "      <th>0</th>\n",
       "      <td>A</td>\n",
       "      <td>F</td>\n",
       "    </tr>\n",
       "    <tr>\n",
       "      <th>1</th>\n",
       "      <td>B</td>\n",
       "      <td>NaN</td>\n",
       "    </tr>\n",
       "    <tr>\n",
       "      <th>3</th>\n",
       "      <td>C</td>\n",
       "      <td>H</td>\n",
       "    </tr>\n",
       "    <tr>\n",
       "      <th>4</th>\n",
       "      <td>D</td>\n",
       "      <td>I</td>\n",
       "    </tr>\n",
       "  </tbody>\n",
       "</table>\n",
       "</div>"
      ],
      "text/plain": [
       "  col1 col2\n",
       "0    A    F\n",
       "1    B  NaN\n",
       "3    C    H\n",
       "4    D    I"
      ]
     },
     "execution_count": 92,
     "metadata": {},
     "output_type": "execute_result"
    }
   ],
   "source": [
    "frame[frame[\"col1\"].notna()]"
   ]
  },
  {
   "cell_type": "code",
   "execution_count": 93,
   "id": "45318928",
   "metadata": {
    "execution": {
     "iopub.execute_input": "2025-02-28T13:08:36.236760Z",
     "iopub.status.busy": "2025-02-28T13:08:36.236353Z",
     "iopub.status.idle": "2025-02-28T13:08:36.242153Z",
     "shell.execute_reply": "2025-02-28T13:08:36.241089Z"
    },
    "papermill": {
     "duration": 0.050688,
     "end_time": "2025-02-28T13:08:36.243991",
     "exception": false,
     "start_time": "2025-02-28T13:08:36.193303",
     "status": "completed"
    },
    "tags": []
   },
   "outputs": [],
   "source": [
    "df1 = pd.DataFrame({\"key\": [\"A\", \"B\", \"C\", \"D\"], \"value\": np.random.randn(4)})\n",
    "df2 = pd.DataFrame({\"key\": [\"B\", \"D\", \"D\", \"E\"], \"value\": np.random.randn(4)})"
   ]
  },
  {
   "cell_type": "code",
   "execution_count": 94,
   "id": "cb17bc9e",
   "metadata": {
    "execution": {
     "iopub.execute_input": "2025-02-28T13:08:36.332051Z",
     "iopub.status.busy": "2025-02-28T13:08:36.331690Z",
     "iopub.status.idle": "2025-02-28T13:08:36.348106Z",
     "shell.execute_reply": "2025-02-28T13:08:36.347018Z"
    },
    "papermill": {
     "duration": 0.06332,
     "end_time": "2025-02-28T13:08:36.350044",
     "exception": false,
     "start_time": "2025-02-28T13:08:36.286724",
     "status": "completed"
    },
    "tags": []
   },
   "outputs": [
    {
     "data": {
      "text/html": [
       "<div>\n",
       "<style scoped>\n",
       "    .dataframe tbody tr th:only-of-type {\n",
       "        vertical-align: middle;\n",
       "    }\n",
       "\n",
       "    .dataframe tbody tr th {\n",
       "        vertical-align: top;\n",
       "    }\n",
       "\n",
       "    .dataframe thead th {\n",
       "        text-align: right;\n",
       "    }\n",
       "</style>\n",
       "<table border=\"1\" class=\"dataframe\">\n",
       "  <thead>\n",
       "    <tr style=\"text-align: right;\">\n",
       "      <th></th>\n",
       "      <th>key</th>\n",
       "      <th>value_x</th>\n",
       "      <th>value_y</th>\n",
       "    </tr>\n",
       "  </thead>\n",
       "  <tbody>\n",
       "    <tr>\n",
       "      <th>0</th>\n",
       "      <td>B</td>\n",
       "      <td>-0.725809</td>\n",
       "      <td>-0.081485</td>\n",
       "    </tr>\n",
       "    <tr>\n",
       "      <th>1</th>\n",
       "      <td>D</td>\n",
       "      <td>0.666693</td>\n",
       "      <td>-1.151412</td>\n",
       "    </tr>\n",
       "    <tr>\n",
       "      <th>2</th>\n",
       "      <td>D</td>\n",
       "      <td>0.666693</td>\n",
       "      <td>-1.834569</td>\n",
       "    </tr>\n",
       "  </tbody>\n",
       "</table>\n",
       "</div>"
      ],
      "text/plain": [
       "  key   value_x   value_y\n",
       "0   B -0.725809 -0.081485\n",
       "1   D  0.666693 -1.151412\n",
       "2   D  0.666693 -1.834569"
      ]
     },
     "execution_count": 94,
     "metadata": {},
     "output_type": "execute_result"
    }
   ],
   "source": [
    "pd.merge(df1, df2, on=\"key\")"
   ]
  },
  {
   "cell_type": "code",
   "execution_count": 95,
   "id": "af1cdd94",
   "metadata": {
    "execution": {
     "iopub.execute_input": "2025-02-28T13:08:36.436964Z",
     "iopub.status.busy": "2025-02-28T13:08:36.436546Z",
     "iopub.status.idle": "2025-02-28T13:08:36.449972Z",
     "shell.execute_reply": "2025-02-28T13:08:36.448762Z"
    },
    "papermill": {
     "duration": 0.060003,
     "end_time": "2025-02-28T13:08:36.451639",
     "exception": false,
     "start_time": "2025-02-28T13:08:36.391636",
     "status": "completed"
    },
    "tags": []
   },
   "outputs": [
    {
     "data": {
      "text/html": [
       "<div>\n",
       "<style scoped>\n",
       "    .dataframe tbody tr th:only-of-type {\n",
       "        vertical-align: middle;\n",
       "    }\n",
       "\n",
       "    .dataframe tbody tr th {\n",
       "        vertical-align: top;\n",
       "    }\n",
       "\n",
       "    .dataframe thead th {\n",
       "        text-align: right;\n",
       "    }\n",
       "</style>\n",
       "<table border=\"1\" class=\"dataframe\">\n",
       "  <thead>\n",
       "    <tr style=\"text-align: right;\">\n",
       "      <th></th>\n",
       "      <th>key</th>\n",
       "      <th>value_x</th>\n",
       "      <th>value_y</th>\n",
       "    </tr>\n",
       "  </thead>\n",
       "  <tbody>\n",
       "    <tr>\n",
       "      <th>1</th>\n",
       "      <td>B</td>\n",
       "      <td>-0.725809</td>\n",
       "      <td>-0.081485</td>\n",
       "    </tr>\n",
       "    <tr>\n",
       "      <th>3</th>\n",
       "      <td>D</td>\n",
       "      <td>0.666693</td>\n",
       "      <td>-1.151412</td>\n",
       "    </tr>\n",
       "    <tr>\n",
       "      <th>3</th>\n",
       "      <td>D</td>\n",
       "      <td>0.666693</td>\n",
       "      <td>-1.834569</td>\n",
       "    </tr>\n",
       "  </tbody>\n",
       "</table>\n",
       "</div>"
      ],
      "text/plain": [
       "  key   value_x   value_y\n",
       "1   B -0.725809 -0.081485\n",
       "3   D  0.666693 -1.151412\n",
       "3   D  0.666693 -1.834569"
      ]
     },
     "execution_count": 95,
     "metadata": {},
     "output_type": "execute_result"
    }
   ],
   "source": [
    "indexed_df2 = df2.set_index(\"key\")\n",
    "pd.merge(df1, indexed_df2, left_on=\"key\", right_index=True)"
   ]
  },
  {
   "cell_type": "code",
   "execution_count": 96,
   "id": "957ba759",
   "metadata": {
    "execution": {
     "iopub.execute_input": "2025-02-28T13:08:36.536613Z",
     "iopub.status.busy": "2025-02-28T13:08:36.536210Z",
     "iopub.status.idle": "2025-02-28T13:08:36.550548Z",
     "shell.execute_reply": "2025-02-28T13:08:36.549363Z"
    },
    "papermill": {
     "duration": 0.059287,
     "end_time": "2025-02-28T13:08:36.552389",
     "exception": false,
     "start_time": "2025-02-28T13:08:36.493102",
     "status": "completed"
    },
    "tags": []
   },
   "outputs": [
    {
     "data": {
      "text/html": [
       "<div>\n",
       "<style scoped>\n",
       "    .dataframe tbody tr th:only-of-type {\n",
       "        vertical-align: middle;\n",
       "    }\n",
       "\n",
       "    .dataframe tbody tr th {\n",
       "        vertical-align: top;\n",
       "    }\n",
       "\n",
       "    .dataframe thead th {\n",
       "        text-align: right;\n",
       "    }\n",
       "</style>\n",
       "<table border=\"1\" class=\"dataframe\">\n",
       "  <thead>\n",
       "    <tr style=\"text-align: right;\">\n",
       "      <th></th>\n",
       "      <th>key</th>\n",
       "      <th>value_x</th>\n",
       "      <th>value_y</th>\n",
       "    </tr>\n",
       "  </thead>\n",
       "  <tbody>\n",
       "    <tr>\n",
       "      <th>0</th>\n",
       "      <td>A</td>\n",
       "      <td>-0.429078</td>\n",
       "      <td>NaN</td>\n",
       "    </tr>\n",
       "    <tr>\n",
       "      <th>1</th>\n",
       "      <td>B</td>\n",
       "      <td>-0.725809</td>\n",
       "      <td>-0.081485</td>\n",
       "    </tr>\n",
       "    <tr>\n",
       "      <th>2</th>\n",
       "      <td>C</td>\n",
       "      <td>0.636648</td>\n",
       "      <td>NaN</td>\n",
       "    </tr>\n",
       "    <tr>\n",
       "      <th>3</th>\n",
       "      <td>D</td>\n",
       "      <td>0.666693</td>\n",
       "      <td>-1.151412</td>\n",
       "    </tr>\n",
       "    <tr>\n",
       "      <th>4</th>\n",
       "      <td>D</td>\n",
       "      <td>0.666693</td>\n",
       "      <td>-1.834569</td>\n",
       "    </tr>\n",
       "  </tbody>\n",
       "</table>\n",
       "</div>"
      ],
      "text/plain": [
       "  key   value_x   value_y\n",
       "0   A -0.429078       NaN\n",
       "1   B -0.725809 -0.081485\n",
       "2   C  0.636648       NaN\n",
       "3   D  0.666693 -1.151412\n",
       "4   D  0.666693 -1.834569"
      ]
     },
     "execution_count": 96,
     "metadata": {},
     "output_type": "execute_result"
    }
   ],
   "source": [
    "pd.merge(df1, df2, on=\"key\", how=\"left\")"
   ]
  },
  {
   "cell_type": "code",
   "execution_count": 97,
   "id": "cdc3ac53",
   "metadata": {
    "execution": {
     "iopub.execute_input": "2025-02-28T13:08:36.637701Z",
     "iopub.status.busy": "2025-02-28T13:08:36.637279Z",
     "iopub.status.idle": "2025-02-28T13:08:36.649862Z",
     "shell.execute_reply": "2025-02-28T13:08:36.648952Z"
    },
    "papermill": {
     "duration": 0.058143,
     "end_time": "2025-02-28T13:08:36.651723",
     "exception": false,
     "start_time": "2025-02-28T13:08:36.593580",
     "status": "completed"
    },
    "tags": []
   },
   "outputs": [
    {
     "data": {
      "text/html": [
       "<div>\n",
       "<style scoped>\n",
       "    .dataframe tbody tr th:only-of-type {\n",
       "        vertical-align: middle;\n",
       "    }\n",
       "\n",
       "    .dataframe tbody tr th {\n",
       "        vertical-align: top;\n",
       "    }\n",
       "\n",
       "    .dataframe thead th {\n",
       "        text-align: right;\n",
       "    }\n",
       "</style>\n",
       "<table border=\"1\" class=\"dataframe\">\n",
       "  <thead>\n",
       "    <tr style=\"text-align: right;\">\n",
       "      <th></th>\n",
       "      <th>key</th>\n",
       "      <th>value_x</th>\n",
       "      <th>value_y</th>\n",
       "    </tr>\n",
       "  </thead>\n",
       "  <tbody>\n",
       "    <tr>\n",
       "      <th>0</th>\n",
       "      <td>B</td>\n",
       "      <td>-0.725809</td>\n",
       "      <td>-0.081485</td>\n",
       "    </tr>\n",
       "    <tr>\n",
       "      <th>1</th>\n",
       "      <td>D</td>\n",
       "      <td>0.666693</td>\n",
       "      <td>-1.151412</td>\n",
       "    </tr>\n",
       "    <tr>\n",
       "      <th>2</th>\n",
       "      <td>D</td>\n",
       "      <td>0.666693</td>\n",
       "      <td>-1.834569</td>\n",
       "    </tr>\n",
       "    <tr>\n",
       "      <th>3</th>\n",
       "      <td>E</td>\n",
       "      <td>NaN</td>\n",
       "      <td>-1.080078</td>\n",
       "    </tr>\n",
       "  </tbody>\n",
       "</table>\n",
       "</div>"
      ],
      "text/plain": [
       "  key   value_x   value_y\n",
       "0   B -0.725809 -0.081485\n",
       "1   D  0.666693 -1.151412\n",
       "2   D  0.666693 -1.834569\n",
       "3   E       NaN -1.080078"
      ]
     },
     "execution_count": 97,
     "metadata": {},
     "output_type": "execute_result"
    }
   ],
   "source": [
    "pd.merge(df1, df2, on=\"key\", how=\"right\")"
   ]
  },
  {
   "cell_type": "code",
   "execution_count": 98,
   "id": "789cb25e",
   "metadata": {
    "execution": {
     "iopub.execute_input": "2025-02-28T13:08:36.736974Z",
     "iopub.status.busy": "2025-02-28T13:08:36.736623Z",
     "iopub.status.idle": "2025-02-28T13:08:36.749648Z",
     "shell.execute_reply": "2025-02-28T13:08:36.748407Z"
    },
    "papermill": {
     "duration": 0.057316,
     "end_time": "2025-02-28T13:08:36.751353",
     "exception": false,
     "start_time": "2025-02-28T13:08:36.694037",
     "status": "completed"
    },
    "tags": []
   },
   "outputs": [
    {
     "data": {
      "text/html": [
       "<div>\n",
       "<style scoped>\n",
       "    .dataframe tbody tr th:only-of-type {\n",
       "        vertical-align: middle;\n",
       "    }\n",
       "\n",
       "    .dataframe tbody tr th {\n",
       "        vertical-align: top;\n",
       "    }\n",
       "\n",
       "    .dataframe thead th {\n",
       "        text-align: right;\n",
       "    }\n",
       "</style>\n",
       "<table border=\"1\" class=\"dataframe\">\n",
       "  <thead>\n",
       "    <tr style=\"text-align: right;\">\n",
       "      <th></th>\n",
       "      <th>key</th>\n",
       "      <th>value_x</th>\n",
       "      <th>value_y</th>\n",
       "    </tr>\n",
       "  </thead>\n",
       "  <tbody>\n",
       "    <tr>\n",
       "      <th>0</th>\n",
       "      <td>A</td>\n",
       "      <td>-0.429078</td>\n",
       "      <td>NaN</td>\n",
       "    </tr>\n",
       "    <tr>\n",
       "      <th>1</th>\n",
       "      <td>B</td>\n",
       "      <td>-0.725809</td>\n",
       "      <td>-0.081485</td>\n",
       "    </tr>\n",
       "    <tr>\n",
       "      <th>2</th>\n",
       "      <td>C</td>\n",
       "      <td>0.636648</td>\n",
       "      <td>NaN</td>\n",
       "    </tr>\n",
       "    <tr>\n",
       "      <th>3</th>\n",
       "      <td>D</td>\n",
       "      <td>0.666693</td>\n",
       "      <td>-1.151412</td>\n",
       "    </tr>\n",
       "    <tr>\n",
       "      <th>4</th>\n",
       "      <td>D</td>\n",
       "      <td>0.666693</td>\n",
       "      <td>-1.834569</td>\n",
       "    </tr>\n",
       "    <tr>\n",
       "      <th>5</th>\n",
       "      <td>E</td>\n",
       "      <td>NaN</td>\n",
       "      <td>-1.080078</td>\n",
       "    </tr>\n",
       "  </tbody>\n",
       "</table>\n",
       "</div>"
      ],
      "text/plain": [
       "  key   value_x   value_y\n",
       "0   A -0.429078       NaN\n",
       "1   B -0.725809 -0.081485\n",
       "2   C  0.636648       NaN\n",
       "3   D  0.666693 -1.151412\n",
       "4   D  0.666693 -1.834569\n",
       "5   E       NaN -1.080078"
      ]
     },
     "execution_count": 98,
     "metadata": {},
     "output_type": "execute_result"
    }
   ],
   "source": [
    "pd.merge(df1, df2, on=\"key\", how=\"outer\")"
   ]
  },
  {
   "cell_type": "code",
   "execution_count": 99,
   "id": "2ebf0888",
   "metadata": {
    "execution": {
     "iopub.execute_input": "2025-02-28T13:08:36.839411Z",
     "iopub.status.busy": "2025-02-28T13:08:36.839016Z",
     "iopub.status.idle": "2025-02-28T13:08:36.851761Z",
     "shell.execute_reply": "2025-02-28T13:08:36.850552Z"
    },
    "papermill": {
     "duration": 0.060007,
     "end_time": "2025-02-28T13:08:36.853665",
     "exception": false,
     "start_time": "2025-02-28T13:08:36.793658",
     "status": "completed"
    },
    "tags": []
   },
   "outputs": [
    {
     "data": {
      "text/html": [
       "<div>\n",
       "<style scoped>\n",
       "    .dataframe tbody tr th:only-of-type {\n",
       "        vertical-align: middle;\n",
       "    }\n",
       "\n",
       "    .dataframe tbody tr th {\n",
       "        vertical-align: top;\n",
       "    }\n",
       "\n",
       "    .dataframe thead th {\n",
       "        text-align: right;\n",
       "    }\n",
       "</style>\n",
       "<table border=\"1\" class=\"dataframe\">\n",
       "  <thead>\n",
       "    <tr style=\"text-align: right;\">\n",
       "      <th></th>\n",
       "      <th>city</th>\n",
       "      <th>rank</th>\n",
       "    </tr>\n",
       "  </thead>\n",
       "  <tbody>\n",
       "    <tr>\n",
       "      <th>0</th>\n",
       "      <td>Chicago</td>\n",
       "      <td>1</td>\n",
       "    </tr>\n",
       "    <tr>\n",
       "      <th>1</th>\n",
       "      <td>San Francisco</td>\n",
       "      <td>2</td>\n",
       "    </tr>\n",
       "    <tr>\n",
       "      <th>2</th>\n",
       "      <td>New York City</td>\n",
       "      <td>3</td>\n",
       "    </tr>\n",
       "    <tr>\n",
       "      <th>0</th>\n",
       "      <td>Chicago</td>\n",
       "      <td>1</td>\n",
       "    </tr>\n",
       "    <tr>\n",
       "      <th>1</th>\n",
       "      <td>Boston</td>\n",
       "      <td>4</td>\n",
       "    </tr>\n",
       "    <tr>\n",
       "      <th>2</th>\n",
       "      <td>Los Angeles</td>\n",
       "      <td>5</td>\n",
       "    </tr>\n",
       "  </tbody>\n",
       "</table>\n",
       "</div>"
      ],
      "text/plain": [
       "            city  rank\n",
       "0        Chicago     1\n",
       "1  San Francisco     2\n",
       "2  New York City     3\n",
       "0        Chicago     1\n",
       "1         Boston     4\n",
       "2    Los Angeles     5"
      ]
     },
     "execution_count": 99,
     "metadata": {},
     "output_type": "execute_result"
    }
   ],
   "source": [
    "df1 = pd.DataFrame({\"city\": [\"Chicago\", \"San Francisco\", \"New York City\"], \"rank\": range(1, 4)})\n",
    "\n",
    "df2 = pd.DataFrame({\"city\": [\"Chicago\", \"Boston\", \"Los Angeles\"], \"rank\": [1, 4, 5]})\n",
    "\n",
    "\n",
    "pd.concat([df1, df2])"
   ]
  },
  {
   "cell_type": "code",
   "execution_count": 100,
   "id": "ecbf4bdc",
   "metadata": {
    "execution": {
     "iopub.execute_input": "2025-02-28T13:08:36.939374Z",
     "iopub.status.busy": "2025-02-28T13:08:36.938980Z",
     "iopub.status.idle": "2025-02-28T13:08:36.950529Z",
     "shell.execute_reply": "2025-02-28T13:08:36.949287Z"
    },
    "papermill": {
     "duration": 0.057147,
     "end_time": "2025-02-28T13:08:36.952428",
     "exception": false,
     "start_time": "2025-02-28T13:08:36.895281",
     "status": "completed"
    },
    "tags": []
   },
   "outputs": [
    {
     "data": {
      "text/html": [
       "<div>\n",
       "<style scoped>\n",
       "    .dataframe tbody tr th:only-of-type {\n",
       "        vertical-align: middle;\n",
       "    }\n",
       "\n",
       "    .dataframe tbody tr th {\n",
       "        vertical-align: top;\n",
       "    }\n",
       "\n",
       "    .dataframe thead th {\n",
       "        text-align: right;\n",
       "    }\n",
       "</style>\n",
       "<table border=\"1\" class=\"dataframe\">\n",
       "  <thead>\n",
       "    <tr style=\"text-align: right;\">\n",
       "      <th></th>\n",
       "      <th>city</th>\n",
       "      <th>rank</th>\n",
       "    </tr>\n",
       "  </thead>\n",
       "  <tbody>\n",
       "    <tr>\n",
       "      <th>0</th>\n",
       "      <td>Chicago</td>\n",
       "      <td>1</td>\n",
       "    </tr>\n",
       "    <tr>\n",
       "      <th>1</th>\n",
       "      <td>San Francisco</td>\n",
       "      <td>2</td>\n",
       "    </tr>\n",
       "    <tr>\n",
       "      <th>2</th>\n",
       "      <td>New York City</td>\n",
       "      <td>3</td>\n",
       "    </tr>\n",
       "    <tr>\n",
       "      <th>1</th>\n",
       "      <td>Boston</td>\n",
       "      <td>4</td>\n",
       "    </tr>\n",
       "    <tr>\n",
       "      <th>2</th>\n",
       "      <td>Los Angeles</td>\n",
       "      <td>5</td>\n",
       "    </tr>\n",
       "  </tbody>\n",
       "</table>\n",
       "</div>"
      ],
      "text/plain": [
       "            city  rank\n",
       "0        Chicago     1\n",
       "1  San Francisco     2\n",
       "2  New York City     3\n",
       "1         Boston     4\n",
       "2    Los Angeles     5"
      ]
     },
     "execution_count": 100,
     "metadata": {},
     "output_type": "execute_result"
    }
   ],
   "source": [
    "pd.concat([df1, df2]).drop_duplicates()"
   ]
  },
  {
   "cell_type": "code",
   "execution_count": 101,
   "id": "e3e562fc",
   "metadata": {
    "execution": {
     "iopub.execute_input": "2025-02-28T13:08:37.041152Z",
     "iopub.status.busy": "2025-02-28T13:08:37.040810Z",
     "iopub.status.idle": "2025-02-28T13:08:37.049990Z",
     "shell.execute_reply": "2025-02-28T13:08:37.048961Z"
    },
    "papermill": {
     "duration": 0.05454,
     "end_time": "2025-02-28T13:08:37.051913",
     "exception": false,
     "start_time": "2025-02-28T13:08:36.997373",
     "status": "completed"
    },
    "tags": []
   },
   "outputs": [
    {
     "data": {
      "text/html": [
       "<div>\n",
       "<style scoped>\n",
       "    .dataframe tbody tr th:only-of-type {\n",
       "        vertical-align: middle;\n",
       "    }\n",
       "\n",
       "    .dataframe tbody tr th {\n",
       "        vertical-align: top;\n",
       "    }\n",
       "\n",
       "    .dataframe thead th {\n",
       "        text-align: right;\n",
       "    }\n",
       "</style>\n",
       "<table border=\"1\" class=\"dataframe\">\n",
       "  <thead>\n",
       "    <tr style=\"text-align: right;\">\n",
       "      <th></th>\n",
       "      <th>x</th>\n",
       "      <th>y</th>\n",
       "    </tr>\n",
       "  </thead>\n",
       "  <tbody>\n",
       "    <tr>\n",
       "      <th>0</th>\n",
       "      <td>1</td>\n",
       "      <td>2</td>\n",
       "    </tr>\n",
       "    <tr>\n",
       "      <th>1</th>\n",
       "      <td>3</td>\n",
       "      <td>4</td>\n",
       "    </tr>\n",
       "    <tr>\n",
       "      <th>2</th>\n",
       "      <td>5</td>\n",
       "      <td>6</td>\n",
       "    </tr>\n",
       "  </tbody>\n",
       "</table>\n",
       "</div>"
      ],
      "text/plain": [
       "   x  y\n",
       "0  1  2\n",
       "1  3  4\n",
       "2  5  6"
      ]
     },
     "execution_count": 101,
     "metadata": {},
     "output_type": "execute_result"
    }
   ],
   "source": [
    "df = pd.DataFrame({\"x\": [1, 3, 5], \"y\": [2, 4, 6]})\n",
    "df"
   ]
  },
  {
   "cell_type": "code",
   "execution_count": 102,
   "id": "d5933c40",
   "metadata": {
    "execution": {
     "iopub.execute_input": "2025-02-28T13:08:37.139009Z",
     "iopub.status.busy": "2025-02-28T13:08:37.138648Z",
     "iopub.status.idle": "2025-02-28T13:08:37.151521Z",
     "shell.execute_reply": "2025-02-28T13:08:37.150292Z"
    },
    "papermill": {
     "duration": 0.058338,
     "end_time": "2025-02-28T13:08:37.153668",
     "exception": false,
     "start_time": "2025-02-28T13:08:37.095330",
     "status": "completed"
    },
    "tags": []
   },
   "outputs": [
    {
     "data": {
      "text/html": [
       "<div>\n",
       "<style scoped>\n",
       "    .dataframe tbody tr th:only-of-type {\n",
       "        vertical-align: middle;\n",
       "    }\n",
       "\n",
       "    .dataframe tbody tr th {\n",
       "        vertical-align: top;\n",
       "    }\n",
       "\n",
       "    .dataframe thead th {\n",
       "        text-align: right;\n",
       "    }\n",
       "</style>\n",
       "<table border=\"1\" class=\"dataframe\">\n",
       "  <thead>\n",
       "    <tr style=\"text-align: right;\">\n",
       "      <th></th>\n",
       "      <th>String</th>\n",
       "      <th>First_Name</th>\n",
       "      <th>Last_Name</th>\n",
       "    </tr>\n",
       "  </thead>\n",
       "  <tbody>\n",
       "    <tr>\n",
       "      <th>0</th>\n",
       "      <td>John Smith</td>\n",
       "      <td>John</td>\n",
       "      <td>Smith</td>\n",
       "    </tr>\n",
       "    <tr>\n",
       "      <th>1</th>\n",
       "      <td>Jane Cook</td>\n",
       "      <td>Jane</td>\n",
       "      <td>Cook</td>\n",
       "    </tr>\n",
       "  </tbody>\n",
       "</table>\n",
       "</div>"
      ],
      "text/plain": [
       "       String First_Name Last_Name\n",
       "0  John Smith       John     Smith\n",
       "1   Jane Cook       Jane      Cook"
      ]
     },
     "execution_count": 102,
     "metadata": {},
     "output_type": "execute_result"
    }
   ],
   "source": [
    "firstlast = pd.DataFrame({\"String\": [\"John Smith\", \"Jane Cook\"]})\n",
    "firstlast[\"First_Name\"] = firstlast[\"String\"].str.split(\" \", expand=True)[0]\n",
    "firstlast[\"Last_Name\"] = firstlast[\"String\"].str.rsplit(\" \", expand=True)[1]\n",
    "firstlast"
   ]
  },
  {
   "cell_type": "code",
   "execution_count": 103,
   "id": "4dd2cdc4",
   "metadata": {
    "execution": {
     "iopub.execute_input": "2025-02-28T13:08:37.240162Z",
     "iopub.status.busy": "2025-02-28T13:08:37.239811Z",
     "iopub.status.idle": "2025-02-28T13:08:37.252177Z",
     "shell.execute_reply": "2025-02-28T13:08:37.251211Z"
    },
    "papermill": {
     "duration": 0.057608,
     "end_time": "2025-02-28T13:08:37.253965",
     "exception": false,
     "start_time": "2025-02-28T13:08:37.196357",
     "status": "completed"
    },
    "tags": []
   },
   "outputs": [
    {
     "data": {
      "text/html": [
       "<div>\n",
       "<style scoped>\n",
       "    .dataframe tbody tr th:only-of-type {\n",
       "        vertical-align: middle;\n",
       "    }\n",
       "\n",
       "    .dataframe tbody tr th {\n",
       "        vertical-align: top;\n",
       "    }\n",
       "\n",
       "    .dataframe thead th {\n",
       "        text-align: right;\n",
       "    }\n",
       "</style>\n",
       "<table border=\"1\" class=\"dataframe\">\n",
       "  <thead>\n",
       "    <tr style=\"text-align: right;\">\n",
       "      <th></th>\n",
       "      <th>string</th>\n",
       "      <th>upper</th>\n",
       "      <th>lower</th>\n",
       "      <th>title</th>\n",
       "    </tr>\n",
       "  </thead>\n",
       "  <tbody>\n",
       "    <tr>\n",
       "      <th>0</th>\n",
       "      <td>John Smith</td>\n",
       "      <td>JOHN SMITH</td>\n",
       "      <td>john smith</td>\n",
       "      <td>John Smith</td>\n",
       "    </tr>\n",
       "    <tr>\n",
       "      <th>1</th>\n",
       "      <td>Jane Cook</td>\n",
       "      <td>JANE COOK</td>\n",
       "      <td>jane cook</td>\n",
       "      <td>Jane Cook</td>\n",
       "    </tr>\n",
       "  </tbody>\n",
       "</table>\n",
       "</div>"
      ],
      "text/plain": [
       "       string       upper       lower       title\n",
       "0  John Smith  JOHN SMITH  john smith  John Smith\n",
       "1   Jane Cook   JANE COOK   jane cook   Jane Cook"
      ]
     },
     "execution_count": 103,
     "metadata": {},
     "output_type": "execute_result"
    }
   ],
   "source": [
    "firstlast = pd.DataFrame({\"string\": [\"John Smith\", \"Jane Cook\"]})\n",
    "firstlast[\"upper\"] = firstlast[\"string\"].str.upper()\n",
    "firstlast[\"lower\"] = firstlast[\"string\"].str.lower()\n",
    "firstlast[\"title\"] = firstlast[\"string\"].str.title()\n",
    "firstlast"
   ]
  },
  {
   "cell_type": "code",
   "execution_count": 104,
   "id": "df357353",
   "metadata": {
    "execution": {
     "iopub.execute_input": "2025-02-28T13:08:37.340166Z",
     "iopub.status.busy": "2025-02-28T13:08:37.339808Z",
     "iopub.status.idle": "2025-02-28T13:08:37.349654Z",
     "shell.execute_reply": "2025-02-28T13:08:37.348493Z"
    },
    "papermill": {
     "duration": 0.055052,
     "end_time": "2025-02-28T13:08:37.351290",
     "exception": false,
     "start_time": "2025-02-28T13:08:37.296238",
     "status": "completed"
    },
    "tags": []
   },
   "outputs": [
    {
     "data": {
      "text/html": [
       "<div>\n",
       "<style scoped>\n",
       "    .dataframe tbody tr th:only-of-type {\n",
       "        vertical-align: middle;\n",
       "    }\n",
       "\n",
       "    .dataframe tbody tr th {\n",
       "        vertical-align: top;\n",
       "    }\n",
       "\n",
       "    .dataframe thead th {\n",
       "        text-align: right;\n",
       "    }\n",
       "</style>\n",
       "<table border=\"1\" class=\"dataframe\">\n",
       "  <thead>\n",
       "    <tr style=\"text-align: right;\">\n",
       "      <th></th>\n",
       "      <th>key</th>\n",
       "      <th>value</th>\n",
       "    </tr>\n",
       "  </thead>\n",
       "  <tbody>\n",
       "    <tr>\n",
       "      <th>0</th>\n",
       "      <td>A</td>\n",
       "      <td>0.990644</td>\n",
       "    </tr>\n",
       "    <tr>\n",
       "      <th>1</th>\n",
       "      <td>B</td>\n",
       "      <td>1.156296</td>\n",
       "    </tr>\n",
       "    <tr>\n",
       "      <th>2</th>\n",
       "      <td>C</td>\n",
       "      <td>1.090612</td>\n",
       "    </tr>\n",
       "    <tr>\n",
       "      <th>3</th>\n",
       "      <td>D</td>\n",
       "      <td>1.750108</td>\n",
       "    </tr>\n",
       "  </tbody>\n",
       "</table>\n",
       "</div>"
      ],
      "text/plain": [
       "  key     value\n",
       "0   A  0.990644\n",
       "1   B  1.156296\n",
       "2   C  1.090612\n",
       "3   D  1.750108"
      ]
     },
     "execution_count": 104,
     "metadata": {},
     "output_type": "execute_result"
    }
   ],
   "source": [
    "df1 = pd.DataFrame({\"key\": [\"A\", \"B\", \"C\", \"D\"], \"value\": np.random.randn(4)})\n",
    "df1"
   ]
  },
  {
   "cell_type": "code",
   "execution_count": 105,
   "id": "b5a9efbc",
   "metadata": {
    "execution": {
     "iopub.execute_input": "2025-02-28T13:08:37.438261Z",
     "iopub.status.busy": "2025-02-28T13:08:37.437906Z",
     "iopub.status.idle": "2025-02-28T13:08:37.447739Z",
     "shell.execute_reply": "2025-02-28T13:08:37.446758Z"
    },
    "papermill": {
     "duration": 0.055768,
     "end_time": "2025-02-28T13:08:37.449377",
     "exception": false,
     "start_time": "2025-02-28T13:08:37.393609",
     "status": "completed"
    },
    "tags": []
   },
   "outputs": [
    {
     "data": {
      "text/html": [
       "<div>\n",
       "<style scoped>\n",
       "    .dataframe tbody tr th:only-of-type {\n",
       "        vertical-align: middle;\n",
       "    }\n",
       "\n",
       "    .dataframe tbody tr th {\n",
       "        vertical-align: top;\n",
       "    }\n",
       "\n",
       "    .dataframe thead th {\n",
       "        text-align: right;\n",
       "    }\n",
       "</style>\n",
       "<table border=\"1\" class=\"dataframe\">\n",
       "  <thead>\n",
       "    <tr style=\"text-align: right;\">\n",
       "      <th></th>\n",
       "      <th>key</th>\n",
       "      <th>value</th>\n",
       "    </tr>\n",
       "  </thead>\n",
       "  <tbody>\n",
       "    <tr>\n",
       "      <th>0</th>\n",
       "      <td>B</td>\n",
       "      <td>-0.331439</td>\n",
       "    </tr>\n",
       "    <tr>\n",
       "      <th>1</th>\n",
       "      <td>D</td>\n",
       "      <td>-0.389730</td>\n",
       "    </tr>\n",
       "    <tr>\n",
       "      <th>2</th>\n",
       "      <td>D</td>\n",
       "      <td>-0.712765</td>\n",
       "    </tr>\n",
       "    <tr>\n",
       "      <th>3</th>\n",
       "      <td>E</td>\n",
       "      <td>1.530564</td>\n",
       "    </tr>\n",
       "  </tbody>\n",
       "</table>\n",
       "</div>"
      ],
      "text/plain": [
       "  key     value\n",
       "0   B -0.331439\n",
       "1   D -0.389730\n",
       "2   D -0.712765\n",
       "3   E  1.530564"
      ]
     },
     "execution_count": 105,
     "metadata": {},
     "output_type": "execute_result"
    }
   ],
   "source": [
    "df2 = pd.DataFrame({\"key\": [\"B\", \"D\", \"D\", \"E\"], \"value\": np.random.randn(4)})\n",
    "df2"
   ]
  },
  {
   "cell_type": "code",
   "execution_count": 106,
   "id": "8c188b2d",
   "metadata": {
    "execution": {
     "iopub.execute_input": "2025-02-28T13:08:37.539438Z",
     "iopub.status.busy": "2025-02-28T13:08:37.539073Z",
     "iopub.status.idle": "2025-02-28T13:08:37.552275Z",
     "shell.execute_reply": "2025-02-28T13:08:37.550971Z"
    },
    "papermill": {
     "duration": 0.061281,
     "end_time": "2025-02-28T13:08:37.554092",
     "exception": false,
     "start_time": "2025-02-28T13:08:37.492811",
     "status": "completed"
    },
    "tags": []
   },
   "outputs": [
    {
     "data": {
      "text/html": [
       "<div>\n",
       "<style scoped>\n",
       "    .dataframe tbody tr th:only-of-type {\n",
       "        vertical-align: middle;\n",
       "    }\n",
       "\n",
       "    .dataframe tbody tr th {\n",
       "        vertical-align: top;\n",
       "    }\n",
       "\n",
       "    .dataframe thead th {\n",
       "        text-align: right;\n",
       "    }\n",
       "</style>\n",
       "<table border=\"1\" class=\"dataframe\">\n",
       "  <thead>\n",
       "    <tr style=\"text-align: right;\">\n",
       "      <th></th>\n",
       "      <th>key</th>\n",
       "      <th>value_x</th>\n",
       "      <th>value_y</th>\n",
       "    </tr>\n",
       "  </thead>\n",
       "  <tbody>\n",
       "    <tr>\n",
       "      <th>0</th>\n",
       "      <td>B</td>\n",
       "      <td>1.156296</td>\n",
       "      <td>-0.331439</td>\n",
       "    </tr>\n",
       "    <tr>\n",
       "      <th>1</th>\n",
       "      <td>D</td>\n",
       "      <td>1.750108</td>\n",
       "      <td>-0.389730</td>\n",
       "    </tr>\n",
       "    <tr>\n",
       "      <th>2</th>\n",
       "      <td>D</td>\n",
       "      <td>1.750108</td>\n",
       "      <td>-0.712765</td>\n",
       "    </tr>\n",
       "  </tbody>\n",
       "</table>\n",
       "</div>"
      ],
      "text/plain": [
       "  key   value_x   value_y\n",
       "0   B  1.156296 -0.331439\n",
       "1   D  1.750108 -0.389730\n",
       "2   D  1.750108 -0.712765"
      ]
     },
     "execution_count": 106,
     "metadata": {},
     "output_type": "execute_result"
    }
   ],
   "source": [
    "inner_join = df1.merge(df2, on=[\"key\"], how=\"inner\")\n",
    "inner_join"
   ]
  },
  {
   "cell_type": "code",
   "execution_count": 107,
   "id": "7194368f",
   "metadata": {
    "execution": {
     "iopub.execute_input": "2025-02-28T13:08:37.645293Z",
     "iopub.status.busy": "2025-02-28T13:08:37.644832Z",
     "iopub.status.idle": "2025-02-28T13:08:37.657863Z",
     "shell.execute_reply": "2025-02-28T13:08:37.656789Z"
    },
    "papermill": {
     "duration": 0.060829,
     "end_time": "2025-02-28T13:08:37.659574",
     "exception": false,
     "start_time": "2025-02-28T13:08:37.598745",
     "status": "completed"
    },
    "tags": []
   },
   "outputs": [
    {
     "data": {
      "text/html": [
       "<div>\n",
       "<style scoped>\n",
       "    .dataframe tbody tr th:only-of-type {\n",
       "        vertical-align: middle;\n",
       "    }\n",
       "\n",
       "    .dataframe tbody tr th {\n",
       "        vertical-align: top;\n",
       "    }\n",
       "\n",
       "    .dataframe thead th {\n",
       "        text-align: right;\n",
       "    }\n",
       "</style>\n",
       "<table border=\"1\" class=\"dataframe\">\n",
       "  <thead>\n",
       "    <tr style=\"text-align: right;\">\n",
       "      <th></th>\n",
       "      <th>key</th>\n",
       "      <th>value_x</th>\n",
       "      <th>value_y</th>\n",
       "    </tr>\n",
       "  </thead>\n",
       "  <tbody>\n",
       "    <tr>\n",
       "      <th>0</th>\n",
       "      <td>A</td>\n",
       "      <td>0.990644</td>\n",
       "      <td>NaN</td>\n",
       "    </tr>\n",
       "    <tr>\n",
       "      <th>1</th>\n",
       "      <td>B</td>\n",
       "      <td>1.156296</td>\n",
       "      <td>-0.331439</td>\n",
       "    </tr>\n",
       "    <tr>\n",
       "      <th>2</th>\n",
       "      <td>C</td>\n",
       "      <td>1.090612</td>\n",
       "      <td>NaN</td>\n",
       "    </tr>\n",
       "    <tr>\n",
       "      <th>3</th>\n",
       "      <td>D</td>\n",
       "      <td>1.750108</td>\n",
       "      <td>-0.389730</td>\n",
       "    </tr>\n",
       "    <tr>\n",
       "      <th>4</th>\n",
       "      <td>D</td>\n",
       "      <td>1.750108</td>\n",
       "      <td>-0.712765</td>\n",
       "    </tr>\n",
       "  </tbody>\n",
       "</table>\n",
       "</div>"
      ],
      "text/plain": [
       "  key   value_x   value_y\n",
       "0   A  0.990644       NaN\n",
       "1   B  1.156296 -0.331439\n",
       "2   C  1.090612       NaN\n",
       "3   D  1.750108 -0.389730\n",
       "4   D  1.750108 -0.712765"
      ]
     },
     "execution_count": 107,
     "metadata": {},
     "output_type": "execute_result"
    }
   ],
   "source": [
    "left_join = df1.merge(df2, on=[\"key\"], how=\"left\")\n",
    "left_join"
   ]
  },
  {
   "cell_type": "code",
   "execution_count": 108,
   "id": "e58708ab",
   "metadata": {
    "execution": {
     "iopub.execute_input": "2025-02-28T13:08:37.747195Z",
     "iopub.status.busy": "2025-02-28T13:08:37.746797Z",
     "iopub.status.idle": "2025-02-28T13:08:37.760481Z",
     "shell.execute_reply": "2025-02-28T13:08:37.759219Z"
    },
    "papermill": {
     "duration": 0.059459,
     "end_time": "2025-02-28T13:08:37.762288",
     "exception": false,
     "start_time": "2025-02-28T13:08:37.702829",
     "status": "completed"
    },
    "tags": []
   },
   "outputs": [
    {
     "data": {
      "text/html": [
       "<div>\n",
       "<style scoped>\n",
       "    .dataframe tbody tr th:only-of-type {\n",
       "        vertical-align: middle;\n",
       "    }\n",
       "\n",
       "    .dataframe tbody tr th {\n",
       "        vertical-align: top;\n",
       "    }\n",
       "\n",
       "    .dataframe thead th {\n",
       "        text-align: right;\n",
       "    }\n",
       "</style>\n",
       "<table border=\"1\" class=\"dataframe\">\n",
       "  <thead>\n",
       "    <tr style=\"text-align: right;\">\n",
       "      <th></th>\n",
       "      <th>key</th>\n",
       "      <th>value_x</th>\n",
       "      <th>value_y</th>\n",
       "    </tr>\n",
       "  </thead>\n",
       "  <tbody>\n",
       "    <tr>\n",
       "      <th>0</th>\n",
       "      <td>B</td>\n",
       "      <td>1.156296</td>\n",
       "      <td>-0.331439</td>\n",
       "    </tr>\n",
       "    <tr>\n",
       "      <th>1</th>\n",
       "      <td>D</td>\n",
       "      <td>1.750108</td>\n",
       "      <td>-0.389730</td>\n",
       "    </tr>\n",
       "    <tr>\n",
       "      <th>2</th>\n",
       "      <td>D</td>\n",
       "      <td>1.750108</td>\n",
       "      <td>-0.712765</td>\n",
       "    </tr>\n",
       "    <tr>\n",
       "      <th>3</th>\n",
       "      <td>E</td>\n",
       "      <td>NaN</td>\n",
       "      <td>1.530564</td>\n",
       "    </tr>\n",
       "  </tbody>\n",
       "</table>\n",
       "</div>"
      ],
      "text/plain": [
       "  key   value_x   value_y\n",
       "0   B  1.156296 -0.331439\n",
       "1   D  1.750108 -0.389730\n",
       "2   D  1.750108 -0.712765\n",
       "3   E       NaN  1.530564"
      ]
     },
     "execution_count": 108,
     "metadata": {},
     "output_type": "execute_result"
    }
   ],
   "source": [
    "right_join = df1.merge(df2, on=[\"key\"], how=\"right\")\n",
    "right_join"
   ]
  },
  {
   "cell_type": "code",
   "execution_count": 109,
   "id": "3dc9eb67",
   "metadata": {
    "execution": {
     "iopub.execute_input": "2025-02-28T13:08:37.850250Z",
     "iopub.status.busy": "2025-02-28T13:08:37.849828Z",
     "iopub.status.idle": "2025-02-28T13:08:37.864050Z",
     "shell.execute_reply": "2025-02-28T13:08:37.862604Z"
    },
    "papermill": {
     "duration": 0.060446,
     "end_time": "2025-02-28T13:08:37.866241",
     "exception": false,
     "start_time": "2025-02-28T13:08:37.805795",
     "status": "completed"
    },
    "tags": []
   },
   "outputs": [
    {
     "data": {
      "text/html": [
       "<div>\n",
       "<style scoped>\n",
       "    .dataframe tbody tr th:only-of-type {\n",
       "        vertical-align: middle;\n",
       "    }\n",
       "\n",
       "    .dataframe tbody tr th {\n",
       "        vertical-align: top;\n",
       "    }\n",
       "\n",
       "    .dataframe thead th {\n",
       "        text-align: right;\n",
       "    }\n",
       "</style>\n",
       "<table border=\"1\" class=\"dataframe\">\n",
       "  <thead>\n",
       "    <tr style=\"text-align: right;\">\n",
       "      <th></th>\n",
       "      <th>key</th>\n",
       "      <th>value_x</th>\n",
       "      <th>value_y</th>\n",
       "    </tr>\n",
       "  </thead>\n",
       "  <tbody>\n",
       "    <tr>\n",
       "      <th>0</th>\n",
       "      <td>A</td>\n",
       "      <td>0.990644</td>\n",
       "      <td>NaN</td>\n",
       "    </tr>\n",
       "    <tr>\n",
       "      <th>1</th>\n",
       "      <td>B</td>\n",
       "      <td>1.156296</td>\n",
       "      <td>-0.331439</td>\n",
       "    </tr>\n",
       "    <tr>\n",
       "      <th>2</th>\n",
       "      <td>C</td>\n",
       "      <td>1.090612</td>\n",
       "      <td>NaN</td>\n",
       "    </tr>\n",
       "    <tr>\n",
       "      <th>3</th>\n",
       "      <td>D</td>\n",
       "      <td>1.750108</td>\n",
       "      <td>-0.389730</td>\n",
       "    </tr>\n",
       "    <tr>\n",
       "      <th>4</th>\n",
       "      <td>D</td>\n",
       "      <td>1.750108</td>\n",
       "      <td>-0.712765</td>\n",
       "    </tr>\n",
       "    <tr>\n",
       "      <th>5</th>\n",
       "      <td>E</td>\n",
       "      <td>NaN</td>\n",
       "      <td>1.530564</td>\n",
       "    </tr>\n",
       "  </tbody>\n",
       "</table>\n",
       "</div>"
      ],
      "text/plain": [
       "  key   value_x   value_y\n",
       "0   A  0.990644       NaN\n",
       "1   B  1.156296 -0.331439\n",
       "2   C  1.090612       NaN\n",
       "3   D  1.750108 -0.389730\n",
       "4   D  1.750108 -0.712765\n",
       "5   E       NaN  1.530564"
      ]
     },
     "execution_count": 109,
     "metadata": {},
     "output_type": "execute_result"
    }
   ],
   "source": [
    "outer_join = df1.merge(df2, on=[\"key\"], how=\"outer\")\n",
    "outer_join"
   ]
  },
  {
   "cell_type": "code",
   "execution_count": 110,
   "id": "f43d54b1",
   "metadata": {
    "execution": {
     "iopub.execute_input": "2025-02-28T13:08:37.954753Z",
     "iopub.status.busy": "2025-02-28T13:08:37.954339Z",
     "iopub.status.idle": "2025-02-28T13:08:37.963794Z",
     "shell.execute_reply": "2025-02-28T13:08:37.962669Z"
    },
    "papermill": {
     "duration": 0.055024,
     "end_time": "2025-02-28T13:08:37.965583",
     "exception": false,
     "start_time": "2025-02-28T13:08:37.910559",
     "status": "completed"
    },
    "tags": []
   },
   "outputs": [
    {
     "data": {
      "text/html": [
       "<div>\n",
       "<style scoped>\n",
       "    .dataframe tbody tr th:only-of-type {\n",
       "        vertical-align: middle;\n",
       "    }\n",
       "\n",
       "    .dataframe tbody tr th {\n",
       "        vertical-align: top;\n",
       "    }\n",
       "\n",
       "    .dataframe thead th {\n",
       "        text-align: right;\n",
       "    }\n",
       "</style>\n",
       "<table border=\"1\" class=\"dataframe\">\n",
       "  <thead>\n",
       "    <tr style=\"text-align: right;\">\n",
       "      <th></th>\n",
       "      <th>AAA</th>\n",
       "      <th>BBB</th>\n",
       "    </tr>\n",
       "  </thead>\n",
       "  <tbody>\n",
       "    <tr>\n",
       "      <th>0</th>\n",
       "      <td>1</td>\n",
       "      <td>0</td>\n",
       "    </tr>\n",
       "    <tr>\n",
       "      <th>1</th>\n",
       "      <td>1</td>\n",
       "      <td>1</td>\n",
       "    </tr>\n",
       "    <tr>\n",
       "      <th>2</th>\n",
       "      <td>1</td>\n",
       "      <td>2</td>\n",
       "    </tr>\n",
       "    <tr>\n",
       "      <th>3</th>\n",
       "      <td>1</td>\n",
       "      <td>3</td>\n",
       "    </tr>\n",
       "    <tr>\n",
       "      <th>4</th>\n",
       "      <td>1</td>\n",
       "      <td>4</td>\n",
       "    </tr>\n",
       "    <tr>\n",
       "      <th>5</th>\n",
       "      <td>1</td>\n",
       "      <td>5</td>\n",
       "    </tr>\n",
       "    <tr>\n",
       "      <th>6</th>\n",
       "      <td>1</td>\n",
       "      <td>6</td>\n",
       "    </tr>\n",
       "    <tr>\n",
       "      <th>7</th>\n",
       "      <td>1</td>\n",
       "      <td>7</td>\n",
       "    </tr>\n",
       "  </tbody>\n",
       "</table>\n",
       "</div>"
      ],
      "text/plain": [
       "   AAA  BBB\n",
       "0    1    0\n",
       "1    1    1\n",
       "2    1    2\n",
       "3    1    3\n",
       "4    1    4\n",
       "5    1    5\n",
       "6    1    6\n",
       "7    1    7"
      ]
     },
     "execution_count": 110,
     "metadata": {},
     "output_type": "execute_result"
    }
   ],
   "source": [
    "df = pd.DataFrame({\"AAA\": [1] * 8, \"BBB\": list(range(0, 8))})\n",
    "df"
   ]
  },
  {
   "cell_type": "code",
   "execution_count": 111,
   "id": "c440c23f",
   "metadata": {
    "execution": {
     "iopub.execute_input": "2025-02-28T13:08:38.075434Z",
     "iopub.status.busy": "2025-02-28T13:08:38.075095Z",
     "iopub.status.idle": "2025-02-28T13:08:38.081340Z",
     "shell.execute_reply": "2025-02-28T13:08:38.080195Z"
    },
    "papermill": {
     "duration": 0.06323,
     "end_time": "2025-02-28T13:08:38.083226",
     "exception": false,
     "start_time": "2025-02-28T13:08:38.019996",
     "status": "completed"
    },
    "tags": []
   },
   "outputs": [
    {
     "data": {
      "text/plain": [
       "[1, 2, 3, 4]"
      ]
     },
     "execution_count": 111,
     "metadata": {},
     "output_type": "execute_result"
    }
   ],
   "source": [
    "series = list(range(1, 5))\n",
    "series"
   ]
  },
  {
   "cell_type": "code",
   "execution_count": 112,
   "id": "df2bffab",
   "metadata": {
    "execution": {
     "iopub.execute_input": "2025-02-28T13:08:38.185099Z",
     "iopub.status.busy": "2025-02-28T13:08:38.184761Z",
     "iopub.status.idle": "2025-02-28T13:08:38.194497Z",
     "shell.execute_reply": "2025-02-28T13:08:38.193125Z"
    },
    "papermill": {
     "duration": 0.060552,
     "end_time": "2025-02-28T13:08:38.198003",
     "exception": false,
     "start_time": "2025-02-28T13:08:38.137451",
     "status": "completed"
    },
    "tags": []
   },
   "outputs": [
    {
     "data": {
      "text/html": [
       "<div>\n",
       "<style scoped>\n",
       "    .dataframe tbody tr th:only-of-type {\n",
       "        vertical-align: middle;\n",
       "    }\n",
       "\n",
       "    .dataframe tbody tr th {\n",
       "        vertical-align: top;\n",
       "    }\n",
       "\n",
       "    .dataframe thead th {\n",
       "        text-align: right;\n",
       "    }\n",
       "</style>\n",
       "<table border=\"1\" class=\"dataframe\">\n",
       "  <thead>\n",
       "    <tr style=\"text-align: right;\">\n",
       "      <th></th>\n",
       "      <th>AAA</th>\n",
       "      <th>BBB</th>\n",
       "    </tr>\n",
       "  </thead>\n",
       "  <tbody>\n",
       "    <tr>\n",
       "      <th>0</th>\n",
       "      <td>1</td>\n",
       "      <td>0</td>\n",
       "    </tr>\n",
       "    <tr>\n",
       "      <th>1</th>\n",
       "      <td>1</td>\n",
       "      <td>1</td>\n",
       "    </tr>\n",
       "    <tr>\n",
       "      <th>2</th>\n",
       "      <td>1</td>\n",
       "      <td>2</td>\n",
       "    </tr>\n",
       "    <tr>\n",
       "      <th>3</th>\n",
       "      <td>2</td>\n",
       "      <td>3</td>\n",
       "    </tr>\n",
       "    <tr>\n",
       "      <th>4</th>\n",
       "      <td>3</td>\n",
       "      <td>4</td>\n",
       "    </tr>\n",
       "    <tr>\n",
       "      <th>5</th>\n",
       "      <td>4</td>\n",
       "      <td>5</td>\n",
       "    </tr>\n",
       "    <tr>\n",
       "      <th>6</th>\n",
       "      <td>1</td>\n",
       "      <td>6</td>\n",
       "    </tr>\n",
       "    <tr>\n",
       "      <th>7</th>\n",
       "      <td>1</td>\n",
       "      <td>7</td>\n",
       "    </tr>\n",
       "  </tbody>\n",
       "</table>\n",
       "</div>"
      ],
      "text/plain": [
       "   AAA  BBB\n",
       "0    1    0\n",
       "1    1    1\n",
       "2    1    2\n",
       "3    2    3\n",
       "4    3    4\n",
       "5    4    5\n",
       "6    1    6\n",
       "7    1    7"
      ]
     },
     "execution_count": 112,
     "metadata": {},
     "output_type": "execute_result"
    }
   ],
   "source": [
    "df.loc[2:5, \"AAA\"] = series\n",
    "df"
   ]
  },
  {
   "cell_type": "code",
   "execution_count": 113,
   "id": "d9daa69d",
   "metadata": {
    "execution": {
     "iopub.execute_input": "2025-02-28T13:08:38.306105Z",
     "iopub.status.busy": "2025-02-28T13:08:38.305624Z",
     "iopub.status.idle": "2025-02-28T13:08:38.322167Z",
     "shell.execute_reply": "2025-02-28T13:08:38.320963Z"
    },
    "papermill": {
     "duration": 0.073128,
     "end_time": "2025-02-28T13:08:38.324215",
     "exception": false,
     "start_time": "2025-02-28T13:08:38.251087",
     "status": "completed"
    },
    "tags": []
   },
   "outputs": [
    {
     "data": {
      "text/html": [
       "<div>\n",
       "<style scoped>\n",
       "    .dataframe tbody tr th:only-of-type {\n",
       "        vertical-align: middle;\n",
       "    }\n",
       "\n",
       "    .dataframe tbody tr th {\n",
       "        vertical-align: top;\n",
       "    }\n",
       "\n",
       "    .dataframe thead th {\n",
       "        text-align: right;\n",
       "    }\n",
       "</style>\n",
       "<table border=\"1\" class=\"dataframe\">\n",
       "  <thead>\n",
       "    <tr style=\"text-align: right;\">\n",
       "      <th></th>\n",
       "      <th>class</th>\n",
       "      <th>student_count</th>\n",
       "      <th>all_pass</th>\n",
       "    </tr>\n",
       "  </thead>\n",
       "  <tbody>\n",
       "    <tr>\n",
       "      <th>0</th>\n",
       "      <td>A</td>\n",
       "      <td>42</td>\n",
       "      <td>Yes</td>\n",
       "    </tr>\n",
       "    <tr>\n",
       "      <th>1</th>\n",
       "      <td>A</td>\n",
       "      <td>35</td>\n",
       "      <td>Yes</td>\n",
       "    </tr>\n",
       "    <tr>\n",
       "      <th>3</th>\n",
       "      <td>B</td>\n",
       "      <td>50</td>\n",
       "      <td>No</td>\n",
       "    </tr>\n",
       "    <tr>\n",
       "      <th>4</th>\n",
       "      <td>C</td>\n",
       "      <td>47</td>\n",
       "      <td>No</td>\n",
       "    </tr>\n",
       "    <tr>\n",
       "      <th>5</th>\n",
       "      <td>D</td>\n",
       "      <td>45</td>\n",
       "      <td>Yes</td>\n",
       "    </tr>\n",
       "  </tbody>\n",
       "</table>\n",
       "</div>"
      ],
      "text/plain": [
       "  class  student_count all_pass\n",
       "0     A             42      Yes\n",
       "1     A             35      Yes\n",
       "3     B             50       No\n",
       "4     C             47       No\n",
       "5     D             45      Yes"
      ]
     },
     "execution_count": 113,
     "metadata": {},
     "output_type": "execute_result"
    }
   ],
   "source": [
    "df = pd.DataFrame({\n",
    "    \n",
    "\"class\": [\"A\", \"A\", \"A\", \"B\", \"C\", \"D\"],\n",
    "\"student_count\": [42, 35, 42, 50, 47, 45],\n",
    "\"all_pass\": [\"Yes\", \"Yes\", \"Yes\", \"No\", \"No\", \"Yes\"]\n",
    "    \n",
    "})\n",
    "\n",
    "df.drop_duplicates()"
   ]
  },
  {
   "cell_type": "code",
   "execution_count": 114,
   "id": "f801cd11",
   "metadata": {
    "execution": {
     "iopub.execute_input": "2025-02-28T13:08:38.425691Z",
     "iopub.status.busy": "2025-02-28T13:08:38.425274Z",
     "iopub.status.idle": "2025-02-28T13:08:38.436163Z",
     "shell.execute_reply": "2025-02-28T13:08:38.434935Z"
    },
    "papermill": {
     "duration": 0.059011,
     "end_time": "2025-02-28T13:08:38.437851",
     "exception": false,
     "start_time": "2025-02-28T13:08:38.378840",
     "status": "completed"
    },
    "tags": []
   },
   "outputs": [
    {
     "data": {
      "text/html": [
       "<div>\n",
       "<style scoped>\n",
       "    .dataframe tbody tr th:only-of-type {\n",
       "        vertical-align: middle;\n",
       "    }\n",
       "\n",
       "    .dataframe tbody tr th {\n",
       "        vertical-align: top;\n",
       "    }\n",
       "\n",
       "    .dataframe thead th {\n",
       "        text-align: right;\n",
       "    }\n",
       "</style>\n",
       "<table border=\"1\" class=\"dataframe\">\n",
       "  <thead>\n",
       "    <tr style=\"text-align: right;\">\n",
       "      <th></th>\n",
       "      <th>class</th>\n",
       "      <th>student_count</th>\n",
       "      <th>all_pass</th>\n",
       "    </tr>\n",
       "  </thead>\n",
       "  <tbody>\n",
       "    <tr>\n",
       "      <th>0</th>\n",
       "      <td>A</td>\n",
       "      <td>42</td>\n",
       "      <td>Yes</td>\n",
       "    </tr>\n",
       "    <tr>\n",
       "      <th>1</th>\n",
       "      <td>A</td>\n",
       "      <td>35</td>\n",
       "      <td>Yes</td>\n",
       "    </tr>\n",
       "    <tr>\n",
       "      <th>3</th>\n",
       "      <td>B</td>\n",
       "      <td>50</td>\n",
       "      <td>No</td>\n",
       "    </tr>\n",
       "    <tr>\n",
       "      <th>4</th>\n",
       "      <td>C</td>\n",
       "      <td>47</td>\n",
       "      <td>No</td>\n",
       "    </tr>\n",
       "    <tr>\n",
       "      <th>5</th>\n",
       "      <td>D</td>\n",
       "      <td>45</td>\n",
       "      <td>Yes</td>\n",
       "    </tr>\n",
       "  </tbody>\n",
       "</table>\n",
       "</div>"
      ],
      "text/plain": [
       "  class  student_count all_pass\n",
       "0     A             42      Yes\n",
       "1     A             35      Yes\n",
       "3     B             50       No\n",
       "4     C             47       No\n",
       "5     D             45      Yes"
      ]
     },
     "execution_count": 114,
     "metadata": {},
     "output_type": "execute_result"
    }
   ],
   "source": [
    "df.drop_duplicates([\"class\", \"student_count\"])"
   ]
  },
  {
   "cell_type": "code",
   "execution_count": 115,
   "id": "3e0ad0b7",
   "metadata": {
    "execution": {
     "iopub.execute_input": "2025-02-28T13:08:38.538720Z",
     "iopub.status.busy": "2025-02-28T13:08:38.538273Z",
     "iopub.status.idle": "2025-02-28T13:08:38.550784Z",
     "shell.execute_reply": "2025-02-28T13:08:38.549567Z"
    },
    "papermill": {
     "duration": 0.069306,
     "end_time": "2025-02-28T13:08:38.552452",
     "exception": false,
     "start_time": "2025-02-28T13:08:38.483146",
     "status": "completed"
    },
    "tags": []
   },
   "outputs": [
    {
     "data": {
      "text/html": [
       "<div>\n",
       "<style scoped>\n",
       "    .dataframe tbody tr th:only-of-type {\n",
       "        vertical-align: middle;\n",
       "    }\n",
       "\n",
       "    .dataframe tbody tr th {\n",
       "        vertical-align: top;\n",
       "    }\n",
       "\n",
       "    .dataframe thead th {\n",
       "        text-align: right;\n",
       "    }\n",
       "</style>\n",
       "<table border=\"1\" class=\"dataframe\">\n",
       "  <thead>\n",
       "    <tr style=\"text-align: right;\">\n",
       "      <th></th>\n",
       "      <th>class</th>\n",
       "      <th>student_count</th>\n",
       "      <th>all_pass</th>\n",
       "    </tr>\n",
       "  </thead>\n",
       "  <tbody>\n",
       "    <tr>\n",
       "      <th>0</th>\n",
       "      <td>A</td>\n",
       "      <td>42</td>\n",
       "      <td>Yes</td>\n",
       "    </tr>\n",
       "    <tr>\n",
       "      <th>1</th>\n",
       "      <td>A</td>\n",
       "      <td>35</td>\n",
       "      <td>Yes</td>\n",
       "    </tr>\n",
       "    <tr>\n",
       "      <th>2</th>\n",
       "      <td>A</td>\n",
       "      <td>42</td>\n",
       "      <td>Yes</td>\n",
       "    </tr>\n",
       "    <tr>\n",
       "      <th>3</th>\n",
       "      <td>B</td>\n",
       "      <td>50</td>\n",
       "      <td>No</td>\n",
       "    </tr>\n",
       "    <tr>\n",
       "      <th>4</th>\n",
       "      <td>C</td>\n",
       "      <td>47</td>\n",
       "      <td>No</td>\n",
       "    </tr>\n",
       "    <tr>\n",
       "      <th>5</th>\n",
       "      <td>D</td>\n",
       "      <td>45</td>\n",
       "      <td>Yes</td>\n",
       "    </tr>\n",
       "    <tr>\n",
       "      <th>0</th>\n",
       "      <td>E</td>\n",
       "      <td>51</td>\n",
       "      <td>True</td>\n",
       "    </tr>\n",
       "  </tbody>\n",
       "</table>\n",
       "</div>"
      ],
      "text/plain": [
       "  class  student_count all_pass\n",
       "0     A             42      Yes\n",
       "1     A             35      Yes\n",
       "2     A             42      Yes\n",
       "3     B             50       No\n",
       "4     C             47       No\n",
       "5     D             45      Yes\n",
       "0     E             51     True"
      ]
     },
     "execution_count": 115,
     "metadata": {},
     "output_type": "execute_result"
    }
   ],
   "source": [
    "new_row = pd.DataFrame([[\"E\", 51, True]],columns=[\"class\", \"student_count\", \"all_pass\"])\n",
    "pd.concat([df, new_row])"
   ]
  },
  {
   "cell_type": "code",
   "execution_count": 116,
   "id": "e8e92ddf",
   "metadata": {
    "execution": {
     "iopub.execute_input": "2025-02-28T13:08:38.656448Z",
     "iopub.status.busy": "2025-02-28T13:08:38.655975Z",
     "iopub.status.idle": "2025-02-28T13:08:38.668531Z",
     "shell.execute_reply": "2025-02-28T13:08:38.667257Z"
    },
    "papermill": {
     "duration": 0.059772,
     "end_time": "2025-02-28T13:08:38.670433",
     "exception": false,
     "start_time": "2025-02-28T13:08:38.610661",
     "status": "completed"
    },
    "tags": []
   },
   "outputs": [
    {
     "data": {
      "text/html": [
       "<div>\n",
       "<style scoped>\n",
       "    .dataframe tbody tr th:only-of-type {\n",
       "        vertical-align: middle;\n",
       "    }\n",
       "\n",
       "    .dataframe tbody tr th {\n",
       "        vertical-align: top;\n",
       "    }\n",
       "\n",
       "    .dataframe thead th {\n",
       "        text-align: right;\n",
       "    }\n",
       "</style>\n",
       "<table border=\"1\" class=\"dataframe\">\n",
       "  <thead>\n",
       "    <tr style=\"text-align: right;\">\n",
       "      <th></th>\n",
       "      <th>x</th>\n",
       "      <th>y</th>\n",
       "    </tr>\n",
       "  </thead>\n",
       "  <tbody>\n",
       "    <tr>\n",
       "      <th>0</th>\n",
       "      <td>1</td>\n",
       "      <td>2</td>\n",
       "    </tr>\n",
       "    <tr>\n",
       "      <th>1</th>\n",
       "      <td>3</td>\n",
       "      <td>4</td>\n",
       "    </tr>\n",
       "    <tr>\n",
       "      <th>2</th>\n",
       "      <td>5</td>\n",
       "      <td>6</td>\n",
       "    </tr>\n",
       "  </tbody>\n",
       "</table>\n",
       "</div>"
      ],
      "text/plain": [
       "   x  y\n",
       "0  1  2\n",
       "1  3  4\n",
       "2  5  6"
      ]
     },
     "execution_count": 116,
     "metadata": {},
     "output_type": "execute_result"
    }
   ],
   "source": [
    "df = pd.DataFrame({\"x\": [1, 3, 5], \"y\": [2, 4, 6]})\n",
    "df"
   ]
  },
  {
   "cell_type": "code",
   "execution_count": 117,
   "id": "c8c81a6b",
   "metadata": {
    "execution": {
     "iopub.execute_input": "2025-02-28T13:08:38.764293Z",
     "iopub.status.busy": "2025-02-28T13:08:38.763953Z",
     "iopub.status.idle": "2025-02-28T13:08:38.773760Z",
     "shell.execute_reply": "2025-02-28T13:08:38.772596Z"
    },
    "papermill": {
     "duration": 0.057592,
     "end_time": "2025-02-28T13:08:38.775479",
     "exception": false,
     "start_time": "2025-02-28T13:08:38.717887",
     "status": "completed"
    },
    "tags": []
   },
   "outputs": [
    {
     "data": {
      "text/html": [
       "<div>\n",
       "<style scoped>\n",
       "    .dataframe tbody tr th:only-of-type {\n",
       "        vertical-align: middle;\n",
       "    }\n",
       "\n",
       "    .dataframe tbody tr th {\n",
       "        vertical-align: top;\n",
       "    }\n",
       "\n",
       "    .dataframe thead th {\n",
       "        text-align: right;\n",
       "    }\n",
       "</style>\n",
       "<table border=\"1\" class=\"dataframe\">\n",
       "  <thead>\n",
       "    <tr style=\"text-align: right;\">\n",
       "      <th></th>\n",
       "      <th>key</th>\n",
       "      <th>value</th>\n",
       "    </tr>\n",
       "  </thead>\n",
       "  <tbody>\n",
       "    <tr>\n",
       "      <th>0</th>\n",
       "      <td>A</td>\n",
       "      <td>1.181500</td>\n",
       "    </tr>\n",
       "    <tr>\n",
       "      <th>1</th>\n",
       "      <td>B</td>\n",
       "      <td>-0.539104</td>\n",
       "    </tr>\n",
       "    <tr>\n",
       "      <th>2</th>\n",
       "      <td>C</td>\n",
       "      <td>-0.453121</td>\n",
       "    </tr>\n",
       "    <tr>\n",
       "      <th>3</th>\n",
       "      <td>D</td>\n",
       "      <td>0.424901</td>\n",
       "    </tr>\n",
       "  </tbody>\n",
       "</table>\n",
       "</div>"
      ],
      "text/plain": [
       "  key     value\n",
       "0   A  1.181500\n",
       "1   B -0.539104\n",
       "2   C -0.453121\n",
       "3   D  0.424901"
      ]
     },
     "execution_count": 117,
     "metadata": {},
     "output_type": "execute_result"
    }
   ],
   "source": [
    "df1 = pd.DataFrame({\"key\": [\"A\", \"B\", \"C\", \"D\"], \"value\": np.random.randn(4)})\n",
    "df1"
   ]
  },
  {
   "cell_type": "code",
   "execution_count": 118,
   "id": "87b68727",
   "metadata": {
    "execution": {
     "iopub.execute_input": "2025-02-28T13:08:38.871981Z",
     "iopub.status.busy": "2025-02-28T13:08:38.871625Z",
     "iopub.status.idle": "2025-02-28T13:08:38.881673Z",
     "shell.execute_reply": "2025-02-28T13:08:38.880514Z"
    },
    "papermill": {
     "duration": 0.061413,
     "end_time": "2025-02-28T13:08:38.883816",
     "exception": false,
     "start_time": "2025-02-28T13:08:38.822403",
     "status": "completed"
    },
    "tags": []
   },
   "outputs": [
    {
     "data": {
      "text/html": [
       "<div>\n",
       "<style scoped>\n",
       "    .dataframe tbody tr th:only-of-type {\n",
       "        vertical-align: middle;\n",
       "    }\n",
       "\n",
       "    .dataframe tbody tr th {\n",
       "        vertical-align: top;\n",
       "    }\n",
       "\n",
       "    .dataframe thead th {\n",
       "        text-align: right;\n",
       "    }\n",
       "</style>\n",
       "<table border=\"1\" class=\"dataframe\">\n",
       "  <thead>\n",
       "    <tr style=\"text-align: right;\">\n",
       "      <th></th>\n",
       "      <th>key</th>\n",
       "      <th>value</th>\n",
       "    </tr>\n",
       "  </thead>\n",
       "  <tbody>\n",
       "    <tr>\n",
       "      <th>0</th>\n",
       "      <td>B</td>\n",
       "      <td>0.568953</td>\n",
       "    </tr>\n",
       "    <tr>\n",
       "      <th>1</th>\n",
       "      <td>D</td>\n",
       "      <td>0.667315</td>\n",
       "    </tr>\n",
       "    <tr>\n",
       "      <th>2</th>\n",
       "      <td>D</td>\n",
       "      <td>2.457965</td>\n",
       "    </tr>\n",
       "    <tr>\n",
       "      <th>3</th>\n",
       "      <td>E</td>\n",
       "      <td>0.632314</td>\n",
       "    </tr>\n",
       "  </tbody>\n",
       "</table>\n",
       "</div>"
      ],
      "text/plain": [
       "  key     value\n",
       "0   B  0.568953\n",
       "1   D  0.667315\n",
       "2   D  2.457965\n",
       "3   E  0.632314"
      ]
     },
     "execution_count": 118,
     "metadata": {},
     "output_type": "execute_result"
    }
   ],
   "source": [
    "df2 = pd.DataFrame({\"key\": [\"B\", \"D\", \"D\", \"E\"], \"value\": np.random.randn(4)})\n",
    "df2"
   ]
  },
  {
   "cell_type": "code",
   "execution_count": 119,
   "id": "19c46b51",
   "metadata": {
    "execution": {
     "iopub.execute_input": "2025-02-28T13:08:38.984901Z",
     "iopub.status.busy": "2025-02-28T13:08:38.984401Z",
     "iopub.status.idle": "2025-02-28T13:08:39.000629Z",
     "shell.execute_reply": "2025-02-28T13:08:38.999103Z"
    },
    "papermill": {
     "duration": 0.069198,
     "end_time": "2025-02-28T13:08:39.003201",
     "exception": false,
     "start_time": "2025-02-28T13:08:38.934003",
     "status": "completed"
    },
    "tags": []
   },
   "outputs": [
    {
     "data": {
      "text/html": [
       "<div>\n",
       "<style scoped>\n",
       "    .dataframe tbody tr th:only-of-type {\n",
       "        vertical-align: middle;\n",
       "    }\n",
       "\n",
       "    .dataframe tbody tr th {\n",
       "        vertical-align: top;\n",
       "    }\n",
       "\n",
       "    .dataframe thead th {\n",
       "        text-align: right;\n",
       "    }\n",
       "</style>\n",
       "<table border=\"1\" class=\"dataframe\">\n",
       "  <thead>\n",
       "    <tr style=\"text-align: right;\">\n",
       "      <th></th>\n",
       "      <th>key</th>\n",
       "      <th>value_x</th>\n",
       "      <th>value_y</th>\n",
       "    </tr>\n",
       "  </thead>\n",
       "  <tbody>\n",
       "    <tr>\n",
       "      <th>0</th>\n",
       "      <td>B</td>\n",
       "      <td>-0.539104</td>\n",
       "      <td>0.568953</td>\n",
       "    </tr>\n",
       "    <tr>\n",
       "      <th>1</th>\n",
       "      <td>D</td>\n",
       "      <td>0.424901</td>\n",
       "      <td>0.667315</td>\n",
       "    </tr>\n",
       "    <tr>\n",
       "      <th>2</th>\n",
       "      <td>D</td>\n",
       "      <td>0.424901</td>\n",
       "      <td>2.457965</td>\n",
       "    </tr>\n",
       "  </tbody>\n",
       "</table>\n",
       "</div>"
      ],
      "text/plain": [
       "  key   value_x   value_y\n",
       "0   B -0.539104  0.568953\n",
       "1   D  0.424901  0.667315\n",
       "2   D  0.424901  2.457965"
      ]
     },
     "execution_count": 119,
     "metadata": {},
     "output_type": "execute_result"
    }
   ],
   "source": [
    "inner_join = df1.merge(df2, on=[\"key\"], how=\"inner\")\n",
    "inner_join"
   ]
  },
  {
   "cell_type": "code",
   "execution_count": 120,
   "id": "3886b31e",
   "metadata": {
    "execution": {
     "iopub.execute_input": "2025-02-28T13:08:39.103910Z",
     "iopub.status.busy": "2025-02-28T13:08:39.103404Z",
     "iopub.status.idle": "2025-02-28T13:08:39.119675Z",
     "shell.execute_reply": "2025-02-28T13:08:39.118579Z"
    },
    "papermill": {
     "duration": 0.06771,
     "end_time": "2025-02-28T13:08:39.121432",
     "exception": false,
     "start_time": "2025-02-28T13:08:39.053722",
     "status": "completed"
    },
    "tags": []
   },
   "outputs": [
    {
     "data": {
      "text/html": [
       "<div>\n",
       "<style scoped>\n",
       "    .dataframe tbody tr th:only-of-type {\n",
       "        vertical-align: middle;\n",
       "    }\n",
       "\n",
       "    .dataframe tbody tr th {\n",
       "        vertical-align: top;\n",
       "    }\n",
       "\n",
       "    .dataframe thead th {\n",
       "        text-align: right;\n",
       "    }\n",
       "</style>\n",
       "<table border=\"1\" class=\"dataframe\">\n",
       "  <thead>\n",
       "    <tr style=\"text-align: right;\">\n",
       "      <th></th>\n",
       "      <th>key</th>\n",
       "      <th>value_x</th>\n",
       "      <th>value_y</th>\n",
       "    </tr>\n",
       "  </thead>\n",
       "  <tbody>\n",
       "    <tr>\n",
       "      <th>0</th>\n",
       "      <td>A</td>\n",
       "      <td>1.181500</td>\n",
       "      <td>NaN</td>\n",
       "    </tr>\n",
       "    <tr>\n",
       "      <th>1</th>\n",
       "      <td>B</td>\n",
       "      <td>-0.539104</td>\n",
       "      <td>0.568953</td>\n",
       "    </tr>\n",
       "    <tr>\n",
       "      <th>2</th>\n",
       "      <td>C</td>\n",
       "      <td>-0.453121</td>\n",
       "      <td>NaN</td>\n",
       "    </tr>\n",
       "    <tr>\n",
       "      <th>3</th>\n",
       "      <td>D</td>\n",
       "      <td>0.424901</td>\n",
       "      <td>0.667315</td>\n",
       "    </tr>\n",
       "    <tr>\n",
       "      <th>4</th>\n",
       "      <td>D</td>\n",
       "      <td>0.424901</td>\n",
       "      <td>2.457965</td>\n",
       "    </tr>\n",
       "  </tbody>\n",
       "</table>\n",
       "</div>"
      ],
      "text/plain": [
       "  key   value_x   value_y\n",
       "0   A  1.181500       NaN\n",
       "1   B -0.539104  0.568953\n",
       "2   C -0.453121       NaN\n",
       "3   D  0.424901  0.667315\n",
       "4   D  0.424901  2.457965"
      ]
     },
     "execution_count": 120,
     "metadata": {},
     "output_type": "execute_result"
    }
   ],
   "source": [
    "left_join = df1.merge(df2, on=[\"key\"], how=\"left\")\n",
    "left_join"
   ]
  },
  {
   "cell_type": "code",
   "execution_count": 121,
   "id": "22877f86",
   "metadata": {
    "execution": {
     "iopub.execute_input": "2025-02-28T13:08:39.216823Z",
     "iopub.status.busy": "2025-02-28T13:08:39.216396Z",
     "iopub.status.idle": "2025-02-28T13:08:39.229175Z",
     "shell.execute_reply": "2025-02-28T13:08:39.227963Z"
    },
    "papermill": {
     "duration": 0.062147,
     "end_time": "2025-02-28T13:08:39.231262",
     "exception": false,
     "start_time": "2025-02-28T13:08:39.169115",
     "status": "completed"
    },
    "tags": []
   },
   "outputs": [
    {
     "data": {
      "text/html": [
       "<div>\n",
       "<style scoped>\n",
       "    .dataframe tbody tr th:only-of-type {\n",
       "        vertical-align: middle;\n",
       "    }\n",
       "\n",
       "    .dataframe tbody tr th {\n",
       "        vertical-align: top;\n",
       "    }\n",
       "\n",
       "    .dataframe thead th {\n",
       "        text-align: right;\n",
       "    }\n",
       "</style>\n",
       "<table border=\"1\" class=\"dataframe\">\n",
       "  <thead>\n",
       "    <tr style=\"text-align: right;\">\n",
       "      <th></th>\n",
       "      <th>key</th>\n",
       "      <th>value_x</th>\n",
       "      <th>value_y</th>\n",
       "    </tr>\n",
       "  </thead>\n",
       "  <tbody>\n",
       "    <tr>\n",
       "      <th>0</th>\n",
       "      <td>B</td>\n",
       "      <td>-0.539104</td>\n",
       "      <td>0.568953</td>\n",
       "    </tr>\n",
       "    <tr>\n",
       "      <th>1</th>\n",
       "      <td>D</td>\n",
       "      <td>0.424901</td>\n",
       "      <td>0.667315</td>\n",
       "    </tr>\n",
       "    <tr>\n",
       "      <th>2</th>\n",
       "      <td>D</td>\n",
       "      <td>0.424901</td>\n",
       "      <td>2.457965</td>\n",
       "    </tr>\n",
       "    <tr>\n",
       "      <th>3</th>\n",
       "      <td>E</td>\n",
       "      <td>NaN</td>\n",
       "      <td>0.632314</td>\n",
       "    </tr>\n",
       "  </tbody>\n",
       "</table>\n",
       "</div>"
      ],
      "text/plain": [
       "  key   value_x   value_y\n",
       "0   B -0.539104  0.568953\n",
       "1   D  0.424901  0.667315\n",
       "2   D  0.424901  2.457965\n",
       "3   E       NaN  0.632314"
      ]
     },
     "execution_count": 121,
     "metadata": {},
     "output_type": "execute_result"
    }
   ],
   "source": [
    "right_join = df1.merge(df2, on=[\"key\"], how=\"right\")\n",
    "right_join"
   ]
  },
  {
   "cell_type": "code",
   "execution_count": 122,
   "id": "96c2c0ca",
   "metadata": {
    "execution": {
     "iopub.execute_input": "2025-02-28T13:08:39.394711Z",
     "iopub.status.busy": "2025-02-28T13:08:39.394222Z",
     "iopub.status.idle": "2025-02-28T13:08:39.411737Z",
     "shell.execute_reply": "2025-02-28T13:08:39.410592Z"
    },
    "papermill": {
     "duration": 0.127406,
     "end_time": "2025-02-28T13:08:39.413812",
     "exception": false,
     "start_time": "2025-02-28T13:08:39.286406",
     "status": "completed"
    },
    "tags": []
   },
   "outputs": [
    {
     "data": {
      "text/html": [
       "<div>\n",
       "<style scoped>\n",
       "    .dataframe tbody tr th:only-of-type {\n",
       "        vertical-align: middle;\n",
       "    }\n",
       "\n",
       "    .dataframe tbody tr th {\n",
       "        vertical-align: top;\n",
       "    }\n",
       "\n",
       "    .dataframe thead th {\n",
       "        text-align: right;\n",
       "    }\n",
       "</style>\n",
       "<table border=\"1\" class=\"dataframe\">\n",
       "  <thead>\n",
       "    <tr style=\"text-align: right;\">\n",
       "      <th></th>\n",
       "      <th>key</th>\n",
       "      <th>value_x</th>\n",
       "      <th>value_y</th>\n",
       "    </tr>\n",
       "  </thead>\n",
       "  <tbody>\n",
       "    <tr>\n",
       "      <th>0</th>\n",
       "      <td>A</td>\n",
       "      <td>1.181500</td>\n",
       "      <td>NaN</td>\n",
       "    </tr>\n",
       "    <tr>\n",
       "      <th>1</th>\n",
       "      <td>B</td>\n",
       "      <td>-0.539104</td>\n",
       "      <td>0.568953</td>\n",
       "    </tr>\n",
       "    <tr>\n",
       "      <th>2</th>\n",
       "      <td>C</td>\n",
       "      <td>-0.453121</td>\n",
       "      <td>NaN</td>\n",
       "    </tr>\n",
       "    <tr>\n",
       "      <th>3</th>\n",
       "      <td>D</td>\n",
       "      <td>0.424901</td>\n",
       "      <td>0.667315</td>\n",
       "    </tr>\n",
       "    <tr>\n",
       "      <th>4</th>\n",
       "      <td>D</td>\n",
       "      <td>0.424901</td>\n",
       "      <td>2.457965</td>\n",
       "    </tr>\n",
       "    <tr>\n",
       "      <th>5</th>\n",
       "      <td>E</td>\n",
       "      <td>NaN</td>\n",
       "      <td>0.632314</td>\n",
       "    </tr>\n",
       "  </tbody>\n",
       "</table>\n",
       "</div>"
      ],
      "text/plain": [
       "  key   value_x   value_y\n",
       "0   A  1.181500       NaN\n",
       "1   B -0.539104  0.568953\n",
       "2   C -0.453121       NaN\n",
       "3   D  0.424901  0.667315\n",
       "4   D  0.424901  2.457965\n",
       "5   E       NaN  0.632314"
      ]
     },
     "execution_count": 122,
     "metadata": {},
     "output_type": "execute_result"
    }
   ],
   "source": [
    "outer_join = df1.merge(df2, on=[\"key\"], how=\"outer\")\n",
    "outer_join"
   ]
  },
  {
   "cell_type": "code",
   "execution_count": 123,
   "id": "21314a61",
   "metadata": {
    "execution": {
     "iopub.execute_input": "2025-02-28T13:08:39.509710Z",
     "iopub.status.busy": "2025-02-28T13:08:39.509232Z",
     "iopub.status.idle": "2025-02-28T13:08:39.518932Z",
     "shell.execute_reply": "2025-02-28T13:08:39.517351Z"
    },
    "papermill": {
     "duration": 0.059565,
     "end_time": "2025-02-28T13:08:39.520718",
     "exception": false,
     "start_time": "2025-02-28T13:08:39.461153",
     "status": "completed"
    },
    "tags": []
   },
   "outputs": [
    {
     "data": {
      "text/plain": [
       "0         NaN\n",
       "1    0.029849\n",
       "2         NaN\n",
       "3    1.092215\n",
       "4    2.882866\n",
       "5         NaN\n",
       "dtype: float64"
      ]
     },
     "execution_count": 123,
     "metadata": {},
     "output_type": "execute_result"
    }
   ],
   "source": [
    "outer_join[\"value_x\"] + outer_join[\"value_y\"]"
   ]
  },
  {
   "cell_type": "code",
   "execution_count": 124,
   "id": "d3704252",
   "metadata": {
    "execution": {
     "iopub.execute_input": "2025-02-28T13:08:39.620990Z",
     "iopub.status.busy": "2025-02-28T13:08:39.620554Z",
     "iopub.status.idle": "2025-02-28T13:08:39.627368Z",
     "shell.execute_reply": "2025-02-28T13:08:39.626031Z"
    },
    "papermill": {
     "duration": 0.061497,
     "end_time": "2025-02-28T13:08:39.629694",
     "exception": false,
     "start_time": "2025-02-28T13:08:39.568197",
     "status": "completed"
    },
    "tags": []
   },
   "outputs": [
    {
     "data": {
      "text/plain": [
       "1.0390769976597274"
      ]
     },
     "execution_count": 124,
     "metadata": {},
     "output_type": "execute_result"
    }
   ],
   "source": [
    "outer_join[\"value_x\"].sum()"
   ]
  },
  {
   "cell_type": "code",
   "execution_count": 125,
   "id": "9ae68acc",
   "metadata": {
    "execution": {
     "iopub.execute_input": "2025-02-28T13:08:39.723486Z",
     "iopub.status.busy": "2025-02-28T13:08:39.723105Z",
     "iopub.status.idle": "2025-02-28T13:08:39.733360Z",
     "shell.execute_reply": "2025-02-28T13:08:39.732240Z"
    },
    "papermill": {
     "duration": 0.060028,
     "end_time": "2025-02-28T13:08:39.735429",
     "exception": false,
     "start_time": "2025-02-28T13:08:39.675401",
     "status": "completed"
    },
    "tags": []
   },
   "outputs": [
    {
     "data": {
      "text/html": [
       "<div>\n",
       "<style scoped>\n",
       "    .dataframe tbody tr th:only-of-type {\n",
       "        vertical-align: middle;\n",
       "    }\n",
       "\n",
       "    .dataframe tbody tr th {\n",
       "        vertical-align: top;\n",
       "    }\n",
       "\n",
       "    .dataframe thead th {\n",
       "        text-align: right;\n",
       "    }\n",
       "</style>\n",
       "<table border=\"1\" class=\"dataframe\">\n",
       "  <thead>\n",
       "    <tr style=\"text-align: right;\">\n",
       "      <th></th>\n",
       "      <th>key</th>\n",
       "      <th>value_x</th>\n",
       "      <th>value_y</th>\n",
       "    </tr>\n",
       "  </thead>\n",
       "  <tbody>\n",
       "    <tr>\n",
       "      <th>5</th>\n",
       "      <td>E</td>\n",
       "      <td>NaN</td>\n",
       "      <td>0.632314</td>\n",
       "    </tr>\n",
       "  </tbody>\n",
       "</table>\n",
       "</div>"
      ],
      "text/plain": [
       "  key  value_x   value_y\n",
       "5   E      NaN  0.632314"
      ]
     },
     "execution_count": 125,
     "metadata": {},
     "output_type": "execute_result"
    }
   ],
   "source": [
    "outer_join[outer_join[\"value_x\"].isna()]"
   ]
  },
  {
   "cell_type": "code",
   "execution_count": 126,
   "id": "a6c7b178",
   "metadata": {
    "execution": {
     "iopub.execute_input": "2025-02-28T13:08:39.829424Z",
     "iopub.status.busy": "2025-02-28T13:08:39.829053Z",
     "iopub.status.idle": "2025-02-28T13:08:39.840218Z",
     "shell.execute_reply": "2025-02-28T13:08:39.839146Z"
    },
    "papermill": {
     "duration": 0.059857,
     "end_time": "2025-02-28T13:08:39.841941",
     "exception": false,
     "start_time": "2025-02-28T13:08:39.782084",
     "status": "completed"
    },
    "tags": []
   },
   "outputs": [
    {
     "data": {
      "text/html": [
       "<div>\n",
       "<style scoped>\n",
       "    .dataframe tbody tr th:only-of-type {\n",
       "        vertical-align: middle;\n",
       "    }\n",
       "\n",
       "    .dataframe tbody tr th {\n",
       "        vertical-align: top;\n",
       "    }\n",
       "\n",
       "    .dataframe thead th {\n",
       "        text-align: right;\n",
       "    }\n",
       "</style>\n",
       "<table border=\"1\" class=\"dataframe\">\n",
       "  <thead>\n",
       "    <tr style=\"text-align: right;\">\n",
       "      <th></th>\n",
       "      <th>key</th>\n",
       "      <th>value_x</th>\n",
       "      <th>value_y</th>\n",
       "    </tr>\n",
       "  </thead>\n",
       "  <tbody>\n",
       "    <tr>\n",
       "      <th>0</th>\n",
       "      <td>A</td>\n",
       "      <td>1.181500</td>\n",
       "      <td>NaN</td>\n",
       "    </tr>\n",
       "    <tr>\n",
       "      <th>1</th>\n",
       "      <td>B</td>\n",
       "      <td>-0.539104</td>\n",
       "      <td>0.568953</td>\n",
       "    </tr>\n",
       "    <tr>\n",
       "      <th>2</th>\n",
       "      <td>C</td>\n",
       "      <td>-0.453121</td>\n",
       "      <td>NaN</td>\n",
       "    </tr>\n",
       "    <tr>\n",
       "      <th>3</th>\n",
       "      <td>D</td>\n",
       "      <td>0.424901</td>\n",
       "      <td>0.667315</td>\n",
       "    </tr>\n",
       "    <tr>\n",
       "      <th>4</th>\n",
       "      <td>D</td>\n",
       "      <td>0.424901</td>\n",
       "      <td>2.457965</td>\n",
       "    </tr>\n",
       "  </tbody>\n",
       "</table>\n",
       "</div>"
      ],
      "text/plain": [
       "  key   value_x   value_y\n",
       "0   A  1.181500       NaN\n",
       "1   B -0.539104  0.568953\n",
       "2   C -0.453121       NaN\n",
       "3   D  0.424901  0.667315\n",
       "4   D  0.424901  2.457965"
      ]
     },
     "execution_count": 126,
     "metadata": {},
     "output_type": "execute_result"
    }
   ],
   "source": [
    "outer_join[outer_join[\"value_x\"].notna()]"
   ]
  },
  {
   "cell_type": "code",
   "execution_count": 127,
   "id": "7876e83b",
   "metadata": {
    "execution": {
     "iopub.execute_input": "2025-02-28T13:08:39.944895Z",
     "iopub.status.busy": "2025-02-28T13:08:39.944484Z",
     "iopub.status.idle": "2025-02-28T13:08:39.955761Z",
     "shell.execute_reply": "2025-02-28T13:08:39.954627Z"
    },
    "papermill": {
     "duration": 0.069723,
     "end_time": "2025-02-28T13:08:39.957708",
     "exception": false,
     "start_time": "2025-02-28T13:08:39.887985",
     "status": "completed"
    },
    "tags": []
   },
   "outputs": [
    {
     "data": {
      "text/html": [
       "<div>\n",
       "<style scoped>\n",
       "    .dataframe tbody tr th:only-of-type {\n",
       "        vertical-align: middle;\n",
       "    }\n",
       "\n",
       "    .dataframe tbody tr th {\n",
       "        vertical-align: top;\n",
       "    }\n",
       "\n",
       "    .dataframe thead th {\n",
       "        text-align: right;\n",
       "    }\n",
       "</style>\n",
       "<table border=\"1\" class=\"dataframe\">\n",
       "  <thead>\n",
       "    <tr style=\"text-align: right;\">\n",
       "      <th></th>\n",
       "      <th>key</th>\n",
       "      <th>value_x</th>\n",
       "      <th>value_y</th>\n",
       "    </tr>\n",
       "  </thead>\n",
       "  <tbody>\n",
       "    <tr>\n",
       "      <th>1</th>\n",
       "      <td>B</td>\n",
       "      <td>-0.539104</td>\n",
       "      <td>0.568953</td>\n",
       "    </tr>\n",
       "    <tr>\n",
       "      <th>3</th>\n",
       "      <td>D</td>\n",
       "      <td>0.424901</td>\n",
       "      <td>0.667315</td>\n",
       "    </tr>\n",
       "    <tr>\n",
       "      <th>4</th>\n",
       "      <td>D</td>\n",
       "      <td>0.424901</td>\n",
       "      <td>2.457965</td>\n",
       "    </tr>\n",
       "  </tbody>\n",
       "</table>\n",
       "</div>"
      ],
      "text/plain": [
       "  key   value_x   value_y\n",
       "1   B -0.539104  0.568953\n",
       "3   D  0.424901  0.667315\n",
       "4   D  0.424901  2.457965"
      ]
     },
     "execution_count": 127,
     "metadata": {},
     "output_type": "execute_result"
    }
   ],
   "source": [
    "outer_join.dropna()"
   ]
  },
  {
   "cell_type": "code",
   "execution_count": 128,
   "id": "5f849cf6",
   "metadata": {
    "execution": {
     "iopub.execute_input": "2025-02-28T13:08:40.054931Z",
     "iopub.status.busy": "2025-02-28T13:08:40.054336Z",
     "iopub.status.idle": "2025-02-28T13:08:40.068245Z",
     "shell.execute_reply": "2025-02-28T13:08:40.067179Z"
    },
    "papermill": {
     "duration": 0.063128,
     "end_time": "2025-02-28T13:08:40.070086",
     "exception": false,
     "start_time": "2025-02-28T13:08:40.006958",
     "status": "completed"
    },
    "tags": []
   },
   "outputs": [
    {
     "data": {
      "text/html": [
       "<div>\n",
       "<style scoped>\n",
       "    .dataframe tbody tr th:only-of-type {\n",
       "        vertical-align: middle;\n",
       "    }\n",
       "\n",
       "    .dataframe tbody tr th {\n",
       "        vertical-align: top;\n",
       "    }\n",
       "\n",
       "    .dataframe thead th {\n",
       "        text-align: right;\n",
       "    }\n",
       "</style>\n",
       "<table border=\"1\" class=\"dataframe\">\n",
       "  <thead>\n",
       "    <tr style=\"text-align: right;\">\n",
       "      <th></th>\n",
       "      <th>key</th>\n",
       "      <th>value_x</th>\n",
       "      <th>value_y</th>\n",
       "    </tr>\n",
       "  </thead>\n",
       "  <tbody>\n",
       "    <tr>\n",
       "      <th>0</th>\n",
       "      <td>A</td>\n",
       "      <td>1.181500</td>\n",
       "      <td>NaN</td>\n",
       "    </tr>\n",
       "    <tr>\n",
       "      <th>1</th>\n",
       "      <td>B</td>\n",
       "      <td>-0.539104</td>\n",
       "      <td>0.568953</td>\n",
       "    </tr>\n",
       "    <tr>\n",
       "      <th>2</th>\n",
       "      <td>C</td>\n",
       "      <td>-0.453121</td>\n",
       "      <td>0.568953</td>\n",
       "    </tr>\n",
       "    <tr>\n",
       "      <th>3</th>\n",
       "      <td>D</td>\n",
       "      <td>0.424901</td>\n",
       "      <td>0.667315</td>\n",
       "    </tr>\n",
       "    <tr>\n",
       "      <th>4</th>\n",
       "      <td>D</td>\n",
       "      <td>0.424901</td>\n",
       "      <td>2.457965</td>\n",
       "    </tr>\n",
       "    <tr>\n",
       "      <th>5</th>\n",
       "      <td>E</td>\n",
       "      <td>0.424901</td>\n",
       "      <td>0.632314</td>\n",
       "    </tr>\n",
       "  </tbody>\n",
       "</table>\n",
       "</div>"
      ],
      "text/plain": [
       "  key   value_x   value_y\n",
       "0   A  1.181500       NaN\n",
       "1   B -0.539104  0.568953\n",
       "2   C -0.453121  0.568953\n",
       "3   D  0.424901  0.667315\n",
       "4   D  0.424901  2.457965\n",
       "5   E  0.424901  0.632314"
      ]
     },
     "execution_count": 128,
     "metadata": {},
     "output_type": "execute_result"
    }
   ],
   "source": [
    "outer_join.fillna(method=\"ffill\")"
   ]
  },
  {
   "cell_type": "code",
   "execution_count": 129,
   "id": "79a7d812",
   "metadata": {
    "execution": {
     "iopub.execute_input": "2025-02-28T13:08:40.197938Z",
     "iopub.status.busy": "2025-02-28T13:08:40.197547Z",
     "iopub.status.idle": "2025-02-28T13:08:40.205084Z",
     "shell.execute_reply": "2025-02-28T13:08:40.204038Z"
    },
    "papermill": {
     "duration": 0.073245,
     "end_time": "2025-02-28T13:08:40.206822",
     "exception": false,
     "start_time": "2025-02-28T13:08:40.133577",
     "status": "completed"
    },
    "tags": []
   },
   "outputs": [
    {
     "data": {
      "text/plain": [
       "0    1.181500\n",
       "1   -0.539104\n",
       "2   -0.453121\n",
       "3    0.424901\n",
       "4    0.424901\n",
       "5    0.207815\n",
       "Name: value_x, dtype: float64"
      ]
     },
     "execution_count": 129,
     "metadata": {},
     "output_type": "execute_result"
    }
   ],
   "source": [
    "outer_join[\"value_x\"].fillna(outer_join[\"value_x\"].mean())"
   ]
  },
  {
   "cell_type": "code",
   "execution_count": 130,
   "id": "2581345a",
   "metadata": {
    "execution": {
     "iopub.execute_input": "2025-02-28T13:08:40.301621Z",
     "iopub.status.busy": "2025-02-28T13:08:40.301214Z",
     "iopub.status.idle": "2025-02-28T13:08:40.308384Z",
     "shell.execute_reply": "2025-02-28T13:08:40.307339Z"
    },
    "papermill": {
     "duration": 0.056966,
     "end_time": "2025-02-28T13:08:40.310171",
     "exception": false,
     "start_time": "2025-02-28T13:08:40.253205",
     "status": "completed"
    },
    "tags": []
   },
   "outputs": [
    {
     "data": {
      "text/plain": [
       "0    1.0\n",
       "1    3.0\n",
       "2    5.0\n",
       "3    NaN\n",
       "4    6.0\n",
       "5    8.0\n",
       "dtype: float64"
      ]
     },
     "execution_count": 130,
     "metadata": {},
     "output_type": "execute_result"
    }
   ],
   "source": [
    "s = pd.Series([1, 3, 5, np.nan, 6, 8])\n",
    "s"
   ]
  },
  {
   "cell_type": "code",
   "execution_count": 131,
   "id": "9ad061ad",
   "metadata": {
    "execution": {
     "iopub.execute_input": "2025-02-28T13:08:40.403904Z",
     "iopub.status.busy": "2025-02-28T13:08:40.403519Z",
     "iopub.status.idle": "2025-02-28T13:08:40.416492Z",
     "shell.execute_reply": "2025-02-28T13:08:40.415213Z"
    },
    "papermill": {
     "duration": 0.06123,
     "end_time": "2025-02-28T13:08:40.418297",
     "exception": false,
     "start_time": "2025-02-28T13:08:40.357067",
     "status": "completed"
    },
    "tags": []
   },
   "outputs": [
    {
     "data": {
      "text/plain": [
       "DatetimeIndex(['2013-01-01', '2013-01-02', '2013-01-03', '2013-01-04',\n",
       "               '2013-01-05', '2013-01-06'],\n",
       "              dtype='datetime64[ns]', freq='D')"
      ]
     },
     "execution_count": 131,
     "metadata": {},
     "output_type": "execute_result"
    }
   ],
   "source": [
    "dates = pd.date_range(\"20130101\", periods=6)\n",
    "dates"
   ]
  },
  {
   "cell_type": "code",
   "execution_count": 132,
   "id": "9cc1fb48",
   "metadata": {
    "execution": {
     "iopub.execute_input": "2025-02-28T13:08:40.515996Z",
     "iopub.status.busy": "2025-02-28T13:08:40.515555Z",
     "iopub.status.idle": "2025-02-28T13:08:40.527799Z",
     "shell.execute_reply": "2025-02-28T13:08:40.526542Z"
    },
    "papermill": {
     "duration": 0.063047,
     "end_time": "2025-02-28T13:08:40.529585",
     "exception": false,
     "start_time": "2025-02-28T13:08:40.466538",
     "status": "completed"
    },
    "tags": []
   },
   "outputs": [
    {
     "data": {
      "text/html": [
       "<div>\n",
       "<style scoped>\n",
       "    .dataframe tbody tr th:only-of-type {\n",
       "        vertical-align: middle;\n",
       "    }\n",
       "\n",
       "    .dataframe tbody tr th {\n",
       "        vertical-align: top;\n",
       "    }\n",
       "\n",
       "    .dataframe thead th {\n",
       "        text-align: right;\n",
       "    }\n",
       "</style>\n",
       "<table border=\"1\" class=\"dataframe\">\n",
       "  <thead>\n",
       "    <tr style=\"text-align: right;\">\n",
       "      <th></th>\n",
       "      <th>A</th>\n",
       "      <th>B</th>\n",
       "      <th>C</th>\n",
       "      <th>D</th>\n",
       "    </tr>\n",
       "  </thead>\n",
       "  <tbody>\n",
       "    <tr>\n",
       "      <th>2013-01-01</th>\n",
       "      <td>0.536605</td>\n",
       "      <td>0.044362</td>\n",
       "      <td>-1.295413</td>\n",
       "      <td>1.448879</td>\n",
       "    </tr>\n",
       "    <tr>\n",
       "      <th>2013-01-02</th>\n",
       "      <td>1.155350</td>\n",
       "      <td>0.543212</td>\n",
       "      <td>-1.026802</td>\n",
       "      <td>1.918660</td>\n",
       "    </tr>\n",
       "    <tr>\n",
       "      <th>2013-01-03</th>\n",
       "      <td>-1.367548</td>\n",
       "      <td>1.294209</td>\n",
       "      <td>-0.761415</td>\n",
       "      <td>1.638561</td>\n",
       "    </tr>\n",
       "    <tr>\n",
       "      <th>2013-01-04</th>\n",
       "      <td>-1.421003</td>\n",
       "      <td>-0.852564</td>\n",
       "      <td>0.520059</td>\n",
       "      <td>-1.914890</td>\n",
       "    </tr>\n",
       "    <tr>\n",
       "      <th>2013-01-05</th>\n",
       "      <td>1.079166</td>\n",
       "      <td>1.025415</td>\n",
       "      <td>-0.071261</td>\n",
       "      <td>0.382234</td>\n",
       "    </tr>\n",
       "    <tr>\n",
       "      <th>2013-01-06</th>\n",
       "      <td>0.940206</td>\n",
       "      <td>0.183625</td>\n",
       "      <td>0.294364</td>\n",
       "      <td>-0.617520</td>\n",
       "    </tr>\n",
       "  </tbody>\n",
       "</table>\n",
       "</div>"
      ],
      "text/plain": [
       "                   A         B         C         D\n",
       "2013-01-01  0.536605  0.044362 -1.295413  1.448879\n",
       "2013-01-02  1.155350  0.543212 -1.026802  1.918660\n",
       "2013-01-03 -1.367548  1.294209 -0.761415  1.638561\n",
       "2013-01-04 -1.421003 -0.852564  0.520059 -1.914890\n",
       "2013-01-05  1.079166  1.025415 -0.071261  0.382234\n",
       "2013-01-06  0.940206  0.183625  0.294364 -0.617520"
      ]
     },
     "execution_count": 132,
     "metadata": {},
     "output_type": "execute_result"
    }
   ],
   "source": [
    "df = pd.DataFrame(np.random.randn(6, 4), index=dates, columns=list(\"ABCD\"))\n",
    "df"
   ]
  },
  {
   "cell_type": "code",
   "execution_count": 133,
   "id": "8880179b",
   "metadata": {
    "execution": {
     "iopub.execute_input": "2025-02-28T13:08:40.627669Z",
     "iopub.status.busy": "2025-02-28T13:08:40.627250Z",
     "iopub.status.idle": "2025-02-28T13:08:40.645310Z",
     "shell.execute_reply": "2025-02-28T13:08:40.644147Z"
    },
    "papermill": {
     "duration": 0.070932,
     "end_time": "2025-02-28T13:08:40.647144",
     "exception": false,
     "start_time": "2025-02-28T13:08:40.576212",
     "status": "completed"
    },
    "tags": []
   },
   "outputs": [
    {
     "data": {
      "text/html": [
       "<div>\n",
       "<style scoped>\n",
       "    .dataframe tbody tr th:only-of-type {\n",
       "        vertical-align: middle;\n",
       "    }\n",
       "\n",
       "    .dataframe tbody tr th {\n",
       "        vertical-align: top;\n",
       "    }\n",
       "\n",
       "    .dataframe thead th {\n",
       "        text-align: right;\n",
       "    }\n",
       "</style>\n",
       "<table border=\"1\" class=\"dataframe\">\n",
       "  <thead>\n",
       "    <tr style=\"text-align: right;\">\n",
       "      <th></th>\n",
       "      <th>A</th>\n",
       "      <th>B</th>\n",
       "      <th>C</th>\n",
       "      <th>D</th>\n",
       "      <th>E</th>\n",
       "      <th>F</th>\n",
       "    </tr>\n",
       "  </thead>\n",
       "  <tbody>\n",
       "    <tr>\n",
       "      <th>0</th>\n",
       "      <td>1.0</td>\n",
       "      <td>2013-01-02</td>\n",
       "      <td>1.0</td>\n",
       "      <td>3</td>\n",
       "      <td>test</td>\n",
       "      <td>foo</td>\n",
       "    </tr>\n",
       "    <tr>\n",
       "      <th>1</th>\n",
       "      <td>1.0</td>\n",
       "      <td>2013-01-02</td>\n",
       "      <td>1.0</td>\n",
       "      <td>3</td>\n",
       "      <td>train</td>\n",
       "      <td>foo</td>\n",
       "    </tr>\n",
       "    <tr>\n",
       "      <th>2</th>\n",
       "      <td>1.0</td>\n",
       "      <td>2013-01-02</td>\n",
       "      <td>1.0</td>\n",
       "      <td>3</td>\n",
       "      <td>test</td>\n",
       "      <td>foo</td>\n",
       "    </tr>\n",
       "    <tr>\n",
       "      <th>3</th>\n",
       "      <td>1.0</td>\n",
       "      <td>2013-01-02</td>\n",
       "      <td>1.0</td>\n",
       "      <td>3</td>\n",
       "      <td>train</td>\n",
       "      <td>foo</td>\n",
       "    </tr>\n",
       "  </tbody>\n",
       "</table>\n",
       "</div>"
      ],
      "text/plain": [
       "     A          B    C  D      E    F\n",
       "0  1.0 2013-01-02  1.0  3   test  foo\n",
       "1  1.0 2013-01-02  1.0  3  train  foo\n",
       "2  1.0 2013-01-02  1.0  3   test  foo\n",
       "3  1.0 2013-01-02  1.0  3  train  foo"
      ]
     },
     "execution_count": 133,
     "metadata": {},
     "output_type": "execute_result"
    }
   ],
   "source": [
    "df2 = pd.DataFrame({\n",
    "    \n",
    "\"A\": 1.0,\n",
    "\"B\": pd.Timestamp(\"20130102\"),\n",
    "\"C\": pd.Series(1, index=list(range(4)), dtype=\"float32\"),\n",
    "\"D\": np.array([3] * 4, dtype=\"int32\"),\n",
    "\"E\": pd.Categorical([\"test\", \"train\", \"test\", \"train\"]),\n",
    "\"F\": \"foo\"\n",
    "    \n",
    "})\n",
    "\n",
    "df2"
   ]
  },
  {
   "cell_type": "code",
   "execution_count": 134,
   "id": "55b4c7c7",
   "metadata": {
    "execution": {
     "iopub.execute_input": "2025-02-28T13:08:40.753537Z",
     "iopub.status.busy": "2025-02-28T13:08:40.753157Z",
     "iopub.status.idle": "2025-02-28T13:08:40.759525Z",
     "shell.execute_reply": "2025-02-28T13:08:40.758389Z"
    },
    "papermill": {
     "duration": 0.065877,
     "end_time": "2025-02-28T13:08:40.761415",
     "exception": false,
     "start_time": "2025-02-28T13:08:40.695538",
     "status": "completed"
    },
    "tags": []
   },
   "outputs": [
    {
     "data": {
      "text/plain": [
       "Index([0, 1, 2, 3], dtype='int64')"
      ]
     },
     "execution_count": 134,
     "metadata": {},
     "output_type": "execute_result"
    }
   ],
   "source": [
    "df2.index"
   ]
  },
  {
   "cell_type": "code",
   "execution_count": 135,
   "id": "32bac056",
   "metadata": {
    "execution": {
     "iopub.execute_input": "2025-02-28T13:08:40.860388Z",
     "iopub.status.busy": "2025-02-28T13:08:40.859763Z",
     "iopub.status.idle": "2025-02-28T13:08:40.867800Z",
     "shell.execute_reply": "2025-02-28T13:08:40.866612Z"
    },
    "papermill": {
     "duration": 0.059012,
     "end_time": "2025-02-28T13:08:40.869720",
     "exception": false,
     "start_time": "2025-02-28T13:08:40.810708",
     "status": "completed"
    },
    "tags": []
   },
   "outputs": [
    {
     "data": {
      "text/plain": [
       "array([[ 0.53660479,  0.04436161, -1.29541345,  1.44887937],\n",
       "       [ 1.15534998,  0.54321189, -1.02680185,  1.91866047],\n",
       "       [-1.36754754,  1.29420882, -0.76141455,  1.63856085],\n",
       "       [-1.42100255, -0.85256388,  0.52005865, -1.91488954],\n",
       "       [ 1.0791658 ,  1.02541547, -0.07126105,  0.38223415],\n",
       "       [ 0.94020562,  0.18362541,  0.29436363, -0.61752005]])"
      ]
     },
     "execution_count": 135,
     "metadata": {},
     "output_type": "execute_result"
    }
   ],
   "source": [
    "df.to_numpy()"
   ]
  },
  {
   "cell_type": "code",
   "execution_count": 136,
   "id": "deaf9042",
   "metadata": {
    "execution": {
     "iopub.execute_input": "2025-02-28T13:08:40.967835Z",
     "iopub.status.busy": "2025-02-28T13:08:40.967392Z",
     "iopub.status.idle": "2025-02-28T13:08:40.974383Z",
     "shell.execute_reply": "2025-02-28T13:08:40.973527Z"
    },
    "papermill": {
     "duration": 0.058157,
     "end_time": "2025-02-28T13:08:40.976273",
     "exception": false,
     "start_time": "2025-02-28T13:08:40.918116",
     "status": "completed"
    },
    "tags": []
   },
   "outputs": [
    {
     "data": {
      "text/plain": [
       "array([[1.0, Timestamp('2013-01-02 00:00:00'), 1.0, 3, 'test', 'foo'],\n",
       "       [1.0, Timestamp('2013-01-02 00:00:00'), 1.0, 3, 'train', 'foo'],\n",
       "       [1.0, Timestamp('2013-01-02 00:00:00'), 1.0, 3, 'test', 'foo'],\n",
       "       [1.0, Timestamp('2013-01-02 00:00:00'), 1.0, 3, 'train', 'foo']],\n",
       "      dtype=object)"
      ]
     },
     "execution_count": 136,
     "metadata": {},
     "output_type": "execute_result"
    }
   ],
   "source": [
    "df2.to_numpy()"
   ]
  },
  {
   "cell_type": "code",
   "execution_count": 137,
   "id": "db19d5fa",
   "metadata": {
    "execution": {
     "iopub.execute_input": "2025-02-28T13:08:41.077109Z",
     "iopub.status.busy": "2025-02-28T13:08:41.076676Z",
     "iopub.status.idle": "2025-02-28T13:08:41.088799Z",
     "shell.execute_reply": "2025-02-28T13:08:41.087676Z"
    },
    "papermill": {
     "duration": 0.063649,
     "end_time": "2025-02-28T13:08:41.090694",
     "exception": false,
     "start_time": "2025-02-28T13:08:41.027045",
     "status": "completed"
    },
    "tags": []
   },
   "outputs": [
    {
     "data": {
      "text/html": [
       "<div>\n",
       "<style scoped>\n",
       "    .dataframe tbody tr th:only-of-type {\n",
       "        vertical-align: middle;\n",
       "    }\n",
       "\n",
       "    .dataframe tbody tr th {\n",
       "        vertical-align: top;\n",
       "    }\n",
       "\n",
       "    .dataframe thead th {\n",
       "        text-align: right;\n",
       "    }\n",
       "</style>\n",
       "<table border=\"1\" class=\"dataframe\">\n",
       "  <thead>\n",
       "    <tr style=\"text-align: right;\">\n",
       "      <th></th>\n",
       "      <th>D</th>\n",
       "      <th>C</th>\n",
       "      <th>B</th>\n",
       "      <th>A</th>\n",
       "    </tr>\n",
       "  </thead>\n",
       "  <tbody>\n",
       "    <tr>\n",
       "      <th>2013-01-01</th>\n",
       "      <td>1.448879</td>\n",
       "      <td>-1.295413</td>\n",
       "      <td>0.044362</td>\n",
       "      <td>0.536605</td>\n",
       "    </tr>\n",
       "    <tr>\n",
       "      <th>2013-01-02</th>\n",
       "      <td>1.918660</td>\n",
       "      <td>-1.026802</td>\n",
       "      <td>0.543212</td>\n",
       "      <td>1.155350</td>\n",
       "    </tr>\n",
       "    <tr>\n",
       "      <th>2013-01-03</th>\n",
       "      <td>1.638561</td>\n",
       "      <td>-0.761415</td>\n",
       "      <td>1.294209</td>\n",
       "      <td>-1.367548</td>\n",
       "    </tr>\n",
       "    <tr>\n",
       "      <th>2013-01-04</th>\n",
       "      <td>-1.914890</td>\n",
       "      <td>0.520059</td>\n",
       "      <td>-0.852564</td>\n",
       "      <td>-1.421003</td>\n",
       "    </tr>\n",
       "    <tr>\n",
       "      <th>2013-01-05</th>\n",
       "      <td>0.382234</td>\n",
       "      <td>-0.071261</td>\n",
       "      <td>1.025415</td>\n",
       "      <td>1.079166</td>\n",
       "    </tr>\n",
       "    <tr>\n",
       "      <th>2013-01-06</th>\n",
       "      <td>-0.617520</td>\n",
       "      <td>0.294364</td>\n",
       "      <td>0.183625</td>\n",
       "      <td>0.940206</td>\n",
       "    </tr>\n",
       "  </tbody>\n",
       "</table>\n",
       "</div>"
      ],
      "text/plain": [
       "                   D         C         B         A\n",
       "2013-01-01  1.448879 -1.295413  0.044362  0.536605\n",
       "2013-01-02  1.918660 -1.026802  0.543212  1.155350\n",
       "2013-01-03  1.638561 -0.761415  1.294209 -1.367548\n",
       "2013-01-04 -1.914890  0.520059 -0.852564 -1.421003\n",
       "2013-01-05  0.382234 -0.071261  1.025415  1.079166\n",
       "2013-01-06 -0.617520  0.294364  0.183625  0.940206"
      ]
     },
     "execution_count": 137,
     "metadata": {},
     "output_type": "execute_result"
    }
   ],
   "source": [
    "df.sort_index(axis=1, ascending=False)"
   ]
  },
  {
   "cell_type": "code",
   "execution_count": 138,
   "id": "828187a8",
   "metadata": {
    "execution": {
     "iopub.execute_input": "2025-02-28T13:08:41.189383Z",
     "iopub.status.busy": "2025-02-28T13:08:41.189048Z",
     "iopub.status.idle": "2025-02-28T13:08:41.200757Z",
     "shell.execute_reply": "2025-02-28T13:08:41.199622Z"
    },
    "papermill": {
     "duration": 0.063054,
     "end_time": "2025-02-28T13:08:41.202768",
     "exception": false,
     "start_time": "2025-02-28T13:08:41.139714",
     "status": "completed"
    },
    "tags": []
   },
   "outputs": [
    {
     "data": {
      "text/html": [
       "<div>\n",
       "<style scoped>\n",
       "    .dataframe tbody tr th:only-of-type {\n",
       "        vertical-align: middle;\n",
       "    }\n",
       "\n",
       "    .dataframe tbody tr th {\n",
       "        vertical-align: top;\n",
       "    }\n",
       "\n",
       "    .dataframe thead th {\n",
       "        text-align: right;\n",
       "    }\n",
       "</style>\n",
       "<table border=\"1\" class=\"dataframe\">\n",
       "  <thead>\n",
       "    <tr style=\"text-align: right;\">\n",
       "      <th></th>\n",
       "      <th>A</th>\n",
       "      <th>B</th>\n",
       "      <th>C</th>\n",
       "      <th>D</th>\n",
       "    </tr>\n",
       "  </thead>\n",
       "  <tbody>\n",
       "    <tr>\n",
       "      <th>2013-01-04</th>\n",
       "      <td>-1.421003</td>\n",
       "      <td>-0.852564</td>\n",
       "      <td>0.520059</td>\n",
       "      <td>-1.914890</td>\n",
       "    </tr>\n",
       "    <tr>\n",
       "      <th>2013-01-01</th>\n",
       "      <td>0.536605</td>\n",
       "      <td>0.044362</td>\n",
       "      <td>-1.295413</td>\n",
       "      <td>1.448879</td>\n",
       "    </tr>\n",
       "    <tr>\n",
       "      <th>2013-01-06</th>\n",
       "      <td>0.940206</td>\n",
       "      <td>0.183625</td>\n",
       "      <td>0.294364</td>\n",
       "      <td>-0.617520</td>\n",
       "    </tr>\n",
       "    <tr>\n",
       "      <th>2013-01-02</th>\n",
       "      <td>1.155350</td>\n",
       "      <td>0.543212</td>\n",
       "      <td>-1.026802</td>\n",
       "      <td>1.918660</td>\n",
       "    </tr>\n",
       "    <tr>\n",
       "      <th>2013-01-05</th>\n",
       "      <td>1.079166</td>\n",
       "      <td>1.025415</td>\n",
       "      <td>-0.071261</td>\n",
       "      <td>0.382234</td>\n",
       "    </tr>\n",
       "    <tr>\n",
       "      <th>2013-01-03</th>\n",
       "      <td>-1.367548</td>\n",
       "      <td>1.294209</td>\n",
       "      <td>-0.761415</td>\n",
       "      <td>1.638561</td>\n",
       "    </tr>\n",
       "  </tbody>\n",
       "</table>\n",
       "</div>"
      ],
      "text/plain": [
       "                   A         B         C         D\n",
       "2013-01-04 -1.421003 -0.852564  0.520059 -1.914890\n",
       "2013-01-01  0.536605  0.044362 -1.295413  1.448879\n",
       "2013-01-06  0.940206  0.183625  0.294364 -0.617520\n",
       "2013-01-02  1.155350  0.543212 -1.026802  1.918660\n",
       "2013-01-05  1.079166  1.025415 -0.071261  0.382234\n",
       "2013-01-03 -1.367548  1.294209 -0.761415  1.638561"
      ]
     },
     "execution_count": 138,
     "metadata": {},
     "output_type": "execute_result"
    }
   ],
   "source": [
    "df.sort_values(by=\"B\")"
   ]
  },
  {
   "cell_type": "code",
   "execution_count": 139,
   "id": "ba6f1d02",
   "metadata": {
    "execution": {
     "iopub.execute_input": "2025-02-28T13:08:41.300326Z",
     "iopub.status.busy": "2025-02-28T13:08:41.299970Z",
     "iopub.status.idle": "2025-02-28T13:08:41.310953Z",
     "shell.execute_reply": "2025-02-28T13:08:41.309841Z"
    },
    "papermill": {
     "duration": 0.061731,
     "end_time": "2025-02-28T13:08:41.312735",
     "exception": false,
     "start_time": "2025-02-28T13:08:41.251004",
     "status": "completed"
    },
    "tags": []
   },
   "outputs": [
    {
     "data": {
      "text/html": [
       "<div>\n",
       "<style scoped>\n",
       "    .dataframe tbody tr th:only-of-type {\n",
       "        vertical-align: middle;\n",
       "    }\n",
       "\n",
       "    .dataframe tbody tr th {\n",
       "        vertical-align: top;\n",
       "    }\n",
       "\n",
       "    .dataframe thead th {\n",
       "        text-align: right;\n",
       "    }\n",
       "</style>\n",
       "<table border=\"1\" class=\"dataframe\">\n",
       "  <thead>\n",
       "    <tr style=\"text-align: right;\">\n",
       "      <th></th>\n",
       "      <th>A</th>\n",
       "      <th>B</th>\n",
       "      <th>C</th>\n",
       "      <th>D</th>\n",
       "    </tr>\n",
       "  </thead>\n",
       "  <tbody>\n",
       "    <tr>\n",
       "      <th>2013-01-01</th>\n",
       "      <td>0.536605</td>\n",
       "      <td>0.044362</td>\n",
       "      <td>-1.295413</td>\n",
       "      <td>1.448879</td>\n",
       "    </tr>\n",
       "    <tr>\n",
       "      <th>2013-01-02</th>\n",
       "      <td>1.155350</td>\n",
       "      <td>0.543212</td>\n",
       "      <td>-1.026802</td>\n",
       "      <td>1.918660</td>\n",
       "    </tr>\n",
       "    <tr>\n",
       "      <th>2013-01-03</th>\n",
       "      <td>-1.367548</td>\n",
       "      <td>1.294209</td>\n",
       "      <td>-0.761415</td>\n",
       "      <td>1.638561</td>\n",
       "    </tr>\n",
       "  </tbody>\n",
       "</table>\n",
       "</div>"
      ],
      "text/plain": [
       "                   A         B         C         D\n",
       "2013-01-01  0.536605  0.044362 -1.295413  1.448879\n",
       "2013-01-02  1.155350  0.543212 -1.026802  1.918660\n",
       "2013-01-03 -1.367548  1.294209 -0.761415  1.638561"
      ]
     },
     "execution_count": 139,
     "metadata": {},
     "output_type": "execute_result"
    }
   ],
   "source": [
    "df[0:3]"
   ]
  },
  {
   "cell_type": "code",
   "execution_count": 140,
   "id": "5601499b",
   "metadata": {
    "execution": {
     "iopub.execute_input": "2025-02-28T13:08:41.409339Z",
     "iopub.status.busy": "2025-02-28T13:08:41.408981Z",
     "iopub.status.idle": "2025-02-28T13:08:41.425930Z",
     "shell.execute_reply": "2025-02-28T13:08:41.424677Z"
    },
    "papermill": {
     "duration": 0.067508,
     "end_time": "2025-02-28T13:08:41.427816",
     "exception": false,
     "start_time": "2025-02-28T13:08:41.360308",
     "status": "completed"
    },
    "tags": []
   },
   "outputs": [
    {
     "data": {
      "text/html": [
       "<div>\n",
       "<style scoped>\n",
       "    .dataframe tbody tr th:only-of-type {\n",
       "        vertical-align: middle;\n",
       "    }\n",
       "\n",
       "    .dataframe tbody tr th {\n",
       "        vertical-align: top;\n",
       "    }\n",
       "\n",
       "    .dataframe thead th {\n",
       "        text-align: right;\n",
       "    }\n",
       "</style>\n",
       "<table border=\"1\" class=\"dataframe\">\n",
       "  <thead>\n",
       "    <tr style=\"text-align: right;\">\n",
       "      <th></th>\n",
       "      <th>A</th>\n",
       "      <th>B</th>\n",
       "      <th>C</th>\n",
       "      <th>D</th>\n",
       "    </tr>\n",
       "  </thead>\n",
       "  <tbody>\n",
       "    <tr>\n",
       "      <th>2013-01-02</th>\n",
       "      <td>1.155350</td>\n",
       "      <td>0.543212</td>\n",
       "      <td>-1.026802</td>\n",
       "      <td>1.918660</td>\n",
       "    </tr>\n",
       "    <tr>\n",
       "      <th>2013-01-03</th>\n",
       "      <td>-1.367548</td>\n",
       "      <td>1.294209</td>\n",
       "      <td>-0.761415</td>\n",
       "      <td>1.638561</td>\n",
       "    </tr>\n",
       "    <tr>\n",
       "      <th>2013-01-04</th>\n",
       "      <td>-1.421003</td>\n",
       "      <td>-0.852564</td>\n",
       "      <td>0.520059</td>\n",
       "      <td>-1.914890</td>\n",
       "    </tr>\n",
       "  </tbody>\n",
       "</table>\n",
       "</div>"
      ],
      "text/plain": [
       "                   A         B         C         D\n",
       "2013-01-02  1.155350  0.543212 -1.026802  1.918660\n",
       "2013-01-03 -1.367548  1.294209 -0.761415  1.638561\n",
       "2013-01-04 -1.421003 -0.852564  0.520059 -1.914890"
      ]
     },
     "execution_count": 140,
     "metadata": {},
     "output_type": "execute_result"
    }
   ],
   "source": [
    "df[\"20130102\":\"20130104\"]"
   ]
  },
  {
   "cell_type": "code",
   "execution_count": 141,
   "id": "6b0bc0de",
   "metadata": {
    "execution": {
     "iopub.execute_input": "2025-02-28T13:08:41.529306Z",
     "iopub.status.busy": "2025-02-28T13:08:41.528960Z",
     "iopub.status.idle": "2025-02-28T13:08:41.536169Z",
     "shell.execute_reply": "2025-02-28T13:08:41.535065Z"
    },
    "papermill": {
     "duration": 0.058719,
     "end_time": "2025-02-28T13:08:41.537907",
     "exception": false,
     "start_time": "2025-02-28T13:08:41.479188",
     "status": "completed"
    },
    "tags": []
   },
   "outputs": [
    {
     "data": {
      "text/plain": [
       "A    0.536605\n",
       "B    0.044362\n",
       "C   -1.295413\n",
       "D    1.448879\n",
       "Name: 2013-01-01 00:00:00, dtype: float64"
      ]
     },
     "execution_count": 141,
     "metadata": {},
     "output_type": "execute_result"
    }
   ],
   "source": [
    "df.loc[dates[0]]"
   ]
  },
  {
   "cell_type": "code",
   "execution_count": 142,
   "id": "571fe3b8",
   "metadata": {
    "execution": {
     "iopub.execute_input": "2025-02-28T13:08:41.635112Z",
     "iopub.status.busy": "2025-02-28T13:08:41.634743Z",
     "iopub.status.idle": "2025-02-28T13:08:41.645072Z",
     "shell.execute_reply": "2025-02-28T13:08:41.644063Z"
    },
    "papermill": {
     "duration": 0.061537,
     "end_time": "2025-02-28T13:08:41.646884",
     "exception": false,
     "start_time": "2025-02-28T13:08:41.585347",
     "status": "completed"
    },
    "tags": []
   },
   "outputs": [
    {
     "data": {
      "text/html": [
       "<div>\n",
       "<style scoped>\n",
       "    .dataframe tbody tr th:only-of-type {\n",
       "        vertical-align: middle;\n",
       "    }\n",
       "\n",
       "    .dataframe tbody tr th {\n",
       "        vertical-align: top;\n",
       "    }\n",
       "\n",
       "    .dataframe thead th {\n",
       "        text-align: right;\n",
       "    }\n",
       "</style>\n",
       "<table border=\"1\" class=\"dataframe\">\n",
       "  <thead>\n",
       "    <tr style=\"text-align: right;\">\n",
       "      <th></th>\n",
       "      <th>A</th>\n",
       "      <th>B</th>\n",
       "    </tr>\n",
       "  </thead>\n",
       "  <tbody>\n",
       "    <tr>\n",
       "      <th>2013-01-01</th>\n",
       "      <td>0.536605</td>\n",
       "      <td>0.044362</td>\n",
       "    </tr>\n",
       "    <tr>\n",
       "      <th>2013-01-02</th>\n",
       "      <td>1.155350</td>\n",
       "      <td>0.543212</td>\n",
       "    </tr>\n",
       "    <tr>\n",
       "      <th>2013-01-03</th>\n",
       "      <td>-1.367548</td>\n",
       "      <td>1.294209</td>\n",
       "    </tr>\n",
       "    <tr>\n",
       "      <th>2013-01-04</th>\n",
       "      <td>-1.421003</td>\n",
       "      <td>-0.852564</td>\n",
       "    </tr>\n",
       "    <tr>\n",
       "      <th>2013-01-05</th>\n",
       "      <td>1.079166</td>\n",
       "      <td>1.025415</td>\n",
       "    </tr>\n",
       "    <tr>\n",
       "      <th>2013-01-06</th>\n",
       "      <td>0.940206</td>\n",
       "      <td>0.183625</td>\n",
       "    </tr>\n",
       "  </tbody>\n",
       "</table>\n",
       "</div>"
      ],
      "text/plain": [
       "                   A         B\n",
       "2013-01-01  0.536605  0.044362\n",
       "2013-01-02  1.155350  0.543212\n",
       "2013-01-03 -1.367548  1.294209\n",
       "2013-01-04 -1.421003 -0.852564\n",
       "2013-01-05  1.079166  1.025415\n",
       "2013-01-06  0.940206  0.183625"
      ]
     },
     "execution_count": 142,
     "metadata": {},
     "output_type": "execute_result"
    }
   ],
   "source": [
    "df.loc[:, [\"A\", \"B\"]]"
   ]
  },
  {
   "cell_type": "code",
   "execution_count": 143,
   "id": "8d9407e7",
   "metadata": {
    "execution": {
     "iopub.execute_input": "2025-02-28T13:08:41.745861Z",
     "iopub.status.busy": "2025-02-28T13:08:41.745422Z",
     "iopub.status.idle": "2025-02-28T13:08:41.757990Z",
     "shell.execute_reply": "2025-02-28T13:08:41.756808Z"
    },
    "papermill": {
     "duration": 0.065083,
     "end_time": "2025-02-28T13:08:41.760219",
     "exception": false,
     "start_time": "2025-02-28T13:08:41.695136",
     "status": "completed"
    },
    "tags": []
   },
   "outputs": [
    {
     "data": {
      "text/html": [
       "<div>\n",
       "<style scoped>\n",
       "    .dataframe tbody tr th:only-of-type {\n",
       "        vertical-align: middle;\n",
       "    }\n",
       "\n",
       "    .dataframe tbody tr th {\n",
       "        vertical-align: top;\n",
       "    }\n",
       "\n",
       "    .dataframe thead th {\n",
       "        text-align: right;\n",
       "    }\n",
       "</style>\n",
       "<table border=\"1\" class=\"dataframe\">\n",
       "  <thead>\n",
       "    <tr style=\"text-align: right;\">\n",
       "      <th></th>\n",
       "      <th>A</th>\n",
       "      <th>B</th>\n",
       "    </tr>\n",
       "  </thead>\n",
       "  <tbody>\n",
       "    <tr>\n",
       "      <th>2013-01-02</th>\n",
       "      <td>1.155350</td>\n",
       "      <td>0.543212</td>\n",
       "    </tr>\n",
       "    <tr>\n",
       "      <th>2013-01-03</th>\n",
       "      <td>-1.367548</td>\n",
       "      <td>1.294209</td>\n",
       "    </tr>\n",
       "    <tr>\n",
       "      <th>2013-01-04</th>\n",
       "      <td>-1.421003</td>\n",
       "      <td>-0.852564</td>\n",
       "    </tr>\n",
       "  </tbody>\n",
       "</table>\n",
       "</div>"
      ],
      "text/plain": [
       "                   A         B\n",
       "2013-01-02  1.155350  0.543212\n",
       "2013-01-03 -1.367548  1.294209\n",
       "2013-01-04 -1.421003 -0.852564"
      ]
     },
     "execution_count": 143,
     "metadata": {},
     "output_type": "execute_result"
    }
   ],
   "source": [
    "df.loc[\"20130102\":\"20130104\", [\"A\", \"B\"]]"
   ]
  },
  {
   "cell_type": "code",
   "execution_count": 144,
   "id": "949c1052",
   "metadata": {
    "execution": {
     "iopub.execute_input": "2025-02-28T13:08:41.859632Z",
     "iopub.status.busy": "2025-02-28T13:08:41.859215Z",
     "iopub.status.idle": "2025-02-28T13:08:41.867919Z",
     "shell.execute_reply": "2025-02-28T13:08:41.866740Z"
    },
    "papermill": {
     "duration": 0.060278,
     "end_time": "2025-02-28T13:08:41.869883",
     "exception": false,
     "start_time": "2025-02-28T13:08:41.809605",
     "status": "completed"
    },
    "tags": []
   },
   "outputs": [
    {
     "data": {
      "text/plain": [
       "A    1.155350\n",
       "B    0.543212\n",
       "Name: 2013-01-02 00:00:00, dtype: float64"
      ]
     },
     "execution_count": 144,
     "metadata": {},
     "output_type": "execute_result"
    }
   ],
   "source": [
    "df.loc[\"20130102\", [\"A\", \"B\"]]"
   ]
  },
  {
   "cell_type": "code",
   "execution_count": 145,
   "id": "15a9b126",
   "metadata": {
    "execution": {
     "iopub.execute_input": "2025-02-28T13:08:41.972356Z",
     "iopub.status.busy": "2025-02-28T13:08:41.971988Z",
     "iopub.status.idle": "2025-02-28T13:08:41.979176Z",
     "shell.execute_reply": "2025-02-28T13:08:41.977698Z"
    },
    "papermill": {
     "duration": 0.060515,
     "end_time": "2025-02-28T13:08:41.981222",
     "exception": false,
     "start_time": "2025-02-28T13:08:41.920707",
     "status": "completed"
    },
    "tags": []
   },
   "outputs": [
    {
     "data": {
      "text/plain": [
       "0.5366047864423928"
      ]
     },
     "execution_count": 145,
     "metadata": {},
     "output_type": "execute_result"
    }
   ],
   "source": [
    "df.at[dates[0], \"A\"]"
   ]
  },
  {
   "cell_type": "code",
   "execution_count": 146,
   "id": "06f1c9f9",
   "metadata": {
    "execution": {
     "iopub.execute_input": "2025-02-28T13:08:42.083944Z",
     "iopub.status.busy": "2025-02-28T13:08:42.083540Z",
     "iopub.status.idle": "2025-02-28T13:08:42.090747Z",
     "shell.execute_reply": "2025-02-28T13:08:42.089644Z"
    },
    "papermill": {
     "duration": 0.059981,
     "end_time": "2025-02-28T13:08:42.092621",
     "exception": false,
     "start_time": "2025-02-28T13:08:42.032640",
     "status": "completed"
    },
    "tags": []
   },
   "outputs": [
    {
     "data": {
      "text/plain": [
       "A   -1.421003\n",
       "B   -0.852564\n",
       "C    0.520059\n",
       "D   -1.914890\n",
       "Name: 2013-01-04 00:00:00, dtype: float64"
      ]
     },
     "execution_count": 146,
     "metadata": {},
     "output_type": "execute_result"
    }
   ],
   "source": [
    "df.iloc[3]"
   ]
  },
  {
   "cell_type": "code",
   "execution_count": 147,
   "id": "b8acc8a1",
   "metadata": {
    "execution": {
     "iopub.execute_input": "2025-02-28T13:08:42.197773Z",
     "iopub.status.busy": "2025-02-28T13:08:42.197412Z",
     "iopub.status.idle": "2025-02-28T13:08:42.207253Z",
     "shell.execute_reply": "2025-02-28T13:08:42.206110Z"
    },
    "papermill": {
     "duration": 0.062695,
     "end_time": "2025-02-28T13:08:42.208992",
     "exception": false,
     "start_time": "2025-02-28T13:08:42.146297",
     "status": "completed"
    },
    "tags": []
   },
   "outputs": [
    {
     "data": {
      "text/html": [
       "<div>\n",
       "<style scoped>\n",
       "    .dataframe tbody tr th:only-of-type {\n",
       "        vertical-align: middle;\n",
       "    }\n",
       "\n",
       "    .dataframe tbody tr th {\n",
       "        vertical-align: top;\n",
       "    }\n",
       "\n",
       "    .dataframe thead th {\n",
       "        text-align: right;\n",
       "    }\n",
       "</style>\n",
       "<table border=\"1\" class=\"dataframe\">\n",
       "  <thead>\n",
       "    <tr style=\"text-align: right;\">\n",
       "      <th></th>\n",
       "      <th>A</th>\n",
       "      <th>B</th>\n",
       "    </tr>\n",
       "  </thead>\n",
       "  <tbody>\n",
       "    <tr>\n",
       "      <th>2013-01-04</th>\n",
       "      <td>-1.421003</td>\n",
       "      <td>-0.852564</td>\n",
       "    </tr>\n",
       "    <tr>\n",
       "      <th>2013-01-05</th>\n",
       "      <td>1.079166</td>\n",
       "      <td>1.025415</td>\n",
       "    </tr>\n",
       "  </tbody>\n",
       "</table>\n",
       "</div>"
      ],
      "text/plain": [
       "                   A         B\n",
       "2013-01-04 -1.421003 -0.852564\n",
       "2013-01-05  1.079166  1.025415"
      ]
     },
     "execution_count": 147,
     "metadata": {},
     "output_type": "execute_result"
    }
   ],
   "source": [
    "df.iloc[3:5, 0:2]"
   ]
  },
  {
   "cell_type": "code",
   "execution_count": 148,
   "id": "053f6493",
   "metadata": {
    "execution": {
     "iopub.execute_input": "2025-02-28T13:08:42.311872Z",
     "iopub.status.busy": "2025-02-28T13:08:42.311529Z",
     "iopub.status.idle": "2025-02-28T13:08:42.322187Z",
     "shell.execute_reply": "2025-02-28T13:08:42.320920Z"
    },
    "papermill": {
     "duration": 0.063985,
     "end_time": "2025-02-28T13:08:42.324045",
     "exception": false,
     "start_time": "2025-02-28T13:08:42.260060",
     "status": "completed"
    },
    "tags": []
   },
   "outputs": [
    {
     "data": {
      "text/html": [
       "<div>\n",
       "<style scoped>\n",
       "    .dataframe tbody tr th:only-of-type {\n",
       "        vertical-align: middle;\n",
       "    }\n",
       "\n",
       "    .dataframe tbody tr th {\n",
       "        vertical-align: top;\n",
       "    }\n",
       "\n",
       "    .dataframe thead th {\n",
       "        text-align: right;\n",
       "    }\n",
       "</style>\n",
       "<table border=\"1\" class=\"dataframe\">\n",
       "  <thead>\n",
       "    <tr style=\"text-align: right;\">\n",
       "      <th></th>\n",
       "      <th>A</th>\n",
       "      <th>C</th>\n",
       "    </tr>\n",
       "  </thead>\n",
       "  <tbody>\n",
       "    <tr>\n",
       "      <th>2013-01-02</th>\n",
       "      <td>1.155350</td>\n",
       "      <td>-1.026802</td>\n",
       "    </tr>\n",
       "    <tr>\n",
       "      <th>2013-01-03</th>\n",
       "      <td>-1.367548</td>\n",
       "      <td>-0.761415</td>\n",
       "    </tr>\n",
       "    <tr>\n",
       "      <th>2013-01-05</th>\n",
       "      <td>1.079166</td>\n",
       "      <td>-0.071261</td>\n",
       "    </tr>\n",
       "  </tbody>\n",
       "</table>\n",
       "</div>"
      ],
      "text/plain": [
       "                   A         C\n",
       "2013-01-02  1.155350 -1.026802\n",
       "2013-01-03 -1.367548 -0.761415\n",
       "2013-01-05  1.079166 -0.071261"
      ]
     },
     "execution_count": 148,
     "metadata": {},
     "output_type": "execute_result"
    }
   ],
   "source": [
    "df.iloc[[1, 2, 4], [0, 2]]"
   ]
  },
  {
   "cell_type": "code",
   "execution_count": 149,
   "id": "4e57b774",
   "metadata": {
    "execution": {
     "iopub.execute_input": "2025-02-28T13:08:42.423512Z",
     "iopub.status.busy": "2025-02-28T13:08:42.423129Z",
     "iopub.status.idle": "2025-02-28T13:08:42.435107Z",
     "shell.execute_reply": "2025-02-28T13:08:42.433692Z"
    },
    "papermill": {
     "duration": 0.064835,
     "end_time": "2025-02-28T13:08:42.437052",
     "exception": false,
     "start_time": "2025-02-28T13:08:42.372217",
     "status": "completed"
    },
    "tags": []
   },
   "outputs": [
    {
     "data": {
      "text/html": [
       "<div>\n",
       "<style scoped>\n",
       "    .dataframe tbody tr th:only-of-type {\n",
       "        vertical-align: middle;\n",
       "    }\n",
       "\n",
       "    .dataframe tbody tr th {\n",
       "        vertical-align: top;\n",
       "    }\n",
       "\n",
       "    .dataframe thead th {\n",
       "        text-align: right;\n",
       "    }\n",
       "</style>\n",
       "<table border=\"1\" class=\"dataframe\">\n",
       "  <thead>\n",
       "    <tr style=\"text-align: right;\">\n",
       "      <th></th>\n",
       "      <th>A</th>\n",
       "      <th>B</th>\n",
       "      <th>C</th>\n",
       "      <th>D</th>\n",
       "    </tr>\n",
       "  </thead>\n",
       "  <tbody>\n",
       "    <tr>\n",
       "      <th>2013-01-02</th>\n",
       "      <td>1.155350</td>\n",
       "      <td>0.543212</td>\n",
       "      <td>-1.026802</td>\n",
       "      <td>1.918660</td>\n",
       "    </tr>\n",
       "    <tr>\n",
       "      <th>2013-01-03</th>\n",
       "      <td>-1.367548</td>\n",
       "      <td>1.294209</td>\n",
       "      <td>-0.761415</td>\n",
       "      <td>1.638561</td>\n",
       "    </tr>\n",
       "  </tbody>\n",
       "</table>\n",
       "</div>"
      ],
      "text/plain": [
       "                   A         B         C         D\n",
       "2013-01-02  1.155350  0.543212 -1.026802  1.918660\n",
       "2013-01-03 -1.367548  1.294209 -0.761415  1.638561"
      ]
     },
     "execution_count": 149,
     "metadata": {},
     "output_type": "execute_result"
    }
   ],
   "source": [
    "df.iloc[1:3, :]"
   ]
  },
  {
   "cell_type": "code",
   "execution_count": 150,
   "id": "4ef49a0e",
   "metadata": {
    "execution": {
     "iopub.execute_input": "2025-02-28T13:08:42.539380Z",
     "iopub.status.busy": "2025-02-28T13:08:42.539023Z",
     "iopub.status.idle": "2025-02-28T13:08:42.549064Z",
     "shell.execute_reply": "2025-02-28T13:08:42.547923Z"
    },
    "papermill": {
     "duration": 0.062545,
     "end_time": "2025-02-28T13:08:42.550979",
     "exception": false,
     "start_time": "2025-02-28T13:08:42.488434",
     "status": "completed"
    },
    "tags": []
   },
   "outputs": [
    {
     "data": {
      "text/html": [
       "<div>\n",
       "<style scoped>\n",
       "    .dataframe tbody tr th:only-of-type {\n",
       "        vertical-align: middle;\n",
       "    }\n",
       "\n",
       "    .dataframe tbody tr th {\n",
       "        vertical-align: top;\n",
       "    }\n",
       "\n",
       "    .dataframe thead th {\n",
       "        text-align: right;\n",
       "    }\n",
       "</style>\n",
       "<table border=\"1\" class=\"dataframe\">\n",
       "  <thead>\n",
       "    <tr style=\"text-align: right;\">\n",
       "      <th></th>\n",
       "      <th>B</th>\n",
       "      <th>C</th>\n",
       "    </tr>\n",
       "  </thead>\n",
       "  <tbody>\n",
       "    <tr>\n",
       "      <th>2013-01-01</th>\n",
       "      <td>0.044362</td>\n",
       "      <td>-1.295413</td>\n",
       "    </tr>\n",
       "    <tr>\n",
       "      <th>2013-01-02</th>\n",
       "      <td>0.543212</td>\n",
       "      <td>-1.026802</td>\n",
       "    </tr>\n",
       "    <tr>\n",
       "      <th>2013-01-03</th>\n",
       "      <td>1.294209</td>\n",
       "      <td>-0.761415</td>\n",
       "    </tr>\n",
       "    <tr>\n",
       "      <th>2013-01-04</th>\n",
       "      <td>-0.852564</td>\n",
       "      <td>0.520059</td>\n",
       "    </tr>\n",
       "    <tr>\n",
       "      <th>2013-01-05</th>\n",
       "      <td>1.025415</td>\n",
       "      <td>-0.071261</td>\n",
       "    </tr>\n",
       "    <tr>\n",
       "      <th>2013-01-06</th>\n",
       "      <td>0.183625</td>\n",
       "      <td>0.294364</td>\n",
       "    </tr>\n",
       "  </tbody>\n",
       "</table>\n",
       "</div>"
      ],
      "text/plain": [
       "                   B         C\n",
       "2013-01-01  0.044362 -1.295413\n",
       "2013-01-02  0.543212 -1.026802\n",
       "2013-01-03  1.294209 -0.761415\n",
       "2013-01-04 -0.852564  0.520059\n",
       "2013-01-05  1.025415 -0.071261\n",
       "2013-01-06  0.183625  0.294364"
      ]
     },
     "execution_count": 150,
     "metadata": {},
     "output_type": "execute_result"
    }
   ],
   "source": [
    "df.iloc[:, 1:3]"
   ]
  },
  {
   "cell_type": "code",
   "execution_count": 151,
   "id": "c08661ff",
   "metadata": {
    "execution": {
     "iopub.execute_input": "2025-02-28T13:08:42.651517Z",
     "iopub.status.busy": "2025-02-28T13:08:42.651142Z",
     "iopub.status.idle": "2025-02-28T13:08:42.658054Z",
     "shell.execute_reply": "2025-02-28T13:08:42.656748Z"
    },
    "papermill": {
     "duration": 0.059246,
     "end_time": "2025-02-28T13:08:42.660174",
     "exception": false,
     "start_time": "2025-02-28T13:08:42.600928",
     "status": "completed"
    },
    "tags": []
   },
   "outputs": [
    {
     "data": {
      "text/plain": [
       "0.5432118927386318"
      ]
     },
     "execution_count": 151,
     "metadata": {},
     "output_type": "execute_result"
    }
   ],
   "source": [
    "df.iloc[1, 1]"
   ]
  },
  {
   "cell_type": "code",
   "execution_count": 152,
   "id": "7aa57f9d",
   "metadata": {
    "execution": {
     "iopub.execute_input": "2025-02-28T13:08:42.764034Z",
     "iopub.status.busy": "2025-02-28T13:08:42.763643Z",
     "iopub.status.idle": "2025-02-28T13:08:42.776133Z",
     "shell.execute_reply": "2025-02-28T13:08:42.774371Z"
    },
    "papermill": {
     "duration": 0.067693,
     "end_time": "2025-02-28T13:08:42.779096",
     "exception": false,
     "start_time": "2025-02-28T13:08:42.711403",
     "status": "completed"
    },
    "tags": []
   },
   "outputs": [
    {
     "data": {
      "text/html": [
       "<div>\n",
       "<style scoped>\n",
       "    .dataframe tbody tr th:only-of-type {\n",
       "        vertical-align: middle;\n",
       "    }\n",
       "\n",
       "    .dataframe tbody tr th {\n",
       "        vertical-align: top;\n",
       "    }\n",
       "\n",
       "    .dataframe thead th {\n",
       "        text-align: right;\n",
       "    }\n",
       "</style>\n",
       "<table border=\"1\" class=\"dataframe\">\n",
       "  <thead>\n",
       "    <tr style=\"text-align: right;\">\n",
       "      <th></th>\n",
       "      <th>A</th>\n",
       "      <th>B</th>\n",
       "      <th>C</th>\n",
       "      <th>D</th>\n",
       "    </tr>\n",
       "  </thead>\n",
       "  <tbody>\n",
       "    <tr>\n",
       "      <th>2013-01-01</th>\n",
       "      <td>0.536605</td>\n",
       "      <td>0.044362</td>\n",
       "      <td>-1.295413</td>\n",
       "      <td>1.448879</td>\n",
       "    </tr>\n",
       "    <tr>\n",
       "      <th>2013-01-02</th>\n",
       "      <td>1.155350</td>\n",
       "      <td>0.543212</td>\n",
       "      <td>-1.026802</td>\n",
       "      <td>1.918660</td>\n",
       "    </tr>\n",
       "    <tr>\n",
       "      <th>2013-01-05</th>\n",
       "      <td>1.079166</td>\n",
       "      <td>1.025415</td>\n",
       "      <td>-0.071261</td>\n",
       "      <td>0.382234</td>\n",
       "    </tr>\n",
       "    <tr>\n",
       "      <th>2013-01-06</th>\n",
       "      <td>0.940206</td>\n",
       "      <td>0.183625</td>\n",
       "      <td>0.294364</td>\n",
       "      <td>-0.617520</td>\n",
       "    </tr>\n",
       "  </tbody>\n",
       "</table>\n",
       "</div>"
      ],
      "text/plain": [
       "                   A         B         C         D\n",
       "2013-01-01  0.536605  0.044362 -1.295413  1.448879\n",
       "2013-01-02  1.155350  0.543212 -1.026802  1.918660\n",
       "2013-01-05  1.079166  1.025415 -0.071261  0.382234\n",
       "2013-01-06  0.940206  0.183625  0.294364 -0.617520"
      ]
     },
     "execution_count": 152,
     "metadata": {},
     "output_type": "execute_result"
    }
   ],
   "source": [
    "df[df[\"A\"] > 0]"
   ]
  },
  {
   "cell_type": "code",
   "execution_count": 153,
   "id": "50b39717",
   "metadata": {
    "execution": {
     "iopub.execute_input": "2025-02-28T13:08:42.880479Z",
     "iopub.status.busy": "2025-02-28T13:08:42.880061Z",
     "iopub.status.idle": "2025-02-28T13:08:42.893323Z",
     "shell.execute_reply": "2025-02-28T13:08:42.892127Z"
    },
    "papermill": {
     "duration": 0.06701,
     "end_time": "2025-02-28T13:08:42.895302",
     "exception": false,
     "start_time": "2025-02-28T13:08:42.828292",
     "status": "completed"
    },
    "tags": []
   },
   "outputs": [
    {
     "data": {
      "text/html": [
       "<div>\n",
       "<style scoped>\n",
       "    .dataframe tbody tr th:only-of-type {\n",
       "        vertical-align: middle;\n",
       "    }\n",
       "\n",
       "    .dataframe tbody tr th {\n",
       "        vertical-align: top;\n",
       "    }\n",
       "\n",
       "    .dataframe thead th {\n",
       "        text-align: right;\n",
       "    }\n",
       "</style>\n",
       "<table border=\"1\" class=\"dataframe\">\n",
       "  <thead>\n",
       "    <tr style=\"text-align: right;\">\n",
       "      <th></th>\n",
       "      <th>A</th>\n",
       "      <th>B</th>\n",
       "      <th>C</th>\n",
       "      <th>D</th>\n",
       "    </tr>\n",
       "  </thead>\n",
       "  <tbody>\n",
       "    <tr>\n",
       "      <th>2013-01-01</th>\n",
       "      <td>0.536605</td>\n",
       "      <td>0.044362</td>\n",
       "      <td>NaN</td>\n",
       "      <td>1.448879</td>\n",
       "    </tr>\n",
       "    <tr>\n",
       "      <th>2013-01-02</th>\n",
       "      <td>1.155350</td>\n",
       "      <td>0.543212</td>\n",
       "      <td>NaN</td>\n",
       "      <td>1.918660</td>\n",
       "    </tr>\n",
       "    <tr>\n",
       "      <th>2013-01-03</th>\n",
       "      <td>NaN</td>\n",
       "      <td>1.294209</td>\n",
       "      <td>NaN</td>\n",
       "      <td>1.638561</td>\n",
       "    </tr>\n",
       "    <tr>\n",
       "      <th>2013-01-04</th>\n",
       "      <td>NaN</td>\n",
       "      <td>NaN</td>\n",
       "      <td>0.520059</td>\n",
       "      <td>NaN</td>\n",
       "    </tr>\n",
       "    <tr>\n",
       "      <th>2013-01-05</th>\n",
       "      <td>1.079166</td>\n",
       "      <td>1.025415</td>\n",
       "      <td>NaN</td>\n",
       "      <td>0.382234</td>\n",
       "    </tr>\n",
       "    <tr>\n",
       "      <th>2013-01-06</th>\n",
       "      <td>0.940206</td>\n",
       "      <td>0.183625</td>\n",
       "      <td>0.294364</td>\n",
       "      <td>NaN</td>\n",
       "    </tr>\n",
       "  </tbody>\n",
       "</table>\n",
       "</div>"
      ],
      "text/plain": [
       "                   A         B         C         D\n",
       "2013-01-01  0.536605  0.044362       NaN  1.448879\n",
       "2013-01-02  1.155350  0.543212       NaN  1.918660\n",
       "2013-01-03       NaN  1.294209       NaN  1.638561\n",
       "2013-01-04       NaN       NaN  0.520059       NaN\n",
       "2013-01-05  1.079166  1.025415       NaN  0.382234\n",
       "2013-01-06  0.940206  0.183625  0.294364       NaN"
      ]
     },
     "execution_count": 153,
     "metadata": {},
     "output_type": "execute_result"
    }
   ],
   "source": [
    "df[df > 0]"
   ]
  },
  {
   "cell_type": "code",
   "execution_count": 154,
   "id": "15047b9b",
   "metadata": {
    "execution": {
     "iopub.execute_input": "2025-02-28T13:08:42.997505Z",
     "iopub.status.busy": "2025-02-28T13:08:42.997089Z",
     "iopub.status.idle": "2025-02-28T13:08:43.011052Z",
     "shell.execute_reply": "2025-02-28T13:08:43.009883Z"
    },
    "papermill": {
     "duration": 0.067434,
     "end_time": "2025-02-28T13:08:43.012759",
     "exception": false,
     "start_time": "2025-02-28T13:08:42.945325",
     "status": "completed"
    },
    "tags": []
   },
   "outputs": [
    {
     "data": {
      "text/html": [
       "<div>\n",
       "<style scoped>\n",
       "    .dataframe tbody tr th:only-of-type {\n",
       "        vertical-align: middle;\n",
       "    }\n",
       "\n",
       "    .dataframe tbody tr th {\n",
       "        vertical-align: top;\n",
       "    }\n",
       "\n",
       "    .dataframe thead th {\n",
       "        text-align: right;\n",
       "    }\n",
       "</style>\n",
       "<table border=\"1\" class=\"dataframe\">\n",
       "  <thead>\n",
       "    <tr style=\"text-align: right;\">\n",
       "      <th></th>\n",
       "      <th>A</th>\n",
       "      <th>B</th>\n",
       "      <th>C</th>\n",
       "      <th>D</th>\n",
       "      <th>E</th>\n",
       "    </tr>\n",
       "  </thead>\n",
       "  <tbody>\n",
       "    <tr>\n",
       "      <th>2013-01-01</th>\n",
       "      <td>0.536605</td>\n",
       "      <td>0.044362</td>\n",
       "      <td>-1.295413</td>\n",
       "      <td>1.448879</td>\n",
       "      <td>one</td>\n",
       "    </tr>\n",
       "    <tr>\n",
       "      <th>2013-01-02</th>\n",
       "      <td>1.155350</td>\n",
       "      <td>0.543212</td>\n",
       "      <td>-1.026802</td>\n",
       "      <td>1.918660</td>\n",
       "      <td>one</td>\n",
       "    </tr>\n",
       "    <tr>\n",
       "      <th>2013-01-03</th>\n",
       "      <td>-1.367548</td>\n",
       "      <td>1.294209</td>\n",
       "      <td>-0.761415</td>\n",
       "      <td>1.638561</td>\n",
       "      <td>two</td>\n",
       "    </tr>\n",
       "    <tr>\n",
       "      <th>2013-01-04</th>\n",
       "      <td>-1.421003</td>\n",
       "      <td>-0.852564</td>\n",
       "      <td>0.520059</td>\n",
       "      <td>-1.914890</td>\n",
       "      <td>three</td>\n",
       "    </tr>\n",
       "    <tr>\n",
       "      <th>2013-01-05</th>\n",
       "      <td>1.079166</td>\n",
       "      <td>1.025415</td>\n",
       "      <td>-0.071261</td>\n",
       "      <td>0.382234</td>\n",
       "      <td>four</td>\n",
       "    </tr>\n",
       "    <tr>\n",
       "      <th>2013-01-06</th>\n",
       "      <td>0.940206</td>\n",
       "      <td>0.183625</td>\n",
       "      <td>0.294364</td>\n",
       "      <td>-0.617520</td>\n",
       "      <td>three</td>\n",
       "    </tr>\n",
       "  </tbody>\n",
       "</table>\n",
       "</div>"
      ],
      "text/plain": [
       "                   A         B         C         D      E\n",
       "2013-01-01  0.536605  0.044362 -1.295413  1.448879    one\n",
       "2013-01-02  1.155350  0.543212 -1.026802  1.918660    one\n",
       "2013-01-03 -1.367548  1.294209 -0.761415  1.638561    two\n",
       "2013-01-04 -1.421003 -0.852564  0.520059 -1.914890  three\n",
       "2013-01-05  1.079166  1.025415 -0.071261  0.382234   four\n",
       "2013-01-06  0.940206  0.183625  0.294364 -0.617520  three"
      ]
     },
     "execution_count": 154,
     "metadata": {},
     "output_type": "execute_result"
    }
   ],
   "source": [
    "df2 = df.copy()\n",
    "df2[\"E\"] = [\"one\", \"one\", \"two\", \"three\", \"four\", \"three\"]\n",
    "df2"
   ]
  },
  {
   "cell_type": "code",
   "execution_count": 155,
   "id": "42ef0f44",
   "metadata": {
    "execution": {
     "iopub.execute_input": "2025-02-28T13:08:43.119293Z",
     "iopub.status.busy": "2025-02-28T13:08:43.118884Z",
     "iopub.status.idle": "2025-02-28T13:08:43.131766Z",
     "shell.execute_reply": "2025-02-28T13:08:43.129985Z"
    },
    "papermill": {
     "duration": 0.070381,
     "end_time": "2025-02-28T13:08:43.133995",
     "exception": false,
     "start_time": "2025-02-28T13:08:43.063614",
     "status": "completed"
    },
    "tags": []
   },
   "outputs": [
    {
     "data": {
      "text/html": [
       "<div>\n",
       "<style scoped>\n",
       "    .dataframe tbody tr th:only-of-type {\n",
       "        vertical-align: middle;\n",
       "    }\n",
       "\n",
       "    .dataframe tbody tr th {\n",
       "        vertical-align: top;\n",
       "    }\n",
       "\n",
       "    .dataframe thead th {\n",
       "        text-align: right;\n",
       "    }\n",
       "</style>\n",
       "<table border=\"1\" class=\"dataframe\">\n",
       "  <thead>\n",
       "    <tr style=\"text-align: right;\">\n",
       "      <th></th>\n",
       "      <th>A</th>\n",
       "      <th>B</th>\n",
       "      <th>C</th>\n",
       "      <th>D</th>\n",
       "      <th>E</th>\n",
       "    </tr>\n",
       "  </thead>\n",
       "  <tbody>\n",
       "    <tr>\n",
       "      <th>2013-01-03</th>\n",
       "      <td>-1.367548</td>\n",
       "      <td>1.294209</td>\n",
       "      <td>-0.761415</td>\n",
       "      <td>1.638561</td>\n",
       "      <td>two</td>\n",
       "    </tr>\n",
       "    <tr>\n",
       "      <th>2013-01-05</th>\n",
       "      <td>1.079166</td>\n",
       "      <td>1.025415</td>\n",
       "      <td>-0.071261</td>\n",
       "      <td>0.382234</td>\n",
       "      <td>four</td>\n",
       "    </tr>\n",
       "  </tbody>\n",
       "</table>\n",
       "</div>"
      ],
      "text/plain": [
       "                   A         B         C         D     E\n",
       "2013-01-03 -1.367548  1.294209 -0.761415  1.638561   two\n",
       "2013-01-05  1.079166  1.025415 -0.071261  0.382234  four"
      ]
     },
     "execution_count": 155,
     "metadata": {},
     "output_type": "execute_result"
    }
   ],
   "source": [
    "df2[df2[\"E\"].isin([\"two\", \"four\"])]"
   ]
  },
  {
   "cell_type": "code",
   "execution_count": 156,
   "id": "03ce6780",
   "metadata": {
    "execution": {
     "iopub.execute_input": "2025-02-28T13:08:43.237542Z",
     "iopub.status.busy": "2025-02-28T13:08:43.237171Z",
     "iopub.status.idle": "2025-02-28T13:08:43.245497Z",
     "shell.execute_reply": "2025-02-28T13:08:43.244248Z"
    },
    "papermill": {
     "duration": 0.06098,
     "end_time": "2025-02-28T13:08:43.247357",
     "exception": false,
     "start_time": "2025-02-28T13:08:43.186377",
     "status": "completed"
    },
    "tags": []
   },
   "outputs": [
    {
     "data": {
      "text/plain": [
       "2013-01-02    1\n",
       "2013-01-03    2\n",
       "2013-01-04    3\n",
       "2013-01-05    4\n",
       "2013-01-06    5\n",
       "2013-01-07    6\n",
       "Freq: D, dtype: int64"
      ]
     },
     "execution_count": 156,
     "metadata": {},
     "output_type": "execute_result"
    }
   ],
   "source": [
    "\n",
    "s1 = pd.Series([1, 2, 3, 4, 5, 6], index=pd.date_range(\"20130102\", periods=6))\n",
    "s1"
   ]
  },
  {
   "cell_type": "code",
   "execution_count": 157,
   "id": "2f269c42",
   "metadata": {
    "execution": {
     "iopub.execute_input": "2025-02-28T13:08:43.348039Z",
     "iopub.status.busy": "2025-02-28T13:08:43.347650Z",
     "iopub.status.idle": "2025-02-28T13:08:43.352740Z",
     "shell.execute_reply": "2025-02-28T13:08:43.351352Z"
    },
    "papermill": {
     "duration": 0.057196,
     "end_time": "2025-02-28T13:08:43.354652",
     "exception": false,
     "start_time": "2025-02-28T13:08:43.297456",
     "status": "completed"
    },
    "tags": []
   },
   "outputs": [],
   "source": [
    "df.at[dates[0], \"A\"] = 0"
   ]
  },
  {
   "cell_type": "code",
   "execution_count": 158,
   "id": "9c520333",
   "metadata": {
    "execution": {
     "iopub.execute_input": "2025-02-28T13:08:43.456279Z",
     "iopub.status.busy": "2025-02-28T13:08:43.455879Z",
     "iopub.status.idle": "2025-02-28T13:08:43.460684Z",
     "shell.execute_reply": "2025-02-28T13:08:43.459399Z"
    },
    "papermill": {
     "duration": 0.058397,
     "end_time": "2025-02-28T13:08:43.462602",
     "exception": false,
     "start_time": "2025-02-28T13:08:43.404205",
     "status": "completed"
    },
    "tags": []
   },
   "outputs": [],
   "source": [
    "df.iat[0, 1] = 0"
   ]
  },
  {
   "cell_type": "code",
   "execution_count": 159,
   "id": "73078410",
   "metadata": {
    "execution": {
     "iopub.execute_input": "2025-02-28T13:08:43.566196Z",
     "iopub.status.busy": "2025-02-28T13:08:43.565837Z",
     "iopub.status.idle": "2025-02-28T13:08:43.577693Z",
     "shell.execute_reply": "2025-02-28T13:08:43.576659Z"
    },
    "papermill": {
     "duration": 0.063834,
     "end_time": "2025-02-28T13:08:43.579323",
     "exception": false,
     "start_time": "2025-02-28T13:08:43.515489",
     "status": "completed"
    },
    "tags": []
   },
   "outputs": [
    {
     "data": {
      "text/html": [
       "<div>\n",
       "<style scoped>\n",
       "    .dataframe tbody tr th:only-of-type {\n",
       "        vertical-align: middle;\n",
       "    }\n",
       "\n",
       "    .dataframe tbody tr th {\n",
       "        vertical-align: top;\n",
       "    }\n",
       "\n",
       "    .dataframe thead th {\n",
       "        text-align: right;\n",
       "    }\n",
       "</style>\n",
       "<table border=\"1\" class=\"dataframe\">\n",
       "  <thead>\n",
       "    <tr style=\"text-align: right;\">\n",
       "      <th></th>\n",
       "      <th>A</th>\n",
       "      <th>B</th>\n",
       "      <th>C</th>\n",
       "      <th>D</th>\n",
       "    </tr>\n",
       "  </thead>\n",
       "  <tbody>\n",
       "    <tr>\n",
       "      <th>2013-01-01</th>\n",
       "      <td>0.000000</td>\n",
       "      <td>0.000000</td>\n",
       "      <td>-1.295413</td>\n",
       "      <td>5.0</td>\n",
       "    </tr>\n",
       "    <tr>\n",
       "      <th>2013-01-02</th>\n",
       "      <td>1.155350</td>\n",
       "      <td>0.543212</td>\n",
       "      <td>-1.026802</td>\n",
       "      <td>5.0</td>\n",
       "    </tr>\n",
       "    <tr>\n",
       "      <th>2013-01-03</th>\n",
       "      <td>-1.367548</td>\n",
       "      <td>1.294209</td>\n",
       "      <td>-0.761415</td>\n",
       "      <td>5.0</td>\n",
       "    </tr>\n",
       "    <tr>\n",
       "      <th>2013-01-04</th>\n",
       "      <td>-1.421003</td>\n",
       "      <td>-0.852564</td>\n",
       "      <td>0.520059</td>\n",
       "      <td>5.0</td>\n",
       "    </tr>\n",
       "    <tr>\n",
       "      <th>2013-01-05</th>\n",
       "      <td>1.079166</td>\n",
       "      <td>1.025415</td>\n",
       "      <td>-0.071261</td>\n",
       "      <td>5.0</td>\n",
       "    </tr>\n",
       "    <tr>\n",
       "      <th>2013-01-06</th>\n",
       "      <td>0.940206</td>\n",
       "      <td>0.183625</td>\n",
       "      <td>0.294364</td>\n",
       "      <td>5.0</td>\n",
       "    </tr>\n",
       "  </tbody>\n",
       "</table>\n",
       "</div>"
      ],
      "text/plain": [
       "                   A         B         C    D\n",
       "2013-01-01  0.000000  0.000000 -1.295413  5.0\n",
       "2013-01-02  1.155350  0.543212 -1.026802  5.0\n",
       "2013-01-03 -1.367548  1.294209 -0.761415  5.0\n",
       "2013-01-04 -1.421003 -0.852564  0.520059  5.0\n",
       "2013-01-05  1.079166  1.025415 -0.071261  5.0\n",
       "2013-01-06  0.940206  0.183625  0.294364  5.0"
      ]
     },
     "execution_count": 159,
     "metadata": {},
     "output_type": "execute_result"
    }
   ],
   "source": [
    "df.loc[:, \"D\"] = np.array([5] * len(df))\n",
    "df"
   ]
  },
  {
   "cell_type": "code",
   "execution_count": 160,
   "id": "6cf8e6fb",
   "metadata": {
    "execution": {
     "iopub.execute_input": "2025-02-28T13:08:43.680099Z",
     "iopub.status.busy": "2025-02-28T13:08:43.679718Z",
     "iopub.status.idle": "2025-02-28T13:08:43.692448Z",
     "shell.execute_reply": "2025-02-28T13:08:43.691200Z"
    },
    "papermill": {
     "duration": 0.066,
     "end_time": "2025-02-28T13:08:43.695006",
     "exception": false,
     "start_time": "2025-02-28T13:08:43.629006",
     "status": "completed"
    },
    "tags": []
   },
   "outputs": [
    {
     "data": {
      "text/html": [
       "<div>\n",
       "<style scoped>\n",
       "    .dataframe tbody tr th:only-of-type {\n",
       "        vertical-align: middle;\n",
       "    }\n",
       "\n",
       "    .dataframe tbody tr th {\n",
       "        vertical-align: top;\n",
       "    }\n",
       "\n",
       "    .dataframe thead th {\n",
       "        text-align: right;\n",
       "    }\n",
       "</style>\n",
       "<table border=\"1\" class=\"dataframe\">\n",
       "  <thead>\n",
       "    <tr style=\"text-align: right;\">\n",
       "      <th></th>\n",
       "      <th>A</th>\n",
       "      <th>B</th>\n",
       "      <th>C</th>\n",
       "      <th>D</th>\n",
       "    </tr>\n",
       "  </thead>\n",
       "  <tbody>\n",
       "    <tr>\n",
       "      <th>2013-01-01</th>\n",
       "      <td>0.000000</td>\n",
       "      <td>0.000000</td>\n",
       "      <td>-1.295413</td>\n",
       "      <td>-5.0</td>\n",
       "    </tr>\n",
       "    <tr>\n",
       "      <th>2013-01-02</th>\n",
       "      <td>-1.155350</td>\n",
       "      <td>-0.543212</td>\n",
       "      <td>-1.026802</td>\n",
       "      <td>-5.0</td>\n",
       "    </tr>\n",
       "    <tr>\n",
       "      <th>2013-01-03</th>\n",
       "      <td>-1.367548</td>\n",
       "      <td>-1.294209</td>\n",
       "      <td>-0.761415</td>\n",
       "      <td>-5.0</td>\n",
       "    </tr>\n",
       "    <tr>\n",
       "      <th>2013-01-04</th>\n",
       "      <td>-1.421003</td>\n",
       "      <td>-0.852564</td>\n",
       "      <td>-0.520059</td>\n",
       "      <td>-5.0</td>\n",
       "    </tr>\n",
       "    <tr>\n",
       "      <th>2013-01-05</th>\n",
       "      <td>-1.079166</td>\n",
       "      <td>-1.025415</td>\n",
       "      <td>-0.071261</td>\n",
       "      <td>-5.0</td>\n",
       "    </tr>\n",
       "    <tr>\n",
       "      <th>2013-01-06</th>\n",
       "      <td>-0.940206</td>\n",
       "      <td>-0.183625</td>\n",
       "      <td>-0.294364</td>\n",
       "      <td>-5.0</td>\n",
       "    </tr>\n",
       "  </tbody>\n",
       "</table>\n",
       "</div>"
      ],
      "text/plain": [
       "                   A         B         C    D\n",
       "2013-01-01  0.000000  0.000000 -1.295413 -5.0\n",
       "2013-01-02 -1.155350 -0.543212 -1.026802 -5.0\n",
       "2013-01-03 -1.367548 -1.294209 -0.761415 -5.0\n",
       "2013-01-04 -1.421003 -0.852564 -0.520059 -5.0\n",
       "2013-01-05 -1.079166 -1.025415 -0.071261 -5.0\n",
       "2013-01-06 -0.940206 -0.183625 -0.294364 -5.0"
      ]
     },
     "execution_count": 160,
     "metadata": {},
     "output_type": "execute_result"
    }
   ],
   "source": [
    "df2 = df.copy()\n",
    "df2[df2 > 0] = -df2\n",
    "df2"
   ]
  },
  {
   "cell_type": "code",
   "execution_count": 161,
   "id": "3be54eb1",
   "metadata": {
    "execution": {
     "iopub.execute_input": "2025-02-28T13:08:43.797005Z",
     "iopub.status.busy": "2025-02-28T13:08:43.796635Z",
     "iopub.status.idle": "2025-02-28T13:08:43.810452Z",
     "shell.execute_reply": "2025-02-28T13:08:43.809251Z"
    },
    "papermill": {
     "duration": 0.066799,
     "end_time": "2025-02-28T13:08:43.812367",
     "exception": false,
     "start_time": "2025-02-28T13:08:43.745568",
     "status": "completed"
    },
    "tags": []
   },
   "outputs": [
    {
     "data": {
      "text/html": [
       "<div>\n",
       "<style scoped>\n",
       "    .dataframe tbody tr th:only-of-type {\n",
       "        vertical-align: middle;\n",
       "    }\n",
       "\n",
       "    .dataframe tbody tr th {\n",
       "        vertical-align: top;\n",
       "    }\n",
       "\n",
       "    .dataframe thead th {\n",
       "        text-align: right;\n",
       "    }\n",
       "</style>\n",
       "<table border=\"1\" class=\"dataframe\">\n",
       "  <thead>\n",
       "    <tr style=\"text-align: right;\">\n",
       "      <th></th>\n",
       "      <th>A</th>\n",
       "      <th>B</th>\n",
       "      <th>C</th>\n",
       "      <th>D</th>\n",
       "      <th>E</th>\n",
       "    </tr>\n",
       "  </thead>\n",
       "  <tbody>\n",
       "    <tr>\n",
       "      <th>2013-01-01</th>\n",
       "      <td>0.000000</td>\n",
       "      <td>0.000000</td>\n",
       "      <td>-1.295413</td>\n",
       "      <td>5.0</td>\n",
       "      <td>1.0</td>\n",
       "    </tr>\n",
       "    <tr>\n",
       "      <th>2013-01-02</th>\n",
       "      <td>1.155350</td>\n",
       "      <td>0.543212</td>\n",
       "      <td>-1.026802</td>\n",
       "      <td>5.0</td>\n",
       "      <td>1.0</td>\n",
       "    </tr>\n",
       "    <tr>\n",
       "      <th>2013-01-03</th>\n",
       "      <td>-1.367548</td>\n",
       "      <td>1.294209</td>\n",
       "      <td>-0.761415</td>\n",
       "      <td>5.0</td>\n",
       "      <td>NaN</td>\n",
       "    </tr>\n",
       "    <tr>\n",
       "      <th>2013-01-04</th>\n",
       "      <td>-1.421003</td>\n",
       "      <td>-0.852564</td>\n",
       "      <td>0.520059</td>\n",
       "      <td>5.0</td>\n",
       "      <td>NaN</td>\n",
       "    </tr>\n",
       "  </tbody>\n",
       "</table>\n",
       "</div>"
      ],
      "text/plain": [
       "                   A         B         C    D    E\n",
       "2013-01-01  0.000000  0.000000 -1.295413  5.0  1.0\n",
       "2013-01-02  1.155350  0.543212 -1.026802  5.0  1.0\n",
       "2013-01-03 -1.367548  1.294209 -0.761415  5.0  NaN\n",
       "2013-01-04 -1.421003 -0.852564  0.520059  5.0  NaN"
      ]
     },
     "execution_count": 161,
     "metadata": {},
     "output_type": "execute_result"
    }
   ],
   "source": [
    "df1 = df.reindex(index=dates[0:4], columns=list(df.columns) + [\"E\"])\n",
    "df1.loc[dates[0] : dates[1], \"E\"] = 1\n",
    "df1"
   ]
  },
  {
   "cell_type": "code",
   "execution_count": 162,
   "id": "16e44aa8",
   "metadata": {
    "execution": {
     "iopub.execute_input": "2025-02-28T13:08:43.915703Z",
     "iopub.status.busy": "2025-02-28T13:08:43.915289Z",
     "iopub.status.idle": "2025-02-28T13:08:43.928440Z",
     "shell.execute_reply": "2025-02-28T13:08:43.927330Z"
    },
    "papermill": {
     "duration": 0.068071,
     "end_time": "2025-02-28T13:08:43.930618",
     "exception": false,
     "start_time": "2025-02-28T13:08:43.862547",
     "status": "completed"
    },
    "tags": []
   },
   "outputs": [
    {
     "data": {
      "text/html": [
       "<div>\n",
       "<style scoped>\n",
       "    .dataframe tbody tr th:only-of-type {\n",
       "        vertical-align: middle;\n",
       "    }\n",
       "\n",
       "    .dataframe tbody tr th {\n",
       "        vertical-align: top;\n",
       "    }\n",
       "\n",
       "    .dataframe thead th {\n",
       "        text-align: right;\n",
       "    }\n",
       "</style>\n",
       "<table border=\"1\" class=\"dataframe\">\n",
       "  <thead>\n",
       "    <tr style=\"text-align: right;\">\n",
       "      <th></th>\n",
       "      <th>A</th>\n",
       "      <th>B</th>\n",
       "      <th>C</th>\n",
       "      <th>D</th>\n",
       "      <th>E</th>\n",
       "    </tr>\n",
       "  </thead>\n",
       "  <tbody>\n",
       "    <tr>\n",
       "      <th>2013-01-01</th>\n",
       "      <td>0.00000</td>\n",
       "      <td>0.000000</td>\n",
       "      <td>-1.295413</td>\n",
       "      <td>5.0</td>\n",
       "      <td>1.0</td>\n",
       "    </tr>\n",
       "    <tr>\n",
       "      <th>2013-01-02</th>\n",
       "      <td>1.15535</td>\n",
       "      <td>0.543212</td>\n",
       "      <td>-1.026802</td>\n",
       "      <td>5.0</td>\n",
       "      <td>1.0</td>\n",
       "    </tr>\n",
       "  </tbody>\n",
       "</table>\n",
       "</div>"
      ],
      "text/plain": [
       "                  A         B         C    D    E\n",
       "2013-01-01  0.00000  0.000000 -1.295413  5.0  1.0\n",
       "2013-01-02  1.15535  0.543212 -1.026802  5.0  1.0"
      ]
     },
     "execution_count": 162,
     "metadata": {},
     "output_type": "execute_result"
    }
   ],
   "source": [
    "df1.dropna(how=\"any\")"
   ]
  },
  {
   "cell_type": "code",
   "execution_count": 163,
   "id": "8f3ad90b",
   "metadata": {
    "execution": {
     "iopub.execute_input": "2025-02-28T13:08:44.040369Z",
     "iopub.status.busy": "2025-02-28T13:08:44.040007Z",
     "iopub.status.idle": "2025-02-28T13:08:44.051918Z",
     "shell.execute_reply": "2025-02-28T13:08:44.050845Z"
    },
    "papermill": {
     "duration": 0.071895,
     "end_time": "2025-02-28T13:08:44.053752",
     "exception": false,
     "start_time": "2025-02-28T13:08:43.981857",
     "status": "completed"
    },
    "tags": []
   },
   "outputs": [
    {
     "data": {
      "text/html": [
       "<div>\n",
       "<style scoped>\n",
       "    .dataframe tbody tr th:only-of-type {\n",
       "        vertical-align: middle;\n",
       "    }\n",
       "\n",
       "    .dataframe tbody tr th {\n",
       "        vertical-align: top;\n",
       "    }\n",
       "\n",
       "    .dataframe thead th {\n",
       "        text-align: right;\n",
       "    }\n",
       "</style>\n",
       "<table border=\"1\" class=\"dataframe\">\n",
       "  <thead>\n",
       "    <tr style=\"text-align: right;\">\n",
       "      <th></th>\n",
       "      <th>A</th>\n",
       "      <th>B</th>\n",
       "      <th>C</th>\n",
       "      <th>D</th>\n",
       "      <th>E</th>\n",
       "    </tr>\n",
       "  </thead>\n",
       "  <tbody>\n",
       "    <tr>\n",
       "      <th>2013-01-01</th>\n",
       "      <td>0.000000</td>\n",
       "      <td>0.000000</td>\n",
       "      <td>-1.295413</td>\n",
       "      <td>5.0</td>\n",
       "      <td>1.0</td>\n",
       "    </tr>\n",
       "    <tr>\n",
       "      <th>2013-01-02</th>\n",
       "      <td>1.155350</td>\n",
       "      <td>0.543212</td>\n",
       "      <td>-1.026802</td>\n",
       "      <td>5.0</td>\n",
       "      <td>1.0</td>\n",
       "    </tr>\n",
       "    <tr>\n",
       "      <th>2013-01-03</th>\n",
       "      <td>-1.367548</td>\n",
       "      <td>1.294209</td>\n",
       "      <td>-0.761415</td>\n",
       "      <td>5.0</td>\n",
       "      <td>5.0</td>\n",
       "    </tr>\n",
       "    <tr>\n",
       "      <th>2013-01-04</th>\n",
       "      <td>-1.421003</td>\n",
       "      <td>-0.852564</td>\n",
       "      <td>0.520059</td>\n",
       "      <td>5.0</td>\n",
       "      <td>5.0</td>\n",
       "    </tr>\n",
       "  </tbody>\n",
       "</table>\n",
       "</div>"
      ],
      "text/plain": [
       "                   A         B         C    D    E\n",
       "2013-01-01  0.000000  0.000000 -1.295413  5.0  1.0\n",
       "2013-01-02  1.155350  0.543212 -1.026802  5.0  1.0\n",
       "2013-01-03 -1.367548  1.294209 -0.761415  5.0  5.0\n",
       "2013-01-04 -1.421003 -0.852564  0.520059  5.0  5.0"
      ]
     },
     "execution_count": 163,
     "metadata": {},
     "output_type": "execute_result"
    }
   ],
   "source": [
    "df1.fillna(value=5)"
   ]
  },
  {
   "cell_type": "code",
   "execution_count": 164,
   "id": "84f5865f",
   "metadata": {
    "execution": {
     "iopub.execute_input": "2025-02-28T13:08:44.160183Z",
     "iopub.status.busy": "2025-02-28T13:08:44.159839Z",
     "iopub.status.idle": "2025-02-28T13:08:44.170936Z",
     "shell.execute_reply": "2025-02-28T13:08:44.169779Z"
    },
    "papermill": {
     "duration": 0.065308,
     "end_time": "2025-02-28T13:08:44.172714",
     "exception": false,
     "start_time": "2025-02-28T13:08:44.107406",
     "status": "completed"
    },
    "tags": []
   },
   "outputs": [
    {
     "data": {
      "text/html": [
       "<div>\n",
       "<style scoped>\n",
       "    .dataframe tbody tr th:only-of-type {\n",
       "        vertical-align: middle;\n",
       "    }\n",
       "\n",
       "    .dataframe tbody tr th {\n",
       "        vertical-align: top;\n",
       "    }\n",
       "\n",
       "    .dataframe thead th {\n",
       "        text-align: right;\n",
       "    }\n",
       "</style>\n",
       "<table border=\"1\" class=\"dataframe\">\n",
       "  <thead>\n",
       "    <tr style=\"text-align: right;\">\n",
       "      <th></th>\n",
       "      <th>A</th>\n",
       "      <th>B</th>\n",
       "      <th>C</th>\n",
       "      <th>D</th>\n",
       "      <th>E</th>\n",
       "    </tr>\n",
       "  </thead>\n",
       "  <tbody>\n",
       "    <tr>\n",
       "      <th>2013-01-01</th>\n",
       "      <td>False</td>\n",
       "      <td>False</td>\n",
       "      <td>False</td>\n",
       "      <td>False</td>\n",
       "      <td>False</td>\n",
       "    </tr>\n",
       "    <tr>\n",
       "      <th>2013-01-02</th>\n",
       "      <td>False</td>\n",
       "      <td>False</td>\n",
       "      <td>False</td>\n",
       "      <td>False</td>\n",
       "      <td>False</td>\n",
       "    </tr>\n",
       "    <tr>\n",
       "      <th>2013-01-03</th>\n",
       "      <td>False</td>\n",
       "      <td>False</td>\n",
       "      <td>False</td>\n",
       "      <td>False</td>\n",
       "      <td>True</td>\n",
       "    </tr>\n",
       "    <tr>\n",
       "      <th>2013-01-04</th>\n",
       "      <td>False</td>\n",
       "      <td>False</td>\n",
       "      <td>False</td>\n",
       "      <td>False</td>\n",
       "      <td>True</td>\n",
       "    </tr>\n",
       "  </tbody>\n",
       "</table>\n",
       "</div>"
      ],
      "text/plain": [
       "                A      B      C      D      E\n",
       "2013-01-01  False  False  False  False  False\n",
       "2013-01-02  False  False  False  False  False\n",
       "2013-01-03  False  False  False  False   True\n",
       "2013-01-04  False  False  False  False   True"
      ]
     },
     "execution_count": 164,
     "metadata": {},
     "output_type": "execute_result"
    }
   ],
   "source": [
    "pd.isna(df1)"
   ]
  },
  {
   "cell_type": "code",
   "execution_count": 165,
   "id": "172c690b",
   "metadata": {
    "execution": {
     "iopub.execute_input": "2025-02-28T13:08:44.277279Z",
     "iopub.status.busy": "2025-02-28T13:08:44.276922Z",
     "iopub.status.idle": "2025-02-28T13:08:44.284289Z",
     "shell.execute_reply": "2025-02-28T13:08:44.283220Z"
    },
    "papermill": {
     "duration": 0.062792,
     "end_time": "2025-02-28T13:08:44.285886",
     "exception": false,
     "start_time": "2025-02-28T13:08:44.223094",
     "status": "completed"
    },
    "tags": []
   },
   "outputs": [
    {
     "data": {
      "text/plain": [
       "A    0.064362\n",
       "B    0.365650\n",
       "C   -0.390078\n",
       "D    5.000000\n",
       "dtype: float64"
      ]
     },
     "execution_count": 165,
     "metadata": {},
     "output_type": "execute_result"
    }
   ],
   "source": [
    "df.mean()"
   ]
  },
  {
   "cell_type": "code",
   "execution_count": 166,
   "id": "6107cb49",
   "metadata": {
    "execution": {
     "iopub.execute_input": "2025-02-28T13:08:44.388073Z",
     "iopub.status.busy": "2025-02-28T13:08:44.387718Z",
     "iopub.status.idle": "2025-02-28T13:08:44.395314Z",
     "shell.execute_reply": "2025-02-28T13:08:44.394405Z"
    },
    "papermill": {
     "duration": 0.060741,
     "end_time": "2025-02-28T13:08:44.397130",
     "exception": false,
     "start_time": "2025-02-28T13:08:44.336389",
     "status": "completed"
    },
    "tags": []
   },
   "outputs": [
    {
     "data": {
      "text/plain": [
       "2013-01-01    0.926147\n",
       "2013-01-02    1.417940\n",
       "2013-01-03    1.041312\n",
       "2013-01-04    0.811623\n",
       "2013-01-05    1.758330\n",
       "2013-01-06    1.604549\n",
       "Freq: D, dtype: float64"
      ]
     },
     "execution_count": 166,
     "metadata": {},
     "output_type": "execute_result"
    }
   ],
   "source": [
    "df.mean(1)"
   ]
  },
  {
   "cell_type": "code",
   "execution_count": 167,
   "id": "2cda8d24",
   "metadata": {
    "execution": {
     "iopub.execute_input": "2025-02-28T13:08:44.501025Z",
     "iopub.status.busy": "2025-02-28T13:08:44.500677Z",
     "iopub.status.idle": "2025-02-28T13:08:44.508596Z",
     "shell.execute_reply": "2025-02-28T13:08:44.507547Z"
    },
    "papermill": {
     "duration": 0.061572,
     "end_time": "2025-02-28T13:08:44.510319",
     "exception": false,
     "start_time": "2025-02-28T13:08:44.448747",
     "status": "completed"
    },
    "tags": []
   },
   "outputs": [
    {
     "data": {
      "text/plain": [
       "2013-01-01    NaN\n",
       "2013-01-02    NaN\n",
       "2013-01-03    1.0\n",
       "2013-01-04    3.0\n",
       "2013-01-05    5.0\n",
       "2013-01-06    NaN\n",
       "Freq: D, dtype: float64"
      ]
     },
     "execution_count": 167,
     "metadata": {},
     "output_type": "execute_result"
    }
   ],
   "source": [
    "s = pd.Series([1, 3, 5, np.nan, 6, 8], index=dates).shift(2)\n",
    "s"
   ]
  },
  {
   "cell_type": "code",
   "execution_count": 168,
   "id": "e0385dea",
   "metadata": {
    "execution": {
     "iopub.execute_input": "2025-02-28T13:08:44.614393Z",
     "iopub.status.busy": "2025-02-28T13:08:44.614048Z",
     "iopub.status.idle": "2025-02-28T13:08:44.625517Z",
     "shell.execute_reply": "2025-02-28T13:08:44.624262Z"
    },
    "papermill": {
     "duration": 0.066582,
     "end_time": "2025-02-28T13:08:44.627221",
     "exception": false,
     "start_time": "2025-02-28T13:08:44.560639",
     "status": "completed"
    },
    "tags": []
   },
   "outputs": [
    {
     "data": {
      "text/html": [
       "<div>\n",
       "<style scoped>\n",
       "    .dataframe tbody tr th:only-of-type {\n",
       "        vertical-align: middle;\n",
       "    }\n",
       "\n",
       "    .dataframe tbody tr th {\n",
       "        vertical-align: top;\n",
       "    }\n",
       "\n",
       "    .dataframe thead th {\n",
       "        text-align: right;\n",
       "    }\n",
       "</style>\n",
       "<table border=\"1\" class=\"dataframe\">\n",
       "  <thead>\n",
       "    <tr style=\"text-align: right;\">\n",
       "      <th></th>\n",
       "      <th>A</th>\n",
       "      <th>B</th>\n",
       "      <th>C</th>\n",
       "      <th>D</th>\n",
       "    </tr>\n",
       "  </thead>\n",
       "  <tbody>\n",
       "    <tr>\n",
       "      <th>2013-01-01</th>\n",
       "      <td>NaN</td>\n",
       "      <td>NaN</td>\n",
       "      <td>NaN</td>\n",
       "      <td>NaN</td>\n",
       "    </tr>\n",
       "    <tr>\n",
       "      <th>2013-01-02</th>\n",
       "      <td>NaN</td>\n",
       "      <td>NaN</td>\n",
       "      <td>NaN</td>\n",
       "      <td>NaN</td>\n",
       "    </tr>\n",
       "    <tr>\n",
       "      <th>2013-01-03</th>\n",
       "      <td>-2.367548</td>\n",
       "      <td>0.294209</td>\n",
       "      <td>-1.761415</td>\n",
       "      <td>4.0</td>\n",
       "    </tr>\n",
       "    <tr>\n",
       "      <th>2013-01-04</th>\n",
       "      <td>-4.421003</td>\n",
       "      <td>-3.852564</td>\n",
       "      <td>-2.479941</td>\n",
       "      <td>2.0</td>\n",
       "    </tr>\n",
       "    <tr>\n",
       "      <th>2013-01-05</th>\n",
       "      <td>-3.920834</td>\n",
       "      <td>-3.974585</td>\n",
       "      <td>-5.071261</td>\n",
       "      <td>0.0</td>\n",
       "    </tr>\n",
       "    <tr>\n",
       "      <th>2013-01-06</th>\n",
       "      <td>NaN</td>\n",
       "      <td>NaN</td>\n",
       "      <td>NaN</td>\n",
       "      <td>NaN</td>\n",
       "    </tr>\n",
       "  </tbody>\n",
       "</table>\n",
       "</div>"
      ],
      "text/plain": [
       "                   A         B         C    D\n",
       "2013-01-01       NaN       NaN       NaN  NaN\n",
       "2013-01-02       NaN       NaN       NaN  NaN\n",
       "2013-01-03 -2.367548  0.294209 -1.761415  4.0\n",
       "2013-01-04 -4.421003 -3.852564 -2.479941  2.0\n",
       "2013-01-05 -3.920834 -3.974585 -5.071261  0.0\n",
       "2013-01-06       NaN       NaN       NaN  NaN"
      ]
     },
     "execution_count": 168,
     "metadata": {},
     "output_type": "execute_result"
    }
   ],
   "source": [
    "df.sub(s, axis=\"index\")"
   ]
  },
  {
   "cell_type": "code",
   "execution_count": 169,
   "id": "b1358e9a",
   "metadata": {
    "execution": {
     "iopub.execute_input": "2025-02-28T13:08:44.731276Z",
     "iopub.status.busy": "2025-02-28T13:08:44.730939Z",
     "iopub.status.idle": "2025-02-28T13:08:44.742669Z",
     "shell.execute_reply": "2025-02-28T13:08:44.741594Z"
    },
    "papermill": {
     "duration": 0.065459,
     "end_time": "2025-02-28T13:08:44.744123",
     "exception": false,
     "start_time": "2025-02-28T13:08:44.678664",
     "status": "completed"
    },
    "tags": []
   },
   "outputs": [
    {
     "data": {
      "text/html": [
       "<div>\n",
       "<style scoped>\n",
       "    .dataframe tbody tr th:only-of-type {\n",
       "        vertical-align: middle;\n",
       "    }\n",
       "\n",
       "    .dataframe tbody tr th {\n",
       "        vertical-align: top;\n",
       "    }\n",
       "\n",
       "    .dataframe thead th {\n",
       "        text-align: right;\n",
       "    }\n",
       "</style>\n",
       "<table border=\"1\" class=\"dataframe\">\n",
       "  <thead>\n",
       "    <tr style=\"text-align: right;\">\n",
       "      <th></th>\n",
       "      <th>A</th>\n",
       "      <th>B</th>\n",
       "      <th>C</th>\n",
       "      <th>D</th>\n",
       "    </tr>\n",
       "  </thead>\n",
       "  <tbody>\n",
       "    <tr>\n",
       "      <th>2013-01-01</th>\n",
       "      <td>0.000000</td>\n",
       "      <td>0.000000</td>\n",
       "      <td>-1.295413</td>\n",
       "      <td>5.0</td>\n",
       "    </tr>\n",
       "    <tr>\n",
       "      <th>2013-01-02</th>\n",
       "      <td>1.155350</td>\n",
       "      <td>0.543212</td>\n",
       "      <td>-2.322215</td>\n",
       "      <td>10.0</td>\n",
       "    </tr>\n",
       "    <tr>\n",
       "      <th>2013-01-03</th>\n",
       "      <td>-0.212198</td>\n",
       "      <td>1.837421</td>\n",
       "      <td>-3.083630</td>\n",
       "      <td>15.0</td>\n",
       "    </tr>\n",
       "    <tr>\n",
       "      <th>2013-01-04</th>\n",
       "      <td>-1.633200</td>\n",
       "      <td>0.984857</td>\n",
       "      <td>-2.563571</td>\n",
       "      <td>20.0</td>\n",
       "    </tr>\n",
       "    <tr>\n",
       "      <th>2013-01-05</th>\n",
       "      <td>-0.554034</td>\n",
       "      <td>2.010272</td>\n",
       "      <td>-2.634832</td>\n",
       "      <td>25.0</td>\n",
       "    </tr>\n",
       "    <tr>\n",
       "      <th>2013-01-06</th>\n",
       "      <td>0.386171</td>\n",
       "      <td>2.193898</td>\n",
       "      <td>-2.340469</td>\n",
       "      <td>30.0</td>\n",
       "    </tr>\n",
       "  </tbody>\n",
       "</table>\n",
       "</div>"
      ],
      "text/plain": [
       "                   A         B         C     D\n",
       "2013-01-01  0.000000  0.000000 -1.295413   5.0\n",
       "2013-01-02  1.155350  0.543212 -2.322215  10.0\n",
       "2013-01-03 -0.212198  1.837421 -3.083630  15.0\n",
       "2013-01-04 -1.633200  0.984857 -2.563571  20.0\n",
       "2013-01-05 -0.554034  2.010272 -2.634832  25.0\n",
       "2013-01-06  0.386171  2.193898 -2.340469  30.0"
      ]
     },
     "execution_count": 169,
     "metadata": {},
     "output_type": "execute_result"
    }
   ],
   "source": [
    "df.apply(np.cumsum)"
   ]
  },
  {
   "cell_type": "code",
   "execution_count": 170,
   "id": "c5418727",
   "metadata": {
    "execution": {
     "iopub.execute_input": "2025-02-28T13:08:44.847380Z",
     "iopub.status.busy": "2025-02-28T13:08:44.847038Z",
     "iopub.status.idle": "2025-02-28T13:08:44.855097Z",
     "shell.execute_reply": "2025-02-28T13:08:44.854191Z"
    },
    "papermill": {
     "duration": 0.061218,
     "end_time": "2025-02-28T13:08:44.856546",
     "exception": false,
     "start_time": "2025-02-28T13:08:44.795328",
     "status": "completed"
    },
    "tags": []
   },
   "outputs": [
    {
     "data": {
      "text/plain": [
       "A    2.576353\n",
       "B    2.146773\n",
       "C    1.815472\n",
       "D    0.000000\n",
       "dtype: float64"
      ]
     },
     "execution_count": 170,
     "metadata": {},
     "output_type": "execute_result"
    }
   ],
   "source": [
    "df.apply(lambda x: x.max() - x.min())"
   ]
  },
  {
   "cell_type": "code",
   "execution_count": null,
   "id": "1dd19c18",
   "metadata": {
    "papermill": {
     "duration": 0.050619,
     "end_time": "2025-02-28T13:08:44.959695",
     "exception": false,
     "start_time": "2025-02-28T13:08:44.909076",
     "status": "completed"
    },
    "tags": []
   },
   "outputs": [],
   "source": []
  }
 ],
 "metadata": {
  "kaggle": {
   "accelerator": "none",
   "dataSources": [
    {
     "datasetId": 11657,
     "sourceId": 16098,
     "sourceType": "datasetVersion"
    }
   ],
   "dockerImageVersionId": 30918,
   "isGpuEnabled": false,
   "isInternetEnabled": true,
   "language": "python",
   "sourceType": "notebook"
  },
  "kernelspec": {
   "display_name": "Python 3",
   "language": "python",
   "name": "python3"
  },
  "language_info": {
   "codemirror_mode": {
    "name": "ipython",
    "version": 3
   },
   "file_extension": ".py",
   "mimetype": "text/x-python",
   "name": "python",
   "nbconvert_exporter": "python",
   "pygments_lexer": "ipython3",
   "version": "3.10.12"
  },
  "papermill": {
   "default_parameters": {},
   "duration": 22.9673,
   "end_time": "2025-02-28T13:08:45.633940",
   "environment_variables": {},
   "exception": null,
   "input_path": "__notebook__.ipynb",
   "output_path": "__notebook__.ipynb",
   "parameters": {},
   "start_time": "2025-02-28T13:08:22.666640",
   "version": "2.4.0"
  }
 },
 "nbformat": 4,
 "nbformat_minor": 5
}
